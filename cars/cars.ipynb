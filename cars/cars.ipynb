{
  "cells": [
    {
      "cell_type": "markdown",
      "metadata": {
        "id": "is6RxTeGVrec"
      },
      "source": [
        "# Определение стоимости автомобилей"
      ]
    },
    {
      "cell_type": "markdown",
      "metadata": {
        "id": "LdUAl5zTVred"
      },
      "source": [
        "Сервис по продаже автомобилей с пробегом «Не бит, не крашен» разрабатывает приложение для привлечения новых клиентов. В нём можно быстро узнать рыночную стоимость своего автомобиля. Имеются исторические данные: технические характеристики, комплектации и цены автомобилей. Необходимо построить модель для определения стоимости на основаии сравнения показателей нескольких моделей. Мы будем использовать RandomForestRegressor, CatBoostRegressor и LGBMRegressor, находя оптимальные гиперпараметры для каждой модели по критериям заказчика.\n",
        "\n",
        "Заказчику важны:\n",
        "\n",
        "- качество предсказания;\n",
        "- скорость предсказания;\n",
        "- время обучения.\n",
        "\n",
        "При подборе гиперпараметров будем засекать время обучения и предсказания, а сам подбор осуществлять исходя из минимальной среднеквадратичной ошибки.\n",
        "\n",
        "Данные находятся в файле /datasets/autos.csv и содержат следующие столбцы:\n",
        "\n",
        "**Нецелевые признаки**\n",
        "\n",
        "- DateCrawled — дата скачивания анкеты из базы\n",
        "- VehicleType — тип автомобильного кузова\n",
        "- RegistrationYear — год регистрации автомобиля\n",
        "- Gearbox — тип коробки передач\n",
        "- Power — мощность (л. с.)\n",
        "- Model — модель автомобиля\n",
        "- Kilometer — пробег (км)\n",
        "- RegistrationMonth — месяц регистрации автомобиля\n",
        "- FuelType — тип топлива\n",
        "- Brand — марка автомобиля\n",
        "- Repaired — была машина в ремонте или нет\n",
        "- DateCreated — дата создания анкеты\n",
        "- NumberOfPictures — количество фотографий автомобиля\n",
        "- PostalCode — почтовый индекс владельца анкеты (пользователя)\n",
        "- LastSeen — дата последней активности пользователя\n",
        "    \n",
        "**Целевой признак**\n",
        "\n",
        "- Price — цена (евро)\n",
        "    \n",
        "Данные нуждаются в предобработке, поэтому сперва произведем ее, затем обучение моделей и тестирование лучшей."
      ]
    },
    {
      "cell_type": "markdown",
      "metadata": {
        "id": "i4077GhhVree"
      },
      "source": [
        "## Загрузка и подготовка данных"
      ]
    },
    {
      "cell_type": "markdown",
      "metadata": {
        "id": "tAdEQIW0Vref"
      },
      "source": [
        "### Импорт данных"
      ]
    },
    {
      "cell_type": "code",
      "execution_count": null,
      "metadata": {
        "id": "swy3zL8xVreg",
        "outputId": "7110c2f3-8961-4fa7-d9ae-cd0202b89baa"
      },
      "outputs": [
        {
          "name": "stdout",
          "output_type": "stream",
          "text": [
            "Collecting scikit-learn==1.1.3\n",
            "  Downloading scikit_learn-1.1.3-cp39-cp39-manylinux_2_17_x86_64.manylinux2014_x86_64.whl (30.8 MB)\n",
            "\u001b[K     |████████████████████████████████| 30.8 MB 49 kB/s  eta 0:00:01\n",
            "\u001b[?25hRequirement already satisfied: scipy>=1.3.2 in /opt/conda/lib/python3.9/site-packages (from scikit-learn==1.1.3) (1.9.1)\n",
            "Requirement already satisfied: threadpoolctl>=2.0.0 in /opt/conda/lib/python3.9/site-packages (from scikit-learn==1.1.3) (3.1.0)\n",
            "Requirement already satisfied: joblib>=1.0.0 in /opt/conda/lib/python3.9/site-packages (from scikit-learn==1.1.3) (1.1.0)\n",
            "Requirement already satisfied: numpy>=1.17.3 in /opt/conda/lib/python3.9/site-packages (from scikit-learn==1.1.3) (1.21.1)\n",
            "Installing collected packages: scikit-learn\n",
            "  Attempting uninstall: scikit-learn\n",
            "    Found existing installation: scikit-learn 0.24.1\n",
            "    Uninstalling scikit-learn-0.24.1:\n",
            "      Successfully uninstalled scikit-learn-0.24.1\n",
            "Successfully installed scikit-learn-1.1.3\n"
          ]
        }
      ],
      "source": [
        "!pip install scikit-learn==1.1.3"
      ]
    },
    {
      "cell_type": "code",
      "execution_count": null,
      "metadata": {
        "id": "FrIOWwoZVrej"
      },
      "outputs": [],
      "source": [
        "import pandas as pd\n",
        "import numpy as np\n",
        "from sklearn.model_selection import (\n",
        "    GridSearchCV,\n",
        "    RandomizedSearchCV,\n",
        "    train_test_split\n",
        ")\n",
        "from sklearn.compose import make_column_transformer\n",
        "from sklearn.pipeline import make_pipeline\n",
        "from sklearn.ensemble import RandomForestRegressor\n",
        "from catboost import CatBoostRegressor\n",
        "from lightgbm import LGBMRegressor, train as trainLGBM\n",
        "from sklearn.preprocessing import (\n",
        "    OneHotEncoder,\n",
        "    OrdinalEncoder,\n",
        "    StandardScaler\n",
        ")\n",
        "from sklearn.metrics import mean_squared_error as RMSE #sklearn.metrics.mean_squared_error(y_true, y_pred, Squared = False)"
      ]
    },
    {
      "cell_type": "code",
      "execution_count": null,
      "metadata": {
        "id": "c8hY-O7pVrej",
        "outputId": "326af3f6-0e7d-407f-fab6-be6e1acb4b1c"
      },
      "outputs": [
        {
          "name": "stdout",
          "output_type": "stream",
          "text": [
            "<class 'pandas.core.frame.DataFrame'>\n",
            "RangeIndex: 354369 entries, 0 to 354368\n",
            "Data columns (total 16 columns):\n",
            " #   Column             Non-Null Count   Dtype \n",
            "---  ------             --------------   ----- \n",
            " 0   DateCrawled        354369 non-null  object\n",
            " 1   Price              354369 non-null  int64 \n",
            " 2   VehicleType        316879 non-null  object\n",
            " 3   RegistrationYear   354369 non-null  int64 \n",
            " 4   Gearbox            334536 non-null  object\n",
            " 5   Power              354369 non-null  int64 \n",
            " 6   Model              334664 non-null  object\n",
            " 7   Kilometer          354369 non-null  int64 \n",
            " 8   RegistrationMonth  354369 non-null  int64 \n",
            " 9   FuelType           321474 non-null  object\n",
            " 10  Brand              354369 non-null  object\n",
            " 11  Repaired           283215 non-null  object\n",
            " 12  DateCreated        354369 non-null  object\n",
            " 13  NumberOfPictures   354369 non-null  int64 \n",
            " 14  PostalCode         354369 non-null  int64 \n",
            " 15  LastSeen           354369 non-null  object\n",
            "dtypes: int64(7), object(9)\n",
            "memory usage: 43.3+ MB\n"
          ]
        },
        {
          "data": {
            "text/html": [
              "<div>\n",
              "<style scoped>\n",
              "    .dataframe tbody tr th:only-of-type {\n",
              "        vertical-align: middle;\n",
              "    }\n",
              "\n",
              "    .dataframe tbody tr th {\n",
              "        vertical-align: top;\n",
              "    }\n",
              "\n",
              "    .dataframe thead th {\n",
              "        text-align: right;\n",
              "    }\n",
              "</style>\n",
              "<table border=\"1\" class=\"dataframe\">\n",
              "  <thead>\n",
              "    <tr style=\"text-align: right;\">\n",
              "      <th></th>\n",
              "      <th>DateCrawled</th>\n",
              "      <th>Price</th>\n",
              "      <th>VehicleType</th>\n",
              "      <th>RegistrationYear</th>\n",
              "      <th>Gearbox</th>\n",
              "      <th>Power</th>\n",
              "      <th>Model</th>\n",
              "      <th>Kilometer</th>\n",
              "      <th>RegistrationMonth</th>\n",
              "      <th>FuelType</th>\n",
              "      <th>Brand</th>\n",
              "      <th>Repaired</th>\n",
              "      <th>DateCreated</th>\n",
              "      <th>NumberOfPictures</th>\n",
              "      <th>PostalCode</th>\n",
              "      <th>LastSeen</th>\n",
              "    </tr>\n",
              "  </thead>\n",
              "  <tbody>\n",
              "    <tr>\n",
              "      <th>250342</th>\n",
              "      <td>2016-03-19 22:52:24</td>\n",
              "      <td>7490</td>\n",
              "      <td>wagon</td>\n",
              "      <td>2010</td>\n",
              "      <td>manual</td>\n",
              "      <td>101</td>\n",
              "      <td>focus</td>\n",
              "      <td>125000</td>\n",
              "      <td>11</td>\n",
              "      <td>petrol</td>\n",
              "      <td>ford</td>\n",
              "      <td>no</td>\n",
              "      <td>2016-03-19 00:00:00</td>\n",
              "      <td>0</td>\n",
              "      <td>97204</td>\n",
              "      <td>2016-04-05 21:16:15</td>\n",
              "    </tr>\n",
              "    <tr>\n",
              "      <th>204509</th>\n",
              "      <td>2016-03-18 22:47:08</td>\n",
              "      <td>400</td>\n",
              "      <td>sedan</td>\n",
              "      <td>1997</td>\n",
              "      <td>manual</td>\n",
              "      <td>115</td>\n",
              "      <td>mondeo</td>\n",
              "      <td>150000</td>\n",
              "      <td>9</td>\n",
              "      <td>petrol</td>\n",
              "      <td>ford</td>\n",
              "      <td>NaN</td>\n",
              "      <td>2016-03-18 00:00:00</td>\n",
              "      <td>0</td>\n",
              "      <td>86676</td>\n",
              "      <td>2016-04-05 23:16:14</td>\n",
              "    </tr>\n",
              "    <tr>\n",
              "      <th>170433</th>\n",
              "      <td>2016-03-25 10:49:16</td>\n",
              "      <td>1500</td>\n",
              "      <td>small</td>\n",
              "      <td>1997</td>\n",
              "      <td>manual</td>\n",
              "      <td>101</td>\n",
              "      <td>a3</td>\n",
              "      <td>150000</td>\n",
              "      <td>3</td>\n",
              "      <td>petrol</td>\n",
              "      <td>audi</td>\n",
              "      <td>no</td>\n",
              "      <td>2016-03-25 00:00:00</td>\n",
              "      <td>0</td>\n",
              "      <td>9212</td>\n",
              "      <td>2016-04-04 09:46:14</td>\n",
              "    </tr>\n",
              "    <tr>\n",
              "      <th>340718</th>\n",
              "      <td>2016-03-15 11:49:26</td>\n",
              "      <td>2350</td>\n",
              "      <td>sedan</td>\n",
              "      <td>2001</td>\n",
              "      <td>auto</td>\n",
              "      <td>170</td>\n",
              "      <td>e_klasse</td>\n",
              "      <td>150000</td>\n",
              "      <td>6</td>\n",
              "      <td>NaN</td>\n",
              "      <td>mercedes_benz</td>\n",
              "      <td>no</td>\n",
              "      <td>2016-03-15 00:00:00</td>\n",
              "      <td>0</td>\n",
              "      <td>90431</td>\n",
              "      <td>2016-03-20 04:46:18</td>\n",
              "    </tr>\n",
              "    <tr>\n",
              "      <th>236229</th>\n",
              "      <td>2016-03-26 17:57:08</td>\n",
              "      <td>1000</td>\n",
              "      <td>small</td>\n",
              "      <td>2001</td>\n",
              "      <td>manual</td>\n",
              "      <td>0</td>\n",
              "      <td>almera</td>\n",
              "      <td>150000</td>\n",
              "      <td>10</td>\n",
              "      <td>petrol</td>\n",
              "      <td>nissan</td>\n",
              "      <td>NaN</td>\n",
              "      <td>2016-03-26 00:00:00</td>\n",
              "      <td>0</td>\n",
              "      <td>17179</td>\n",
              "      <td>2016-03-26 17:57:08</td>\n",
              "    </tr>\n",
              "    <tr>\n",
              "      <th>280560</th>\n",
              "      <td>2016-03-26 10:58:29</td>\n",
              "      <td>5290</td>\n",
              "      <td>sedan</td>\n",
              "      <td>2007</td>\n",
              "      <td>manual</td>\n",
              "      <td>105</td>\n",
              "      <td>golf</td>\n",
              "      <td>150000</td>\n",
              "      <td>2</td>\n",
              "      <td>gasoline</td>\n",
              "      <td>volkswagen</td>\n",
              "      <td>no</td>\n",
              "      <td>2016-03-26 00:00:00</td>\n",
              "      <td>0</td>\n",
              "      <td>24943</td>\n",
              "      <td>2016-03-31 06:16:46</td>\n",
              "    </tr>\n",
              "    <tr>\n",
              "      <th>73451</th>\n",
              "      <td>2016-03-13 21:37:23</td>\n",
              "      <td>12250</td>\n",
              "      <td>sedan</td>\n",
              "      <td>2011</td>\n",
              "      <td>manual</td>\n",
              "      <td>116</td>\n",
              "      <td>1er</td>\n",
              "      <td>60000</td>\n",
              "      <td>5</td>\n",
              "      <td>gasoline</td>\n",
              "      <td>bmw</td>\n",
              "      <td>no</td>\n",
              "      <td>2016-03-13 00:00:00</td>\n",
              "      <td>0</td>\n",
              "      <td>41836</td>\n",
              "      <td>2016-04-06 19:16:53</td>\n",
              "    </tr>\n",
              "  </tbody>\n",
              "</table>\n",
              "</div>"
            ],
            "text/plain": [
              "                DateCrawled  Price VehicleType  RegistrationYear Gearbox  \\\n",
              "250342  2016-03-19 22:52:24   7490       wagon              2010  manual   \n",
              "204509  2016-03-18 22:47:08    400       sedan              1997  manual   \n",
              "170433  2016-03-25 10:49:16   1500       small              1997  manual   \n",
              "340718  2016-03-15 11:49:26   2350       sedan              2001    auto   \n",
              "236229  2016-03-26 17:57:08   1000       small              2001  manual   \n",
              "280560  2016-03-26 10:58:29   5290       sedan              2007  manual   \n",
              "73451   2016-03-13 21:37:23  12250       sedan              2011  manual   \n",
              "\n",
              "        Power     Model  Kilometer  RegistrationMonth  FuelType  \\\n",
              "250342    101     focus     125000                 11    petrol   \n",
              "204509    115    mondeo     150000                  9    petrol   \n",
              "170433    101        a3     150000                  3    petrol   \n",
              "340718    170  e_klasse     150000                  6       NaN   \n",
              "236229      0    almera     150000                 10    petrol   \n",
              "280560    105      golf     150000                  2  gasoline   \n",
              "73451     116       1er      60000                  5  gasoline   \n",
              "\n",
              "                Brand Repaired          DateCreated  NumberOfPictures  \\\n",
              "250342           ford       no  2016-03-19 00:00:00                 0   \n",
              "204509           ford      NaN  2016-03-18 00:00:00                 0   \n",
              "170433           audi       no  2016-03-25 00:00:00                 0   \n",
              "340718  mercedes_benz       no  2016-03-15 00:00:00                 0   \n",
              "236229         nissan      NaN  2016-03-26 00:00:00                 0   \n",
              "280560     volkswagen       no  2016-03-26 00:00:00                 0   \n",
              "73451             bmw       no  2016-03-13 00:00:00                 0   \n",
              "\n",
              "        PostalCode             LastSeen  \n",
              "250342       97204  2016-04-05 21:16:15  \n",
              "204509       86676  2016-04-05 23:16:14  \n",
              "170433        9212  2016-04-04 09:46:14  \n",
              "340718       90431  2016-03-20 04:46:18  \n",
              "236229       17179  2016-03-26 17:57:08  \n",
              "280560       24943  2016-03-31 06:16:46  \n",
              "73451        41836  2016-04-06 19:16:53  "
            ]
          },
          "execution_count": 3,
          "metadata": {},
          "output_type": "execute_result"
        }
      ],
      "source": [
        "data0 = pd.read_csv('/datasets/autos.csv')\n",
        "data0.info()\n",
        "data0.sample(7)"
      ]
    },
    {
      "cell_type": "markdown",
      "metadata": {
        "id": "jTEBjRddVrek"
      },
      "source": [
        "Данные содержат 16 колонок целочисленного (7) и строкового (9) типов, из которых 1 целевой признак Price (цена в евро), 15 нецелевых, среди них некоторые не являются значимыми (рассмотрим в след.пункте). Всего в датасете 354369 объектов, имеются пропуски в пяти столбцах. Далее произведем предварительный анализ и предобработку данных."
      ]
    },
    {
      "cell_type": "markdown",
      "metadata": {
        "id": "k_d3k6_IVrek"
      },
      "source": [
        "**Константы**"
      ]
    },
    {
      "cell_type": "code",
      "execution_count": null,
      "metadata": {
        "id": "5Cms2goNVrek"
      },
      "outputs": [],
      "source": [
        "RANDOM_STATE = 2023\n",
        "RMSE_MAX = 2500"
      ]
    },
    {
      "cell_type": "markdown",
      "metadata": {
        "id": "nn8-9y2qVrel"
      },
      "source": [
        "### Подготовка данных"
      ]
    },
    {
      "cell_type": "markdown",
      "metadata": {
        "id": "GV074EXLVrel"
      },
      "source": [
        "Посмотрим на проценты пропусков, количество явных дубликатов, выведем гистограммы распределений столбцов для визуального анализа на аномалии и матрицу корреляции, найдем неинформативные столбцы"
      ]
    },
    {
      "cell_type": "markdown",
      "metadata": {
        "id": "RCjjt7I5Vrel"
      },
      "source": [
        "#### Дубликаты, пропуски"
      ]
    },
    {
      "cell_type": "markdown",
      "metadata": {
        "id": "94aE5Iu2Vrem"
      },
      "source": [
        "**Явные дубликаты**\n",
        "\n",
        "Посмотрим на дубликаты и удалим их (поскольку полный повтор строки крайне маловероятен)"
      ]
    },
    {
      "cell_type": "code",
      "execution_count": null,
      "metadata": {
        "id": "z8XCW3MbVrem",
        "outputId": "4d564d76-ad01-44ad-e918-36638e311e03"
      },
      "outputs": [
        {
          "data": {
            "text/plain": [
              "4"
            ]
          },
          "metadata": {},
          "output_type": "display_data"
        },
        {
          "data": {
            "text/html": [
              "<div>\n",
              "<style scoped>\n",
              "    .dataframe tbody tr th:only-of-type {\n",
              "        vertical-align: middle;\n",
              "    }\n",
              "\n",
              "    .dataframe tbody tr th {\n",
              "        vertical-align: top;\n",
              "    }\n",
              "\n",
              "    .dataframe thead th {\n",
              "        text-align: right;\n",
              "    }\n",
              "</style>\n",
              "<table border=\"1\" class=\"dataframe\">\n",
              "  <thead>\n",
              "    <tr style=\"text-align: right;\">\n",
              "      <th></th>\n",
              "      <th>DateCrawled</th>\n",
              "      <th>Price</th>\n",
              "      <th>VehicleType</th>\n",
              "      <th>RegistrationYear</th>\n",
              "      <th>Gearbox</th>\n",
              "      <th>Power</th>\n",
              "      <th>Model</th>\n",
              "      <th>Kilometer</th>\n",
              "      <th>RegistrationMonth</th>\n",
              "      <th>FuelType</th>\n",
              "      <th>Brand</th>\n",
              "      <th>Repaired</th>\n",
              "      <th>DateCreated</th>\n",
              "      <th>NumberOfPictures</th>\n",
              "      <th>PostalCode</th>\n",
              "      <th>LastSeen</th>\n",
              "    </tr>\n",
              "  </thead>\n",
              "  <tbody>\n",
              "    <tr>\n",
              "      <th>171088</th>\n",
              "      <td>2016-03-08 18:42:48</td>\n",
              "      <td>1799</td>\n",
              "      <td>coupe</td>\n",
              "      <td>1999</td>\n",
              "      <td>auto</td>\n",
              "      <td>193</td>\n",
              "      <td>clk</td>\n",
              "      <td>20000</td>\n",
              "      <td>7</td>\n",
              "      <td>petrol</td>\n",
              "      <td>mercedes_benz</td>\n",
              "      <td>no</td>\n",
              "      <td>2016-03-08 00:00:00</td>\n",
              "      <td>0</td>\n",
              "      <td>89518</td>\n",
              "      <td>2016-03-09 09:46:57</td>\n",
              "    </tr>\n",
              "    <tr>\n",
              "      <th>231258</th>\n",
              "      <td>2016-03-28 00:56:10</td>\n",
              "      <td>1000</td>\n",
              "      <td>small</td>\n",
              "      <td>2002</td>\n",
              "      <td>manual</td>\n",
              "      <td>83</td>\n",
              "      <td>other</td>\n",
              "      <td>150000</td>\n",
              "      <td>1</td>\n",
              "      <td>petrol</td>\n",
              "      <td>suzuki</td>\n",
              "      <td>no</td>\n",
              "      <td>2016-03-28 00:00:00</td>\n",
              "      <td>0</td>\n",
              "      <td>66589</td>\n",
              "      <td>2016-03-28 08:46:21</td>\n",
              "    </tr>\n",
              "    <tr>\n",
              "      <th>258109</th>\n",
              "      <td>2016-04-03 09:01:15</td>\n",
              "      <td>4699</td>\n",
              "      <td>coupe</td>\n",
              "      <td>2003</td>\n",
              "      <td>auto</td>\n",
              "      <td>218</td>\n",
              "      <td>clk</td>\n",
              "      <td>125000</td>\n",
              "      <td>6</td>\n",
              "      <td>petrol</td>\n",
              "      <td>mercedes_benz</td>\n",
              "      <td>yes</td>\n",
              "      <td>2016-04-03 00:00:00</td>\n",
              "      <td>0</td>\n",
              "      <td>75196</td>\n",
              "      <td>2016-04-07 09:44:54</td>\n",
              "    </tr>\n",
              "    <tr>\n",
              "      <th>325651</th>\n",
              "      <td>2016-03-18 18:46:15</td>\n",
              "      <td>1999</td>\n",
              "      <td>wagon</td>\n",
              "      <td>2001</td>\n",
              "      <td>manual</td>\n",
              "      <td>131</td>\n",
              "      <td>passat</td>\n",
              "      <td>150000</td>\n",
              "      <td>7</td>\n",
              "      <td>gasoline</td>\n",
              "      <td>volkswagen</td>\n",
              "      <td>no</td>\n",
              "      <td>2016-03-18 00:00:00</td>\n",
              "      <td>0</td>\n",
              "      <td>36391</td>\n",
              "      <td>2016-03-18 18:46:15</td>\n",
              "    </tr>\n",
              "  </tbody>\n",
              "</table>\n",
              "</div>"
            ],
            "text/plain": [
              "                DateCrawled  Price VehicleType  RegistrationYear Gearbox  \\\n",
              "171088  2016-03-08 18:42:48   1799       coupe              1999    auto   \n",
              "231258  2016-03-28 00:56:10   1000       small              2002  manual   \n",
              "258109  2016-04-03 09:01:15   4699       coupe              2003    auto   \n",
              "325651  2016-03-18 18:46:15   1999       wagon              2001  manual   \n",
              "\n",
              "        Power   Model  Kilometer  RegistrationMonth  FuelType          Brand  \\\n",
              "171088    193     clk      20000                  7    petrol  mercedes_benz   \n",
              "231258     83   other     150000                  1    petrol         suzuki   \n",
              "258109    218     clk     125000                  6    petrol  mercedes_benz   \n",
              "325651    131  passat     150000                  7  gasoline     volkswagen   \n",
              "\n",
              "       Repaired          DateCreated  NumberOfPictures  PostalCode  \\\n",
              "171088       no  2016-03-08 00:00:00                 0       89518   \n",
              "231258       no  2016-03-28 00:00:00                 0       66589   \n",
              "258109      yes  2016-04-03 00:00:00                 0       75196   \n",
              "325651       no  2016-03-18 00:00:00                 0       36391   \n",
              "\n",
              "                   LastSeen  \n",
              "171088  2016-03-09 09:46:57  \n",
              "231258  2016-03-28 08:46:21  \n",
              "258109  2016-04-07 09:44:54  \n",
              "325651  2016-03-18 18:46:15  "
            ]
          },
          "metadata": {},
          "output_type": "display_data"
        },
        {
          "data": {
            "text/plain": [
              "354365"
            ]
          },
          "metadata": {},
          "output_type": "display_data"
        }
      ],
      "source": [
        "display(data0.duplicated().sum())\n",
        "display(data0[data0.duplicated()])\n",
        "data = data0.drop_duplicates().reset_index(drop=True)\n",
        "display(data.shape[0])"
      ]
    },
    {
      "cell_type": "markdown",
      "metadata": {
        "id": "Xl07Uid_Vrem"
      },
      "source": [
        "**Неявные дубликаты**\n",
        "\n",
        "Посмотрим на уникальные значения категориальных столбцов"
      ]
    },
    {
      "cell_type": "code",
      "execution_count": null,
      "metadata": {
        "scrolled": true,
        "id": "u6Hp1cHyVren",
        "outputId": "17a89345-a3d3-4209-df9c-88952b17651c"
      },
      "outputs": [
        {
          "name": "stdout",
          "output_type": "stream",
          "text": [
            "VehicleType ['bus' 'convertible' 'coupe' 'other' 'sedan' 'small' 'suv' 'wagon' nan]\n",
            "Gearbox ['auto' 'manual' nan]\n",
            "Model ['100' '145' '147' '156' '159' '1_reihe' '1er' '200' '2_reihe' '300c'\n",
            " '3_reihe' '3er' '4_reihe' '500' '5_reihe' '5er' '601' '6_reihe' '6er'\n",
            " '7er' '80' '850' '90' '900' '9000' '911' 'a1' 'a2' 'a3' 'a4' 'a5' 'a6'\n",
            " 'a8' 'a_klasse' 'accord' 'agila' 'alhambra' 'almera' 'altea' 'amarok'\n",
            " 'antara' 'arosa' 'astra' 'auris' 'avensis' 'aveo' 'aygo' 'b_klasse'\n",
            " 'b_max' 'beetle' 'berlingo' 'bora' 'boxster' 'bravo' 'c1' 'c2' 'c3' 'c4'\n",
            " 'c5' 'c_klasse' 'c_max' 'c_reihe' 'caddy' 'calibra' 'captiva' 'carisma'\n",
            " 'carnival' 'cayenne' 'cc' 'ceed' 'charade' 'cherokee' 'citigo' 'civic'\n",
            " 'cl' 'clio' 'clk' 'clubman' 'colt' 'combo' 'cooper' 'cordoba' 'corolla'\n",
            " 'corsa' 'cr_reihe' 'croma' 'crossfire' 'cuore' 'cx_reihe' 'defender'\n",
            " 'delta' 'discovery' 'doblo' 'ducato' 'duster' 'e_klasse' 'elefantino'\n",
            " 'eos' 'escort' 'espace' 'exeo' 'fabia' 'fiesta' 'focus' 'forester'\n",
            " 'forfour' 'fortwo' 'fox' 'freelander' 'fusion' 'g_klasse' 'galant'\n",
            " 'galaxy' 'getz' 'gl' 'glk' 'golf' 'grand' 'i3' 'i_reihe' 'ibiza'\n",
            " 'impreza' 'insignia' 'jazz' 'jetta' 'jimny' 'juke' 'justy' 'ka' 'kadett'\n",
            " 'kaefer' 'kalina' 'kalos' 'kangoo' 'kappa' 'kuga' 'laguna' 'lancer'\n",
            " 'lanos' 'legacy' 'leon' 'lodgy' 'logan' 'lupo' 'lybra' 'm_klasse'\n",
            " 'm_reihe' 'materia' 'matiz' 'megane' 'meriva' 'micra' 'mii' 'modus'\n",
            " 'mondeo' 'move' 'musa' 'mustang' 'mx_reihe' 'navara' 'niva' 'note'\n",
            " 'nubira' 'octavia' 'omega' 'one' 'other' 'outlander' 'pajero' 'panda'\n",
            " 'passat' 'phaeton' 'picanto' 'polo' 'primera' 'ptcruiser' 'punto' 'q3'\n",
            " 'q5' 'q7' 'qashqai' 'r19' 'range_rover' 'range_rover_evoque'\n",
            " 'range_rover_sport' 'rangerover' 'rav' 'rio' 'roadster' 'roomster'\n",
            " 'rx_reihe' 's60' 's_klasse' 's_max' 's_type' 'samara' 'sandero' 'santa'\n",
            " 'scenic' 'scirocco' 'seicento' 'serie_1' 'serie_2' 'serie_3' 'sharan'\n",
            " 'signum' 'sirion' 'sl' 'slk' 'sorento' 'spark' 'spider' 'sportage'\n",
            " 'sprinter' 'stilo' 'superb' 'swift' 'terios' 'tigra' 'tiguan' 'toledo'\n",
            " 'touareg' 'touran' 'transit' 'transporter' 'tt' 'tucson' 'twingo' 'up'\n",
            " 'v40' 'v50' 'v60' 'v70' 'v_klasse' 'vectra' 'verso' 'viano' 'vito'\n",
            " 'vivaro' 'voyager' 'wrangler' 'x_reihe' 'x_trail' 'x_type' 'xc_reihe'\n",
            " 'yaris' 'yeti' 'ypsilon' 'z_reihe' 'zafira' nan]\n",
            "FuelType ['cng' 'electric' 'gasoline' 'hybrid' 'lpg' 'other' 'petrol' nan]\n",
            "Brand ['alfa_romeo' 'audi' 'bmw' 'chevrolet' 'chrysler' 'citroen' 'dacia'\n",
            " 'daewoo' 'daihatsu' 'fiat' 'ford' 'honda' 'hyundai' 'jaguar' 'jeep' 'kia'\n",
            " 'lada' 'lancia' 'land_rover' 'mazda' 'mercedes_benz' 'mini' 'mitsubishi'\n",
            " 'nissan' 'opel' 'peugeot' 'porsche' 'renault' 'rover' 'saab' 'seat'\n",
            " 'skoda' 'smart' 'sonstige_autos' 'subaru' 'suzuki' 'toyota' 'trabant'\n",
            " 'volkswagen' 'volvo']\n",
            "Repaired ['no' 'yes' nan]\n"
          ]
        }
      ],
      "source": [
        "for col in ('VehicleType','Gearbox', 'Model', 'FuelType', 'Brand', 'Repaired'):\n",
        "#list(pd.Series(data.isna().sum()).loc[pd.Series(data.isna().sum()) != 0].index):\n",
        "#('VehicleType','Gearbox','Model','FuelType','Repaired'):\n",
        "    print(col, data[col].sort_values().unique())#value_counts(),'\\n')"
      ]
    },
    {
      "cell_type": "markdown",
      "metadata": {
        "id": "twJ5o0tvVren"
      },
      "source": [
        "В типе топлива указаны два значения, имеющих одинаковый смысл (различающихся лишь страной использования): petrol суть одно и тоже с gasoline, оба бензин. Для моделей замечено два разных написания одной и той же модели: rangerover и range_rover. Заменим все вариации написаний на один вариант."
      ]
    },
    {
      "cell_type": "code",
      "execution_count": null,
      "metadata": {
        "scrolled": true,
        "id": "Bp4w-nBcVren",
        "outputId": "fd400984-33ae-4430-8efe-92d5cc217461"
      },
      "outputs": [
        {
          "data": {
            "text/plain": [
              "petrol      315068\n",
              "lpg           5310\n",
              "cng            565\n",
              "hybrid         233\n",
              "other          204\n",
              "electric        90\n",
              "Name: FuelType, dtype: int64"
            ]
          },
          "metadata": {},
          "output_type": "display_data"
        },
        {
          "data": {
            "text/plain": [
              "array(['100', '145', '147', '156', '159', '1_reihe', '1er', '200',\n",
              "       '2_reihe', '300c', '3_reihe', '3er', '4_reihe', '500', '5_reihe',\n",
              "       '5er', '601', '6_reihe', '6er', '7er', '80', '850', '90', '900',\n",
              "       '9000', '911', 'a1', 'a2', 'a3', 'a4', 'a5', 'a6', 'a8',\n",
              "       'a_klasse', 'accord', 'agila', 'alhambra', 'almera', 'altea',\n",
              "       'amarok', 'antara', 'arosa', 'astra', 'auris', 'avensis', 'aveo',\n",
              "       'aygo', 'b_klasse', 'b_max', 'beetle', 'berlingo', 'bora',\n",
              "       'boxster', 'bravo', 'c1', 'c2', 'c3', 'c4', 'c5', 'c_klasse',\n",
              "       'c_max', 'c_reihe', 'caddy', 'calibra', 'captiva', 'carisma',\n",
              "       'carnival', 'cayenne', 'cc', 'ceed', 'charade', 'cherokee',\n",
              "       'citigo', 'civic', 'cl', 'clio', 'clk', 'clubman', 'colt', 'combo',\n",
              "       'cooper', 'cordoba', 'corolla', 'corsa', 'cr_reihe', 'croma',\n",
              "       'crossfire', 'cuore', 'cx_reihe', 'defender', 'delta', 'discovery',\n",
              "       'doblo', 'ducato', 'duster', 'e_klasse', 'elefantino', 'eos',\n",
              "       'escort', 'espace', 'exeo', 'fabia', 'fiesta', 'focus', 'forester',\n",
              "       'forfour', 'fortwo', 'fox', 'freelander', 'fusion', 'g_klasse',\n",
              "       'galant', 'galaxy', 'getz', 'gl', 'glk', 'golf', 'grand', 'i3',\n",
              "       'i_reihe', 'ibiza', 'impreza', 'insignia', 'jazz', 'jetta',\n",
              "       'jimny', 'juke', 'justy', 'ka', 'kadett', 'kaefer', 'kalina',\n",
              "       'kalos', 'kangoo', 'kappa', 'kuga', 'laguna', 'lancer', 'lanos',\n",
              "       'legacy', 'leon', 'lodgy', 'logan', 'lupo', 'lybra', 'm_klasse',\n",
              "       'm_reihe', 'materia', 'matiz', 'megane', 'meriva', 'micra', 'mii',\n",
              "       'modus', 'mondeo', 'move', 'musa', 'mustang', 'mx_reihe', 'navara',\n",
              "       'niva', 'note', 'nubira', 'octavia', 'omega', 'one', 'other',\n",
              "       'outlander', 'pajero', 'panda', 'passat', 'phaeton', 'picanto',\n",
              "       'polo', 'primera', 'ptcruiser', 'punto', 'q3', 'q5', 'q7',\n",
              "       'qashqai', 'r19', 'range_rover', 'range_rover_evoque',\n",
              "       'range_rover_sport', 'rav', 'rio', 'roadster', 'roomster',\n",
              "       'rx_reihe', 's60', 's_klasse', 's_max', 's_type', 'samara',\n",
              "       'sandero', 'santa', 'scenic', 'scirocco', 'seicento', 'serie_1',\n",
              "       'serie_2', 'serie_3', 'sharan', 'signum', 'sirion', 'sl', 'slk',\n",
              "       'sorento', 'spark', 'spider', 'sportage', 'sprinter', 'stilo',\n",
              "       'superb', 'swift', 'terios', 'tigra', 'tiguan', 'toledo',\n",
              "       'touareg', 'touran', 'transit', 'transporter', 'tt', 'tucson',\n",
              "       'twingo', 'up', 'v40', 'v50', 'v60', 'v70', 'v_klasse', 'vectra',\n",
              "       'verso', 'viano', 'vito', 'vivaro', 'voyager', 'wrangler',\n",
              "       'x_reihe', 'x_trail', 'x_type', 'xc_reihe', 'yaris', 'yeti',\n",
              "       'ypsilon', 'z_reihe', 'zafira', nan], dtype=object)"
            ]
          },
          "execution_count": 7,
          "metadata": {},
          "output_type": "execute_result"
        }
      ],
      "source": [
        "data['FuelType'] = data['FuelType'].str.replace('gasoline', 'petrol')\n",
        "data['Model'] = data['Model'].str.replace('rangerover', 'range_rover')\n",
        "display(data['FuelType'].value_counts())\n",
        "data['Model'].sort_values().unique()"
      ]
    },
    {
      "cell_type": "markdown",
      "metadata": {
        "id": "cDqNrgz2Vreo"
      },
      "source": [
        "**Пропуски**\n"
      ]
    },
    {
      "cell_type": "code",
      "execution_count": null,
      "metadata": {
        "id": "snSIUg99Vreo",
        "outputId": "5f5bbf67-461a-4722-b1fa-3a325c6148fa"
      },
      "outputs": [
        {
          "data": {
            "text/plain": [
              "VehicleType    10.58\n",
              "Gearbox         5.60\n",
              "Model           5.56\n",
              "FuelType        9.28\n",
              "Repaired       20.08\n",
              "dtype: float64"
            ]
          },
          "execution_count": 8,
          "metadata": {},
          "output_type": "execute_result"
        }
      ],
      "source": [
        "round(pd.Series(data.isna().sum()).loc[pd.Series(data.isna().sum()) != 0] / data.shape[0] * 100, 2)"
      ]
    },
    {
      "cell_type": "code",
      "execution_count": null,
      "metadata": {
        "id": "T9lw1-oXVreo",
        "outputId": "28c1068e-78ba-46bc-9e61-8876a0b54a16"
      },
      "outputs": [
        {
          "data": {
            "text/plain": [
              "6191      NaN\n",
              "6636      NaN\n",
              "36018     NaN\n",
              "101043    NaN\n",
              "127167    NaN\n",
              "134883    NaN\n",
              "148860    NaN\n",
              "172777    NaN\n",
              "185838    NaN\n",
              "190050    NaN\n",
              "294621    NaN\n",
              "308808    NaN\n",
              "312181    NaN\n",
              "332548    NaN\n",
              "Name: VehicleType, dtype: object"
            ]
          },
          "execution_count": 12,
          "metadata": {},
          "output_type": "execute_result"
        }
      ],
      "source": [
        "data.loc[(data['Model'] == 'niva')&(data['VehicleType'].isna())]['VehicleType']"
      ]
    },
    {
      "cell_type": "markdown",
      "metadata": {
        "id": "7k8f5g-CVrep"
      },
      "source": [
        "Лучше всего было бы оставить эти пропуски со значением nan, так как нам наверняка неизвестно, что стоит за этими пропусками, а все столбцы являются значимыми. Для наглядности сначала заполним все пропуски индикаторным строковым значением \"-\", предварительно-таки удалив пропуски по названиям модели"
      ]
    },
    {
      "cell_type": "code",
      "execution_count": null,
      "metadata": {
        "id": "Y5ww4sdLVrep"
      },
      "outputs": [],
      "source": [
        "data = data.dropna(axis=0, subset=['Model'])\n",
        "data = data.fillna('-')"
      ]
    },
    {
      "cell_type": "markdown",
      "metadata": {
        "id": "CKPnEyByVrep"
      },
      "source": [
        "Теперь попробуем заполнить пропуски по типам кузова популярным значением в группе с полным названием модели, выведя до и после количество пропусков"
      ]
    },
    {
      "cell_type": "code",
      "execution_count": null,
      "metadata": {
        "scrolled": true,
        "id": "-mW7SLHKVreq",
        "outputId": "89fadd19-904b-4041-f74b-86caa0bc47fc"
      },
      "outputs": [
        {
          "name": "stdout",
          "output_type": "stream",
          "text": [
            "30662\n"
          ]
        },
        {
          "data": {
            "text/plain": [
              "10"
            ]
          },
          "execution_count": 109,
          "metadata": {},
          "output_type": "execute_result"
        }
      ],
      "source": [
        "# создадим столбец с полным наименовнаием модели из парных уникальных значений типа Марка+Модель\n",
        "data['FullModel'] = data['Brand']+' '+data['Model']\n",
        "\n",
        "# попробуем заполнить тип кузова по популярным значениям групп из полного названия модели\n",
        "print(data.loc[data['VehicleType']=='-','VehicleType'].count())\n",
        "for m in data['FullModel'].sort_values().unique():\n",
        "    data.loc[(data['FullModel']==m)&(data['VehicleType']=='-'),'VehicleType'] = \\\n",
        "    data.loc[data['FullModel']==m,'VehicleType'].mode()[0]\n",
        "data.loc[data['VehicleType']=='-','VehicleType'].count()"
      ]
    },
    {
      "cell_type": "markdown",
      "metadata": {
        "id": "3B4pljVEVreq"
      },
      "source": [
        "Количество пропусков по столбцу с типом кузова с 30662 снизилось до 10"
      ]
    },
    {
      "cell_type": "markdown",
      "metadata": {
        "id": "8sJV4z_PVreq"
      },
      "source": [
        "#### Аномалии, выбросы"
      ]
    },
    {
      "cell_type": "code",
      "execution_count": null,
      "metadata": {
        "id": "31s0N_sDVrer",
        "outputId": "ef9fc0ef-9c26-4cfa-e26b-d86d895b76ea"
      },
      "outputs": [
        {
          "data": {
            "image/png": "[encoded data removed]",
            "text/plain": [
              "<Figure size 1080x720 with 9 Axes>"
            ]
          },
          "metadata": {
            "needs_background": "light"
          },
          "output_type": "display_data"
        }
      ],
      "source": [
        "data.hist(bins=150,figsize=(15,10));"
      ]
    },
    {
      "cell_type": "markdown",
      "metadata": {
        "id": "0k88PCFmVrer"
      },
      "source": [
        "**Цена**"
      ]
    },
    {
      "cell_type": "markdown",
      "metadata": {
        "id": "YCTehYqNVre4"
      },
      "source": [
        "В целевом столбце с ценой имеются нулевые выбросы (не заданная пользователем стоимость автомобиля). Такие строки следует исключить из рассмотрения. Выведем их количество и очистим датасет от них"
      ]
    },
    {
      "cell_type": "code",
      "execution_count": null,
      "metadata": {
        "id": "lTOXjROMVre4",
        "outputId": "be3d9f97-4bec-46cb-92d8-f2c6d34ad896"
      },
      "outputs": [
        {
          "data": {
            "text/plain": [
              "count    334660.000000\n",
              "mean       4504.372249\n",
              "std        4531.457109\n",
              "min           0.000000\n",
              "25%        1150.000000\n",
              "50%        2800.000000\n",
              "75%        6500.000000\n",
              "max       20000.000000\n",
              "Name: Price, dtype: float64"
            ]
          },
          "metadata": {},
          "output_type": "display_data"
        },
        {
          "data": {
            "text/plain": [
              "8588"
            ]
          },
          "metadata": {},
          "output_type": "display_data"
        },
        {
          "data": {
            "text/plain": [
              "<AxesSubplot:>"
            ]
          },
          "execution_count": 111,
          "metadata": {},
          "output_type": "execute_result"
        },
        {
          "data": {
            "image/png": "[encoded data removed]",
            "text/plain": [
              "<Figure size 432x288 with 1 Axes>"
            ]
          },
          "metadata": {
            "needs_background": "light"
          },
          "output_type": "display_data"
        }
      ],
      "source": [
        "display(data['Price'].describe())\n",
        "display(data[data['Price']==0]['Price'].count())\n",
        "data = data[data['Price']!=0]\n",
        "data['Price'].hist(bins=150)"
      ]
    },
    {
      "cell_type": "markdown",
      "metadata": {
        "id": "D7fRkNB4Vre5"
      },
      "source": [
        "**Год регистрации автомобиля**"
      ]
    },
    {
      "cell_type": "markdown",
      "metadata": {
        "id": "fn0O7FfdVre5"
      },
      "source": [
        "Рассмотрим аномальные значения в столбце с годом регистрации автомобиля: для начала обнаружим записи, в которых год регистрации превышает дату создания анкеты, выведя процент таковых в общем количестве объектов. Для них можно было бы поменять дату регистрации на год создания анкеты как раз, но будущая модель может неверно истолковать такие объекты, поэтому пока удалим такие записи"
      ]
    },
    {
      "cell_type": "code",
      "execution_count": null,
      "metadata": {
        "id": "-UrbA9HqVre5",
        "outputId": "f1156ef2-1909-4ad3-f550-d4551d0f79c0"
      },
      "outputs": [
        {
          "data": {
            "text/plain": [
              "3.66"
            ]
          },
          "metadata": {},
          "output_type": "display_data"
        },
        {
          "data": {
            "text/plain": [
              "count    314152.000000\n",
              "mean       2002.669014\n",
              "std          10.312245\n",
              "min        1000.000000\n",
              "25%        1999.000000\n",
              "50%        2003.000000\n",
              "75%        2007.000000\n",
              "max        2016.000000\n",
              "Name: RegistrationYear, dtype: float64"
            ]
          },
          "execution_count": 112,
          "metadata": {},
          "output_type": "execute_result"
        }
      ],
      "source": [
        "display(round(data[data['RegistrationYear'] > pd.DatetimeIndex(data['DateCreated']).year]['RegistrationYear'].count()\\\n",
        "              / data.shape[0] * 100,2))\n",
        "data = data[data['RegistrationYear'] <= pd.DatetimeIndex(data['DateCreated']).year]\n",
        "data['RegistrationYear'].describe()"
      ]
    },
    {
      "cell_type": "markdown",
      "metadata": {
        "id": "FG7useYsVre6"
      },
      "source": [
        "Посмотрим на уникальные значения столбцов. Ограничим год регистрации автомобиля снизу 1900-м и сверху 2016-м гг (верхняя граница обусловлена тем, что год регистрации автомобиля по логике не может превышать максимальный год создания анкеты), и удалим эти аномалии ввиду их незначительного количества"
      ]
    },
    {
      "cell_type": "code",
      "execution_count": null,
      "metadata": {
        "scrolled": false,
        "id": "cjoNC0WYVre6",
        "outputId": "20d7931c-c1ab-46af-ef6b-701c621e67ba"
      },
      "outputs": [
        {
          "data": {
            "text/plain": [
              "2016"
            ]
          },
          "metadata": {},
          "output_type": "display_data"
        },
        {
          "data": {
            "text/plain": [
              "array([1000, 1001, 1234, 1300, 1400, 1500, 1600, 1602, 1800, 1910, 1923,\n",
              "       1927, 1928, 1929, 1930, 1931, 1932, 1933, 1934, 1935, 1936, 1937,\n",
              "       1938, 1941, 1942, 1943, 1945, 1947, 1949, 1950, 1951, 1952, 1953,\n",
              "       1954, 1955, 1956, 1957, 1958, 1959, 1960, 1961, 1962, 1963, 1964,\n",
              "       1965, 1966, 1967, 1968, 1969, 1970, 1971, 1972, 1973, 1974, 1975,\n",
              "       1976, 1977, 1978, 1979, 1980, 1981, 1982, 1983, 1984, 1985, 1986,\n",
              "       1987, 1988, 1989, 1990, 1991, 1992, 1993, 1994, 1995, 1996, 1997,\n",
              "       1998, 1999, 2000, 2001, 2002, 2003, 2004, 2005, 2006, 2007, 2008,\n",
              "       2009, 2010, 2011, 2012, 2013, 2014, 2015, 2016])"
            ]
          },
          "metadata": {},
          "output_type": "display_data"
        },
        {
          "data": {
            "text/plain": [
              "28"
            ]
          },
          "metadata": {},
          "output_type": "display_data"
        },
        {
          "data": {
            "text/plain": [
              "<AxesSubplot:>"
            ]
          },
          "execution_count": 113,
          "metadata": {},
          "output_type": "execute_result"
        },
        {
          "data": {
            "image/png": "[encoded data removed]",
            "text/plain": [
              "<Figure size 432x288 with 1 Axes>"
            ]
          },
          "metadata": {
            "needs_background": "light"
          },
          "output_type": "display_data"
        }
      ],
      "source": [
        "display(max(pd.DatetimeIndex(data['DateCreated']).year))\n",
        "display(data['RegistrationYear'].sort_values().unique())\n",
        "display(data[(data['RegistrationYear'] < 1900) | (data['RegistrationYear'] > 2016)]['RegistrationYear'].count())\n",
        "data = data[(1900 < data['RegistrationYear']) & (data['RegistrationYear'] < 2016)]\n",
        "data['RegistrationYear'].hist(bins=200)"
      ]
    },
    {
      "cell_type": "markdown",
      "metadata": {
        "id": "5Swyz9jLVre6"
      },
      "source": [
        "**Мощность двигателя**"
      ]
    },
    {
      "cell_type": "markdown",
      "metadata": {
        "id": "6zmYJWWbVre7"
      },
      "source": [
        "Рассмотрим аномалии в столбце мощности двигателя. По гистограмме видно, что имеются выбросы вблизи нуля, а также значения простираются далеко за разумные 3000 л.с. Нулевые выбросы связаны, скорее всего, с незаполнением соответствующего поля пользователем, восстановить их можно попробовать через медианные значения в группе по полному названию модели. Пока удалим все остальные аномалии, заполнив нулевые выбросы медианой группы по модели и выведя количество ненулевых аномалий и нулевых выбросов."
      ]
    },
    {
      "cell_type": "code",
      "execution_count": null,
      "metadata": {
        "id": "5BofRl-DVre7",
        "outputId": "b485691a-02c5-4a80-83a4-8a9ba5201c57"
      },
      "outputs": [
        {
          "data": {
            "text/plain": [
              "122"
            ]
          },
          "metadata": {},
          "output_type": "display_data"
        },
        {
          "data": {
            "text/plain": [
              "26295"
            ]
          },
          "metadata": {},
          "output_type": "display_data"
        },
        {
          "data": {
            "text/plain": [
              "count    306235.000000\n",
              "mean        120.567043\n",
              "std          62.989115\n",
              "min          11.000000\n",
              "25%          77.000000\n",
              "50%         110.000000\n",
              "75%         147.000000\n",
              "max        2799.000000\n",
              "Name: Power, dtype: float64"
            ]
          },
          "execution_count": 114,
          "metadata": {},
          "output_type": "execute_result"
        },
        {
          "data": {
            "image/png": "[encoded data removed]",
            "text/plain": [
              "<Figure size 432x288 with 1 Axes>"
            ]
          },
          "metadata": {
            "needs_background": "light"
          },
          "output_type": "display_data"
        }
      ],
      "source": [
        "display(data[(data['Power'] != 0) & ((data['Power'] < 10) | (data['Power'] > 3000))]['Power'].count())\n",
        "display(data[data['Power'] == 0]['Power'].count())\n",
        "for m in data['FullModel'].unique():\n",
        "    data.loc[(data['FullModel']==m) & (data['Power']==0),'Power'] =\\\n",
        "    data.loc[data['FullModel']==m, 'Power'].mean()\n",
        "data = data[(10 < data['Power']) & (data['Power'] < 3000)]\n",
        "data['Power'].hist(bins=200)\n",
        "data['Power'].describe()"
      ]
    },
    {
      "cell_type": "markdown",
      "metadata": {
        "id": "8jydHpq9Vre7"
      },
      "source": [
        "**Процент удаленных строк**"
      ]
    },
    {
      "cell_type": "code",
      "execution_count": null,
      "metadata": {
        "id": "E5kvljICVre8",
        "outputId": "309346c2-b9ed-45e1-8635-77d1bc3625e6"
      },
      "outputs": [
        {
          "data": {
            "text/plain": [
              "13.58"
            ]
          },
          "execution_count": 115,
          "metadata": {},
          "output_type": "execute_result"
        }
      ],
      "source": [
        "round((data0.shape[0] - data.shape[0]) / data0.shape[0] * 100, 2)"
      ]
    },
    {
      "cell_type": "markdown",
      "metadata": {
        "id": "c7zxqcn9Vre8"
      },
      "source": [
        "#### Корреляция признаков и информативные признаки"
      ]
    },
    {
      "cell_type": "code",
      "execution_count": null,
      "metadata": {
        "id": "KmDvI9vRVre8",
        "outputId": "77dba1a5-d8bf-4105-a4cb-26acb3f5d395"
      },
      "outputs": [
        {
          "data": {
            "text/html": [
              "<div>\n",
              "<style scoped>\n",
              "    .dataframe tbody tr th:only-of-type {\n",
              "        vertical-align: middle;\n",
              "    }\n",
              "\n",
              "    .dataframe tbody tr th {\n",
              "        vertical-align: top;\n",
              "    }\n",
              "\n",
              "    .dataframe thead th {\n",
              "        text-align: right;\n",
              "    }\n",
              "</style>\n",
              "<table border=\"1\" class=\"dataframe\">\n",
              "  <thead>\n",
              "    <tr style=\"text-align: right;\">\n",
              "      <th></th>\n",
              "      <th>Price</th>\n",
              "      <th>RegistrationYear</th>\n",
              "      <th>Power</th>\n",
              "      <th>Kilometer</th>\n",
              "      <th>RegistrationMonth</th>\n",
              "      <th>NumberOfPictures</th>\n",
              "      <th>PostalCode</th>\n",
              "    </tr>\n",
              "  </thead>\n",
              "  <tbody>\n",
              "    <tr>\n",
              "      <th>Price</th>\n",
              "      <td>1.000000</td>\n",
              "      <td>0.530127</td>\n",
              "      <td>0.417725</td>\n",
              "      <td>-0.367264</td>\n",
              "      <td>0.081297</td>\n",
              "      <td>NaN</td>\n",
              "      <td>0.069375</td>\n",
              "    </tr>\n",
              "    <tr>\n",
              "      <th>RegistrationYear</th>\n",
              "      <td>0.530127</td>\n",
              "      <td>1.000000</td>\n",
              "      <td>0.132228</td>\n",
              "      <td>-0.286399</td>\n",
              "      <td>0.081691</td>\n",
              "      <td>NaN</td>\n",
              "      <td>0.038427</td>\n",
              "    </tr>\n",
              "    <tr>\n",
              "      <th>Power</th>\n",
              "      <td>0.417725</td>\n",
              "      <td>0.132228</td>\n",
              "      <td>1.000000</td>\n",
              "      <td>0.087972</td>\n",
              "      <td>0.038860</td>\n",
              "      <td>NaN</td>\n",
              "      <td>0.042005</td>\n",
              "    </tr>\n",
              "    <tr>\n",
              "      <th>Kilometer</th>\n",
              "      <td>-0.367264</td>\n",
              "      <td>-0.286399</td>\n",
              "      <td>0.087972</td>\n",
              "      <td>1.000000</td>\n",
              "      <td>-0.002371</td>\n",
              "      <td>NaN</td>\n",
              "      <td>-0.011146</td>\n",
              "    </tr>\n",
              "    <tr>\n",
              "      <th>RegistrationMonth</th>\n",
              "      <td>0.081297</td>\n",
              "      <td>0.081691</td>\n",
              "      <td>0.038860</td>\n",
              "      <td>-0.002371</td>\n",
              "      <td>1.000000</td>\n",
              "      <td>NaN</td>\n",
              "      <td>0.007297</td>\n",
              "    </tr>\n",
              "    <tr>\n",
              "      <th>NumberOfPictures</th>\n",
              "      <td>NaN</td>\n",
              "      <td>NaN</td>\n",
              "      <td>NaN</td>\n",
              "      <td>NaN</td>\n",
              "      <td>NaN</td>\n",
              "      <td>NaN</td>\n",
              "      <td>NaN</td>\n",
              "    </tr>\n",
              "    <tr>\n",
              "      <th>PostalCode</th>\n",
              "      <td>0.069375</td>\n",
              "      <td>0.038427</td>\n",
              "      <td>0.042005</td>\n",
              "      <td>-0.011146</td>\n",
              "      <td>0.007297</td>\n",
              "      <td>NaN</td>\n",
              "      <td>1.000000</td>\n",
              "    </tr>\n",
              "  </tbody>\n",
              "</table>\n",
              "</div>"
            ],
            "text/plain": [
              "                      Price  RegistrationYear     Power  Kilometer  \\\n",
              "Price              1.000000          0.530127  0.417725  -0.367264   \n",
              "RegistrationYear   0.530127          1.000000  0.132228  -0.286399   \n",
              "Power              0.417725          0.132228  1.000000   0.087972   \n",
              "Kilometer         -0.367264         -0.286399  0.087972   1.000000   \n",
              "RegistrationMonth  0.081297          0.081691  0.038860  -0.002371   \n",
              "NumberOfPictures        NaN               NaN       NaN        NaN   \n",
              "PostalCode         0.069375          0.038427  0.042005  -0.011146   \n",
              "\n",
              "                   RegistrationMonth  NumberOfPictures  PostalCode  \n",
              "Price                       0.081297               NaN    0.069375  \n",
              "RegistrationYear            0.081691               NaN    0.038427  \n",
              "Power                       0.038860               NaN    0.042005  \n",
              "Kilometer                  -0.002371               NaN   -0.011146  \n",
              "RegistrationMonth           1.000000               NaN    0.007297  \n",
              "NumberOfPictures                 NaN               NaN         NaN  \n",
              "PostalCode                  0.007297               NaN    1.000000  "
            ]
          },
          "execution_count": 116,
          "metadata": {},
          "output_type": "execute_result"
        }
      ],
      "source": [
        "data.corr()"
      ]
    },
    {
      "cell_type": "markdown",
      "metadata": {
        "id": "U1SKd6LSVre9"
      },
      "source": [
        "Числовые данные не имеют высоких показателей коэффициента Пирсона между собой, максимальная корреляция достигает 0.49 по модулю между целевым признаком и годом регистрации автомобиля, поэтому можем сделать вывод, что сильной линейной зависимости между численными признаками нет. Удалим незначимые для построения модели столбцы с датой создания и скачивания анкеты, количеством фотографий в объявлении, а также почтовым индексом владельца, датой последней активности пользователя и месяцем регистрации. Столбцы Brand и Model удалим ввиду создания обобщающего столбца FullModel"
      ]
    },
    {
      "cell_type": "code",
      "execution_count": null,
      "metadata": {
        "id": "p9wvtA_pVre9",
        "outputId": "49009cf3-a43e-4bba-ac2b-20fc18c23180"
      },
      "outputs": [
        {
          "name": "stdout",
          "output_type": "stream",
          "text": [
            "<class 'pandas.core.frame.DataFrame'>\n",
            "Int64Index: 306235 entries, 0 to 354364\n",
            "Data columns (total 9 columns):\n",
            " #   Column            Non-Null Count   Dtype  \n",
            "---  ------            --------------   -----  \n",
            " 0   Price             306235 non-null  int64  \n",
            " 1   VehicleType       306235 non-null  object \n",
            " 2   RegistrationYear  306235 non-null  int64  \n",
            " 3   Gearbox           306235 non-null  object \n",
            " 4   Power             306235 non-null  float64\n",
            " 5   Kilometer         306235 non-null  int64  \n",
            " 6   FuelType          306235 non-null  object \n",
            " 7   Repaired          306235 non-null  object \n",
            " 8   FullModel         306235 non-null  object \n",
            "dtypes: float64(1), int64(3), object(5)\n",
            "memory usage: 23.4+ MB\n"
          ]
        }
      ],
      "source": [
        "data2 = data.drop(\n",
        "    labels=['DateCreated', 'DateCrawled', 'NumberOfPictures',\\\n",
        "            'PostalCode', 'LastSeen', 'RegistrationMonth',\\\n",
        "           'Brand','Model'], axis=1\n",
        ")\n",
        "data2.info()"
      ]
    },
    {
      "cell_type": "markdown",
      "metadata": {
        "id": "bYvAsmNoVre-"
      },
      "source": [
        "**Предварительный вывод**\n",
        "\n",
        "В ходе предварительного анализа и предобработки данных были удалены явные дубликаты в количестве 4 штук и преобразованы неявные дубликаты в столбцах ТипТоплива и Модель, удалены пропуски по названиям модели, столбцы с брендом и моделью были объединены в одну колонку с полным названием модели, что позволило восстановить почти все пропуски по ТипуКузова; остальные пропуски заполнены маркерным значением '-'. Строки с нулевым значением цены удалены, год регистрации автомобиля ограничили сверху и снизу для исключения аномальных значений, нулевые выбросы по столбцу мощности автомобиля восстановили по среднему медианному значению группы полного названия модели. Незначимые столбцы удалены из рассмотрения, сильной линейной зависимости между числовыми столбцами не обнаружено. Процент удаленных строк 13,58%."
      ]
    },
    {
      "cell_type": "markdown",
      "metadata": {
        "id": "lG_vAJJpVre-"
      },
      "source": [
        "### Подготовка признаков и выборок"
      ]
    },
    {
      "cell_type": "markdown",
      "metadata": {
        "id": "ew6QBzo9Vre-"
      },
      "source": [
        "Подготовим выборки для обучения моделей: выделим целевой признак и остальные, а также разобьем датасет на обучающую, валидационную и тестовую выборки. Также необходимо будет произвести кодирование и масштабирование: первой моделью будет RandomForestRegressor, для которой будет использоваться порядковое кодирование признака Model, имеющего большое количество уникальных значений, и OHE кодирование остальных категориальных признаков. Для этого подготовим список численных и категориальных столбцов"
      ]
    },
    {
      "cell_type": "code",
      "execution_count": null,
      "metadata": {
        "id": "MxjEA4xxVre-",
        "outputId": "60ae2489-abff-41c5-fe65-44faf152f300"
      },
      "outputs": [
        {
          "data": {
            "text/plain": [
              "(183741, 8)"
            ]
          },
          "metadata": {},
          "output_type": "display_data"
        },
        {
          "data": {
            "text/plain": [
              "(183741,)"
            ]
          },
          "metadata": {},
          "output_type": "display_data"
        },
        {
          "data": {
            "text/plain": [
              "(61247, 8)"
            ]
          },
          "metadata": {},
          "output_type": "display_data"
        },
        {
          "data": {
            "text/plain": [
              "(61247,)"
            ]
          },
          "metadata": {},
          "output_type": "display_data"
        },
        {
          "data": {
            "text/plain": [
              "(61247, 8)"
            ]
          },
          "metadata": {},
          "output_type": "display_data"
        },
        {
          "data": {
            "text/plain": [
              "(61247,)"
            ]
          },
          "metadata": {},
          "output_type": "display_data"
        }
      ],
      "source": [
        "#разбивка данных на целевую колонку и нецелевые признаки\n",
        "features = data2.drop('Price', axis=1)\n",
        "target = data2['Price']\n",
        "#train, valid, test = np.split(data.sample(frac=1, random_state=2023), [int(.6*len(data2)), int(.8*len(data2))])\n",
        "#разбивка на тестовую, тренировочную и валидационную выборки в два этапа\n",
        "f_train_valid, f_test, t_train_valid, t_test = train_test_split(\n",
        "    features, target, test_size=0.2, random_state=RANDOM_STATE\n",
        ")\n",
        "f_train, f_valid, t_train, t_valid = train_test_split(\n",
        "    f_train_valid, t_train_valid, test_size=0.25, random_state=RANDOM_STATE\n",
        ")\n",
        "#проверка размерностей выборок\n",
        "for smpl in (f_train, t_train, f_valid, t_valid, f_test, t_test):\n",
        "    display(smpl.shape)"
      ]
    },
    {
      "cell_type": "code",
      "execution_count": null,
      "metadata": {
        "id": "7S9RJBV0Vre_",
        "outputId": "23e7c3fd-53d5-460c-fc3b-ecc5982e83f9"
      },
      "outputs": [
        {
          "name": "stdout",
          "output_type": "stream",
          "text": [
            "Численные столбцы: ['RegistrationYear', 'Power', 'Kilometer'] \n",
            "Категориальные столбцы: ['VehicleType', 'Gearbox', 'FuelType', 'Repaired', 'FullModel']\n"
          ]
        }
      ],
      "source": [
        "#подготовка списков числовых и категориальных столбцов\n",
        "numeric = features.select_dtypes(exclude='object').columns.to_list()\n",
        "categorized = features.select_dtypes(include='object').columns.to_list()\n",
        "print('Численные столбцы:', numeric,'\\nКатегориальные столбцы:', categorized)"
      ]
    },
    {
      "cell_type": "code",
      "execution_count": null,
      "metadata": {
        "id": "8_1I7_qrVre_",
        "outputId": "396d45e7-55f7-4db4-cee3-c5ddfa02bb12"
      },
      "outputs": [
        {
          "name": "stdout",
          "output_type": "stream",
          "text": [
            "Равенство значений тренировочной и тестовой выборок по категориальным столбцам:\n",
            "VehicleType False {'-'}\n",
            "Gearbox True set()\n",
            "FuelType True set()\n",
            "Repaired True set()\n",
            "FullModel False {'lada samara', 'rover discovery', 'rover freelander', 'land_rover serie_2', 'rover defender'}\n"
          ]
        }
      ],
      "source": [
        "#посмотрим на различие в значениях категориальных столбцов тестовой и тренировочной выборок\n",
        "print('Равенство значений тренировочной и тестовой выборок по категориальным столбцам:')\n",
        "for col in categorized:\n",
        "    print(col,(set(f_test[col]) >= set(f_train[col])),\n",
        "          set(f_test[col]) ^ set(f_train[col]))\n",
        "#категориальные признаки для OneHotEncoder и OrdinalEncoder модели RandomForestRegressor\n",
        "ohe_features_rf = categorized.copy()\n",
        "ohe_features_rf.remove('FullModel')\n",
        "oe_feature_rf = ['FullModel']"
      ]
    },
    {
      "cell_type": "code",
      "execution_count": null,
      "metadata": {
        "id": "k1XvtZ44VrfA"
      },
      "outputs": [],
      "source": [
        "# здесь же подготовим выборки для разных моделей\n",
        "# переопределим выборки для Случайного Леса\n",
        "f_train_rf = f_train.copy()\n",
        "f_valid_rf = f_valid.copy()\n",
        "f_test_rf = f_test.copy()\n",
        "# для бустинговых моделей необходимо перевести категориальные данные в тип category\n",
        "f_train[categorized] = f_train[categorized].astype('category')\n",
        "f_valid[categorized] = f_valid[categorized].astype('category')\n",
        "f_test[categorized] = f_test[categorized].astype('category')"
      ]
    },
    {
      "cell_type": "markdown",
      "metadata": {
        "id": "xmXd5CSNVrfA"
      },
      "source": [
        "## Обучение моделей"
      ]
    },
    {
      "cell_type": "markdown",
      "metadata": {
        "id": "pTC7b5juVrfB"
      },
      "source": [
        "Обучим разные модели, одна из которых — LightGBM, рассмотрим также CatBoost, другая — не бустинговая (RandomForest). Для каждой модели попробуем разные гиперпараметры.\n",
        "\n",
        "Для оценки качества моделей будем применять метрику RMSE.\n",
        "Значение метрики RMSE должно быть меньше 2500 по условию проекта, эта константа уже объявлена в его начале.\n",
        "Модель градиентного бустинга может долго обучаться, поэтому изменим у неё только два параметра."
      ]
    },
    {
      "cell_type": "markdown",
      "metadata": {
        "id": "HBaoo-vlVrfB"
      },
      "source": [
        "### Случайный Лес"
      ]
    },
    {
      "cell_type": "markdown",
      "metadata": {
        "id": "HXFT0u96VrfB"
      },
      "source": [
        "Гиперпараметры для Случайного Леса будем подбирать через RandomizedSearchCV с Pipeline для масштабирования численных и кодирования категориальных признаков"
      ]
    },
    {
      "cell_type": "code",
      "execution_count": null,
      "metadata": {
        "scrolled": true,
        "id": "kAALl0MyVrfB",
        "outputId": "fe0a9453-5281-42ce-f08b-59fab5b9a7d3"
      },
      "outputs": [
        {
          "name": "stdout",
          "output_type": "stream",
          "text": [
            "CPU times: user 202 µs, sys: 0 ns, total: 202 µs\n",
            "Wall time: 206 µs\n"
          ]
        }
      ],
      "source": [
        "%%time\n",
        "## подбор гиперпараметров\n",
        "# преобразование признаков:\n",
        "col_transformer_rf = make_column_transformer(\n",
        "# категориальные через OHE и OE для столбца с моделью,\n",
        "    (OneHotEncoder(drop='first', handle_unknown='ignore'),\n",
        "     ohe_features_rf),\n",
        "    (OrdinalEncoder(handle_unknown='use_encoded_value', unknown_value=-1),\n",
        "     oe_feature_rf),\n",
        "# масштабирование через StandardScaler\n",
        "    (StandardScaler(),\n",
        "     numeric),\n",
        "    remainder='passthrough'\n",
        ")\n",
        "# задаем модель, формируем пайплайн и определяем гиперпараметры для перебора\n",
        "model_rf = RandomForestRegressor(random_state=RANDOM_STATE)\n",
        "pipline_rf = make_pipeline(col_transformer_rf, model_rf)\n",
        "param_grid_rf = {\n",
        "    'randomforestregressor__n_estimators': range(20, 100, 20),\n",
        "    'randomforestregressor__max_depth': range(2, 15)\n",
        "}\n",
        "# подбор гиперпараметров через RandomizeSearchCV для ускорения процесса\n",
        "gs_rf = RandomizedSearchCV(\n",
        "    pipline_rf,\n",
        "    param_distributions=param_grid_rf,\n",
        "    scoring='neg_root_mean_squared_error',\n",
        "    n_jobs=-1,\n",
        "    random_state=RANDOM_STATE#, error_score='raise'\n",
        ")"
      ]
    },
    {
      "cell_type": "code",
      "execution_count": null,
      "metadata": {
        "id": "69ETmnLVVrfC",
        "outputId": "68c5a218-b46e-4da5-d282-9a7dd6f834b2"
      },
      "outputs": [
        {
          "name": "stdout",
          "output_type": "stream",
          "text": [
            "CPU times: user 5min 39s, sys: 371 ms, total: 5min 40s\n",
            "Wall time: 5min 40s\n"
          ]
        }
      ],
      "source": [
        "%%time\n",
        "# обучение лучшей модели\n",
        "gs_rf.fit(f_train_rf, t_train)\n",
        "tuned_rf = gs_rf.best_estimator_\n",
        "gs_rf_best_score = gs_rf.best_score_ * -1\n",
        "gs_rf_best_params = gs_rf.best_params_"
      ]
    },
    {
      "cell_type": "markdown",
      "metadata": {
        "id": "BCd7aRVXVrfC"
      },
      "source": [
        "    CPU times: user 5min 39s, sys: 371 ms, total: 5min 40s\n",
        "    Wall time: 5min 40s"
      ]
    },
    {
      "cell_type": "code",
      "execution_count": null,
      "metadata": {
        "id": "h0SeI4zqVrfC",
        "outputId": "492592a5-630b-47a3-dde4-9b7bef6177f5"
      },
      "outputs": [
        {
          "name": "stdout",
          "output_type": "stream",
          "text": [
            "{'randomforestregressor__n_estimators': 20, 'randomforestregressor__max_depth': 13}\n",
            "1735.0006254354103\n",
            "CPU times: user 295 ms, sys: 11.2 ms, total: 306 ms\n",
            "Wall time: 315 ms\n"
          ]
        }
      ],
      "source": [
        "%%time\n",
        "# предсказания и выводы лучшей модели\n",
        "tuned_rf.predict(f_valid_rf)\n",
        "print(gs_rf_best_params)\n",
        "print(gs_rf_best_score)"
      ]
    },
    {
      "cell_type": "markdown",
      "metadata": {
        "id": "-2fxggmvVrfD"
      },
      "source": [
        "    {'randomforestregressor__n_estimators': 20, 'randomforestregressor__max_depth': 13}\n",
        "    1735.0006254354103\n",
        "    CPU times: user 295 ms, sys: 11.2 ms, total: 306 ms\n",
        "    Wall time: 315 ms"
      ]
    },
    {
      "cell_type": "markdown",
      "metadata": {
        "id": "jxrNsyBEVrfD"
      },
      "source": [
        "### CatBoost"
      ]
    },
    {
      "cell_type": "code",
      "execution_count": null,
      "metadata": {
        "id": "ya1Gfh2PVrfD"
      },
      "outputs": [],
      "source": [
        "#%%time\n",
        "## подбор гиперпараметров через встроенный в CatBoost метод\n",
        "#model_cb = CatBoostRegressor(loss_function='RMSE', cat_features=categorized, random_seed=RANDOM_STATE, verbose=100)\n",
        "#param_grid_cb = {'n_estimators': [40,80,120],'depth': [6,10,14]}\n",
        "#gs_cb = model_cb.grid_search(param_grid_cb, X=f_train, y=t_train, cv=3, plot=True)"
      ]
    },
    {
      "cell_type": "markdown",
      "metadata": {
        "id": "wxN9YgsyVrfE"
      },
      "source": [
        " - 119:\tlearn: 1808.7959670\ttest: 1891.9594407\tbest: 1891.9594407 (119)\ttotal: 41.8s\tremaining: 0us\n",
        " - CPU times: user 4min 42s, sys: 27 s, total: 5min 9s\n",
        " - Wall time: 5min 24s"
      ]
    },
    {
      "cell_type": "code",
      "execution_count": null,
      "metadata": {
        "id": "wb7bo8r8VrfE",
        "outputId": "fc385480-970f-468d-b1ea-72243103de42"
      },
      "outputs": [
        {
          "name": "stdout",
          "output_type": "stream",
          "text": [
            "CPU times: user 232 µs, sys: 9 µs, total: 241 µs\n",
            "Wall time: 247 µs\n"
          ]
        }
      ],
      "source": [
        "%%time\n",
        "# подбор гиперпараметров\n",
        "model_cb = CatBoostRegressor(loss_function='RMSE', cat_features=categorized, random_seed=RANDOM_STATE, verbose=100)\n",
        "param_grid_cb = {'n_estimators': [40,80,120],'depth': [6,10,14]}\n",
        "gs_cb = GridSearchCV(\n",
        "    estimator=model_cb,\n",
        "    param_grid=param_grid_cb,\n",
        "    scoring='neg_root_mean_squared_error', verbose=3)"
      ]
    },
    {
      "cell_type": "code",
      "execution_count": null,
      "metadata": {
        "id": "k_ebo3f-VrfE",
        "outputId": "c903b67a-8196-4d0b-92bf-a2d6681044d1"
      },
      "outputs": [
        {
          "name": "stdout",
          "output_type": "stream",
          "text": [
            "Fitting 5 folds for each of 9 candidates, totalling 45 fits\n",
            "Learning rate set to 0.5\n",
            "0:\tlearn: 3191.8176499\ttotal: 61.7ms\tremaining: 2.41s\n",
            "39:\tlearn: 1778.4534084\ttotal: 2.11s\tremaining: 0us\n",
            "[CV 1/5] END ......depth=6, n_estimators=40;, score=-1804.969 total time=   2.8s\n",
            "Learning rate set to 0.5\n",
            "0:\tlearn: 3192.8225315\ttotal: 60.1ms\tremaining: 2.34s\n",
            "39:\tlearn: 1768.7059754\ttotal: 2.02s\tremaining: 0us\n",
            "[CV 2/5] END ......depth=6, n_estimators=40;, score=-1794.624 total time=   2.6s\n",
            "Learning rate set to 0.5\n",
            "0:\tlearn: 3185.4894298\ttotal: 60.7ms\tremaining: 2.37s\n",
            "39:\tlearn: 1778.2603503\ttotal: 2.05s\tremaining: 0us\n",
            "[CV 3/5] END ......depth=6, n_estimators=40;, score=-1768.590 total time=   2.7s\n",
            "Learning rate set to 0.5\n",
            "0:\tlearn: 3195.2100518\ttotal: 59.5ms\tremaining: 2.32s\n",
            "39:\tlearn: 1758.2815355\ttotal: 2.12s\tremaining: 0us\n",
            "[CV 4/5] END ......depth=6, n_estimators=40;, score=-1812.237 total time=   2.8s\n",
            "Learning rate set to 0.5\n",
            "0:\tlearn: 3196.4178045\ttotal: 72.6ms\tremaining: 2.83s\n",
            "39:\tlearn: 1770.2316368\ttotal: 2.11s\tremaining: 0us\n",
            "[CV 5/5] END ......depth=6, n_estimators=40;, score=-1783.921 total time=   2.9s\n",
            "Learning rate set to 0.5\n",
            "0:\tlearn: 3191.8176499\ttotal: 54.3ms\tremaining: 4.29s\n",
            "79:\tlearn: 1709.9277282\ttotal: 4.03s\tremaining: 0us\n",
            "[CV 1/5] END ......depth=6, n_estimators=80;, score=-1757.304 total time=   4.7s\n",
            "Learning rate set to 0.5\n",
            "0:\tlearn: 3192.8225315\ttotal: 57.7ms\tremaining: 4.56s\n",
            "79:\tlearn: 1693.8356760\ttotal: 4.09s\tremaining: 0us\n",
            "[CV 2/5] END ......depth=6, n_estimators=80;, score=-1742.713 total time=   4.8s\n",
            "Learning rate set to 0.5\n",
            "0:\tlearn: 3185.4894298\ttotal: 55.3ms\tremaining: 4.37s\n",
            "79:\tlearn: 1702.8403186\ttotal: 4.08s\tremaining: 0us\n",
            "[CV 3/5] END ......depth=6, n_estimators=80;, score=-1715.383 total time=   4.7s\n",
            "Learning rate set to 0.5\n",
            "0:\tlearn: 3195.2100518\ttotal: 57.1ms\tremaining: 4.51s\n",
            "79:\tlearn: 1692.6797044\ttotal: 4.27s\tremaining: 0us\n",
            "[CV 4/5] END ......depth=6, n_estimators=80;, score=-1772.172 total time=   4.9s\n",
            "Learning rate set to 0.5\n",
            "0:\tlearn: 3196.4178045\ttotal: 57.5ms\tremaining: 4.54s\n",
            "79:\tlearn: 1701.8631374\ttotal: 4.04s\tremaining: 0us\n",
            "[CV 5/5] END ......depth=6, n_estimators=80;, score=-1737.383 total time=   4.7s\n",
            "Learning rate set to 0.5\n",
            "0:\tlearn: 3191.8176499\ttotal: 55.4ms\tremaining: 6.59s\n",
            "100:\tlearn: 1686.4923461\ttotal: 5.14s\tremaining: 967ms\n",
            "119:\tlearn: 1670.5749032\ttotal: 6.12s\tremaining: 0us\n",
            "[CV 1/5] END .....depth=6, n_estimators=120;, score=-1734.313 total time=   6.9s\n",
            "Learning rate set to 0.5\n",
            "0:\tlearn: 3192.8225315\ttotal: 63.4ms\tremaining: 7.54s\n",
            "100:\tlearn: 1672.3411082\ttotal: 5.15s\tremaining: 968ms\n",
            "119:\tlearn: 1657.0720683\ttotal: 6.1s\tremaining: 0us\n",
            "[CV 2/5] END .....depth=6, n_estimators=120;, score=-1725.753 total time=   6.7s\n",
            "Learning rate set to 0.5\n",
            "0:\tlearn: 3185.4894298\ttotal: 73.7ms\tremaining: 8.77s\n",
            "100:\tlearn: 1679.3560421\ttotal: 5.18s\tremaining: 975ms\n",
            "119:\tlearn: 1659.4664300\ttotal: 6.11s\tremaining: 0us\n",
            "[CV 3/5] END .....depth=6, n_estimators=120;, score=-1690.361 total time=   6.8s\n",
            "Learning rate set to 0.5\n",
            "0:\tlearn: 3195.2100518\ttotal: 55.4ms\tremaining: 6.59s\n",
            "100:\tlearn: 1669.5670140\ttotal: 5.29s\tremaining: 995ms\n",
            "119:\tlearn: 1652.3133269\ttotal: 6.23s\tremaining: 0us\n",
            "[CV 4/5] END .....depth=6, n_estimators=120;, score=-1751.388 total time=   7.0s\n",
            "Learning rate set to 0.5\n",
            "0:\tlearn: 3196.4178045\ttotal: 60.1ms\tremaining: 7.15s\n",
            "100:\tlearn: 1678.1143098\ttotal: 5.18s\tremaining: 976ms\n",
            "119:\tlearn: 1662.0090801\ttotal: 6.23s\tremaining: 0us\n",
            "[CV 5/5] END .....depth=6, n_estimators=120;, score=-1717.453 total time=   6.9s\n",
            "Learning rate set to 0.5\n",
            "0:\tlearn: 3052.5401467\ttotal: 93.4ms\tremaining: 3.64s\n",
            "39:\tlearn: 1624.1117019\ttotal: 3.43s\tremaining: 0us\n",
            "[CV 1/5] END .....depth=10, n_estimators=40;, score=-1723.565 total time=   4.1s\n",
            "Learning rate set to 0.5\n",
            "0:\tlearn: 3068.2593341\ttotal: 93.7ms\tremaining: 3.65s\n",
            "39:\tlearn: 1620.9488586\ttotal: 3.31s\tremaining: 0us\n",
            "[CV 2/5] END .....depth=10, n_estimators=40;, score=-1730.587 total time=   3.9s\n",
            "Learning rate set to 0.5\n",
            "0:\tlearn: 3082.0672611\ttotal: 94.7ms\tremaining: 3.69s\n",
            "39:\tlearn: 1627.3954449\ttotal: 3.37s\tremaining: 0us\n",
            "[CV 3/5] END .....depth=10, n_estimators=40;, score=-1700.642 total time=   4.0s\n",
            "Learning rate set to 0.5\n",
            "0:\tlearn: 3067.2736223\ttotal: 103ms\tremaining: 4s\n",
            "39:\tlearn: 1617.4521683\ttotal: 3.42s\tremaining: 0us\n",
            "[CV 4/5] END .....depth=10, n_estimators=40;, score=-1750.958 total time=   4.1s\n",
            "Learning rate set to 0.5\n",
            "0:\tlearn: 3067.3339948\ttotal: 91.5ms\tremaining: 3.57s\n",
            "39:\tlearn: 1624.7413271\ttotal: 3.43s\tremaining: 0us\n",
            "[CV 5/5] END .....depth=10, n_estimators=40;, score=-1716.516 total time=   4.1s\n",
            "Learning rate set to 0.5\n",
            "0:\tlearn: 3052.5401467\ttotal: 90.1ms\tremaining: 7.12s\n",
            "79:\tlearn: 1523.4037580\ttotal: 6.57s\tremaining: 0us\n",
            "[CV 1/5] END .....depth=10, n_estimators=80;, score=-1681.520 total time=   7.2s\n",
            "Learning rate set to 0.5\n",
            "0:\tlearn: 3068.2593341\ttotal: 97.7ms\tremaining: 7.71s\n",
            "79:\tlearn: 1514.0082169\ttotal: 6.6s\tremaining: 0us\n",
            "[CV 2/5] END .....depth=10, n_estimators=80;, score=-1688.494 total time=   7.3s\n",
            "Learning rate set to 0.5\n",
            "0:\tlearn: 3082.0672611\ttotal: 96.3ms\tremaining: 7.6s\n",
            "79:\tlearn: 1533.7720055\ttotal: 6.68s\tremaining: 0us\n",
            "[CV 3/5] END .....depth=10, n_estimators=80;, score=-1665.322 total time=   7.3s\n",
            "Learning rate set to 0.5\n",
            "0:\tlearn: 3067.2736223\ttotal: 91.5ms\tremaining: 7.23s\n",
            "79:\tlearn: 1518.8126083\ttotal: 6.65s\tremaining: 0us\n",
            "[CV 4/5] END .....depth=10, n_estimators=80;, score=-1712.686 total time=   7.3s\n",
            "Learning rate set to 0.5\n",
            "0:\tlearn: 3067.3339948\ttotal: 121ms\tremaining: 9.58s\n",
            "79:\tlearn: 1532.7019933\ttotal: 6.79s\tremaining: 0us\n",
            "[CV 5/5] END .....depth=10, n_estimators=80;, score=-1686.482 total time=   7.4s\n",
            "Learning rate set to 0.5\n",
            "0:\tlearn: 3052.5401467\ttotal: 103ms\tremaining: 12.3s\n",
            "100:\tlearn: 1492.0592329\ttotal: 8.4s\tremaining: 1.58s\n",
            "119:\tlearn: 1462.2799786\ttotal: 9.98s\tremaining: 0us\n",
            "[CV 1/5] END ....depth=10, n_estimators=120;, score=-1660.779 total time=  10.8s\n",
            "Learning rate set to 0.5\n",
            "0:\tlearn: 3068.2593341\ttotal: 98.3ms\tremaining: 11.7s\n",
            "100:\tlearn: 1486.8794146\ttotal: 8.56s\tremaining: 1.61s\n",
            "119:\tlearn: 1461.7827521\ttotal: 10.2s\tremaining: 0us\n",
            "[CV 2/5] END ....depth=10, n_estimators=120;, score=-1675.776 total time=  10.8s\n",
            "Learning rate set to 0.5\n",
            "0:\tlearn: 3082.0672611\ttotal: 98.2ms\tremaining: 11.7s\n",
            "100:\tlearn: 1497.0507768\ttotal: 8.59s\tremaining: 1.61s\n",
            "119:\tlearn: 1469.9454447\ttotal: 10.2s\tremaining: 0us\n",
            "[CV 3/5] END ....depth=10, n_estimators=120;, score=-1649.236 total time=  10.9s\n",
            "Learning rate set to 0.5\n",
            "0:\tlearn: 3067.2736223\ttotal: 119ms\tremaining: 14.2s\n",
            "100:\tlearn: 1487.1184032\ttotal: 8.27s\tremaining: 1.56s\n",
            "119:\tlearn: 1465.0203543\ttotal: 9.81s\tremaining: 0us\n",
            "[CV 4/5] END ....depth=10, n_estimators=120;, score=-1702.161 total time=  10.6s\n",
            "Learning rate set to 0.5\n",
            "0:\tlearn: 3067.3339948\ttotal: 95.3ms\tremaining: 11.3s\n",
            "100:\tlearn: 1496.6193961\ttotal: 8.31s\tremaining: 1.56s\n",
            "119:\tlearn: 1471.6174450\ttotal: 9.95s\tremaining: 0us\n",
            "[CV 5/5] END ....depth=10, n_estimators=120;, score=-1675.079 total time=  10.6s\n",
            "Learning rate set to 0.5\n",
            "0:\tlearn: 3052.5401467\ttotal: 105ms\tremaining: 4.08s\n",
            "39:\tlearn: 1449.3577120\ttotal: 12.7s\tremaining: 0us\n",
            "[CV 1/5] END .....depth=14, n_estimators=40;, score=-1681.680 total time=  13.4s\n",
            "Learning rate set to 0.5\n",
            "0:\tlearn: 3068.2593341\ttotal: 107ms\tremaining: 4.15s\n",
            "39:\tlearn: 1447.7176926\ttotal: 12.1s\tremaining: 0us\n",
            "[CV 2/5] END .....depth=14, n_estimators=40;, score=-1695.518 total time=  12.8s\n",
            "Learning rate set to 0.5\n",
            "0:\tlearn: 3050.7391905\ttotal: 180ms\tremaining: 7.04s\n",
            "39:\tlearn: 1442.2540183\ttotal: 12.4s\tremaining: 0us\n",
            "[CV 3/5] END .....depth=14, n_estimators=40;, score=-1660.587 total time=  13.2s\n",
            "Learning rate set to 0.5\n",
            "0:\tlearn: 3030.7712932\ttotal: 318ms\tremaining: 12.4s\n",
            "39:\tlearn: 1436.0217397\ttotal: 12.4s\tremaining: 0us\n",
            "[CV 4/5] END .....depth=14, n_estimators=40;, score=-1719.200 total time=  13.1s\n",
            "Learning rate set to 0.5\n",
            "0:\tlearn: 3033.3071979\ttotal: 347ms\tremaining: 13.5s\n",
            "39:\tlearn: 1461.3314485\ttotal: 12.3s\tremaining: 0us\n",
            "[CV 5/5] END .....depth=14, n_estimators=40;, score=-1677.838 total time=  13.1s\n",
            "Learning rate set to 0.5\n",
            "0:\tlearn: 3052.5401467\ttotal: 105ms\tremaining: 8.32s\n",
            "79:\tlearn: 1322.5524183\ttotal: 25.1s\tremaining: 0us\n",
            "[CV 1/5] END .....depth=14, n_estimators=80;, score=-1654.891 total time=  25.9s\n",
            "Learning rate set to 0.5\n",
            "0:\tlearn: 3068.2593341\ttotal: 103ms\tremaining: 8.11s\n",
            "79:\tlearn: 1317.5550746\ttotal: 24.4s\tremaining: 0us\n",
            "[CV 2/5] END .....depth=14, n_estimators=80;, score=-1669.968 total time=  25.2s\n",
            "Learning rate set to 0.5\n",
            "0:\tlearn: 3050.7391905\ttotal: 174ms\tremaining: 13.7s\n",
            "79:\tlearn: 1306.6189828\ttotal: 25.1s\tremaining: 0us\n",
            "[CV 3/5] END .....depth=14, n_estimators=80;, score=-1644.809 total time=  25.9s\n",
            "Learning rate set to 0.5\n",
            "0:\tlearn: 3030.7712932\ttotal: 345ms\tremaining: 27.3s\n",
            "79:\tlearn: 1317.4780827\ttotal: 24.9s\tremaining: 0us\n",
            "[CV 4/5] END .....depth=14, n_estimators=80;, score=-1695.902 total time=  25.7s\n",
            "Learning rate set to 0.5\n",
            "0:\tlearn: 3033.3071979\ttotal: 318ms\tremaining: 25.1s\n",
            "79:\tlearn: 1327.7362073\ttotal: 24.8s\tremaining: 0us\n",
            "[CV 5/5] END .....depth=14, n_estimators=80;, score=-1658.184 total time=  25.6s\n",
            "Learning rate set to 0.5\n",
            "0:\tlearn: 3052.5401467\ttotal: 117ms\tremaining: 13.9s\n",
            "100:\tlearn: 1279.5526779\ttotal: 32.1s\tremaining: 6.04s\n",
            "119:\tlearn: 1244.8111715\ttotal: 38.4s\tremaining: 0us\n",
            "[CV 1/5] END ....depth=14, n_estimators=120;, score=-1644.250 total time=  39.2s\n",
            "Learning rate set to 0.5\n",
            "0:\tlearn: 3068.2593341\ttotal: 115ms\tremaining: 13.7s\n",
            "100:\tlearn: 1271.7054291\ttotal: 32.5s\tremaining: 6.12s\n",
            "119:\tlearn: 1241.6831406\ttotal: 38.7s\tremaining: 0us\n",
            "[CV 2/5] END ....depth=14, n_estimators=120;, score=-1663.267 total time=  39.5s\n",
            "Learning rate set to 0.5\n",
            "0:\tlearn: 3050.7391905\ttotal: 277ms\tremaining: 32.9s\n",
            "100:\tlearn: 1271.7507795\ttotal: 31.8s\tremaining: 5.98s\n",
            "119:\tlearn: 1241.9845005\ttotal: 37.8s\tremaining: 0us\n",
            "[CV 3/5] END ....depth=14, n_estimators=120;, score=-1640.659 total time=  38.7s\n",
            "Learning rate set to 0.5\n",
            "0:\tlearn: 3030.7712932\ttotal: 320ms\tremaining: 38.1s\n",
            "100:\tlearn: 1277.7636266\ttotal: 32.3s\tremaining: 6.07s\n",
            "119:\tlearn: 1246.5386611\ttotal: 38.7s\tremaining: 0us\n",
            "[CV 4/5] END ....depth=14, n_estimators=120;, score=-1690.226 total time=  39.6s\n",
            "Learning rate set to 0.5\n",
            "0:\tlearn: 3033.3071979\ttotal: 332ms\tremaining: 39.5s\n",
            "100:\tlearn: 1281.1146033\ttotal: 32.2s\tremaining: 6.05s\n",
            "119:\tlearn: 1250.0262191\ttotal: 38.4s\tremaining: 0us\n",
            "[CV 5/5] END ....depth=14, n_estimators=120;, score=-1654.237 total time=  39.1s\n",
            "Learning rate set to 0.5\n",
            "0:\tlearn: 3037.3716077\ttotal: 351ms\tremaining: 41.7s\n",
            "100:\tlearn: 1314.5289956\ttotal: 35.9s\tremaining: 6.76s\n",
            "119:\tlearn: 1283.3524722\ttotal: 43s\tremaining: 0us\n",
            "CPU times: user 9min 7s, sys: 46.4 s, total: 9min 54s\n",
            "Wall time: 10min 16s\n"
          ]
        }
      ],
      "source": [
        "%%time\n",
        "# обучение лучшей модели\n",
        "gs_cb.fit(f_train, t_train)\n",
        "tuned_cb = gs_cb.best_estimator_\n",
        "gs_cb_best_params = gs_cb.best_params_\n",
        "gs_cb_best_score = gs_cb.best_score_ * -1"
      ]
    },
    {
      "cell_type": "markdown",
      "metadata": {
        "id": "XUdIl02pVrfE"
      },
      "source": [
        "    CPU times: user 9min 7s, sys: 46.4 s, total: 9min 54s\n",
        "    Wall time: 10min 16s"
      ]
    },
    {
      "cell_type": "code",
      "execution_count": null,
      "metadata": {
        "id": "BjmQ9Wv4VrfF",
        "outputId": "8dce5256-1e58-4f0b-f756-3eabaabe7222"
      },
      "outputs": [
        {
          "name": "stdout",
          "output_type": "stream",
          "text": [
            "{'depth': 14, 'n_estimators': 120}\n",
            "1658.5277066879607\n",
            "CPU times: user 86.8 ms, sys: 3.94 ms, total: 90.7 ms\n",
            "Wall time: 99.2 ms\n"
          ]
        }
      ],
      "source": [
        "%%time\n",
        "# предсказания и выводы лучшей модели\n",
        "tuned_cb.predict(f_valid)\n",
        "print(gs_cb_best_params)\n",
        "print(gs_cb_best_score)"
      ]
    },
    {
      "cell_type": "markdown",
      "metadata": {
        "id": "WaXaddYWVrfF"
      },
      "source": [
        "    {'depth': 14, 'n_estimators': 120}\n",
        "    1658.5277066879607\n",
        "    CPU times: user 86.8 ms, sys: 3.94 ms, total: 90.7 ms\n",
        "    Wall time: 99.2 ms"
      ]
    },
    {
      "cell_type": "markdown",
      "metadata": {
        "id": "65lxRsc0VrfG"
      },
      "source": [
        "### LightGBM"
      ]
    },
    {
      "cell_type": "code",
      "execution_count": null,
      "metadata": {
        "id": "3FGICDgaVrfG",
        "outputId": "671544f6-4c03-43ac-a301-6988a21fce08"
      },
      "outputs": [
        {
          "name": "stdout",
          "output_type": "stream",
          "text": [
            "CPU times: user 100 µs, sys: 5 µs, total: 105 µs\n",
            "Wall time: 109 µs\n"
          ]
        }
      ],
      "source": [
        "%%time\n",
        "# подбор гиперпараметров\n",
        "gs_lgbm = GridSearchCV(\n",
        "    estimator=LGBMRegressor(random_state=RANDOM_STATE),\n",
        "    param_grid={'max_depth': [4,6,10], 'n_estimators': [10,20,80]},\n",
        "    scoring='neg_root_mean_squared_error', verbose=3)"
      ]
    },
    {
      "cell_type": "code",
      "execution_count": null,
      "metadata": {
        "scrolled": true,
        "id": "6xzpEuA9VrfG",
        "outputId": "208c7d17-7a6e-49c8-a4c6-b0105ae82e96"
      },
      "outputs": [
        {
          "name": "stdout",
          "output_type": "stream",
          "text": [
            "Fitting 5 folds for each of 9 candidates, totalling 45 fits\n",
            "[CV 1/5] END ..max_depth=4, n_estimators=10;, score=-2658.965 total time=  14.8s\n",
            "[CV 2/5] END ..max_depth=4, n_estimators=10;, score=-2681.175 total time=  20.2s\n",
            "[CV 3/5] END ..max_depth=4, n_estimators=10;, score=-2626.383 total time=  16.2s\n",
            "[CV 4/5] END ..max_depth=4, n_estimators=10;, score=-2652.668 total time=  20.0s\n",
            "[CV 5/5] END ..max_depth=4, n_estimators=10;, score=-2624.944 total time=  16.9s\n",
            "[CV 1/5] END ..max_depth=4, n_estimators=20;, score=-2091.992 total time=  40.8s\n",
            "[CV 2/5] END ..max_depth=4, n_estimators=20;, score=-2121.690 total time=  32.9s\n",
            "[CV 3/5] END ..max_depth=4, n_estimators=20;, score=-2065.888 total time=  32.9s\n",
            "[CV 4/5] END ..max_depth=4, n_estimators=20;, score=-2101.263 total time=  30.3s\n",
            "[CV 5/5] END ..max_depth=4, n_estimators=20;, score=-2072.097 total time=   8.2s\n",
            "[CV 1/5] END ..max_depth=4, n_estimators=80;, score=-1700.857 total time=   2.7s\n",
            "[CV 2/5] END ..max_depth=4, n_estimators=80;, score=-1721.182 total time=   2.8s\n",
            "[CV 3/5] END ..max_depth=4, n_estimators=80;, score=-1677.587 total time=   2.3s\n",
            "[CV 4/5] END ..max_depth=4, n_estimators=80;, score=-1731.884 total time=   2.6s\n",
            "[CV 5/5] END ..max_depth=4, n_estimators=80;, score=-1712.600 total time=   3.8s\n",
            "[CV 1/5] END ..max_depth=6, n_estimators=10;, score=-2533.053 total time=   0.9s\n",
            "[CV 2/5] END ..max_depth=6, n_estimators=10;, score=-2549.036 total time=   0.8s\n",
            "[CV 3/5] END ..max_depth=6, n_estimators=10;, score=-2495.431 total time=   1.0s\n",
            "[CV 4/5] END ..max_depth=6, n_estimators=10;, score=-2513.749 total time=   0.8s\n",
            "[CV 5/5] END ..max_depth=6, n_estimators=10;, score=-2492.460 total time=   1.0s\n",
            "[CV 1/5] END ..max_depth=6, n_estimators=20;, score=-1945.365 total time=   1.4s\n",
            "[CV 2/5] END ..max_depth=6, n_estimators=20;, score=-1962.727 total time=   1.6s\n",
            "[CV 3/5] END ..max_depth=6, n_estimators=20;, score=-1916.888 total time=   1.6s\n",
            "[CV 4/5] END ..max_depth=6, n_estimators=20;, score=-1947.081 total time=   1.2s\n",
            "[CV 5/5] END ..max_depth=6, n_estimators=20;, score=-1925.758 total time=   1.6s\n",
            "[CV 1/5] END ..max_depth=6, n_estimators=80;, score=-1642.953 total time=   4.2s\n",
            "[CV 2/5] END ..max_depth=6, n_estimators=80;, score=-1652.367 total time=   3.4s\n",
            "[CV 3/5] END ..max_depth=6, n_estimators=80;, score=-1619.767 total time=   4.5s\n",
            "[CV 4/5] END ..max_depth=6, n_estimators=80;, score=-1666.648 total time=   3.4s\n",
            "[CV 5/5] END ..max_depth=6, n_estimators=80;, score=-1645.641 total time=   3.9s\n",
            "[CV 1/5] END .max_depth=10, n_estimators=10;, score=-2526.408 total time=   0.9s\n",
            "[CV 2/5] END .max_depth=10, n_estimators=10;, score=-2547.332 total time=   0.9s\n",
            "[CV 3/5] END .max_depth=10, n_estimators=10;, score=-2491.086 total time=   1.0s\n",
            "[CV 4/5] END .max_depth=10, n_estimators=10;, score=-2508.334 total time=   0.9s\n",
            "[CV 5/5] END .max_depth=10, n_estimators=10;, score=-2487.639 total time=   0.9s\n",
            "[CV 1/5] END .max_depth=10, n_estimators=20;, score=-1934.633 total time=   1.6s\n",
            "[CV 2/5] END .max_depth=10, n_estimators=20;, score=-1956.834 total time=   1.3s\n",
            "[CV 3/5] END .max_depth=10, n_estimators=20;, score=-1908.718 total time=   1.5s\n",
            "[CV 4/5] END .max_depth=10, n_estimators=20;, score=-1937.181 total time=   1.9s\n",
            "[CV 5/5] END .max_depth=10, n_estimators=20;, score=-1916.199 total time=   1.5s\n",
            "[CV 1/5] END .max_depth=10, n_estimators=80;, score=-1623.098 total time=   4.1s\n",
            "[CV 2/5] END .max_depth=10, n_estimators=80;, score=-1641.436 total time=   4.2s\n",
            "[CV 3/5] END .max_depth=10, n_estimators=80;, score=-1612.494 total time=   3.7s\n",
            "[CV 4/5] END .max_depth=10, n_estimators=80;, score=-1655.508 total time= 3.5min\n",
            "[CV 5/5] END .max_depth=10, n_estimators=80;, score=-1633.121 total time=  32.5s\n",
            "CPU times: user 9min 1s, sys: 2.18 s, total: 9min 4s\n",
            "Wall time: 9min 9s\n"
          ]
        }
      ],
      "source": [
        "%%time\n",
        "# обучение модели с оптимальными гиперпараметрами\n",
        "gs_lgbm.fit(f_train, t_train)\n",
        "tuned_lgbm = gs_lgbm.best_estimator_\n",
        "gs_lgbm_best_params = gs_lgbm.best_params_\n",
        "gs_lgbm_best_score = gs_lgbm.best_score_ * -1"
      ]
    },
    {
      "cell_type": "markdown",
      "metadata": {
        "id": "J37R6B6BVrfG"
      },
      "source": [
        "    CPU times: user 1min 47s, sys: 0 ns, total: 1min 47s\n",
        "    Wall time: 9min 9s"
      ]
    },
    {
      "cell_type": "code",
      "execution_count": null,
      "metadata": {
        "id": "Qm6I0lBsVrfH",
        "outputId": "2fbd5c67-362e-4e99-ace9-9fb22219e3a6"
      },
      "outputs": [
        {
          "name": "stdout",
          "output_type": "stream",
          "text": [
            "{'max_depth': 10, 'n_estimators': 80}\n",
            "1633.1316103305855\n",
            "CPU times: user 535 ms, sys: 0 ns, total: 535 ms\n",
            "Wall time: 512 ms\n"
          ]
        }
      ],
      "source": [
        "%%time\n",
        "# предсказания и выводы лучшей модели\n",
        "tuned_lgbm.predict(f_valid)\n",
        "print(gs_lgbm_best_params)\n",
        "print(gs_lgbm_best_score)"
      ]
    },
    {
      "cell_type": "markdown",
      "metadata": {
        "id": "MNAjlAJ_VrfH"
      },
      "source": [
        "    {'max_depth': 10, 'n_estimators': 80}\n",
        "    1633.1316103305855\n",
        "    CPU times: user 543 ms, sys: 0 ns, total: 543 ms\n",
        "    Wall time: 512 ms"
      ]
    },
    {
      "cell_type": "markdown",
      "metadata": {
        "id": "SZJT1WJQVrfH"
      },
      "source": [
        "### Анализ моделей"
      ]
    },
    {
      "cell_type": "markdown",
      "metadata": {
        "id": "TWWj1K_rVrfI"
      },
      "source": [
        "Лучшие значения и параметры моделей:"
      ]
    },
    {
      "cell_type": "code",
      "execution_count": null,
      "metadata": {
        "id": "cQ3k04FvVrfI",
        "outputId": "5047b510-d1e8-4299-c731-0dd6c28c8ae8"
      },
      "outputs": [
        {
          "name": "stdout",
          "output_type": "stream",
          "text": [
            "RF    {'randomforestregressor__n_estimators': 20, 'randomforestregressor__max_depth': 13} \n",
            " 1735.0006254354103\n",
            "CB    {'depth': 14, 'n_estimators': 120} \n",
            " 1658.5277066879607\n",
            "LGBM  {'max_depth': 10, 'n_estimators': 80} \n",
            " 1633.1316103305855\n"
          ]
        }
      ],
      "source": [
        "print('RF   ',gs_rf_best_params,'\\n',gs_rf_best_score)\n",
        "print('CB   ',gs_cb_best_params,'\\n',gs_cb_best_score)\n",
        "print('LGBM ',gs_lgbm_best_params,'\\n',gs_lgbm_best_score)"
      ]
    },
    {
      "cell_type": "markdown",
      "metadata": {
        "id": "ioRCFvUCVrfI"
      },
      "source": [
        "Время обучения:\n",
        "\n",
        "    RF   Wall time: 5min 40s\n",
        "    CB   Wall time: 10min 16s\n",
        "    LGBM Wall time: 9min 09s\n",
        "\n",
        "Время предсказаний:\n",
        "\n",
        "    RF   Wall time: 315 ms\n",
        "    CB   Wall time: 99,2 ms\n",
        "    LGBM Wall time: 512 ms"
      ]
    },
    {
      "cell_type": "code",
      "execution_count": null,
      "metadata": {
        "id": "CU9j6AKwVrfJ",
        "outputId": "3a071530-ad7c-48fd-8635-1eed99e977d8"
      },
      "outputs": [
        {
          "data": {
            "text/html": [
              "<div>\n",
              "<style scoped>\n",
              "    .dataframe tbody tr th:only-of-type {\n",
              "        vertical-align: middle;\n",
              "    }\n",
              "\n",
              "    .dataframe tbody tr th {\n",
              "        vertical-align: top;\n",
              "    }\n",
              "\n",
              "    .dataframe thead th {\n",
              "        text-align: right;\n",
              "    }\n",
              "</style>\n",
              "<table border=\"1\" class=\"dataframe\">\n",
              "  <thead>\n",
              "    <tr style=\"text-align: right;\">\n",
              "      <th></th>\n",
              "      <th>best_score</th>\n",
              "      <th>fit_time</th>\n",
              "      <th>predict_time</th>\n",
              "    </tr>\n",
              "  </thead>\n",
              "  <tbody>\n",
              "    <tr>\n",
              "      <th>RandomForestRegressor</th>\n",
              "      <td>1735.0</td>\n",
              "      <td>5min 40s</td>\n",
              "      <td>315 ms</td>\n",
              "    </tr>\n",
              "    <tr>\n",
              "      <th>CatBoostRegressor</th>\n",
              "      <td>1658.5</td>\n",
              "      <td>10min 16s</td>\n",
              "      <td>99,2 ms</td>\n",
              "    </tr>\n",
              "    <tr>\n",
              "      <th>LGBMRegressor</th>\n",
              "      <td>1633.1</td>\n",
              "      <td>9min 09s</td>\n",
              "      <td>512 ms</td>\n",
              "    </tr>\n",
              "  </tbody>\n",
              "</table>\n",
              "</div>"
            ],
            "text/plain": [
              "                       best_score   fit_time predict_time\n",
              "RandomForestRegressor      1735.0   5min 40s       315 ms\n",
              "CatBoostRegressor          1658.5  10min 16s      99,2 ms\n",
              "LGBMRegressor              1633.1   9min 09s       512 ms"
            ]
          },
          "execution_count": 6,
          "metadata": {},
          "output_type": "execute_result"
        }
      ],
      "source": [
        "results = pd.DataFrame(columns=['best_score','fit_time','predict_time'],\n",
        "             index=['RandomForestRegressor','CatBoostRegressor','LGBMRegressor'],\n",
        "             data=[[round(gs_rf_best_score,1),'5min 40s','315 ms'],\n",
        "             [round(gs_cb_best_score,1),'10min 16s','99,2 ms'],\n",
        "             [round(gs_lgbm_best_score,1),'9min 09s','512 ms']])\n",
        "results"
      ]
    },
    {
      "cell_type": "markdown",
      "metadata": {
        "id": "0Enyevu5VrfJ"
      },
      "source": [
        "Лучшее качество у модели LightGBM при худшем времени предсказания. Лучшее время предсказаний у модели CatBoost при худшем времени обучения (на встроенной gridsearch она показывала лучшее время обучения). RandomForest дает лучшее время обучения при худшем показателе качества. На данных критериях при равной их значимости нет однозначно лучшей модели. Но если внимательнее посмотреть на них, то можно заметить, что время предсказаний CatBoost более чем в три раза лучше ближайшего (все остальные критерии дают мЕньший разрыв между значениями моделей), поэтому остановим свой выбор на ней."
      ]
    },
    {
      "cell_type": "markdown",
      "metadata": {
        "id": "Y-TFf-3pVrfK"
      },
      "source": [
        "## Проверка лучшей модели"
      ]
    },
    {
      "cell_type": "markdown",
      "metadata": {
        "id": "w2In87VjVrfK"
      },
      "source": [
        "Опираясь на критерии заказчика (время обучения, время предсказания и качество моделей), при прочих равных условиях выбрали CatBoost как лучшую модель, теперь проверим её качество на тестовой выборке."
      ]
    },
    {
      "cell_type": "code",
      "execution_count": null,
      "metadata": {
        "id": "_KLz31fyVrfK",
        "outputId": "8d077f94-ee00-4398-ad35-5aa71b425d02"
      },
      "outputs": [
        {
          "data": {
            "text/plain": [
              "1634.856294522866"
            ]
          },
          "execution_count": 143,
          "metadata": {},
          "output_type": "execute_result"
        }
      ],
      "source": [
        "rmse_best = RMSE(t_test, tuned_cb.predict(f_test), squared=False)\n",
        "rmse_best"
      ]
    },
    {
      "cell_type": "code",
      "execution_count": null,
      "metadata": {
        "scrolled": true,
        "id": "5R6Q2VtQVrfK",
        "outputId": "4a5ab802-1808-425b-8af7-4ccd4164b812"
      },
      "outputs": [
        {
          "data": {
            "text/plain": [
              "True"
            ]
          },
          "execution_count": 136,
          "metadata": {},
          "output_type": "execute_result"
        }
      ],
      "source": [
        "rmse_best < RMSE_MAX"
      ]
    },
    {
      "cell_type": "markdown",
      "metadata": {
        "id": "n5S62RlvVrfL"
      },
      "source": [
        "Показатель средней квадратичной ошибки лучшей модели не превосходит заданную проектом максимальную ошибку. Модель проходит проверку."
      ]
    },
    {
      "cell_type": "markdown",
      "metadata": {
        "id": "l4fUG3jFVrfL"
      },
      "source": [
        "## Вывод"
      ]
    },
    {
      "cell_type": "markdown",
      "metadata": {
        "id": "OgW4tL61VrfL"
      },
      "source": [
        "В ходе выполнения проекта были проделаны следующие шаги.\n",
        "\n",
        "Первым этапом произвели загрузку и подготовку данных. Данные содержат 16 колонок целочисленного (7) и строкового (9) типов, из которых 1 целевой признак Price и 15 нецелевых; всего в датасете 354369 объектов, имеются пропуски в пяти столбцах. В ходе предварительного анализа и предобработки данных были обработаны явные и неявные дубликаты, пропуски и аномалии; незначимые столбцы удалены из рассмотрения, сильной линейной зависимости между числовыми столбцами не обнаружено; процент удаленных строк 13,58%. Подготовили выборки для обучения моделей: выделен целевой признак и остальные, датасет разбит на обучающую, валидационную и тестовую выборки; подготовили списки численных и категориальных столбцов для кодирования и масштабирования выборок для модели Случайного Леса.\n",
        "\n",
        "Далее приступили к обучению, рассчитывая показатель качества, замеряя время обучения и предсказания моделей; рассмотрели три модели: RandomForest, CatBoost и LightGBM. Произвели анализ результатов: лучшее качество показала модель LightGBM при худшем времени предсказания; лучшее время предсказаний у модели CatBoost при худшем времени обучения; RandomForest дает лучшее время обучения при худшем показателе качества.\n",
        "\n",
        "Третьим шагом выбрали лучшую из трех моделей, опираясь на критерии заказчика, ею оказалась CatBoost, которая прошла проверку на тестовых данных: ее rmse не превысило заданных проектом 2500."
      ]
    }
  ],
  "metadata": {
    "ExecuteTimeLog": [
      {
        "duration": 357,
        "start_time": "2023-05-23T11:34:08.193Z"
      },
      {
        "duration": 3085,
        "start_time": "2023-05-23T11:34:36.645Z"
      },
      {
        "duration": 925,
        "start_time": "2023-05-23T11:34:59.811Z"
      },
      {
        "duration": 960,
        "start_time": "2023-05-23T11:41:33.308Z"
      },
      {
        "duration": 41,
        "start_time": "2023-05-24T09:22:27.877Z"
      },
      {
        "duration": 377,
        "start_time": "2023-05-24T09:22:30.981Z"
      },
      {
        "duration": 3367,
        "start_time": "2023-05-24T09:22:31.360Z"
      },
      {
        "duration": 93,
        "start_time": "2023-05-24T09:22:34.728Z"
      },
      {
        "duration": 504,
        "start_time": "2023-05-24T09:24:47.461Z"
      },
      {
        "duration": 483,
        "start_time": "2023-05-24T09:24:57.864Z"
      },
      {
        "duration": 476,
        "start_time": "2023-05-24T09:25:07.377Z"
      },
      {
        "duration": 1317,
        "start_time": "2023-05-24T09:26:10.068Z"
      },
      {
        "duration": 1029,
        "start_time": "2023-05-24T09:26:16.852Z"
      },
      {
        "duration": 1051,
        "start_time": "2023-05-24T09:27:48.573Z"
      },
      {
        "duration": 1165,
        "start_time": "2023-05-24T09:27:55.311Z"
      },
      {
        "duration": 1354,
        "start_time": "2023-05-24T09:28:04.890Z"
      },
      {
        "duration": 1249,
        "start_time": "2023-05-24T09:28:22.465Z"
      },
      {
        "duration": 1312,
        "start_time": "2023-05-24T09:35:05.085Z"
      },
      {
        "duration": 1282,
        "start_time": "2023-05-24T09:41:26.565Z"
      },
      {
        "duration": 1247,
        "start_time": "2023-05-24T09:41:50.323Z"
      },
      {
        "duration": 69,
        "start_time": "2023-05-24T09:47:55.644Z"
      },
      {
        "duration": 69,
        "start_time": "2023-05-24T09:48:04.069Z"
      },
      {
        "duration": 115,
        "start_time": "2023-05-24T09:48:33.624Z"
      },
      {
        "duration": 70,
        "start_time": "2023-05-24T09:48:49.409Z"
      },
      {
        "duration": 395,
        "start_time": "2023-05-24T09:53:17.023Z"
      },
      {
        "duration": 387,
        "start_time": "2023-05-24T09:54:25.965Z"
      },
      {
        "duration": 452,
        "start_time": "2023-05-24T09:54:36.272Z"
      },
      {
        "duration": 413,
        "start_time": "2023-05-24T09:54:51.620Z"
      },
      {
        "duration": 387,
        "start_time": "2023-05-24T09:55:15.226Z"
      },
      {
        "duration": 1375,
        "start_time": "2023-05-24T09:56:57.177Z"
      },
      {
        "duration": 740,
        "start_time": "2023-05-24T09:59:15.193Z"
      },
      {
        "duration": 6,
        "start_time": "2023-05-24T09:59:23.576Z"
      },
      {
        "duration": 6,
        "start_time": "2023-05-24T09:59:29.383Z"
      },
      {
        "duration": 913,
        "start_time": "2023-05-24T10:02:01.149Z"
      },
      {
        "duration": 1060,
        "start_time": "2023-05-24T10:02:11.864Z"
      },
      {
        "duration": 152,
        "start_time": "2023-05-24T10:05:28.581Z"
      },
      {
        "duration": 53,
        "start_time": "2023-05-24T10:05:57.257Z"
      },
      {
        "duration": 116,
        "start_time": "2023-05-24T10:06:01.465Z"
      },
      {
        "duration": 213,
        "start_time": "2023-05-24T10:17:41.666Z"
      },
      {
        "duration": 94,
        "start_time": "2023-05-24T10:24:25.870Z"
      },
      {
        "duration": 95,
        "start_time": "2023-05-24T10:24:35.149Z"
      },
      {
        "duration": 819,
        "start_time": "2023-05-24T10:25:55.849Z"
      },
      {
        "duration": 64,
        "start_time": "2023-05-24T11:22:34.054Z"
      },
      {
        "duration": 91,
        "start_time": "2023-05-24T11:38:01.462Z"
      },
      {
        "duration": 1379,
        "start_time": "2023-05-24T11:38:31.902Z"
      },
      {
        "duration": 74,
        "start_time": "2023-05-24T11:39:35.265Z"
      },
      {
        "duration": 8,
        "start_time": "2023-05-24T11:46:32.325Z"
      },
      {
        "duration": 5,
        "start_time": "2023-05-24T11:46:42.920Z"
      },
      {
        "duration": 128,
        "start_time": "2023-05-24T11:47:08.305Z"
      },
      {
        "duration": 399,
        "start_time": "2023-05-24T11:47:16.762Z"
      },
      {
        "duration": 372,
        "start_time": "2023-05-24T11:47:31.578Z"
      },
      {
        "duration": 7,
        "start_time": "2023-05-24T11:48:17.051Z"
      },
      {
        "duration": 27,
        "start_time": "2023-05-24T11:48:32.156Z"
      },
      {
        "duration": 26,
        "start_time": "2023-05-24T11:48:38.154Z"
      },
      {
        "duration": 7,
        "start_time": "2023-05-24T11:49:20.860Z"
      },
      {
        "duration": 9,
        "start_time": "2023-05-24T11:49:34.246Z"
      },
      {
        "duration": 7,
        "start_time": "2023-05-24T11:49:49.886Z"
      },
      {
        "duration": 6,
        "start_time": "2023-05-24T11:50:07.597Z"
      },
      {
        "duration": 23,
        "start_time": "2023-05-24T11:50:28.485Z"
      },
      {
        "duration": 19,
        "start_time": "2023-05-24T11:50:56.573Z"
      },
      {
        "duration": 14,
        "start_time": "2023-05-24T11:53:33.690Z"
      },
      {
        "duration": 10,
        "start_time": "2023-05-24T11:53:39.561Z"
      },
      {
        "duration": 75,
        "start_time": "2023-05-24T11:54:00.482Z"
      },
      {
        "duration": 12,
        "start_time": "2023-05-24T11:54:06.985Z"
      },
      {
        "duration": 12,
        "start_time": "2023-05-24T11:54:46.709Z"
      },
      {
        "duration": 22,
        "start_time": "2023-05-24T11:54:58.356Z"
      },
      {
        "duration": 20,
        "start_time": "2023-05-24T11:56:14.806Z"
      },
      {
        "duration": 11,
        "start_time": "2023-05-24T11:56:26.758Z"
      },
      {
        "duration": 19,
        "start_time": "2023-05-24T11:56:35.307Z"
      },
      {
        "duration": 25,
        "start_time": "2023-05-24T11:57:43.320Z"
      },
      {
        "duration": 24,
        "start_time": "2023-05-24T11:57:57.782Z"
      },
      {
        "duration": 51,
        "start_time": "2023-05-24T11:58:17.245Z"
      },
      {
        "duration": 36,
        "start_time": "2023-05-24T11:58:34.020Z"
      },
      {
        "duration": 51,
        "start_time": "2023-05-24T11:58:53.360Z"
      },
      {
        "duration": 41,
        "start_time": "2023-05-24T12:00:19.629Z"
      },
      {
        "duration": 36,
        "start_time": "2023-05-24T12:02:55.156Z"
      },
      {
        "duration": 3,
        "start_time": "2023-05-24T12:03:07.368Z"
      },
      {
        "duration": 794,
        "start_time": "2023-05-24T12:03:07.376Z"
      },
      {
        "duration": 1216,
        "start_time": "2023-05-24T12:03:08.172Z"
      },
      {
        "duration": 103,
        "start_time": "2023-05-24T12:03:09.390Z"
      },
      {
        "duration": 103,
        "start_time": "2023-05-24T12:03:09.507Z"
      },
      {
        "duration": 233,
        "start_time": "2023-05-24T12:03:09.612Z"
      },
      {
        "duration": 74,
        "start_time": "2023-05-24T12:03:09.847Z"
      },
      {
        "duration": 160,
        "start_time": "2023-05-24T12:03:09.922Z"
      },
      {
        "duration": 2420,
        "start_time": "2023-05-24T12:03:10.083Z"
      },
      {
        "duration": 60,
        "start_time": "2023-05-24T12:03:12.508Z"
      },
      {
        "duration": 3,
        "start_time": "2023-05-24T12:05:00.899Z"
      },
      {
        "duration": 821,
        "start_time": "2023-05-24T12:05:00.904Z"
      },
      {
        "duration": 1209,
        "start_time": "2023-05-24T12:05:01.727Z"
      },
      {
        "duration": 270,
        "start_time": "2023-05-24T12:05:02.938Z"
      },
      {
        "duration": 132,
        "start_time": "2023-05-24T12:05:03.210Z"
      },
      {
        "duration": 475,
        "start_time": "2023-05-24T12:05:03.343Z"
      },
      {
        "duration": 2593,
        "start_time": "2023-05-24T12:05:03.819Z"
      },
      {
        "duration": 72,
        "start_time": "2023-05-24T12:05:06.414Z"
      },
      {
        "duration": 76,
        "start_time": "2023-05-24T12:05:06.488Z"
      },
      {
        "duration": 107,
        "start_time": "2023-05-24T12:05:06.566Z"
      },
      {
        "duration": 700,
        "start_time": "2023-05-24T12:07:53.005Z"
      },
      {
        "duration": 3,
        "start_time": "2023-05-24T12:08:02.019Z"
      },
      {
        "duration": 916,
        "start_time": "2023-05-24T12:08:02.024Z"
      },
      {
        "duration": 1787,
        "start_time": "2023-05-24T12:08:02.942Z"
      },
      {
        "duration": 200,
        "start_time": "2023-05-24T12:08:04.730Z"
      },
      {
        "duration": 177,
        "start_time": "2023-05-24T12:08:04.932Z"
      },
      {
        "duration": 345,
        "start_time": "2023-05-24T12:08:05.110Z"
      },
      {
        "duration": 3040,
        "start_time": "2023-05-24T12:08:05.456Z"
      },
      {
        "duration": 76,
        "start_time": "2023-05-24T12:08:08.498Z"
      },
      {
        "duration": 112,
        "start_time": "2023-05-24T12:08:08.576Z"
      },
      {
        "duration": 77,
        "start_time": "2023-05-24T12:08:08.690Z"
      },
      {
        "duration": 101,
        "start_time": "2023-05-24T12:08:08.769Z"
      },
      {
        "duration": 2,
        "start_time": "2023-05-24T12:09:35.654Z"
      },
      {
        "duration": 838,
        "start_time": "2023-05-24T12:09:35.658Z"
      },
      {
        "duration": 1261,
        "start_time": "2023-05-24T12:09:36.498Z"
      },
      {
        "duration": 105,
        "start_time": "2023-05-24T12:09:37.761Z"
      },
      {
        "duration": 86,
        "start_time": "2023-05-24T12:09:37.868Z"
      },
      {
        "duration": 249,
        "start_time": "2023-05-24T12:09:37.955Z"
      },
      {
        "duration": 2105,
        "start_time": "2023-05-24T12:09:38.205Z"
      },
      {
        "duration": 76,
        "start_time": "2023-05-24T12:09:40.311Z"
      },
      {
        "duration": 86,
        "start_time": "2023-05-24T12:09:47.289Z"
      },
      {
        "duration": 122,
        "start_time": "2023-05-24T12:10:01.872Z"
      },
      {
        "duration": 2,
        "start_time": "2023-05-24T12:11:33.584Z"
      },
      {
        "duration": 3,
        "start_time": "2023-05-24T12:11:46.656Z"
      },
      {
        "duration": 21,
        "start_time": "2023-05-24T12:12:36.010Z"
      },
      {
        "duration": 70,
        "start_time": "2023-05-24T12:12:44.757Z"
      },
      {
        "duration": 61,
        "start_time": "2023-05-24T12:13:04.198Z"
      },
      {
        "duration": 90,
        "start_time": "2023-05-24T12:15:28.196Z"
      },
      {
        "duration": 3,
        "start_time": "2023-05-24T12:16:18.097Z"
      },
      {
        "duration": 5,
        "start_time": "2023-05-24T12:16:54.888Z"
      },
      {
        "duration": 7,
        "start_time": "2023-05-24T12:17:07.776Z"
      },
      {
        "duration": 169,
        "start_time": "2023-05-24T12:17:42.063Z"
      },
      {
        "duration": 357,
        "start_time": "2023-05-24T12:17:50.307Z"
      },
      {
        "duration": 268,
        "start_time": "2023-05-24T12:17:57.150Z"
      },
      {
        "duration": 471,
        "start_time": "2023-05-24T12:18:04.011Z"
      },
      {
        "duration": 283,
        "start_time": "2023-05-24T12:18:10.375Z"
      },
      {
        "duration": 359,
        "start_time": "2023-05-24T12:18:22.405Z"
      },
      {
        "duration": 353,
        "start_time": "2023-05-24T12:18:30.670Z"
      },
      {
        "duration": 44,
        "start_time": "2023-05-25T13:56:12.923Z"
      },
      {
        "duration": 408,
        "start_time": "2023-05-25T13:56:24.254Z"
      },
      {
        "duration": 1312,
        "start_time": "2023-05-25T13:56:24.664Z"
      },
      {
        "duration": 2322,
        "start_time": "2023-05-25T13:56:25.977Z"
      },
      {
        "duration": 130,
        "start_time": "2023-05-25T13:56:28.301Z"
      },
      {
        "duration": 102,
        "start_time": "2023-05-25T13:56:28.433Z"
      },
      {
        "duration": 309,
        "start_time": "2023-05-25T13:56:28.537Z"
      },
      {
        "duration": 2503,
        "start_time": "2023-05-25T13:56:28.847Z"
      },
      {
        "duration": 551,
        "start_time": "2023-05-25T13:56:31.352Z"
      },
      {
        "duration": 3,
        "start_time": "2023-05-25T13:56:31.905Z"
      },
      {
        "duration": 39,
        "start_time": "2023-05-25T13:56:31.910Z"
      },
      {
        "duration": 400,
        "start_time": "2023-05-25T13:57:03.795Z"
      },
      {
        "duration": 73,
        "start_time": "2023-05-25T13:57:22.778Z"
      },
      {
        "duration": 5,
        "start_time": "2023-05-25T13:57:27.640Z"
      },
      {
        "duration": 73,
        "start_time": "2023-05-25T13:59:14.578Z"
      },
      {
        "duration": 2,
        "start_time": "2023-05-25T13:59:18.892Z"
      },
      {
        "duration": 835,
        "start_time": "2023-05-25T13:59:18.896Z"
      },
      {
        "duration": 1251,
        "start_time": "2023-05-25T13:59:19.732Z"
      },
      {
        "duration": 122,
        "start_time": "2023-05-25T13:59:20.985Z"
      },
      {
        "duration": 95,
        "start_time": "2023-05-25T13:59:21.108Z"
      },
      {
        "duration": 267,
        "start_time": "2023-05-25T13:59:21.204Z"
      },
      {
        "duration": 1990,
        "start_time": "2023-05-25T13:59:21.472Z"
      },
      {
        "duration": 105,
        "start_time": "2023-05-25T13:59:23.464Z"
      },
      {
        "duration": 4,
        "start_time": "2023-05-25T14:00:08.074Z"
      },
      {
        "duration": 199,
        "start_time": "2023-05-25T14:00:16.174Z"
      },
      {
        "duration": 194,
        "start_time": "2023-05-25T14:00:24.828Z"
      },
      {
        "duration": 201,
        "start_time": "2023-05-25T14:00:33.844Z"
      },
      {
        "duration": 2,
        "start_time": "2023-05-25T14:04:52.025Z"
      },
      {
        "duration": 622,
        "start_time": "2023-05-25T14:05:01.743Z"
      },
      {
        "duration": 208,
        "start_time": "2023-05-25T14:05:29.386Z"
      },
      {
        "duration": 152,
        "start_time": "2023-05-25T14:05:36.246Z"
      },
      {
        "duration": 458,
        "start_time": "2023-05-25T14:05:53.985Z"
      },
      {
        "duration": 415,
        "start_time": "2023-05-25T14:05:59.221Z"
      },
      {
        "duration": 343,
        "start_time": "2023-05-25T14:06:04.938Z"
      },
      {
        "duration": 3,
        "start_time": "2023-05-25T14:06:27.255Z"
      },
      {
        "duration": 893,
        "start_time": "2023-05-25T14:06:27.260Z"
      },
      {
        "duration": 1313,
        "start_time": "2023-05-25T14:06:28.154Z"
      },
      {
        "duration": 146,
        "start_time": "2023-05-25T14:06:29.469Z"
      },
      {
        "duration": 108,
        "start_time": "2023-05-25T14:06:29.617Z"
      },
      {
        "duration": 320,
        "start_time": "2023-05-25T14:06:29.727Z"
      },
      {
        "duration": 2272,
        "start_time": "2023-05-25T14:06:30.048Z"
      },
      {
        "duration": 3,
        "start_time": "2023-05-25T14:06:32.322Z"
      },
      {
        "duration": 878,
        "start_time": "2023-05-25T14:06:32.328Z"
      },
      {
        "duration": 60,
        "start_time": "2023-05-25T14:06:33.207Z"
      },
      {
        "duration": 114,
        "start_time": "2023-05-25T14:06:33.268Z"
      },
      {
        "duration": 211,
        "start_time": "2023-05-25T14:06:33.383Z"
      },
      {
        "duration": 1284,
        "start_time": "2023-05-25T14:07:03.120Z"
      },
      {
        "duration": 2,
        "start_time": "2023-05-25T14:07:07.668Z"
      },
      {
        "duration": 813,
        "start_time": "2023-05-25T14:07:07.675Z"
      },
      {
        "duration": 1673,
        "start_time": "2023-05-25T14:07:08.490Z"
      },
      {
        "duration": 228,
        "start_time": "2023-05-25T14:07:10.165Z"
      },
      {
        "duration": 179,
        "start_time": "2023-05-25T14:07:10.394Z"
      },
      {
        "duration": 475,
        "start_time": "2023-05-25T14:07:10.575Z"
      },
      {
        "duration": 2085,
        "start_time": "2023-05-25T14:07:11.052Z"
      },
      {
        "duration": 3,
        "start_time": "2023-05-25T14:07:13.139Z"
      },
      {
        "duration": 413,
        "start_time": "2023-05-25T14:07:13.143Z"
      },
      {
        "duration": 7,
        "start_time": "2023-05-25T14:07:13.557Z"
      },
      {
        "duration": 67,
        "start_time": "2023-05-25T14:07:13.566Z"
      },
      {
        "duration": 113,
        "start_time": "2023-05-25T14:07:13.634Z"
      },
      {
        "duration": 1261,
        "start_time": "2023-05-25T14:08:35.883Z"
      },
      {
        "duration": 3,
        "start_time": "2023-05-25T14:08:41.679Z"
      },
      {
        "duration": 812,
        "start_time": "2023-05-25T14:08:41.684Z"
      },
      {
        "duration": 1870,
        "start_time": "2023-05-25T14:08:42.498Z"
      },
      {
        "duration": 232,
        "start_time": "2023-05-25T14:08:44.369Z"
      },
      {
        "duration": 185,
        "start_time": "2023-05-25T14:08:44.603Z"
      },
      {
        "duration": 305,
        "start_time": "2023-05-25T14:08:44.789Z"
      },
      {
        "duration": 2225,
        "start_time": "2023-05-25T14:08:45.096Z"
      },
      {
        "duration": 2,
        "start_time": "2023-05-25T14:08:47.323Z"
      },
      {
        "duration": 384,
        "start_time": "2023-05-25T14:08:47.327Z"
      },
      {
        "duration": 6,
        "start_time": "2023-05-25T14:08:47.713Z"
      },
      {
        "duration": 72,
        "start_time": "2023-05-25T14:08:47.721Z"
      },
      {
        "duration": 113,
        "start_time": "2023-05-25T14:08:47.794Z"
      },
      {
        "duration": 10,
        "start_time": "2023-05-25T14:09:04.144Z"
      },
      {
        "duration": 88,
        "start_time": "2023-05-25T14:13:09.809Z"
      },
      {
        "duration": 45,
        "start_time": "2023-05-25T14:13:16.122Z"
      },
      {
        "duration": 37,
        "start_time": "2023-05-25T14:14:08.609Z"
      },
      {
        "duration": 29,
        "start_time": "2023-05-25T14:15:04.786Z"
      },
      {
        "duration": 36,
        "start_time": "2023-05-25T14:15:12.022Z"
      },
      {
        "duration": 30,
        "start_time": "2023-05-25T14:18:47.417Z"
      },
      {
        "duration": 4,
        "start_time": "2023-05-25T14:19:37.177Z"
      },
      {
        "duration": 14,
        "start_time": "2023-05-25T14:19:41.024Z"
      },
      {
        "duration": 17,
        "start_time": "2023-05-25T14:19:54.927Z"
      },
      {
        "duration": 17,
        "start_time": "2023-05-25T14:20:33.558Z"
      },
      {
        "duration": 21,
        "start_time": "2023-05-25T14:22:01.694Z"
      },
      {
        "duration": 21,
        "start_time": "2023-05-25T14:22:08.825Z"
      },
      {
        "duration": 225,
        "start_time": "2023-05-25T14:22:17.508Z"
      },
      {
        "duration": 23,
        "start_time": "2023-05-25T14:22:22.341Z"
      },
      {
        "duration": 228,
        "start_time": "2023-05-25T14:23:22.987Z"
      },
      {
        "duration": 26,
        "start_time": "2023-05-25T14:23:28.792Z"
      },
      {
        "duration": 226,
        "start_time": "2023-05-25T14:27:37.205Z"
      },
      {
        "duration": 228,
        "start_time": "2023-05-25T14:27:51.721Z"
      },
      {
        "duration": 481,
        "start_time": "2023-05-25T14:28:24.816Z"
      },
      {
        "duration": 282,
        "start_time": "2023-05-25T14:28:31.455Z"
      },
      {
        "duration": 244,
        "start_time": "2023-05-25T14:29:42.879Z"
      },
      {
        "duration": 2,
        "start_time": "2023-05-25T14:29:49.994Z"
      },
      {
        "duration": 881,
        "start_time": "2023-05-25T14:29:49.998Z"
      },
      {
        "duration": 2396,
        "start_time": "2023-05-25T14:29:50.880Z"
      },
      {
        "duration": 140,
        "start_time": "2023-05-25T14:29:53.277Z"
      },
      {
        "duration": 95,
        "start_time": "2023-05-25T14:29:53.419Z"
      },
      {
        "duration": 316,
        "start_time": "2023-05-25T14:29:53.515Z"
      },
      {
        "duration": 2109,
        "start_time": "2023-05-25T14:29:53.832Z"
      },
      {
        "duration": 2,
        "start_time": "2023-05-25T14:29:55.942Z"
      },
      {
        "duration": 470,
        "start_time": "2023-05-25T14:29:55.946Z"
      },
      {
        "duration": 519,
        "start_time": "2023-05-25T14:29:56.418Z"
      },
      {
        "duration": 61,
        "start_time": "2023-05-25T14:29:56.939Z"
      },
      {
        "duration": 109,
        "start_time": "2023-05-25T14:29:57.001Z"
      },
      {
        "duration": 270,
        "start_time": "2023-05-25T14:30:32.832Z"
      },
      {
        "duration": 21,
        "start_time": "2023-05-25T14:32:42.926Z"
      },
      {
        "duration": 495,
        "start_time": "2023-05-25T14:33:05.044Z"
      },
      {
        "duration": 3,
        "start_time": "2023-05-25T14:33:43.383Z"
      },
      {
        "duration": 863,
        "start_time": "2023-05-25T14:33:43.388Z"
      },
      {
        "duration": 1367,
        "start_time": "2023-05-25T14:33:44.252Z"
      },
      {
        "duration": 151,
        "start_time": "2023-05-25T14:33:45.622Z"
      },
      {
        "duration": 101,
        "start_time": "2023-05-25T14:33:45.775Z"
      },
      {
        "duration": 315,
        "start_time": "2023-05-25T14:33:45.877Z"
      },
      {
        "duration": 2311,
        "start_time": "2023-05-25T14:33:46.193Z"
      },
      {
        "duration": 3,
        "start_time": "2023-05-25T14:33:48.506Z"
      },
      {
        "duration": 613,
        "start_time": "2023-05-25T14:33:48.510Z"
      },
      {
        "duration": 2,
        "start_time": "2023-05-25T14:42:07.707Z"
      },
      {
        "duration": 80,
        "start_time": "2023-05-25T14:42:55.560Z"
      },
      {
        "duration": 2,
        "start_time": "2023-05-25T14:43:07.724Z"
      },
      {
        "duration": 880,
        "start_time": "2023-05-25T14:43:07.728Z"
      },
      {
        "duration": 1266,
        "start_time": "2023-05-25T14:43:08.610Z"
      },
      {
        "duration": 139,
        "start_time": "2023-05-25T14:43:09.877Z"
      },
      {
        "duration": 99,
        "start_time": "2023-05-25T14:43:10.018Z"
      },
      {
        "duration": 296,
        "start_time": "2023-05-25T14:43:10.119Z"
      },
      {
        "duration": 2112,
        "start_time": "2023-05-25T14:43:10.417Z"
      },
      {
        "duration": 97,
        "start_time": "2023-05-25T14:43:16.046Z"
      },
      {
        "duration": 96,
        "start_time": "2023-05-25T14:43:57.991Z"
      },
      {
        "duration": 97,
        "start_time": "2023-05-25T14:48:09.947Z"
      },
      {
        "duration": 99,
        "start_time": "2023-05-25T14:48:57.876Z"
      },
      {
        "duration": 179,
        "start_time": "2023-05-25T14:50:08.702Z"
      },
      {
        "duration": 397,
        "start_time": "2023-05-25T14:53:27.377Z"
      },
      {
        "duration": 585,
        "start_time": "2023-05-25T14:53:37.748Z"
      },
      {
        "duration": 467,
        "start_time": "2023-05-25T14:54:13.082Z"
      },
      {
        "duration": 1163,
        "start_time": "2023-05-25T14:57:20.984Z"
      },
      {
        "duration": 642,
        "start_time": "2023-05-25T14:57:36.207Z"
      },
      {
        "duration": 616,
        "start_time": "2023-05-25T14:57:55.262Z"
      },
      {
        "duration": 181,
        "start_time": "2023-05-25T14:58:08.972Z"
      },
      {
        "duration": 638,
        "start_time": "2023-05-25T14:59:34.730Z"
      },
      {
        "duration": 395,
        "start_time": "2023-05-25T15:00:19.614Z"
      },
      {
        "duration": 249,
        "start_time": "2023-05-25T15:01:46.276Z"
      },
      {
        "duration": 3,
        "start_time": "2023-05-25T15:02:42.708Z"
      },
      {
        "duration": 943,
        "start_time": "2023-05-25T15:02:42.713Z"
      },
      {
        "duration": 1454,
        "start_time": "2023-05-25T15:02:43.662Z"
      },
      {
        "duration": 181,
        "start_time": "2023-05-25T15:02:45.118Z"
      },
      {
        "duration": 210,
        "start_time": "2023-05-25T15:02:45.301Z"
      },
      {
        "duration": 762,
        "start_time": "2023-05-25T15:02:45.512Z"
      },
      {
        "duration": 2924,
        "start_time": "2023-05-25T15:02:46.282Z"
      },
      {
        "duration": 309,
        "start_time": "2023-05-25T15:02:49.207Z"
      },
      {
        "duration": 220,
        "start_time": "2023-05-25T15:04:51.412Z"
      },
      {
        "duration": 304,
        "start_time": "2023-05-25T15:05:02.747Z"
      },
      {
        "duration": 297,
        "start_time": "2023-05-25T15:05:08.100Z"
      },
      {
        "duration": 294,
        "start_time": "2023-05-25T15:05:14.008Z"
      },
      {
        "duration": 197,
        "start_time": "2023-05-25T15:05:49.168Z"
      },
      {
        "duration": 666,
        "start_time": "2023-05-25T15:06:00.121Z"
      },
      {
        "duration": 322,
        "start_time": "2023-05-25T15:07:30.824Z"
      },
      {
        "duration": 171,
        "start_time": "2023-05-25T15:09:06.578Z"
      },
      {
        "duration": 2,
        "start_time": "2023-05-25T15:09:39.048Z"
      },
      {
        "duration": 932,
        "start_time": "2023-05-25T15:09:39.056Z"
      },
      {
        "duration": 1464,
        "start_time": "2023-05-25T15:09:39.990Z"
      },
      {
        "duration": 149,
        "start_time": "2023-05-25T15:09:41.466Z"
      },
      {
        "duration": 94,
        "start_time": "2023-05-25T15:09:41.617Z"
      },
      {
        "duration": 368,
        "start_time": "2023-05-25T15:09:41.713Z"
      },
      {
        "duration": 3202,
        "start_time": "2023-05-25T15:09:42.082Z"
      },
      {
        "duration": 195,
        "start_time": "2023-05-25T15:09:45.286Z"
      },
      {
        "duration": 368,
        "start_time": "2023-05-25T15:09:45.483Z"
      },
      {
        "duration": 550,
        "start_time": "2023-05-25T15:09:45.852Z"
      },
      {
        "duration": 0,
        "start_time": "2023-05-25T15:09:46.403Z"
      },
      {
        "duration": 0,
        "start_time": "2023-05-25T15:09:46.404Z"
      },
      {
        "duration": 470,
        "start_time": "2023-05-25T15:10:24.257Z"
      },
      {
        "duration": 275,
        "start_time": "2023-05-25T15:10:39.181Z"
      },
      {
        "duration": 3,
        "start_time": "2023-05-25T15:10:52.681Z"
      },
      {
        "duration": 957,
        "start_time": "2023-05-25T15:10:52.688Z"
      },
      {
        "duration": 1484,
        "start_time": "2023-05-25T15:10:53.646Z"
      },
      {
        "duration": 161,
        "start_time": "2023-05-25T15:10:55.132Z"
      },
      {
        "duration": 94,
        "start_time": "2023-05-25T15:10:55.295Z"
      },
      {
        "duration": 326,
        "start_time": "2023-05-25T15:10:55.391Z"
      },
      {
        "duration": 3379,
        "start_time": "2023-05-25T15:10:55.718Z"
      },
      {
        "duration": 182,
        "start_time": "2023-05-25T15:10:59.098Z"
      },
      {
        "duration": 367,
        "start_time": "2023-05-25T15:10:59.281Z"
      },
      {
        "duration": 637,
        "start_time": "2023-05-25T15:10:59.649Z"
      },
      {
        "duration": 0,
        "start_time": "2023-05-25T15:11:00.287Z"
      },
      {
        "duration": 0,
        "start_time": "2023-05-25T15:11:00.292Z"
      },
      {
        "duration": 423,
        "start_time": "2023-05-25T15:11:38.584Z"
      },
      {
        "duration": 2,
        "start_time": "2023-05-25T15:12:28.886Z"
      },
      {
        "duration": 957,
        "start_time": "2023-05-25T15:12:28.890Z"
      },
      {
        "duration": 1485,
        "start_time": "2023-05-25T15:12:29.849Z"
      },
      {
        "duration": 162,
        "start_time": "2023-05-25T15:12:31.336Z"
      },
      {
        "duration": 133,
        "start_time": "2023-05-25T15:12:31.501Z"
      },
      {
        "duration": 560,
        "start_time": "2023-05-25T15:12:31.636Z"
      },
      {
        "duration": 3136,
        "start_time": "2023-05-25T15:12:32.197Z"
      },
      {
        "duration": 192,
        "start_time": "2023-05-25T15:12:35.335Z"
      },
      {
        "duration": 369,
        "start_time": "2023-05-25T15:12:35.528Z"
      },
      {
        "duration": 0,
        "start_time": "2023-05-25T15:12:35.899Z"
      },
      {
        "duration": 0,
        "start_time": "2023-05-25T15:12:35.900Z"
      },
      {
        "duration": 0,
        "start_time": "2023-05-25T15:12:35.901Z"
      },
      {
        "duration": 697,
        "start_time": "2023-05-25T15:13:11.277Z"
      },
      {
        "duration": 416,
        "start_time": "2023-05-25T15:13:17.523Z"
      },
      {
        "duration": 240,
        "start_time": "2023-05-25T15:15:01.647Z"
      },
      {
        "duration": 3,
        "start_time": "2023-05-25T15:15:25.270Z"
      },
      {
        "duration": 969,
        "start_time": "2023-05-25T15:15:25.275Z"
      },
      {
        "duration": 2649,
        "start_time": "2023-05-25T15:15:26.246Z"
      },
      {
        "duration": 375,
        "start_time": "2023-05-25T15:15:28.896Z"
      },
      {
        "duration": 207,
        "start_time": "2023-05-25T15:15:29.274Z"
      },
      {
        "duration": 717,
        "start_time": "2023-05-25T15:15:29.483Z"
      },
      {
        "duration": 2677,
        "start_time": "2023-05-25T15:15:30.202Z"
      },
      {
        "duration": 229,
        "start_time": "2023-05-25T15:15:32.880Z"
      },
      {
        "duration": 405,
        "start_time": "2023-05-25T15:15:33.111Z"
      },
      {
        "duration": 527,
        "start_time": "2023-05-25T15:15:33.517Z"
      },
      {
        "duration": 0,
        "start_time": "2023-05-25T15:15:34.046Z"
      },
      {
        "duration": 0,
        "start_time": "2023-05-25T15:15:34.047Z"
      },
      {
        "duration": 400,
        "start_time": "2023-05-25T15:18:37.134Z"
      },
      {
        "duration": 2,
        "start_time": "2023-05-25T15:18:49.033Z"
      },
      {
        "duration": 939,
        "start_time": "2023-05-25T15:18:49.037Z"
      },
      {
        "duration": 2401,
        "start_time": "2023-05-25T15:18:49.978Z"
      },
      {
        "duration": 160,
        "start_time": "2023-05-25T15:18:52.381Z"
      },
      {
        "duration": 104,
        "start_time": "2023-05-25T15:18:52.543Z"
      },
      {
        "duration": 344,
        "start_time": "2023-05-25T15:18:52.648Z"
      },
      {
        "duration": 2361,
        "start_time": "2023-05-25T15:18:52.993Z"
      },
      {
        "duration": 233,
        "start_time": "2023-05-25T15:18:55.355Z"
      },
      {
        "duration": 399,
        "start_time": "2023-05-25T15:18:55.590Z"
      },
      {
        "duration": 39,
        "start_time": "2023-05-25T15:18:55.990Z"
      },
      {
        "duration": 2,
        "start_time": "2023-05-25T15:18:56.031Z"
      },
      {
        "duration": 7,
        "start_time": "2023-05-25T15:18:56.034Z"
      },
      {
        "duration": 262,
        "start_time": "2023-05-25T15:19:20.487Z"
      },
      {
        "duration": 273,
        "start_time": "2023-05-25T15:19:42.003Z"
      },
      {
        "duration": 311,
        "start_time": "2023-05-25T15:20:28.539Z"
      },
      {
        "duration": 283,
        "start_time": "2023-05-25T15:21:07.176Z"
      },
      {
        "duration": 628,
        "start_time": "2023-05-25T15:21:32.227Z"
      },
      {
        "duration": 302,
        "start_time": "2023-05-25T15:23:57.291Z"
      },
      {
        "duration": 138,
        "start_time": "2023-05-25T15:24:19.185Z"
      },
      {
        "duration": 289,
        "start_time": "2023-05-25T15:24:23.868Z"
      },
      {
        "duration": 290,
        "start_time": "2023-05-25T15:24:44.651Z"
      },
      {
        "duration": 356,
        "start_time": "2023-05-25T15:24:49.409Z"
      },
      {
        "duration": 458,
        "start_time": "2023-05-25T15:25:11.588Z"
      },
      {
        "duration": 370,
        "start_time": "2023-05-25T15:26:05.251Z"
      },
      {
        "duration": 381,
        "start_time": "2023-05-25T15:26:22.131Z"
      },
      {
        "duration": 701,
        "start_time": "2023-05-25T15:29:51.702Z"
      },
      {
        "duration": 3,
        "start_time": "2023-05-25T15:36:35.788Z"
      },
      {
        "duration": 928,
        "start_time": "2023-05-25T15:36:35.795Z"
      },
      {
        "duration": 1374,
        "start_time": "2023-05-25T15:36:36.724Z"
      },
      {
        "duration": 138,
        "start_time": "2023-05-25T15:36:38.100Z"
      },
      {
        "duration": 89,
        "start_time": "2023-05-25T15:36:38.239Z"
      },
      {
        "duration": 320,
        "start_time": "2023-05-25T15:36:38.330Z"
      },
      {
        "duration": 1916,
        "start_time": "2023-05-25T15:36:38.652Z"
      },
      {
        "duration": 218,
        "start_time": "2023-05-25T15:36:40.571Z"
      },
      {
        "duration": 780,
        "start_time": "2023-05-25T15:36:40.791Z"
      },
      {
        "duration": 425,
        "start_time": "2023-05-25T15:36:41.572Z"
      },
      {
        "duration": 2,
        "start_time": "2023-05-25T15:36:41.999Z"
      },
      {
        "duration": 21,
        "start_time": "2023-05-25T15:36:42.002Z"
      },
      {
        "duration": 42,
        "start_time": "2023-05-26T07:01:56.373Z"
      },
      {
        "duration": 330,
        "start_time": "2023-05-26T07:01:59.756Z"
      },
      {
        "duration": 2886,
        "start_time": "2023-05-26T07:02:00.088Z"
      },
      {
        "duration": 1339,
        "start_time": "2023-05-26T07:02:02.976Z"
      },
      {
        "duration": 100,
        "start_time": "2023-05-26T07:02:04.318Z"
      },
      {
        "duration": 87,
        "start_time": "2023-05-26T07:02:04.420Z"
      },
      {
        "duration": 265,
        "start_time": "2023-05-26T07:02:04.509Z"
      },
      {
        "duration": 2296,
        "start_time": "2023-05-26T07:02:04.776Z"
      },
      {
        "duration": 207,
        "start_time": "2023-05-26T07:02:07.074Z"
      },
      {
        "duration": 518,
        "start_time": "2023-05-26T07:02:07.282Z"
      },
      {
        "duration": 362,
        "start_time": "2023-05-26T07:02:07.802Z"
      },
      {
        "duration": 328,
        "start_time": "2023-05-26T07:02:08.166Z"
      },
      {
        "duration": 3,
        "start_time": "2023-05-26T07:02:08.496Z"
      },
      {
        "duration": 2,
        "start_time": "2023-05-26T07:02:08.506Z"
      },
      {
        "duration": 406,
        "start_time": "2023-05-26T07:02:38.885Z"
      },
      {
        "duration": 18325,
        "start_time": "2023-05-26T07:06:56.027Z"
      },
      {
        "duration": 2,
        "start_time": "2023-05-26T07:07:28.056Z"
      },
      {
        "duration": 818,
        "start_time": "2023-05-26T07:07:28.060Z"
      },
      {
        "duration": 1152,
        "start_time": "2023-05-26T07:07:28.879Z"
      },
      {
        "duration": 103,
        "start_time": "2023-05-26T07:07:30.033Z"
      },
      {
        "duration": 106,
        "start_time": "2023-05-26T07:07:30.138Z"
      },
      {
        "duration": 224,
        "start_time": "2023-05-26T07:07:30.246Z"
      },
      {
        "duration": 1956,
        "start_time": "2023-05-26T07:07:30.472Z"
      },
      {
        "duration": 42875,
        "start_time": "2023-05-26T07:07:32.430Z"
      },
      {
        "duration": 209,
        "start_time": "2023-05-26T07:08:15.306Z"
      },
      {
        "duration": 597,
        "start_time": "2023-05-26T07:08:15.516Z"
      },
      {
        "duration": 356,
        "start_time": "2023-05-26T07:08:16.115Z"
      },
      {
        "duration": 347,
        "start_time": "2023-05-26T07:08:16.472Z"
      },
      {
        "duration": 2,
        "start_time": "2023-05-26T07:08:16.821Z"
      },
      {
        "duration": 5,
        "start_time": "2023-05-26T07:08:16.825Z"
      },
      {
        "duration": 36375,
        "start_time": "2023-05-26T07:08:57.051Z"
      },
      {
        "duration": 359,
        "start_time": "2023-05-26T07:14:17.783Z"
      },
      {
        "duration": 224,
        "start_time": "2023-05-26T07:14:33.649Z"
      },
      {
        "duration": 172,
        "start_time": "2023-05-26T07:14:39.288Z"
      },
      {
        "duration": 188,
        "start_time": "2023-05-26T07:14:44.698Z"
      },
      {
        "duration": 176,
        "start_time": "2023-05-26T07:15:48.562Z"
      },
      {
        "duration": 3,
        "start_time": "2023-05-26T07:17:16.266Z"
      },
      {
        "duration": 806,
        "start_time": "2023-05-26T07:17:16.282Z"
      },
      {
        "duration": 1250,
        "start_time": "2023-05-26T07:17:17.090Z"
      },
      {
        "duration": 110,
        "start_time": "2023-05-26T07:17:18.342Z"
      },
      {
        "duration": 81,
        "start_time": "2023-05-26T07:17:18.453Z"
      },
      {
        "duration": 256,
        "start_time": "2023-05-26T07:17:18.537Z"
      },
      {
        "duration": 2095,
        "start_time": "2023-05-26T07:17:18.795Z"
      },
      {
        "duration": 43845,
        "start_time": "2023-05-26T07:17:20.892Z"
      },
      {
        "duration": 208,
        "start_time": "2023-05-26T07:18:04.739Z"
      },
      {
        "duration": 469,
        "start_time": "2023-05-26T07:18:04.949Z"
      },
      {
        "duration": 366,
        "start_time": "2023-05-26T07:18:05.420Z"
      },
      {
        "duration": 177,
        "start_time": "2023-05-26T07:18:05.788Z"
      },
      {
        "duration": 2,
        "start_time": "2023-05-26T07:18:05.967Z"
      },
      {
        "duration": 21,
        "start_time": "2023-05-26T07:18:05.970Z"
      },
      {
        "duration": 4,
        "start_time": "2023-05-26T07:20:08.734Z"
      },
      {
        "duration": 2,
        "start_time": "2023-05-26T07:20:28.830Z"
      },
      {
        "duration": 4,
        "start_time": "2023-05-26T07:36:01.576Z"
      },
      {
        "duration": 4,
        "start_time": "2023-05-26T07:36:10.565Z"
      },
      {
        "duration": 5,
        "start_time": "2023-05-26T07:36:27.582Z"
      },
      {
        "duration": 7322,
        "start_time": "2023-05-26T07:53:58.472Z"
      },
      {
        "duration": 2,
        "start_time": "2023-05-26T07:54:05.854Z"
      },
      {
        "duration": 741,
        "start_time": "2023-05-26T07:54:05.871Z"
      },
      {
        "duration": 1174,
        "start_time": "2023-05-26T07:54:06.614Z"
      },
      {
        "duration": 111,
        "start_time": "2023-05-26T07:54:07.790Z"
      },
      {
        "duration": 70,
        "start_time": "2023-05-26T07:54:07.905Z"
      },
      {
        "duration": 238,
        "start_time": "2023-05-26T07:54:07.977Z"
      },
      {
        "duration": 1885,
        "start_time": "2023-05-26T07:54:08.216Z"
      },
      {
        "duration": 43543,
        "start_time": "2023-05-26T07:54:10.102Z"
      },
      {
        "duration": 215,
        "start_time": "2023-05-26T07:54:53.646Z"
      },
      {
        "duration": 611,
        "start_time": "2023-05-26T07:54:53.862Z"
      },
      {
        "duration": 7296,
        "start_time": "2023-05-26T07:54:54.475Z"
      },
      {
        "duration": 4,
        "start_time": "2023-05-26T07:55:01.773Z"
      },
      {
        "duration": 37,
        "start_time": "2023-05-26T07:55:01.779Z"
      },
      {
        "duration": 27,
        "start_time": "2023-05-26T07:55:01.817Z"
      },
      {
        "duration": 6,
        "start_time": "2023-05-26T07:55:32.793Z"
      },
      {
        "duration": 44,
        "start_time": "2023-05-26T07:59:07.965Z"
      },
      {
        "duration": 22,
        "start_time": "2023-05-26T08:00:00.644Z"
      },
      {
        "duration": 2,
        "start_time": "2023-05-26T08:00:04.989Z"
      },
      {
        "duration": 798,
        "start_time": "2023-05-26T08:00:04.993Z"
      },
      {
        "duration": 1265,
        "start_time": "2023-05-26T08:00:05.793Z"
      },
      {
        "duration": 108,
        "start_time": "2023-05-26T08:00:07.059Z"
      },
      {
        "duration": 84,
        "start_time": "2023-05-26T08:00:07.170Z"
      },
      {
        "duration": 234,
        "start_time": "2023-05-26T08:00:07.256Z"
      },
      {
        "duration": 2847,
        "start_time": "2023-05-26T08:00:07.492Z"
      },
      {
        "duration": 2,
        "start_time": "2023-05-26T08:00:10.340Z"
      },
      {
        "duration": 263,
        "start_time": "2023-05-26T08:00:10.344Z"
      },
      {
        "duration": 638,
        "start_time": "2023-05-26T08:00:10.609Z"
      },
      {
        "duration": 7762,
        "start_time": "2023-05-26T08:00:11.250Z"
      },
      {
        "duration": 4,
        "start_time": "2023-05-26T08:00:19.014Z"
      },
      {
        "duration": 20,
        "start_time": "2023-05-26T08:00:19.019Z"
      },
      {
        "duration": 7,
        "start_time": "2023-05-26T08:00:19.040Z"
      },
      {
        "duration": 205,
        "start_time": "2023-05-26T08:00:51.913Z"
      },
      {
        "duration": 2,
        "start_time": "2023-05-26T08:00:58.743Z"
      },
      {
        "duration": 739,
        "start_time": "2023-05-26T08:00:58.747Z"
      },
      {
        "duration": 1219,
        "start_time": "2023-05-26T08:00:59.488Z"
      },
      {
        "duration": 115,
        "start_time": "2023-05-26T08:01:00.708Z"
      },
      {
        "duration": 121,
        "start_time": "2023-05-26T08:01:00.825Z"
      },
      {
        "duration": 373,
        "start_time": "2023-05-26T08:01:00.948Z"
      },
      {
        "duration": 2951,
        "start_time": "2023-05-26T08:01:01.322Z"
      },
      {
        "duration": 3,
        "start_time": "2023-05-26T08:01:04.275Z"
      },
      {
        "duration": 214,
        "start_time": "2023-05-26T08:01:04.280Z"
      },
      {
        "duration": 664,
        "start_time": "2023-05-26T08:01:04.496Z"
      },
      {
        "duration": 7508,
        "start_time": "2023-05-26T08:01:05.161Z"
      },
      {
        "duration": 5,
        "start_time": "2023-05-26T08:01:12.670Z"
      },
      {
        "duration": 5,
        "start_time": "2023-05-26T08:01:12.677Z"
      },
      {
        "duration": 21,
        "start_time": "2023-05-26T08:01:12.685Z"
      },
      {
        "duration": 10110,
        "start_time": "2023-05-26T08:04:03.514Z"
      },
      {
        "duration": 3,
        "start_time": "2023-05-26T08:04:18.880Z"
      },
      {
        "duration": 850,
        "start_time": "2023-05-26T08:04:18.885Z"
      },
      {
        "duration": 1267,
        "start_time": "2023-05-26T08:04:19.736Z"
      },
      {
        "duration": 115,
        "start_time": "2023-05-26T08:04:21.011Z"
      },
      {
        "duration": 71,
        "start_time": "2023-05-26T08:04:21.128Z"
      },
      {
        "duration": 105,
        "start_time": "2023-05-26T08:04:21.211Z"
      },
      {
        "duration": 0,
        "start_time": "2023-05-26T08:04:21.319Z"
      },
      {
        "duration": 0,
        "start_time": "2023-05-26T08:04:21.320Z"
      },
      {
        "duration": 0,
        "start_time": "2023-05-26T08:04:21.321Z"
      },
      {
        "duration": 0,
        "start_time": "2023-05-26T08:04:21.322Z"
      },
      {
        "duration": 0,
        "start_time": "2023-05-26T08:04:21.326Z"
      },
      {
        "duration": 0,
        "start_time": "2023-05-26T08:04:21.326Z"
      },
      {
        "duration": 0,
        "start_time": "2023-05-26T08:04:21.327Z"
      },
      {
        "duration": 0,
        "start_time": "2023-05-26T08:04:21.328Z"
      },
      {
        "duration": 10810,
        "start_time": "2023-05-26T08:04:44.091Z"
      },
      {
        "duration": 615,
        "start_time": "2023-05-26T08:05:43.362Z"
      },
      {
        "duration": 11,
        "start_time": "2023-05-26T08:05:53.243Z"
      },
      {
        "duration": 13,
        "start_time": "2023-05-26T08:06:02.450Z"
      },
      {
        "duration": 8,
        "start_time": "2023-05-26T08:06:26.727Z"
      },
      {
        "duration": 9,
        "start_time": "2023-05-26T08:07:12.693Z"
      },
      {
        "duration": 8,
        "start_time": "2023-05-26T08:07:17.629Z"
      },
      {
        "duration": 8,
        "start_time": "2023-05-26T08:07:49.788Z"
      },
      {
        "duration": 8,
        "start_time": "2023-05-26T08:08:43.857Z"
      },
      {
        "duration": 2,
        "start_time": "2023-05-26T08:08:46.532Z"
      },
      {
        "duration": 851,
        "start_time": "2023-05-26T08:08:46.536Z"
      },
      {
        "duration": 1306,
        "start_time": "2023-05-26T08:08:47.388Z"
      },
      {
        "duration": 130,
        "start_time": "2023-05-26T08:08:48.695Z"
      },
      {
        "duration": 72,
        "start_time": "2023-05-26T08:08:48.827Z"
      },
      {
        "duration": 11194,
        "start_time": "2023-05-26T08:08:48.900Z"
      },
      {
        "duration": 2192,
        "start_time": "2023-05-26T08:09:00.095Z"
      },
      {
        "duration": 2,
        "start_time": "2023-05-26T08:09:02.288Z"
      },
      {
        "duration": 276,
        "start_time": "2023-05-26T08:09:02.292Z"
      },
      {
        "duration": 551,
        "start_time": "2023-05-26T08:09:02.570Z"
      },
      {
        "duration": 7799,
        "start_time": "2023-05-26T08:09:03.124Z"
      },
      {
        "duration": 4,
        "start_time": "2023-05-26T08:09:10.925Z"
      },
      {
        "duration": 4,
        "start_time": "2023-05-26T08:09:10.930Z"
      },
      {
        "duration": 5,
        "start_time": "2023-05-26T08:09:10.935Z"
      },
      {
        "duration": 8820,
        "start_time": "2023-05-26T08:09:42.445Z"
      },
      {
        "duration": 2,
        "start_time": "2023-05-26T08:10:32.894Z"
      },
      {
        "duration": 865,
        "start_time": "2023-05-26T08:10:32.898Z"
      },
      {
        "duration": 1304,
        "start_time": "2023-05-26T08:10:33.764Z"
      },
      {
        "duration": 123,
        "start_time": "2023-05-26T08:10:35.069Z"
      },
      {
        "duration": 79,
        "start_time": "2023-05-26T08:10:35.194Z"
      },
      {
        "duration": 11576,
        "start_time": "2023-05-26T08:10:35.275Z"
      },
      {
        "duration": 2167,
        "start_time": "2023-05-26T08:10:46.852Z"
      },
      {
        "duration": 2,
        "start_time": "2023-05-26T08:10:49.021Z"
      },
      {
        "duration": 219,
        "start_time": "2023-05-26T08:10:49.024Z"
      },
      {
        "duration": 454,
        "start_time": "2023-05-26T08:10:49.245Z"
      },
      {
        "duration": 7640,
        "start_time": "2023-05-26T08:10:49.701Z"
      },
      {
        "duration": 4,
        "start_time": "2023-05-26T08:10:57.342Z"
      },
      {
        "duration": 6,
        "start_time": "2023-05-26T08:10:57.347Z"
      },
      {
        "duration": 6,
        "start_time": "2023-05-26T08:10:57.354Z"
      },
      {
        "duration": 190,
        "start_time": "2023-05-26T08:12:21.281Z"
      },
      {
        "duration": 2,
        "start_time": "2023-05-26T08:12:24.336Z"
      },
      {
        "duration": 826,
        "start_time": "2023-05-26T08:12:24.361Z"
      },
      {
        "duration": 1170,
        "start_time": "2023-05-26T08:12:25.189Z"
      },
      {
        "duration": 106,
        "start_time": "2023-05-26T08:12:26.361Z"
      },
      {
        "duration": 90,
        "start_time": "2023-05-26T08:12:26.469Z"
      },
      {
        "duration": 11195,
        "start_time": "2023-05-26T08:12:26.562Z"
      },
      {
        "duration": 2083,
        "start_time": "2023-05-26T08:12:37.758Z"
      },
      {
        "duration": 3,
        "start_time": "2023-05-26T08:12:39.842Z"
      },
      {
        "duration": 199,
        "start_time": "2023-05-26T08:12:39.847Z"
      },
      {
        "duration": 446,
        "start_time": "2023-05-26T08:12:40.048Z"
      },
      {
        "duration": 8540,
        "start_time": "2023-05-26T08:12:40.496Z"
      },
      {
        "duration": 4,
        "start_time": "2023-05-26T08:12:49.038Z"
      },
      {
        "duration": 12,
        "start_time": "2023-05-26T08:12:49.043Z"
      },
      {
        "duration": 10,
        "start_time": "2023-05-26T08:12:49.056Z"
      },
      {
        "duration": 114,
        "start_time": "2023-05-26T08:16:28.057Z"
      },
      {
        "duration": 3,
        "start_time": "2023-05-26T08:16:31.955Z"
      },
      {
        "duration": 886,
        "start_time": "2023-05-26T08:16:31.960Z"
      },
      {
        "duration": 1666,
        "start_time": "2023-05-26T08:16:32.847Z"
      },
      {
        "duration": 229,
        "start_time": "2023-05-26T08:16:34.516Z"
      },
      {
        "duration": 194,
        "start_time": "2023-05-26T08:16:34.747Z"
      },
      {
        "duration": 363,
        "start_time": "2023-05-26T08:16:34.943Z"
      },
      {
        "duration": 3882,
        "start_time": "2023-05-26T08:16:35.308Z"
      },
      {
        "duration": 2,
        "start_time": "2023-05-26T08:16:39.192Z"
      },
      {
        "duration": 241,
        "start_time": "2023-05-26T08:16:39.195Z"
      },
      {
        "duration": 489,
        "start_time": "2023-05-26T08:16:39.437Z"
      },
      {
        "duration": 8697,
        "start_time": "2023-05-26T08:16:39.931Z"
      },
      {
        "duration": 9,
        "start_time": "2023-05-26T08:16:48.634Z"
      },
      {
        "duration": 4,
        "start_time": "2023-05-26T08:16:48.645Z"
      },
      {
        "duration": 3,
        "start_time": "2023-05-26T08:16:48.651Z"
      },
      {
        "duration": 57,
        "start_time": "2023-05-26T08:17:10.261Z"
      },
      {
        "duration": 85,
        "start_time": "2023-05-26T08:22:09.273Z"
      },
      {
        "duration": 3,
        "start_time": "2023-05-26T08:25:35.245Z"
      },
      {
        "duration": 146,
        "start_time": "2023-05-26T08:26:27.966Z"
      },
      {
        "duration": 223,
        "start_time": "2023-05-26T08:26:38.312Z"
      },
      {
        "duration": 246,
        "start_time": "2023-05-26T08:26:53.687Z"
      },
      {
        "duration": 259,
        "start_time": "2023-05-26T08:27:02.134Z"
      },
      {
        "duration": 19,
        "start_time": "2023-05-26T08:28:54.132Z"
      },
      {
        "duration": 742,
        "start_time": "2023-05-26T08:29:02.126Z"
      },
      {
        "duration": 94,
        "start_time": "2023-05-26T08:29:05.591Z"
      },
      {
        "duration": 150,
        "start_time": "2023-05-26T08:31:13.785Z"
      },
      {
        "duration": 97,
        "start_time": "2023-05-26T08:37:35.573Z"
      },
      {
        "duration": 151,
        "start_time": "2023-05-26T08:37:41.432Z"
      },
      {
        "duration": 3,
        "start_time": "2023-05-26T09:01:21.536Z"
      },
      {
        "duration": 3,
        "start_time": "2023-05-26T09:05:22.740Z"
      },
      {
        "duration": 3,
        "start_time": "2023-05-26T09:30:04.854Z"
      },
      {
        "duration": 47,
        "start_time": "2023-05-26T09:42:17.269Z"
      },
      {
        "duration": 147,
        "start_time": "2023-05-26T09:42:36.930Z"
      },
      {
        "duration": 3,
        "start_time": "2023-05-26T09:51:59.321Z"
      },
      {
        "duration": 93,
        "start_time": "2023-05-26T09:53:10.131Z"
      },
      {
        "duration": 10,
        "start_time": "2023-05-26T09:56:54.895Z"
      },
      {
        "duration": 10,
        "start_time": "2023-05-26T09:57:00.849Z"
      },
      {
        "duration": 9,
        "start_time": "2023-05-26T09:57:24.783Z"
      },
      {
        "duration": 11,
        "start_time": "2023-05-26T09:57:32.487Z"
      },
      {
        "duration": 4,
        "start_time": "2023-05-26T09:57:58.415Z"
      },
      {
        "duration": 4,
        "start_time": "2023-05-26T09:59:16.692Z"
      },
      {
        "duration": 4,
        "start_time": "2023-05-26T09:59:26.400Z"
      },
      {
        "duration": 5,
        "start_time": "2023-05-26T09:59:57.855Z"
      },
      {
        "duration": 5,
        "start_time": "2023-05-26T10:00:03.704Z"
      },
      {
        "duration": 5,
        "start_time": "2023-05-26T10:17:20.844Z"
      },
      {
        "duration": 8,
        "start_time": "2023-05-26T10:18:54.221Z"
      },
      {
        "duration": 9,
        "start_time": "2023-05-26T10:20:23.147Z"
      },
      {
        "duration": 126,
        "start_time": "2023-05-26T10:20:52.476Z"
      },
      {
        "duration": 99,
        "start_time": "2023-05-26T10:21:13.079Z"
      },
      {
        "duration": 103,
        "start_time": "2023-05-26T10:21:23.723Z"
      },
      {
        "duration": 91,
        "start_time": "2023-05-26T10:22:11.238Z"
      },
      {
        "duration": 101,
        "start_time": "2023-05-26T10:23:37.273Z"
      },
      {
        "duration": 183,
        "start_time": "2023-05-26T10:24:09.440Z"
      },
      {
        "duration": 274,
        "start_time": "2023-05-26T10:27:13.327Z"
      },
      {
        "duration": 266,
        "start_time": "2023-05-26T10:27:37.927Z"
      },
      {
        "duration": 814,
        "start_time": "2023-05-26T10:39:42.624Z"
      },
      {
        "duration": 19,
        "start_time": "2023-05-26T10:39:46.713Z"
      },
      {
        "duration": 6118,
        "start_time": "2023-05-26T10:42:51.637Z"
      },
      {
        "duration": 4,
        "start_time": "2023-05-26T10:43:32.020Z"
      },
      {
        "duration": 118,
        "start_time": "2023-05-26T10:48:37.368Z"
      },
      {
        "duration": 109,
        "start_time": "2023-05-26T10:49:06.703Z"
      },
      {
        "duration": 46,
        "start_time": "2023-05-26T10:49:53.704Z"
      },
      {
        "duration": 204,
        "start_time": "2023-05-26T10:49:58.588Z"
      },
      {
        "duration": 208,
        "start_time": "2023-05-26T10:50:13.009Z"
      },
      {
        "duration": 202,
        "start_time": "2023-05-26T10:50:21.750Z"
      },
      {
        "duration": 198,
        "start_time": "2023-05-26T10:50:27.641Z"
      },
      {
        "duration": 207,
        "start_time": "2023-05-26T10:50:36.193Z"
      },
      {
        "duration": 216,
        "start_time": "2023-05-26T10:50:55.724Z"
      },
      {
        "duration": 215,
        "start_time": "2023-05-26T10:51:04.569Z"
      },
      {
        "duration": 210,
        "start_time": "2023-05-26T10:51:13.385Z"
      },
      {
        "duration": 235,
        "start_time": "2023-05-26T10:51:21.882Z"
      },
      {
        "duration": 2,
        "start_time": "2023-05-26T10:51:37.185Z"
      },
      {
        "duration": 2,
        "start_time": "2023-05-26T10:52:58.785Z"
      },
      {
        "duration": 17,
        "start_time": "2023-05-26T10:52:58.789Z"
      },
      {
        "duration": 879,
        "start_time": "2023-05-26T10:52:58.808Z"
      },
      {
        "duration": 3,
        "start_time": "2023-05-26T10:52:59.689Z"
      },
      {
        "duration": 1145,
        "start_time": "2023-05-26T10:52:59.694Z"
      },
      {
        "duration": 3,
        "start_time": "2023-05-26T10:53:00.841Z"
      },
      {
        "duration": 0,
        "start_time": "2023-05-26T10:53:00.846Z"
      },
      {
        "duration": 0,
        "start_time": "2023-05-26T10:53:00.847Z"
      },
      {
        "duration": 0,
        "start_time": "2023-05-26T10:53:00.848Z"
      },
      {
        "duration": 0,
        "start_time": "2023-05-26T10:53:00.849Z"
      },
      {
        "duration": 0,
        "start_time": "2023-05-26T10:53:00.850Z"
      },
      {
        "duration": 0,
        "start_time": "2023-05-26T10:53:00.850Z"
      },
      {
        "duration": 0,
        "start_time": "2023-05-26T10:53:00.851Z"
      },
      {
        "duration": 0,
        "start_time": "2023-05-26T10:53:00.852Z"
      },
      {
        "duration": 0,
        "start_time": "2023-05-26T10:53:00.853Z"
      },
      {
        "duration": 0,
        "start_time": "2023-05-26T10:53:00.854Z"
      },
      {
        "duration": 0,
        "start_time": "2023-05-26T10:53:00.855Z"
      },
      {
        "duration": 0,
        "start_time": "2023-05-26T10:53:00.856Z"
      },
      {
        "duration": 0,
        "start_time": "2023-05-26T10:53:00.857Z"
      },
      {
        "duration": 0,
        "start_time": "2023-05-26T10:53:00.858Z"
      },
      {
        "duration": 0,
        "start_time": "2023-05-26T10:53:00.859Z"
      },
      {
        "duration": 231,
        "start_time": "2023-05-26T10:53:22.423Z"
      },
      {
        "duration": 188,
        "start_time": "2023-05-26T10:53:47.927Z"
      },
      {
        "duration": 265,
        "start_time": "2023-05-26T10:54:23.566Z"
      },
      {
        "duration": 249,
        "start_time": "2023-05-26T10:54:35.111Z"
      },
      {
        "duration": 120,
        "start_time": "2023-05-26T10:55:34.015Z"
      },
      {
        "duration": 263,
        "start_time": "2023-05-26T10:55:40.976Z"
      },
      {
        "duration": 821,
        "start_time": "2023-05-26T10:55:57.816Z"
      },
      {
        "duration": 7978,
        "start_time": "2023-05-26T10:56:10.756Z"
      },
      {
        "duration": 4,
        "start_time": "2023-05-26T10:56:31.230Z"
      },
      {
        "duration": 74,
        "start_time": "2023-05-26T10:57:08.728Z"
      },
      {
        "duration": 149,
        "start_time": "2023-05-26T10:57:16.541Z"
      },
      {
        "duration": 346,
        "start_time": "2023-05-26T10:57:42.491Z"
      },
      {
        "duration": 279,
        "start_time": "2023-05-26T10:58:39.107Z"
      },
      {
        "duration": 275,
        "start_time": "2023-05-26T10:58:47.714Z"
      },
      {
        "duration": 5,
        "start_time": "2023-05-26T11:00:54.203Z"
      },
      {
        "duration": 4,
        "start_time": "2023-05-26T11:04:51.769Z"
      },
      {
        "duration": 327,
        "start_time": "2023-05-26T11:04:59.807Z"
      },
      {
        "duration": 17,
        "start_time": "2023-05-26T11:06:53.557Z"
      },
      {
        "duration": 5,
        "start_time": "2023-05-26T11:07:29.363Z"
      },
      {
        "duration": 20,
        "start_time": "2023-05-26T11:09:08.313Z"
      },
      {
        "duration": 20,
        "start_time": "2023-05-26T11:09:17.844Z"
      },
      {
        "duration": 127,
        "start_time": "2023-05-26T11:09:59.254Z"
      },
      {
        "duration": 19,
        "start_time": "2023-05-26T11:10:04.074Z"
      },
      {
        "duration": 191,
        "start_time": "2023-05-26T11:11:58.434Z"
      },
      {
        "duration": 199,
        "start_time": "2023-05-26T11:12:17.453Z"
      },
      {
        "duration": 26,
        "start_time": "2023-05-26T11:25:19.139Z"
      },
      {
        "duration": 2008,
        "start_time": "2023-05-26T11:26:18.636Z"
      },
      {
        "duration": 5,
        "start_time": "2023-05-26T11:26:30.189Z"
      },
      {
        "duration": 33,
        "start_time": "2023-05-26T11:26:38.210Z"
      },
      {
        "duration": 3,
        "start_time": "2023-05-26T11:39:36.039Z"
      },
      {
        "duration": 50,
        "start_time": "2023-05-26T11:41:10.732Z"
      },
      {
        "duration": 1770,
        "start_time": "2023-05-26T11:44:44.031Z"
      },
      {
        "duration": 136235,
        "start_time": "2023-05-26T11:55:46.554Z"
      },
      {
        "duration": 56893,
        "start_time": "2023-05-26T11:59:10.188Z"
      },
      {
        "duration": 59,
        "start_time": "2023-05-26T12:04:00.640Z"
      },
      {
        "duration": 57,
        "start_time": "2023-05-26T12:04:08.450Z"
      },
      {
        "duration": 58,
        "start_time": "2023-05-26T12:04:12.278Z"
      },
      {
        "duration": 585,
        "start_time": "2023-05-26T12:04:40.395Z"
      },
      {
        "duration": 181290,
        "start_time": "2023-05-26T12:05:01.305Z"
      },
      {
        "duration": 121108,
        "start_time": "2023-05-26T12:09:05.578Z"
      },
      {
        "duration": 28061,
        "start_time": "2023-05-26T12:11:45.745Z"
      },
      {
        "duration": 95161,
        "start_time": "2023-05-26T12:13:51.550Z"
      },
      {
        "duration": 13329,
        "start_time": "2023-05-26T12:20:05.813Z"
      },
      {
        "duration": 40229,
        "start_time": "2023-05-26T12:20:27.000Z"
      },
      {
        "duration": 10,
        "start_time": "2023-05-26T12:27:38.088Z"
      },
      {
        "duration": 10,
        "start_time": "2023-05-26T12:32:32.893Z"
      },
      {
        "duration": 10,
        "start_time": "2023-05-26T12:32:45.862Z"
      },
      {
        "duration": 10,
        "start_time": "2023-05-26T12:33:28.996Z"
      },
      {
        "duration": 9,
        "start_time": "2023-05-26T12:42:39.963Z"
      },
      {
        "duration": 10,
        "start_time": "2023-05-26T12:43:08.633Z"
      },
      {
        "duration": 12,
        "start_time": "2023-05-26T12:43:12.438Z"
      },
      {
        "duration": 18,
        "start_time": "2023-05-26T12:43:32.106Z"
      },
      {
        "duration": 12,
        "start_time": "2023-05-26T12:45:25.907Z"
      },
      {
        "duration": 1945,
        "start_time": "2023-05-26T12:45:42.204Z"
      },
      {
        "duration": 17,
        "start_time": "2023-05-26T12:45:47.562Z"
      },
      {
        "duration": 29,
        "start_time": "2023-05-26T12:46:40.687Z"
      },
      {
        "duration": 469,
        "start_time": "2023-05-26T12:46:50.553Z"
      },
      {
        "duration": 3,
        "start_time": "2023-05-26T12:48:41.906Z"
      },
      {
        "duration": 352,
        "start_time": "2023-05-26T12:48:54.227Z"
      },
      {
        "duration": 29,
        "start_time": "2023-05-26T12:49:47.052Z"
      },
      {
        "duration": 1960,
        "start_time": "2023-05-26T12:51:00.835Z"
      },
      {
        "duration": 1546,
        "start_time": "2023-05-26T12:51:02.797Z"
      },
      {
        "duration": 1214,
        "start_time": "2023-05-26T12:51:04.345Z"
      },
      {
        "duration": 2,
        "start_time": "2023-05-26T12:51:05.561Z"
      },
      {
        "duration": 1405,
        "start_time": "2023-05-26T12:51:05.565Z"
      },
      {
        "duration": 191,
        "start_time": "2023-05-26T12:51:06.972Z"
      },
      {
        "duration": 250,
        "start_time": "2023-05-26T12:51:07.165Z"
      },
      {
        "duration": 159,
        "start_time": "2023-05-26T12:51:07.417Z"
      },
      {
        "duration": 3,
        "start_time": "2023-05-26T12:51:07.579Z"
      },
      {
        "duration": 2202,
        "start_time": "2023-05-26T12:51:07.585Z"
      },
      {
        "duration": 2,
        "start_time": "2023-05-26T12:51:09.789Z"
      },
      {
        "duration": 207,
        "start_time": "2023-05-26T12:51:09.793Z"
      },
      {
        "duration": 594,
        "start_time": "2023-05-26T12:51:10.007Z"
      },
      {
        "duration": 7638,
        "start_time": "2023-05-26T12:51:10.606Z"
      },
      {
        "duration": 4,
        "start_time": "2023-05-26T12:51:18.246Z"
      },
      {
        "duration": 71,
        "start_time": "2023-05-26T12:51:18.251Z"
      },
      {
        "duration": 72,
        "start_time": "2023-05-26T12:51:18.323Z"
      },
      {
        "duration": 152,
        "start_time": "2023-05-26T12:51:18.396Z"
      },
      {
        "duration": 23,
        "start_time": "2023-05-26T12:51:18.550Z"
      },
      {
        "duration": 211,
        "start_time": "2023-05-26T12:51:18.574Z"
      },
      {
        "duration": 4,
        "start_time": "2023-05-26T12:51:18.787Z"
      },
      {
        "duration": 6507,
        "start_time": "2023-05-26T12:51:18.792Z"
      },
      {
        "duration": 147,
        "start_time": "2023-05-26T12:51:25.300Z"
      },
      {
        "duration": 9,
        "start_time": "2023-05-26T12:51:25.449Z"
      },
      {
        "duration": 0,
        "start_time": "2023-05-26T12:51:25.459Z"
      },
      {
        "duration": 2743,
        "start_time": "2023-05-26T12:57:36.324Z"
      },
      {
        "duration": 15,
        "start_time": "2023-05-26T12:58:00.885Z"
      },
      {
        "duration": 1774,
        "start_time": "2023-05-26T12:58:49.219Z"
      },
      {
        "duration": 4,
        "start_time": "2023-05-26T12:58:50.996Z"
      },
      {
        "duration": 796,
        "start_time": "2023-05-26T12:58:51.002Z"
      },
      {
        "duration": 6,
        "start_time": "2023-05-26T12:58:51.800Z"
      },
      {
        "duration": 1197,
        "start_time": "2023-05-26T12:58:51.808Z"
      },
      {
        "duration": 178,
        "start_time": "2023-05-26T12:58:53.006Z"
      },
      {
        "duration": 253,
        "start_time": "2023-05-26T12:58:53.185Z"
      },
      {
        "duration": 132,
        "start_time": "2023-05-26T12:58:53.440Z"
      },
      {
        "duration": 1,
        "start_time": "2023-05-26T12:58:53.574Z"
      },
      {
        "duration": 2260,
        "start_time": "2023-05-26T12:58:53.577Z"
      },
      {
        "duration": 2,
        "start_time": "2023-05-26T12:58:55.839Z"
      },
      {
        "duration": 401,
        "start_time": "2023-05-26T12:58:55.842Z"
      },
      {
        "duration": 889,
        "start_time": "2023-05-26T12:58:56.245Z"
      },
      {
        "duration": 8185,
        "start_time": "2023-05-26T12:58:57.136Z"
      },
      {
        "duration": 4,
        "start_time": "2023-05-26T12:59:05.323Z"
      },
      {
        "duration": 61,
        "start_time": "2023-05-26T12:59:05.328Z"
      },
      {
        "duration": 84,
        "start_time": "2023-05-26T12:59:05.390Z"
      },
      {
        "duration": 146,
        "start_time": "2023-05-26T12:59:05.476Z"
      },
      {
        "duration": 21,
        "start_time": "2023-05-26T12:59:05.624Z"
      },
      {
        "duration": 214,
        "start_time": "2023-05-26T12:59:05.647Z"
      },
      {
        "duration": 4,
        "start_time": "2023-05-26T12:59:05.863Z"
      },
      {
        "duration": 5532,
        "start_time": "2023-05-26T12:59:05.868Z"
      },
      {
        "duration": 2844,
        "start_time": "2023-05-26T12:59:11.401Z"
      },
      {
        "duration": 117,
        "start_time": "2023-05-26T12:59:14.246Z"
      },
      {
        "duration": 10,
        "start_time": "2023-05-26T12:59:14.364Z"
      },
      {
        "duration": 0,
        "start_time": "2023-05-26T12:59:14.375Z"
      },
      {
        "duration": 803,
        "start_time": "2023-05-26T13:05:58.376Z"
      },
      {
        "duration": 4,
        "start_time": "2023-05-26T13:06:58.579Z"
      },
      {
        "duration": 1810,
        "start_time": "2023-05-26T13:07:26.380Z"
      },
      {
        "duration": 1485,
        "start_time": "2023-05-26T13:07:28.192Z"
      },
      {
        "duration": 2953,
        "start_time": "2023-05-26T13:07:29.678Z"
      },
      {
        "duration": 3,
        "start_time": "2023-05-26T13:07:32.633Z"
      },
      {
        "duration": 1428,
        "start_time": "2023-05-26T13:07:32.637Z"
      },
      {
        "duration": 214,
        "start_time": "2023-05-26T13:07:34.067Z"
      },
      {
        "duration": 250,
        "start_time": "2023-05-26T13:07:34.283Z"
      },
      {
        "duration": 184,
        "start_time": "2023-05-26T13:07:34.535Z"
      },
      {
        "duration": 3,
        "start_time": "2023-05-26T13:07:34.721Z"
      },
      {
        "duration": 2235,
        "start_time": "2023-05-26T13:07:34.726Z"
      },
      {
        "duration": 2,
        "start_time": "2023-05-26T13:07:36.963Z"
      },
      {
        "duration": 213,
        "start_time": "2023-05-26T13:07:36.967Z"
      },
      {
        "duration": 611,
        "start_time": "2023-05-26T13:07:37.182Z"
      },
      {
        "duration": 8272,
        "start_time": "2023-05-26T13:07:37.795Z"
      },
      {
        "duration": 4,
        "start_time": "2023-05-26T13:07:46.069Z"
      },
      {
        "duration": 65,
        "start_time": "2023-05-26T13:07:46.074Z"
      },
      {
        "duration": 87,
        "start_time": "2023-05-26T13:07:46.141Z"
      },
      {
        "duration": 153,
        "start_time": "2023-05-26T13:07:46.229Z"
      },
      {
        "duration": 33,
        "start_time": "2023-05-26T13:07:46.383Z"
      },
      {
        "duration": 193,
        "start_time": "2023-05-26T13:07:46.418Z"
      },
      {
        "duration": 4,
        "start_time": "2023-05-26T13:07:46.613Z"
      },
      {
        "duration": 55283,
        "start_time": "2023-05-26T13:07:46.618Z"
      },
      {
        "duration": 37586,
        "start_time": "2023-05-26T13:08:41.903Z"
      },
      {
        "duration": 601399,
        "start_time": "2023-05-26T13:09:19.491Z"
      },
      {
        "duration": 16,
        "start_time": "2023-05-26T13:19:20.892Z"
      },
      {
        "duration": 0,
        "start_time": "2023-05-26T13:19:20.910Z"
      },
      {
        "duration": 1741,
        "start_time": "2023-05-26T13:21:07.547Z"
      },
      {
        "duration": 3,
        "start_time": "2023-05-26T13:21:09.291Z"
      },
      {
        "duration": 799,
        "start_time": "2023-05-26T13:21:09.296Z"
      },
      {
        "duration": 9,
        "start_time": "2023-05-26T13:21:10.097Z"
      },
      {
        "duration": 2150,
        "start_time": "2023-05-26T13:21:10.108Z"
      },
      {
        "duration": 251,
        "start_time": "2023-05-26T13:21:12.260Z"
      },
      {
        "duration": 295,
        "start_time": "2023-05-26T13:21:12.513Z"
      },
      {
        "duration": 132,
        "start_time": "2023-05-26T13:21:12.810Z"
      },
      {
        "duration": 2,
        "start_time": "2023-05-26T13:21:12.944Z"
      },
      {
        "duration": 2058,
        "start_time": "2023-05-26T13:21:12.949Z"
      },
      {
        "duration": 3,
        "start_time": "2023-05-26T13:21:15.008Z"
      },
      {
        "duration": 218,
        "start_time": "2023-05-26T13:21:15.012Z"
      },
      {
        "duration": 446,
        "start_time": "2023-05-26T13:21:15.231Z"
      },
      {
        "duration": 8036,
        "start_time": "2023-05-26T13:21:15.678Z"
      },
      {
        "duration": 4,
        "start_time": "2023-05-26T13:21:23.715Z"
      },
      {
        "duration": 62,
        "start_time": "2023-05-26T13:21:23.721Z"
      },
      {
        "duration": 81,
        "start_time": "2023-05-26T13:21:23.785Z"
      },
      {
        "duration": 162,
        "start_time": "2023-05-26T13:21:23.868Z"
      },
      {
        "duration": 23,
        "start_time": "2023-05-26T13:21:24.032Z"
      },
      {
        "duration": 212,
        "start_time": "2023-05-26T13:21:24.057Z"
      },
      {
        "duration": 6,
        "start_time": "2023-05-26T13:21:24.271Z"
      },
      {
        "duration": 5422,
        "start_time": "2023-05-26T13:21:24.279Z"
      },
      {
        "duration": 2993,
        "start_time": "2023-05-26T13:21:29.703Z"
      },
      {
        "duration": 7,
        "start_time": "2023-05-26T13:21:32.699Z"
      },
      {
        "duration": 844,
        "start_time": "2023-05-26T13:21:32.708Z"
      },
      {
        "duration": 11,
        "start_time": "2023-05-26T13:21:33.554Z"
      },
      {
        "duration": 0,
        "start_time": "2023-05-26T13:21:33.566Z"
      },
      {
        "duration": 50,
        "start_time": "2023-05-27T15:27:44.192Z"
      },
      {
        "duration": 7302,
        "start_time": "2023-05-27T15:34:56.579Z"
      },
      {
        "duration": 998,
        "start_time": "2023-05-27T15:35:03.883Z"
      },
      {
        "duration": 3876,
        "start_time": "2023-05-27T15:35:04.885Z"
      },
      {
        "duration": 4,
        "start_time": "2023-05-27T15:35:08.763Z"
      },
      {
        "duration": 1856,
        "start_time": "2023-05-27T15:35:08.769Z"
      },
      {
        "duration": 249,
        "start_time": "2023-05-27T15:35:10.627Z"
      },
      {
        "duration": 325,
        "start_time": "2023-05-27T15:35:10.878Z"
      },
      {
        "duration": 206,
        "start_time": "2023-05-27T15:35:11.205Z"
      },
      {
        "duration": 2,
        "start_time": "2023-05-27T15:35:11.413Z"
      },
      {
        "duration": 3043,
        "start_time": "2023-05-27T15:35:11.416Z"
      },
      {
        "duration": 5,
        "start_time": "2023-05-27T15:35:14.463Z"
      },
      {
        "duration": 251,
        "start_time": "2023-05-27T15:35:14.472Z"
      },
      {
        "duration": 782,
        "start_time": "2023-05-27T15:35:14.725Z"
      },
      {
        "duration": 11259,
        "start_time": "2023-05-27T15:35:15.511Z"
      },
      {
        "duration": 8,
        "start_time": "2023-05-27T15:35:26.774Z"
      },
      {
        "duration": 74,
        "start_time": "2023-05-27T15:35:26.785Z"
      },
      {
        "duration": 87,
        "start_time": "2023-05-27T15:35:26.864Z"
      },
      {
        "duration": 187,
        "start_time": "2023-05-27T15:35:26.957Z"
      },
      {
        "duration": 50,
        "start_time": "2023-05-27T15:35:27.145Z"
      },
      {
        "duration": 308,
        "start_time": "2023-05-27T15:35:27.197Z"
      },
      {
        "duration": 4,
        "start_time": "2023-05-27T15:35:27.507Z"
      },
      {
        "duration": 34,
        "start_time": "2023-05-27T15:35:27.513Z"
      },
      {
        "duration": 57,
        "start_time": "2023-05-27T15:35:27.549Z"
      },
      {
        "duration": 0,
        "start_time": "2023-05-27T15:35:27.607Z"
      },
      {
        "duration": 0,
        "start_time": "2023-05-27T15:35:27.609Z"
      },
      {
        "duration": 0,
        "start_time": "2023-05-27T15:35:27.610Z"
      },
      {
        "duration": 28,
        "start_time": "2023-05-27T15:36:41.087Z"
      },
      {
        "duration": 154,
        "start_time": "2023-05-27T15:37:04.927Z"
      },
      {
        "duration": 7,
        "start_time": "2023-05-27T15:37:36.747Z"
      },
      {
        "duration": 85,
        "start_time": "2023-05-27T15:37:41.738Z"
      },
      {
        "duration": 15,
        "start_time": "2023-05-27T15:38:00.162Z"
      },
      {
        "duration": 7112,
        "start_time": "2023-05-27T15:38:05.699Z"
      },
      {
        "duration": 69,
        "start_time": "2023-05-27T15:40:42.238Z"
      },
      {
        "duration": 6300,
        "start_time": "2023-05-27T15:40:52.487Z"
      },
      {
        "duration": 1060,
        "start_time": "2023-05-27T15:41:48.936Z"
      },
      {
        "duration": 6,
        "start_time": "2023-05-27T15:46:01.116Z"
      },
      {
        "duration": 4,
        "start_time": "2023-05-27T15:47:07.627Z"
      },
      {
        "duration": 7,
        "start_time": "2023-05-27T15:47:38.807Z"
      },
      {
        "duration": 896,
        "start_time": "2023-05-27T15:54:13.698Z"
      },
      {
        "duration": 5846,
        "start_time": "2023-05-27T15:54:35.036Z"
      },
      {
        "duration": 7,
        "start_time": "2023-05-27T15:55:12.358Z"
      },
      {
        "duration": 25,
        "start_time": "2023-05-27T15:55:47.357Z"
      },
      {
        "duration": 59,
        "start_time": "2023-05-27T15:56:10.817Z"
      },
      {
        "duration": 32,
        "start_time": "2023-05-27T15:56:19.300Z"
      },
      {
        "duration": 6,
        "start_time": "2023-05-27T15:56:23.772Z"
      },
      {
        "duration": 33,
        "start_time": "2023-05-27T15:56:52.534Z"
      },
      {
        "duration": 19,
        "start_time": "2023-05-27T15:57:26.197Z"
      },
      {
        "duration": 21,
        "start_time": "2023-05-27T16:00:49.389Z"
      },
      {
        "duration": 25,
        "start_time": "2023-05-27T16:00:59.698Z"
      },
      {
        "duration": 2263,
        "start_time": "2023-05-27T16:09:40.848Z"
      },
      {
        "duration": 1024,
        "start_time": "2023-05-27T16:09:43.114Z"
      },
      {
        "duration": 1168,
        "start_time": "2023-05-27T16:09:44.140Z"
      },
      {
        "duration": 3,
        "start_time": "2023-05-27T16:09:45.310Z"
      },
      {
        "duration": 1871,
        "start_time": "2023-05-27T16:09:45.315Z"
      },
      {
        "duration": 290,
        "start_time": "2023-05-27T16:09:47.188Z"
      },
      {
        "duration": 358,
        "start_time": "2023-05-27T16:09:47.482Z"
      },
      {
        "duration": 310,
        "start_time": "2023-05-27T16:09:47.842Z"
      },
      {
        "duration": 7,
        "start_time": "2023-05-27T16:09:48.154Z"
      },
      {
        "duration": 3237,
        "start_time": "2023-05-27T16:09:48.163Z"
      },
      {
        "duration": 3,
        "start_time": "2023-05-27T16:09:51.402Z"
      },
      {
        "duration": 298,
        "start_time": "2023-05-27T16:09:51.406Z"
      },
      {
        "duration": 794,
        "start_time": "2023-05-27T16:09:51.706Z"
      },
      {
        "duration": 10323,
        "start_time": "2023-05-27T16:09:52.502Z"
      },
      {
        "duration": 5,
        "start_time": "2023-05-27T16:10:02.827Z"
      },
      {
        "duration": 93,
        "start_time": "2023-05-27T16:10:02.833Z"
      },
      {
        "duration": 110,
        "start_time": "2023-05-27T16:10:02.928Z"
      },
      {
        "duration": 205,
        "start_time": "2023-05-27T16:10:03.040Z"
      },
      {
        "duration": 53,
        "start_time": "2023-05-27T16:10:03.246Z"
      },
      {
        "duration": 136,
        "start_time": "2023-05-27T16:10:03.307Z"
      },
      {
        "duration": 0,
        "start_time": "2023-05-27T16:10:03.444Z"
      },
      {
        "duration": 0,
        "start_time": "2023-05-27T16:10:03.446Z"
      },
      {
        "duration": 0,
        "start_time": "2023-05-27T16:10:03.447Z"
      },
      {
        "duration": 0,
        "start_time": "2023-05-27T16:10:03.460Z"
      },
      {
        "duration": 0,
        "start_time": "2023-05-27T16:10:03.461Z"
      },
      {
        "duration": 23,
        "start_time": "2023-05-27T16:16:45.905Z"
      },
      {
        "duration": 6,
        "start_time": "2023-05-27T16:16:45.931Z"
      },
      {
        "duration": 35,
        "start_time": "2023-05-27T16:16:45.939Z"
      },
      {
        "duration": 23,
        "start_time": "2023-05-27T16:16:45.980Z"
      },
      {
        "duration": 157,
        "start_time": "2023-05-27T16:16:46.005Z"
      },
      {
        "duration": 24,
        "start_time": "2023-05-27T16:16:46.164Z"
      },
      {
        "duration": 0,
        "start_time": "2023-05-27T16:16:46.191Z"
      },
      {
        "duration": 6049,
        "start_time": "2023-05-27T16:18:15.373Z"
      },
      {
        "duration": 23,
        "start_time": "2023-05-27T16:21:53.638Z"
      },
      {
        "duration": 21,
        "start_time": "2023-05-27T16:22:01.907Z"
      },
      {
        "duration": 23,
        "start_time": "2023-05-27T16:22:15.406Z"
      },
      {
        "duration": 222,
        "start_time": "2023-05-27T16:23:22.548Z"
      },
      {
        "duration": 193,
        "start_time": "2023-05-27T16:23:32.337Z"
      },
      {
        "duration": 234,
        "start_time": "2023-05-27T16:23:43.310Z"
      },
      {
        "duration": 248,
        "start_time": "2023-05-27T16:23:52.386Z"
      },
      {
        "duration": 23,
        "start_time": "2023-05-27T16:25:32.358Z"
      },
      {
        "duration": 185,
        "start_time": "2023-05-27T16:26:16.528Z"
      },
      {
        "duration": 167,
        "start_time": "2023-05-27T16:26:29.616Z"
      },
      {
        "duration": 175,
        "start_time": "2023-05-27T16:26:59.262Z"
      },
      {
        "duration": 207,
        "start_time": "2023-05-27T16:27:06.562Z"
      },
      {
        "duration": 246,
        "start_time": "2023-05-27T16:29:26.494Z"
      },
      {
        "duration": 20,
        "start_time": "2023-05-27T16:29:32.560Z"
      },
      {
        "duration": 191,
        "start_time": "2023-05-27T16:30:01.739Z"
      },
      {
        "duration": 192,
        "start_time": "2023-05-27T16:30:14.074Z"
      },
      {
        "duration": 23,
        "start_time": "2023-05-27T16:30:25.681Z"
      },
      {
        "duration": 46,
        "start_time": "2023-05-27T16:30:39.718Z"
      },
      {
        "duration": 2086,
        "start_time": "2023-05-27T16:31:09.619Z"
      },
      {
        "duration": 5,
        "start_time": "2023-05-27T16:31:11.707Z"
      },
      {
        "duration": 1013,
        "start_time": "2023-05-27T16:31:11.714Z"
      },
      {
        "duration": 3,
        "start_time": "2023-05-27T16:31:12.729Z"
      },
      {
        "duration": 1510,
        "start_time": "2023-05-27T16:31:12.734Z"
      },
      {
        "duration": 221,
        "start_time": "2023-05-27T16:31:14.246Z"
      },
      {
        "duration": 304,
        "start_time": "2023-05-27T16:31:14.471Z"
      },
      {
        "duration": 154,
        "start_time": "2023-05-27T16:31:14.777Z"
      },
      {
        "duration": 2,
        "start_time": "2023-05-27T16:31:14.933Z"
      },
      {
        "duration": 2473,
        "start_time": "2023-05-27T16:31:14.937Z"
      },
      {
        "duration": 3,
        "start_time": "2023-05-27T16:31:17.412Z"
      },
      {
        "duration": 272,
        "start_time": "2023-05-27T16:31:17.417Z"
      },
      {
        "duration": 569,
        "start_time": "2023-05-27T16:31:17.691Z"
      },
      {
        "duration": 9370,
        "start_time": "2023-05-27T16:31:18.266Z"
      },
      {
        "duration": 5,
        "start_time": "2023-05-27T16:31:27.638Z"
      },
      {
        "duration": 67,
        "start_time": "2023-05-27T16:31:27.657Z"
      },
      {
        "duration": 106,
        "start_time": "2023-05-27T16:31:27.726Z"
      },
      {
        "duration": 205,
        "start_time": "2023-05-27T16:31:27.834Z"
      },
      {
        "duration": 40,
        "start_time": "2023-05-27T16:31:28.057Z"
      },
      {
        "duration": 263,
        "start_time": "2023-05-27T16:31:28.100Z"
      },
      {
        "duration": 41,
        "start_time": "2023-05-27T16:31:28.367Z"
      },
      {
        "duration": 40270,
        "start_time": "2023-05-27T16:31:28.409Z"
      },
      {
        "duration": 111,
        "start_time": "2023-05-27T16:32:08.681Z"
      },
      {
        "duration": 11,
        "start_time": "2023-05-27T16:32:08.794Z"
      },
      {
        "duration": 0,
        "start_time": "2023-05-27T16:32:08.806Z"
      },
      {
        "duration": 535853,
        "start_time": "2023-05-27T16:32:21.727Z"
      },
      {
        "duration": 5,
        "start_time": "2023-05-27T16:41:17.584Z"
      },
      {
        "duration": 0,
        "start_time": "2023-05-27T16:41:19.696Z"
      },
      {
        "duration": 2400,
        "start_time": "2023-05-27T16:45:15.396Z"
      },
      {
        "duration": 5,
        "start_time": "2023-05-27T16:45:17.799Z"
      },
      {
        "duration": 2295,
        "start_time": "2023-05-27T16:45:17.806Z"
      },
      {
        "duration": 4,
        "start_time": "2023-05-27T16:45:20.103Z"
      },
      {
        "duration": 1575,
        "start_time": "2023-05-27T16:45:20.110Z"
      },
      {
        "duration": 253,
        "start_time": "2023-05-27T16:45:21.687Z"
      },
      {
        "duration": 351,
        "start_time": "2023-05-27T16:45:21.942Z"
      },
      {
        "duration": 211,
        "start_time": "2023-05-27T16:45:22.295Z"
      },
      {
        "duration": 3,
        "start_time": "2023-05-27T16:45:22.510Z"
      },
      {
        "duration": 2605,
        "start_time": "2023-05-27T16:45:22.515Z"
      },
      {
        "duration": 3,
        "start_time": "2023-05-27T16:45:25.122Z"
      },
      {
        "duration": 326,
        "start_time": "2023-05-27T16:45:25.127Z"
      },
      {
        "duration": 605,
        "start_time": "2023-05-27T16:45:25.456Z"
      },
      {
        "duration": 10760,
        "start_time": "2023-05-27T16:45:26.070Z"
      },
      {
        "duration": 5,
        "start_time": "2023-05-27T16:45:36.832Z"
      },
      {
        "duration": 92,
        "start_time": "2023-05-27T16:45:36.838Z"
      },
      {
        "duration": 104,
        "start_time": "2023-05-27T16:45:36.931Z"
      },
      {
        "duration": 210,
        "start_time": "2023-05-27T16:45:37.037Z"
      },
      {
        "duration": 27,
        "start_time": "2023-05-27T16:45:37.250Z"
      },
      {
        "duration": 444,
        "start_time": "2023-05-27T16:45:37.279Z"
      },
      {
        "duration": 16,
        "start_time": "2023-05-27T16:45:37.725Z"
      },
      {
        "duration": 1577325,
        "start_time": "2023-05-27T16:45:37.743Z"
      },
      {
        "duration": 7,
        "start_time": "2023-05-27T17:11:55.069Z"
      },
      {
        "duration": 2237,
        "start_time": "2023-05-27T17:11:55.077Z"
      },
      {
        "duration": 0,
        "start_time": "2023-05-27T17:11:57.316Z"
      },
      {
        "duration": 296211,
        "start_time": "2023-05-27T17:13:40.800Z"
      },
      {
        "duration": 201,
        "start_time": "2023-05-27T17:31:19.630Z"
      },
      {
        "duration": 118,
        "start_time": "2023-05-27T17:31:26.727Z"
      },
      {
        "duration": 36,
        "start_time": "2023-05-27T17:31:59.096Z"
      },
      {
        "duration": 58,
        "start_time": "2023-05-27T17:32:04.798Z"
      },
      {
        "duration": 55,
        "start_time": "2023-05-27T17:45:32.595Z"
      },
      {
        "duration": 397692,
        "start_time": "2023-05-27T17:46:20.801Z"
      },
      {
        "duration": 23,
        "start_time": "2023-05-27T18:01:16.418Z"
      },
      {
        "duration": 2,
        "start_time": "2023-05-27T18:07:50.206Z"
      },
      {
        "duration": 53,
        "start_time": "2023-05-27T18:09:26.402Z"
      },
      {
        "duration": 365,
        "start_time": "2023-05-27T18:09:32.719Z"
      },
      {
        "duration": 107,
        "start_time": "2023-05-27T18:11:40.191Z"
      },
      {
        "duration": 8229,
        "start_time": "2023-05-29T07:38:02.796Z"
      },
      {
        "duration": 1112,
        "start_time": "2023-05-29T07:38:11.028Z"
      },
      {
        "duration": 3094,
        "start_time": "2023-05-29T07:38:12.142Z"
      },
      {
        "duration": 3,
        "start_time": "2023-05-29T07:38:15.238Z"
      },
      {
        "duration": 1658,
        "start_time": "2023-05-29T07:38:15.250Z"
      },
      {
        "duration": 122,
        "start_time": "2023-05-29T07:38:16.910Z"
      },
      {
        "duration": 30,
        "start_time": "2023-05-29T07:49:55.314Z"
      },
      {
        "duration": 34,
        "start_time": "2023-05-29T07:50:22.363Z"
      },
      {
        "duration": 190,
        "start_time": "2023-05-29T07:50:36.595Z"
      },
      {
        "duration": 337,
        "start_time": "2023-05-29T07:51:34.630Z"
      },
      {
        "duration": 429,
        "start_time": "2023-05-29T07:52:12.594Z"
      },
      {
        "duration": 340,
        "start_time": "2023-05-29T07:52:22.710Z"
      },
      {
        "duration": 637,
        "start_time": "2023-05-29T07:52:48.991Z"
      },
      {
        "duration": 1400,
        "start_time": "2023-05-29T07:53:05.404Z"
      },
      {
        "duration": 637,
        "start_time": "2023-05-29T07:53:16.295Z"
      },
      {
        "duration": 2073,
        "start_time": "2023-05-29T07:53:28.766Z"
      },
      {
        "duration": 5,
        "start_time": "2023-05-29T07:53:30.842Z"
      },
      {
        "duration": 1052,
        "start_time": "2023-05-29T07:53:30.849Z"
      },
      {
        "duration": 3,
        "start_time": "2023-05-29T07:53:31.903Z"
      },
      {
        "duration": 1442,
        "start_time": "2023-05-29T07:53:31.908Z"
      },
      {
        "duration": 1390,
        "start_time": "2023-05-29T07:53:33.352Z"
      },
      {
        "duration": 626,
        "start_time": "2023-05-29T07:58:05.513Z"
      },
      {
        "duration": 236,
        "start_time": "2023-05-29T07:58:23.806Z"
      },
      {
        "duration": 832,
        "start_time": "2023-05-29T07:59:26.360Z"
      },
      {
        "duration": 783,
        "start_time": "2023-05-29T07:59:41.342Z"
      },
      {
        "duration": 31,
        "start_time": "2023-05-29T07:59:53.418Z"
      },
      {
        "duration": 21,
        "start_time": "2023-05-29T08:00:04.942Z"
      },
      {
        "duration": 14,
        "start_time": "2023-05-29T08:00:16.971Z"
      },
      {
        "duration": 53,
        "start_time": "2023-05-29T08:01:42.097Z"
      },
      {
        "duration": 111,
        "start_time": "2023-05-29T08:02:41.326Z"
      },
      {
        "duration": 1125,
        "start_time": "2023-05-29T08:03:08.097Z"
      },
      {
        "duration": 124,
        "start_time": "2023-05-29T08:03:26.805Z"
      },
      {
        "duration": 121,
        "start_time": "2023-05-29T08:06:10.629Z"
      },
      {
        "duration": 878,
        "start_time": "2023-05-29T08:06:22.263Z"
      },
      {
        "duration": 947,
        "start_time": "2023-05-29T08:06:36.896Z"
      },
      {
        "duration": 260,
        "start_time": "2023-05-29T08:09:07.806Z"
      },
      {
        "duration": 808,
        "start_time": "2023-05-29T08:09:11.695Z"
      },
      {
        "duration": 262,
        "start_time": "2023-05-29T08:09:37.469Z"
      },
      {
        "duration": 2357,
        "start_time": "2023-05-29T08:09:48.059Z"
      },
      {
        "duration": 4,
        "start_time": "2023-05-29T08:09:50.419Z"
      },
      {
        "duration": 1032,
        "start_time": "2023-05-29T08:09:50.425Z"
      },
      {
        "duration": 3,
        "start_time": "2023-05-29T08:09:51.459Z"
      },
      {
        "duration": 1633,
        "start_time": "2023-05-29T08:09:51.464Z"
      },
      {
        "duration": 1544,
        "start_time": "2023-05-29T08:09:53.099Z"
      },
      {
        "duration": 768,
        "start_time": "2023-05-29T08:09:54.645Z"
      },
      {
        "duration": 306,
        "start_time": "2023-05-29T08:09:55.416Z"
      },
      {
        "duration": 158,
        "start_time": "2023-05-29T08:09:55.724Z"
      },
      {
        "duration": 936,
        "start_time": "2023-05-29T08:14:50.803Z"
      },
      {
        "duration": 801,
        "start_time": "2023-05-29T08:15:28.497Z"
      },
      {
        "duration": 16291,
        "start_time": "2023-05-29T08:15:44.227Z"
      },
      {
        "duration": 2093,
        "start_time": "2023-05-29T08:19:50.415Z"
      },
      {
        "duration": 3,
        "start_time": "2023-05-29T08:19:52.511Z"
      },
      {
        "duration": 967,
        "start_time": "2023-05-29T08:19:52.516Z"
      },
      {
        "duration": 3,
        "start_time": "2023-05-29T08:19:53.486Z"
      },
      {
        "duration": 1405,
        "start_time": "2023-05-29T08:19:53.491Z"
      },
      {
        "duration": 1405,
        "start_time": "2023-05-29T08:19:54.898Z"
      },
      {
        "duration": 631,
        "start_time": "2023-05-29T08:19:56.305Z"
      },
      {
        "duration": 237,
        "start_time": "2023-05-29T08:19:56.938Z"
      },
      {
        "duration": 12464,
        "start_time": "2023-05-29T08:20:43.315Z"
      },
      {
        "duration": 13804,
        "start_time": "2023-05-29T08:21:30.075Z"
      },
      {
        "duration": 7726,
        "start_time": "2023-05-29T08:22:29.514Z"
      },
      {
        "duration": 915,
        "start_time": "2023-05-29T08:23:29.408Z"
      },
      {
        "duration": 8733,
        "start_time": "2023-05-29T08:23:37.680Z"
      },
      {
        "duration": 8778,
        "start_time": "2023-05-29T08:23:56.803Z"
      },
      {
        "duration": 971,
        "start_time": "2023-05-29T08:25:02.496Z"
      },
      {
        "duration": 947,
        "start_time": "2023-05-29T08:25:16.964Z"
      },
      {
        "duration": 900,
        "start_time": "2023-05-29T08:25:43.673Z"
      },
      {
        "duration": 939,
        "start_time": "2023-05-29T08:26:00.838Z"
      },
      {
        "duration": 1080,
        "start_time": "2023-05-29T08:27:28.340Z"
      },
      {
        "duration": 8725,
        "start_time": "2023-05-29T08:27:49.903Z"
      },
      {
        "duration": 10131,
        "start_time": "2023-05-29T08:28:17.873Z"
      },
      {
        "duration": 13007,
        "start_time": "2023-05-29T08:31:16.723Z"
      },
      {
        "duration": 23,
        "start_time": "2023-05-29T08:31:54.988Z"
      },
      {
        "duration": 31,
        "start_time": "2023-05-29T08:32:06.684Z"
      },
      {
        "duration": 2165,
        "start_time": "2023-05-29T08:32:45.408Z"
      },
      {
        "duration": 132,
        "start_time": "2023-05-29T08:32:47.576Z"
      },
      {
        "duration": 1079,
        "start_time": "2023-05-29T08:32:47.710Z"
      },
      {
        "duration": 3,
        "start_time": "2023-05-29T08:32:48.790Z"
      },
      {
        "duration": 1716,
        "start_time": "2023-05-29T08:32:48.795Z"
      },
      {
        "duration": 1538,
        "start_time": "2023-05-29T08:32:50.513Z"
      },
      {
        "duration": 667,
        "start_time": "2023-05-29T08:32:52.055Z"
      },
      {
        "duration": 254,
        "start_time": "2023-05-29T08:32:52.724Z"
      },
      {
        "duration": 31,
        "start_time": "2023-05-29T08:32:52.980Z"
      },
      {
        "duration": 11103,
        "start_time": "2023-05-29T08:32:53.012Z"
      },
      {
        "duration": 13186,
        "start_time": "2023-05-29T08:33:04.118Z"
      },
      {
        "duration": 38,
        "start_time": "2023-05-29T08:33:19.100Z"
      },
      {
        "duration": 2165,
        "start_time": "2023-05-29T08:34:29.188Z"
      },
      {
        "duration": 6,
        "start_time": "2023-05-29T08:34:31.356Z"
      },
      {
        "duration": 1068,
        "start_time": "2023-05-29T08:34:31.366Z"
      },
      {
        "duration": 3,
        "start_time": "2023-05-29T08:34:32.435Z"
      },
      {
        "duration": 1602,
        "start_time": "2023-05-29T08:34:32.441Z"
      },
      {
        "duration": 1516,
        "start_time": "2023-05-29T08:34:34.045Z"
      },
      {
        "duration": 630,
        "start_time": "2023-05-29T08:34:35.567Z"
      },
      {
        "duration": 239,
        "start_time": "2023-05-29T08:34:36.199Z"
      },
      {
        "duration": 53,
        "start_time": "2023-05-29T08:34:36.440Z"
      },
      {
        "duration": 9786,
        "start_time": "2023-05-29T08:34:36.495Z"
      },
      {
        "duration": 247,
        "start_time": "2023-05-29T08:34:46.283Z"
      },
      {
        "duration": 30,
        "start_time": "2023-05-29T08:34:50.784Z"
      },
      {
        "duration": 4,
        "start_time": "2023-05-29T08:35:42.108Z"
      },
      {
        "duration": 4,
        "start_time": "2023-05-29T08:35:50.788Z"
      },
      {
        "duration": 328,
        "start_time": "2023-05-29T08:36:17.591Z"
      },
      {
        "duration": 970,
        "start_time": "2023-05-29T08:36:40.051Z"
      },
      {
        "duration": 755,
        "start_time": "2023-05-29T08:36:55.807Z"
      },
      {
        "duration": 10270,
        "start_time": "2023-05-29T08:37:40.715Z"
      },
      {
        "duration": 254,
        "start_time": "2023-05-29T08:37:58.505Z"
      },
      {
        "duration": 2301,
        "start_time": "2023-05-29T08:38:26.838Z"
      },
      {
        "duration": 6,
        "start_time": "2023-05-29T08:38:29.142Z"
      },
      {
        "duration": 1147,
        "start_time": "2023-05-29T08:38:29.150Z"
      },
      {
        "duration": 3,
        "start_time": "2023-05-29T08:38:30.299Z"
      },
      {
        "duration": 1792,
        "start_time": "2023-05-29T08:38:30.304Z"
      },
      {
        "duration": 1588,
        "start_time": "2023-05-29T08:38:32.098Z"
      },
      {
        "duration": 642,
        "start_time": "2023-05-29T08:38:33.690Z"
      },
      {
        "duration": 245,
        "start_time": "2023-05-29T08:38:34.333Z"
      },
      {
        "duration": 33,
        "start_time": "2023-05-29T08:38:34.579Z"
      },
      {
        "duration": 223,
        "start_time": "2023-05-29T08:38:34.615Z"
      },
      {
        "duration": 972,
        "start_time": "2023-05-29T08:38:34.840Z"
      },
      {
        "duration": 2493,
        "start_time": "2023-05-29T08:40:24.988Z"
      },
      {
        "duration": 3499,
        "start_time": "2023-05-29T08:40:48.691Z"
      },
      {
        "duration": 12048,
        "start_time": "2023-05-29T08:42:37.787Z"
      },
      {
        "duration": 13590,
        "start_time": "2023-05-29T08:43:36.996Z"
      },
      {
        "duration": 5,
        "start_time": "2023-05-29T08:44:01.096Z"
      },
      {
        "duration": 18059,
        "start_time": "2023-05-29T08:44:14.417Z"
      },
      {
        "duration": 14203,
        "start_time": "2023-05-29T08:45:46.722Z"
      },
      {
        "duration": 23407,
        "start_time": "2023-05-29T08:47:42.718Z"
      },
      {
        "duration": 9131,
        "start_time": "2023-05-29T08:49:46.386Z"
      },
      {
        "duration": 7610,
        "start_time": "2023-05-29T08:50:22.199Z"
      },
      {
        "duration": 21000,
        "start_time": "2023-05-29T08:51:42.151Z"
      },
      {
        "duration": 2280,
        "start_time": "2023-05-29T08:52:43.212Z"
      },
      {
        "duration": 6,
        "start_time": "2023-05-29T08:52:45.497Z"
      },
      {
        "duration": 1063,
        "start_time": "2023-05-29T08:52:45.505Z"
      },
      {
        "duration": 5,
        "start_time": "2023-05-29T08:52:46.582Z"
      },
      {
        "duration": 1628,
        "start_time": "2023-05-29T08:52:46.590Z"
      },
      {
        "duration": 1793,
        "start_time": "2023-05-29T08:52:48.220Z"
      },
      {
        "duration": 710,
        "start_time": "2023-05-29T08:52:50.015Z"
      },
      {
        "duration": 267,
        "start_time": "2023-05-29T08:52:50.727Z"
      },
      {
        "duration": 42,
        "start_time": "2023-05-29T08:52:50.996Z"
      },
      {
        "duration": 244,
        "start_time": "2023-05-29T08:52:51.058Z"
      },
      {
        "duration": 252,
        "start_time": "2023-05-29T08:54:00.295Z"
      },
      {
        "duration": 20935,
        "start_time": "2023-05-29T08:54:03.344Z"
      },
      {
        "duration": 954,
        "start_time": "2023-05-29T08:56:27.027Z"
      },
      {
        "duration": 1503,
        "start_time": "2023-05-29T08:56:32.719Z"
      },
      {
        "duration": 689,
        "start_time": "2023-05-29T08:56:38.350Z"
      },
      {
        "duration": 231,
        "start_time": "2023-05-29T08:56:43.083Z"
      },
      {
        "duration": 201,
        "start_time": "2023-05-29T08:57:01.693Z"
      },
      {
        "duration": 1327,
        "start_time": "2023-05-29T08:57:04.892Z"
      },
      {
        "duration": 16688,
        "start_time": "2023-05-29T08:57:19.283Z"
      },
      {
        "duration": 285,
        "start_time": "2023-05-29T09:03:06.026Z"
      },
      {
        "duration": 599,
        "start_time": "2023-05-29T09:03:34.179Z"
      },
      {
        "duration": 10831,
        "start_time": "2023-05-29T09:07:10.494Z"
      },
      {
        "duration": 4,
        "start_time": "2023-05-29T09:07:21.327Z"
      },
      {
        "duration": 81,
        "start_time": "2023-05-29T09:10:15.156Z"
      },
      {
        "duration": 176,
        "start_time": "2023-05-29T09:10:41.212Z"
      },
      {
        "duration": 31,
        "start_time": "2023-05-29T09:10:45.993Z"
      },
      {
        "duration": 323,
        "start_time": "2023-05-29T09:10:51.348Z"
      },
      {
        "duration": 469,
        "start_time": "2023-05-29T09:12:22.655Z"
      },
      {
        "duration": 393571,
        "start_time": "2023-05-29T09:19:38.524Z"
      },
      {
        "duration": 211481,
        "start_time": "2023-05-29T09:30:32.402Z"
      },
      {
        "duration": 381146,
        "start_time": "2023-05-29T09:45:14.245Z"
      },
      {
        "duration": 78,
        "start_time": "2023-05-29T10:14:00.767Z"
      },
      {
        "duration": 52,
        "start_time": "2023-05-29T10:14:34.057Z"
      },
      {
        "duration": 982551,
        "start_time": "2023-05-29T10:18:00.958Z"
      },
      {
        "duration": 29534,
        "start_time": "2023-05-29T10:35:33.205Z"
      },
      {
        "duration": 29868,
        "start_time": "2023-05-29T10:36:14.947Z"
      },
      {
        "duration": 58,
        "start_time": "2023-05-29T10:37:00.250Z"
      },
      {
        "duration": 69,
        "start_time": "2023-05-29T10:37:09.257Z"
      },
      {
        "duration": 7046,
        "start_time": "2023-05-29T10:53:13.803Z"
      },
      {
        "duration": 1078,
        "start_time": "2023-05-29T10:53:20.852Z"
      },
      {
        "duration": 2924,
        "start_time": "2023-05-29T10:53:21.932Z"
      },
      {
        "duration": 4,
        "start_time": "2023-05-29T10:53:24.858Z"
      },
      {
        "duration": 1403,
        "start_time": "2023-05-29T10:53:24.864Z"
      },
      {
        "duration": 1407,
        "start_time": "2023-05-29T10:53:26.268Z"
      },
      {
        "duration": 517,
        "start_time": "2023-05-29T10:53:27.677Z"
      },
      {
        "duration": 215,
        "start_time": "2023-05-29T10:53:28.197Z"
      },
      {
        "duration": 198,
        "start_time": "2023-05-29T10:53:28.414Z"
      },
      {
        "duration": 15947,
        "start_time": "2023-05-29T10:53:28.614Z"
      },
      {
        "duration": 2665,
        "start_time": "2023-05-29T10:53:44.563Z"
      },
      {
        "duration": 3,
        "start_time": "2023-05-29T10:53:47.230Z"
      },
      {
        "duration": 225,
        "start_time": "2023-05-29T10:53:47.235Z"
      },
      {
        "duration": 710,
        "start_time": "2023-05-29T10:53:47.462Z"
      },
      {
        "duration": 10206,
        "start_time": "2023-05-29T10:53:48.174Z"
      },
      {
        "duration": 4,
        "start_time": "2023-05-29T10:53:58.382Z"
      },
      {
        "duration": 73,
        "start_time": "2023-05-29T10:53:58.387Z"
      },
      {
        "duration": 62,
        "start_time": "2023-05-29T10:53:58.462Z"
      },
      {
        "duration": 179,
        "start_time": "2023-05-29T10:53:58.525Z"
      },
      {
        "duration": 26,
        "start_time": "2023-05-29T10:53:58.706Z"
      },
      {
        "duration": 272,
        "start_time": "2023-05-29T10:53:58.734Z"
      },
      {
        "duration": 274,
        "start_time": "2023-05-29T10:53:59.008Z"
      },
      {
        "duration": 396668,
        "start_time": "2023-05-29T10:53:59.284Z"
      },
      {
        "duration": 2256660,
        "start_time": "2023-05-29T11:00:35.954Z"
      },
      {
        "duration": 109,
        "start_time": "2023-05-29T11:38:12.616Z"
      },
      {
        "duration": 0,
        "start_time": "2023-05-29T11:38:12.726Z"
      },
      {
        "duration": 9,
        "start_time": "2023-05-29T12:08:14.615Z"
      },
      {
        "duration": 35,
        "start_time": "2023-05-29T12:08:31.567Z"
      },
      {
        "duration": 4,
        "start_time": "2023-05-29T12:11:52.859Z"
      },
      {
        "duration": 4,
        "start_time": "2023-05-29T12:11:57.796Z"
      },
      {
        "duration": 11,
        "start_time": "2023-05-29T12:12:30.595Z"
      },
      {
        "duration": 34,
        "start_time": "2023-05-29T12:12:44.333Z"
      },
      {
        "duration": 10,
        "start_time": "2023-05-29T12:13:10.509Z"
      },
      {
        "duration": 39,
        "start_time": "2023-05-29T12:13:17.997Z"
      },
      {
        "duration": 49,
        "start_time": "2023-05-29T12:16:36.144Z"
      },
      {
        "duration": 9,
        "start_time": "2023-05-29T12:16:48.786Z"
      },
      {
        "duration": 5,
        "start_time": "2023-05-29T12:19:18.584Z"
      },
      {
        "duration": 48,
        "start_time": "2023-05-29T12:27:08.499Z"
      },
      {
        "duration": 3,
        "start_time": "2023-05-29T12:27:42.662Z"
      },
      {
        "duration": 6,
        "start_time": "2023-05-29T12:27:51.135Z"
      },
      {
        "duration": 4,
        "start_time": "2023-05-29T12:28:25.637Z"
      },
      {
        "duration": 62,
        "start_time": "2023-05-29T12:51:02.415Z"
      },
      {
        "duration": 236134,
        "start_time": "2023-05-29T12:51:22.312Z"
      },
      {
        "duration": 1725,
        "start_time": "2023-05-29T12:55:35.584Z"
      },
      {
        "duration": 4,
        "start_time": "2023-05-29T12:57:50.648Z"
      },
      {
        "duration": 191307,
        "start_time": "2023-05-29T13:02:17.188Z"
      },
      {
        "duration": 12793,
        "start_time": "2023-05-29T13:10:03.989Z"
      },
      {
        "duration": 5,
        "start_time": "2023-05-29T13:11:57.597Z"
      },
      {
        "duration": 77,
        "start_time": "2023-05-29T13:25:03.284Z"
      },
      {
        "duration": 32,
        "start_time": "2023-05-29T13:25:18.416Z"
      },
      {
        "duration": 4,
        "start_time": "2023-05-29T13:25:25.838Z"
      },
      {
        "duration": 9,
        "start_time": "2023-05-29T13:26:22.311Z"
      },
      {
        "duration": 10,
        "start_time": "2023-05-29T13:27:07.090Z"
      },
      {
        "duration": 54,
        "start_time": "2023-05-29T13:37:48.190Z"
      },
      {
        "duration": 1296859,
        "start_time": "2023-05-29T13:38:00.022Z"
      },
      {
        "duration": 10629,
        "start_time": "2023-05-29T14:03:37.179Z"
      },
      {
        "duration": 164605,
        "start_time": "2023-05-29T14:03:54.046Z"
      },
      {
        "duration": 3,
        "start_time": "2023-05-29T14:11:23.379Z"
      },
      {
        "duration": 4,
        "start_time": "2023-05-29T14:13:09.186Z"
      },
      {
        "duration": 1990,
        "start_time": "2023-05-29T14:13:28.032Z"
      },
      {
        "duration": 4,
        "start_time": "2023-05-29T14:13:30.025Z"
      },
      {
        "duration": 991,
        "start_time": "2023-05-29T14:13:30.032Z"
      },
      {
        "duration": 3,
        "start_time": "2023-05-29T14:13:31.026Z"
      },
      {
        "duration": 1367,
        "start_time": "2023-05-29T14:13:31.031Z"
      },
      {
        "duration": 1231,
        "start_time": "2023-05-29T14:13:32.401Z"
      },
      {
        "duration": 537,
        "start_time": "2023-05-29T14:13:33.634Z"
      },
      {
        "duration": 196,
        "start_time": "2023-05-29T14:13:34.173Z"
      },
      {
        "duration": 181,
        "start_time": "2023-05-29T14:13:34.371Z"
      },
      {
        "duration": 16304,
        "start_time": "2023-05-29T14:13:34.566Z"
      },
      {
        "duration": 2107,
        "start_time": "2023-05-29T14:13:50.872Z"
      },
      {
        "duration": 2,
        "start_time": "2023-05-29T14:13:52.981Z"
      },
      {
        "duration": 210,
        "start_time": "2023-05-29T14:13:52.985Z"
      },
      {
        "duration": 660,
        "start_time": "2023-05-29T14:13:53.196Z"
      },
      {
        "duration": 10753,
        "start_time": "2023-05-29T14:13:53.857Z"
      },
      {
        "duration": 4,
        "start_time": "2023-05-29T14:14:04.612Z"
      },
      {
        "duration": 70,
        "start_time": "2023-05-29T14:14:04.618Z"
      },
      {
        "duration": 94,
        "start_time": "2023-05-29T14:14:04.690Z"
      },
      {
        "duration": 193,
        "start_time": "2023-05-29T14:14:04.785Z"
      },
      {
        "duration": 32,
        "start_time": "2023-05-29T14:14:04.980Z"
      },
      {
        "duration": 293,
        "start_time": "2023-05-29T14:14:05.014Z"
      },
      {
        "duration": 320,
        "start_time": "2023-05-29T14:14:05.308Z"
      },
      {
        "duration": 5,
        "start_time": "2023-05-29T14:14:05.630Z"
      },
      {
        "duration": 378013,
        "start_time": "2023-05-29T14:14:05.638Z"
      },
      {
        "duration": 185355,
        "start_time": "2023-05-29T14:20:23.652Z"
      },
      {
        "duration": 44058,
        "start_time": "2023-05-29T14:23:29.010Z"
      },
      {
        "duration": 5,
        "start_time": "2023-05-29T14:24:13.070Z"
      },
      {
        "duration": 450415,
        "start_time": "2023-05-29T14:24:13.079Z"
      },
      {
        "duration": 4,
        "start_time": "2023-05-29T14:31:43.496Z"
      },
      {
        "duration": 5,
        "start_time": "2023-05-29T14:31:43.502Z"
      },
      {
        "duration": 58,
        "start_time": "2023-05-30T10:10:16.284Z"
      },
      {
        "duration": 8268,
        "start_time": "2023-05-30T10:10:22.655Z"
      },
      {
        "duration": 1146,
        "start_time": "2023-05-30T10:10:30.926Z"
      },
      {
        "duration": 1496,
        "start_time": "2023-05-30T10:10:32.073Z"
      },
      {
        "duration": 2,
        "start_time": "2023-05-30T10:10:33.571Z"
      },
      {
        "duration": 2923,
        "start_time": "2023-05-30T10:10:33.575Z"
      },
      {
        "duration": 2254,
        "start_time": "2023-05-30T10:10:36.508Z"
      },
      {
        "duration": 664,
        "start_time": "2023-05-30T10:10:38.764Z"
      },
      {
        "duration": 257,
        "start_time": "2023-05-30T10:10:39.430Z"
      },
      {
        "duration": 266,
        "start_time": "2023-05-30T10:10:39.689Z"
      },
      {
        "duration": 18088,
        "start_time": "2023-05-30T10:10:39.958Z"
      },
      {
        "duration": 2927,
        "start_time": "2023-05-30T10:10:58.048Z"
      },
      {
        "duration": 3,
        "start_time": "2023-05-30T10:11:00.977Z"
      },
      {
        "duration": 301,
        "start_time": "2023-05-30T10:11:00.981Z"
      },
      {
        "duration": 822,
        "start_time": "2023-05-30T10:11:01.284Z"
      },
      {
        "duration": 12168,
        "start_time": "2023-05-30T10:11:02.108Z"
      },
      {
        "duration": 5,
        "start_time": "2023-05-30T10:11:14.278Z"
      },
      {
        "duration": 75,
        "start_time": "2023-05-30T10:11:14.285Z"
      },
      {
        "duration": 122,
        "start_time": "2023-05-30T10:11:14.361Z"
      },
      {
        "duration": 223,
        "start_time": "2023-05-30T10:11:14.485Z"
      },
      {
        "duration": 33,
        "start_time": "2023-05-30T10:11:14.713Z"
      },
      {
        "duration": 363,
        "start_time": "2023-05-30T10:11:14.748Z"
      },
      {
        "duration": 370,
        "start_time": "2023-05-30T10:11:15.117Z"
      },
      {
        "duration": 108,
        "start_time": "2023-05-30T10:11:15.490Z"
      },
      {
        "duration": 0,
        "start_time": "2023-05-30T10:11:15.602Z"
      },
      {
        "duration": 0,
        "start_time": "2023-05-30T10:11:15.604Z"
      },
      {
        "duration": 0,
        "start_time": "2023-05-30T10:11:15.605Z"
      },
      {
        "duration": 0,
        "start_time": "2023-05-30T10:11:15.606Z"
      },
      {
        "duration": 0,
        "start_time": "2023-05-30T10:11:15.607Z"
      },
      {
        "duration": 0,
        "start_time": "2023-05-30T10:11:15.608Z"
      },
      {
        "duration": 1,
        "start_time": "2023-05-30T10:11:15.609Z"
      },
      {
        "duration": 0,
        "start_time": "2023-05-30T10:11:15.611Z"
      },
      {
        "duration": 22,
        "start_time": "2023-05-30T10:11:33.697Z"
      },
      {
        "duration": 73,
        "start_time": "2023-05-30T10:12:03.521Z"
      },
      {
        "duration": 3,
        "start_time": "2023-05-30T10:12:46.318Z"
      },
      {
        "duration": 6,
        "start_time": "2023-05-30T10:12:55.424Z"
      },
      {
        "duration": 4,
        "start_time": "2023-05-30T10:13:15.946Z"
      },
      {
        "duration": 15,
        "start_time": "2023-05-30T10:21:54.355Z"
      },
      {
        "duration": 21,
        "start_time": "2023-05-30T10:23:47.187Z"
      },
      {
        "duration": 237,
        "start_time": "2023-05-30T10:25:17.347Z"
      },
      {
        "duration": 4,
        "start_time": "2023-05-30T10:25:47.606Z"
      },
      {
        "duration": 3,
        "start_time": "2023-05-30T10:32:30.112Z"
      },
      {
        "duration": 19,
        "start_time": "2023-05-30T10:32:30.118Z"
      },
      {
        "duration": 514686,
        "start_time": "2023-05-30T10:32:30.138Z"
      },
      {
        "duration": 235928,
        "start_time": "2023-05-30T10:41:04.826Z"
      },
      {
        "duration": 60719,
        "start_time": "2023-05-30T10:45:00.757Z"
      },
      {
        "duration": 4,
        "start_time": "2023-05-30T10:46:01.478Z"
      },
      {
        "duration": 190251,
        "start_time": "2023-05-30T10:46:01.483Z"
      },
      {
        "duration": 4,
        "start_time": "2023-05-30T10:49:11.736Z"
      },
      {
        "duration": 73,
        "start_time": "2023-05-30T12:20:11.384Z"
      },
      {
        "duration": 2344433,
        "start_time": "2023-05-30T12:20:11.459Z"
      },
      {
        "duration": 60,
        "start_time": "2023-05-30T12:59:15.894Z"
      },
      {
        "duration": 0,
        "start_time": "2023-05-30T12:59:15.970Z"
      },
      {
        "duration": 2183966,
        "start_time": "2023-05-30T12:59:35.697Z"
      },
      {
        "duration": 32,
        "start_time": "2023-05-30T13:38:07.339Z"
      },
      {
        "duration": 5,
        "start_time": "2023-05-30T13:38:11.389Z"
      },
      {
        "duration": 5,
        "start_time": "2023-05-30T13:38:16.485Z"
      },
      {
        "duration": 6,
        "start_time": "2023-05-30T13:38:24.524Z"
      },
      {
        "duration": 5,
        "start_time": "2023-05-30T13:38:39.389Z"
      },
      {
        "duration": 35,
        "start_time": "2023-05-30T13:48:22.543Z"
      },
      {
        "duration": 72,
        "start_time": "2023-05-30T13:48:49.776Z"
      },
      {
        "duration": 52,
        "start_time": "2023-05-30T13:49:06.904Z"
      },
      {
        "duration": 121,
        "start_time": "2023-05-30T13:49:55.416Z"
      },
      {
        "duration": 102,
        "start_time": "2023-05-30T13:50:19.036Z"
      },
      {
        "duration": 146,
        "start_time": "2023-05-30T13:50:29.986Z"
      },
      {
        "duration": 117,
        "start_time": "2023-05-30T13:51:27.990Z"
      },
      {
        "duration": 340,
        "start_time": "2023-05-30T13:51:43.965Z"
      },
      {
        "duration": 499,
        "start_time": "2023-05-30T13:51:50.053Z"
      },
      {
        "duration": 736,
        "start_time": "2023-05-30T13:51:59.128Z"
      },
      {
        "duration": 595,
        "start_time": "2023-05-30T13:56:43.188Z"
      },
      {
        "duration": 669,
        "start_time": "2023-05-30T13:58:08.697Z"
      },
      {
        "duration": 3,
        "start_time": "2023-05-30T14:01:22.586Z"
      },
      {
        "duration": 133446,
        "start_time": "2023-05-30T14:02:19.721Z"
      },
      {
        "duration": 3,
        "start_time": "2023-05-30T14:04:40.593Z"
      },
      {
        "duration": 387478,
        "start_time": "2023-05-30T14:05:34.038Z"
      },
      {
        "duration": 14,
        "start_time": "2023-05-30T14:14:15.322Z"
      },
      {
        "duration": 6387,
        "start_time": "2023-05-30T14:33:50.553Z"
      },
      {
        "duration": 5011,
        "start_time": "2023-05-30T14:38:49.014Z"
      },
      {
        "duration": 13,
        "start_time": "2023-05-30T14:38:54.027Z"
      },
      {
        "duration": 2631,
        "start_time": "2023-05-30T14:38:54.041Z"
      },
      {
        "duration": 4,
        "start_time": "2023-05-30T14:38:56.674Z"
      },
      {
        "duration": 2170,
        "start_time": "2023-05-30T14:38:56.681Z"
      },
      {
        "duration": 3519,
        "start_time": "2023-05-30T14:38:58.853Z"
      },
      {
        "duration": 1233,
        "start_time": "2023-05-30T14:39:02.376Z"
      },
      {
        "duration": 496,
        "start_time": "2023-05-30T14:39:03.610Z"
      },
      {
        "duration": 527,
        "start_time": "2023-05-30T14:39:04.111Z"
      },
      {
        "duration": 27464,
        "start_time": "2023-05-30T14:39:04.646Z"
      },
      {
        "duration": 3256,
        "start_time": "2023-05-30T14:39:32.117Z"
      },
      {
        "duration": 562,
        "start_time": "2023-05-30T14:39:35.375Z"
      },
      {
        "duration": 310,
        "start_time": "2023-05-30T14:39:35.943Z"
      },
      {
        "duration": 1084,
        "start_time": "2023-05-30T14:39:36.261Z"
      },
      {
        "duration": 18287,
        "start_time": "2023-05-30T14:39:37.350Z"
      },
      {
        "duration": 6,
        "start_time": "2023-05-30T14:39:55.642Z"
      },
      {
        "duration": 91,
        "start_time": "2023-05-30T14:39:55.653Z"
      },
      {
        "duration": 152,
        "start_time": "2023-05-30T14:39:55.747Z"
      },
      {
        "duration": 282,
        "start_time": "2023-05-30T14:39:55.901Z"
      },
      {
        "duration": 39,
        "start_time": "2023-05-30T14:39:56.185Z"
      },
      {
        "duration": 547,
        "start_time": "2023-05-30T14:39:56.225Z"
      },
      {
        "duration": 522,
        "start_time": "2023-05-30T14:39:56.779Z"
      },
      {
        "duration": 7,
        "start_time": "2023-05-30T14:39:57.305Z"
      },
      {
        "duration": 242,
        "start_time": "2023-05-30T14:39:57.314Z"
      },
      {
        "duration": 520284,
        "start_time": "2023-05-30T14:39:57.560Z"
      },
      {
        "duration": 4,
        "start_time": "2023-05-30T14:48:37.845Z"
      },
      {
        "duration": 324751,
        "start_time": "2023-05-30T14:48:37.851Z"
      },
      {
        "duration": 22,
        "start_time": "2023-05-30T14:54:02.604Z"
      },
      {
        "duration": 53,
        "start_time": "2023-05-30T14:54:02.640Z"
      },
      {
        "duration": 136,
        "start_time": "2023-05-30T14:54:02.695Z"
      },
      {
        "duration": 106,
        "start_time": "2023-05-30T18:12:26.301Z"
      },
      {
        "duration": 7788,
        "start_time": "2023-05-30T18:12:41.325Z"
      },
      {
        "duration": 1085,
        "start_time": "2023-05-30T18:12:49.116Z"
      },
      {
        "duration": 2977,
        "start_time": "2023-05-30T18:12:50.203Z"
      },
      {
        "duration": 2,
        "start_time": "2023-05-30T18:12:53.181Z"
      },
      {
        "duration": 1394,
        "start_time": "2023-05-30T18:12:53.185Z"
      },
      {
        "duration": 1452,
        "start_time": "2023-05-30T18:12:54.581Z"
      },
      {
        "duration": 633,
        "start_time": "2023-05-30T18:12:56.035Z"
      },
      {
        "duration": 254,
        "start_time": "2023-05-30T18:12:56.670Z"
      },
      {
        "duration": 238,
        "start_time": "2023-05-30T18:12:56.926Z"
      },
      {
        "duration": 16433,
        "start_time": "2023-05-30T18:12:57.166Z"
      },
      {
        "duration": 2714,
        "start_time": "2023-05-30T18:13:13.601Z"
      },
      {
        "duration": 528,
        "start_time": "2023-05-30T18:13:16.326Z"
      },
      {
        "duration": 222,
        "start_time": "2023-05-30T18:13:16.856Z"
      },
      {
        "duration": 611,
        "start_time": "2023-05-30T18:13:17.081Z"
      },
      {
        "duration": 10920,
        "start_time": "2023-05-30T18:13:17.694Z"
      },
      {
        "duration": 11,
        "start_time": "2023-05-30T18:13:28.616Z"
      },
      {
        "duration": 59,
        "start_time": "2023-05-30T18:13:28.629Z"
      },
      {
        "duration": 95,
        "start_time": "2023-05-30T18:13:28.690Z"
      },
      {
        "duration": 181,
        "start_time": "2023-05-30T18:13:28.787Z"
      },
      {
        "duration": 25,
        "start_time": "2023-05-30T18:13:28.970Z"
      },
      {
        "duration": 297,
        "start_time": "2023-05-30T18:13:28.997Z"
      },
      {
        "duration": 277,
        "start_time": "2023-05-30T18:13:29.296Z"
      },
      {
        "duration": 138,
        "start_time": "2023-05-30T18:13:32.327Z"
      },
      {
        "duration": 56,
        "start_time": "2023-05-30T18:14:29.010Z"
      },
      {
        "duration": 5,
        "start_time": "2023-05-30T18:14:43.006Z"
      },
      {
        "duration": 1523925,
        "start_time": "2023-05-30T18:14:43.013Z"
      },
      {
        "duration": 4,
        "start_time": "2023-05-30T18:40:06.940Z"
      },
      {
        "duration": 581,
        "start_time": "2023-05-30T18:40:06.946Z"
      },
      {
        "duration": 108,
        "start_time": "2023-05-31T06:11:40.499Z"
      },
      {
        "duration": 7856,
        "start_time": "2023-05-31T06:12:59.300Z"
      },
      {
        "duration": 1051,
        "start_time": "2023-05-31T06:13:07.159Z"
      },
      {
        "duration": 2840,
        "start_time": "2023-05-31T06:13:08.212Z"
      },
      {
        "duration": 2,
        "start_time": "2023-05-31T06:13:11.054Z"
      },
      {
        "duration": 1393,
        "start_time": "2023-05-31T06:13:11.058Z"
      },
      {
        "duration": 1303,
        "start_time": "2023-05-31T06:13:12.453Z"
      },
      {
        "duration": 614,
        "start_time": "2023-05-31T06:13:13.758Z"
      },
      {
        "duration": 225,
        "start_time": "2023-05-31T06:13:14.374Z"
      },
      {
        "duration": 222,
        "start_time": "2023-05-31T06:13:14.601Z"
      },
      {
        "duration": 14557,
        "start_time": "2023-05-31T06:13:14.825Z"
      },
      {
        "duration": 2655,
        "start_time": "2023-05-31T06:13:29.384Z"
      },
      {
        "duration": 542,
        "start_time": "2023-05-31T06:13:32.041Z"
      },
      {
        "duration": 207,
        "start_time": "2023-05-31T06:13:32.584Z"
      },
      {
        "duration": 519,
        "start_time": "2023-05-31T06:13:32.793Z"
      },
      {
        "duration": 9183,
        "start_time": "2023-05-31T06:13:33.314Z"
      },
      {
        "duration": 5,
        "start_time": "2023-05-31T06:13:42.499Z"
      },
      {
        "duration": 77,
        "start_time": "2023-05-31T06:13:42.506Z"
      },
      {
        "duration": 73,
        "start_time": "2023-05-31T06:13:42.585Z"
      },
      {
        "duration": 164,
        "start_time": "2023-05-31T06:13:42.660Z"
      },
      {
        "duration": 35,
        "start_time": "2023-05-31T06:13:42.826Z"
      },
      {
        "duration": 258,
        "start_time": "2023-05-31T06:13:42.863Z"
      },
      {
        "duration": 258,
        "start_time": "2023-05-31T06:13:43.123Z"
      },
      {
        "duration": 3,
        "start_time": "2023-05-31T06:13:43.383Z"
      },
      {
        "duration": 10,
        "start_time": "2023-05-31T06:13:43.387Z"
      },
      {
        "duration": 377477,
        "start_time": "2023-05-31T06:13:43.398Z"
      },
      {
        "duration": 297,
        "start_time": "2023-05-31T06:20:12.265Z"
      },
      {
        "duration": 276,
        "start_time": "2023-05-31T06:21:42.505Z"
      },
      {
        "duration": 123,
        "start_time": "2023-05-31T06:21:51.136Z"
      },
      {
        "duration": 67,
        "start_time": "2023-05-31T06:22:30.327Z"
      },
      {
        "duration": 4,
        "start_time": "2023-05-31T06:31:28.247Z"
      },
      {
        "duration": 585935,
        "start_time": "2023-05-31T06:32:14.687Z"
      },
      {
        "duration": 57,
        "start_time": "2023-05-31T06:44:37.371Z"
      },
      {
        "duration": 4,
        "start_time": "2023-05-31T06:44:50.272Z"
      },
      {
        "duration": 83,
        "start_time": "2023-05-31T06:45:48.751Z"
      },
      {
        "duration": 91,
        "start_time": "2023-05-31T06:47:19.651Z"
      },
      {
        "duration": 100,
        "start_time": "2023-05-31T06:50:09.605Z"
      },
      {
        "duration": 91,
        "start_time": "2023-05-31T06:50:55.459Z"
      },
      {
        "duration": 82,
        "start_time": "2023-05-31T06:51:32.867Z"
      },
      {
        "duration": 54,
        "start_time": "2023-05-31T06:57:46.985Z"
      },
      {
        "duration": 2088,
        "start_time": "2023-05-31T07:04:43.641Z"
      },
      {
        "duration": 4,
        "start_time": "2023-05-31T07:04:45.732Z"
      },
      {
        "duration": 977,
        "start_time": "2023-05-31T07:04:45.738Z"
      },
      {
        "duration": 3,
        "start_time": "2023-05-31T07:04:46.717Z"
      },
      {
        "duration": 1359,
        "start_time": "2023-05-31T07:04:46.722Z"
      },
      {
        "duration": 1310,
        "start_time": "2023-05-31T07:04:48.082Z"
      },
      {
        "duration": 569,
        "start_time": "2023-05-31T07:04:49.394Z"
      },
      {
        "duration": 241,
        "start_time": "2023-05-31T07:04:49.965Z"
      },
      {
        "duration": 199,
        "start_time": "2023-05-31T07:04:50.208Z"
      },
      {
        "duration": 15781,
        "start_time": "2023-05-31T07:04:50.410Z"
      },
      {
        "duration": 2594,
        "start_time": "2023-05-31T07:05:06.192Z"
      },
      {
        "duration": 411,
        "start_time": "2023-05-31T07:05:08.787Z"
      },
      {
        "duration": 239,
        "start_time": "2023-05-31T07:05:09.200Z"
      },
      {
        "duration": 573,
        "start_time": "2023-05-31T07:05:09.441Z"
      },
      {
        "duration": 10026,
        "start_time": "2023-05-31T07:05:10.017Z"
      },
      {
        "duration": 9,
        "start_time": "2023-05-31T07:05:20.044Z"
      },
      {
        "duration": 67,
        "start_time": "2023-05-31T07:05:20.054Z"
      },
      {
        "duration": 85,
        "start_time": "2023-05-31T07:05:20.122Z"
      },
      {
        "duration": 190,
        "start_time": "2023-05-31T07:05:20.209Z"
      },
      {
        "duration": 23,
        "start_time": "2023-05-31T07:05:20.401Z"
      },
      {
        "duration": 293,
        "start_time": "2023-05-31T07:05:20.426Z"
      },
      {
        "duration": 304,
        "start_time": "2023-05-31T07:05:20.721Z"
      },
      {
        "duration": 3,
        "start_time": "2023-05-31T07:05:21.026Z"
      },
      {
        "duration": 26,
        "start_time": "2023-05-31T07:05:21.031Z"
      },
      {
        "duration": 345992,
        "start_time": "2023-05-31T07:05:21.060Z"
      },
      {
        "duration": 289,
        "start_time": "2023-05-31T07:11:07.054Z"
      },
      {
        "duration": 2,
        "start_time": "2023-05-31T07:21:39.453Z"
      },
      {
        "duration": 21,
        "start_time": "2023-05-31T07:21:39.458Z"
      },
      {
        "duration": 7,
        "start_time": "2023-05-31T07:21:39.480Z"
      },
      {
        "duration": 611236,
        "start_time": "2023-05-31T07:21:39.489Z"
      },
      {
        "duration": 91,
        "start_time": "2023-05-31T07:31:50.727Z"
      },
      {
        "duration": 2,
        "start_time": "2023-05-31T07:31:50.820Z"
      },
      {
        "duration": 32,
        "start_time": "2023-05-31T07:31:50.823Z"
      },
      {
        "duration": 98297,
        "start_time": "2023-05-31T07:31:50.857Z"
      },
      {
        "duration": 509,
        "start_time": "2023-05-31T07:33:29.156Z"
      },
      {
        "duration": 90,
        "start_time": "2023-05-31T07:33:29.667Z"
      },
      {
        "duration": 285,
        "start_time": "2023-05-31T07:33:29.758Z"
      },
      {
        "duration": 101,
        "start_time": "2023-05-31T07:33:30.049Z"
      },
      {
        "duration": 512,
        "start_time": "2023-05-31T07:33:30.152Z"
      },
      {
        "duration": 4,
        "start_time": "2023-05-31T07:35:54.661Z"
      },
      {
        "duration": 6,
        "start_time": "2023-05-31T07:36:25.057Z"
      },
      {
        "duration": 293,
        "start_time": "2023-05-31T07:39:46.080Z"
      },
      {
        "duration": 93,
        "start_time": "2023-05-31T07:40:06.950Z"
      },
      {
        "duration": 440,
        "start_time": "2023-05-31T07:40:31.524Z"
      },
      {
        "duration": 5,
        "start_time": "2023-05-31T07:46:58.048Z"
      },
      {
        "duration": 3,
        "start_time": "2023-05-31T07:52:19.809Z"
      },
      {
        "duration": 11,
        "start_time": "2023-05-31T07:52:19.814Z"
      },
      {
        "duration": 109925,
        "start_time": "2023-05-31T07:52:19.826Z"
      },
      {
        "duration": 505,
        "start_time": "2023-05-31T07:54:09.753Z"
      },
      {
        "duration": 6,
        "start_time": "2023-05-31T07:54:10.259Z"
      },
      {
        "duration": 330,
        "start_time": "2023-05-31T07:54:10.267Z"
      },
      {
        "duration": 101,
        "start_time": "2023-05-31T07:54:10.599Z"
      },
      {
        "duration": 550,
        "start_time": "2023-05-31T07:54:10.702Z"
      },
      {
        "duration": 295,
        "start_time": "2023-05-31T07:58:52.710Z"
      },
      {
        "duration": 114,
        "start_time": "2023-05-31T07:58:56.653Z"
      },
      {
        "duration": 539,
        "start_time": "2023-05-31T07:58:59.838Z"
      },
      {
        "duration": 473,
        "start_time": "2023-05-31T08:20:46.802Z"
      },
      {
        "duration": 515,
        "start_time": "2023-05-31T08:21:49.843Z"
      },
      {
        "duration": 4,
        "start_time": "2023-05-31T08:21:59.695Z"
      },
      {
        "duration": 2094,
        "start_time": "2023-05-31T08:47:33.952Z"
      },
      {
        "duration": 5,
        "start_time": "2023-05-31T08:47:36.048Z"
      },
      {
        "duration": 889,
        "start_time": "2023-05-31T08:47:36.054Z"
      },
      {
        "duration": 3,
        "start_time": "2023-05-31T08:47:36.949Z"
      },
      {
        "duration": 1332,
        "start_time": "2023-05-31T08:47:36.953Z"
      },
      {
        "duration": 1318,
        "start_time": "2023-05-31T08:47:38.287Z"
      },
      {
        "duration": 599,
        "start_time": "2023-05-31T08:47:39.607Z"
      },
      {
        "duration": 220,
        "start_time": "2023-05-31T08:47:40.208Z"
      },
      {
        "duration": 193,
        "start_time": "2023-05-31T08:47:40.430Z"
      },
      {
        "duration": 16011,
        "start_time": "2023-05-31T08:47:40.625Z"
      },
      {
        "duration": 2373,
        "start_time": "2023-05-31T08:47:56.638Z"
      },
      {
        "duration": 412,
        "start_time": "2023-05-31T08:47:59.013Z"
      },
      {
        "duration": 215,
        "start_time": "2023-05-31T08:47:59.426Z"
      },
      {
        "duration": 774,
        "start_time": "2023-05-31T08:47:59.649Z"
      },
      {
        "duration": 10354,
        "start_time": "2023-05-31T08:48:00.425Z"
      },
      {
        "duration": 5,
        "start_time": "2023-05-31T08:48:10.781Z"
      },
      {
        "duration": 86,
        "start_time": "2023-05-31T08:48:10.788Z"
      },
      {
        "duration": 89,
        "start_time": "2023-05-31T08:48:10.877Z"
      },
      {
        "duration": 195,
        "start_time": "2023-05-31T08:48:10.968Z"
      },
      {
        "duration": 26,
        "start_time": "2023-05-31T08:48:11.165Z"
      },
      {
        "duration": 314,
        "start_time": "2023-05-31T08:48:11.192Z"
      },
      {
        "duration": 332,
        "start_time": "2023-05-31T08:48:11.508Z"
      },
      {
        "duration": 3,
        "start_time": "2023-05-31T08:48:11.842Z"
      },
      {
        "duration": 6,
        "start_time": "2023-05-31T08:48:11.851Z"
      },
      {
        "duration": 340467,
        "start_time": "2023-05-31T08:48:11.858Z"
      },
      {
        "duration": 318,
        "start_time": "2023-05-31T08:53:52.327Z"
      },
      {
        "duration": 5,
        "start_time": "2023-05-31T08:53:52.646Z"
      },
      {
        "duration": 9,
        "start_time": "2023-05-31T08:53:52.654Z"
      },
      {
        "duration": 616085,
        "start_time": "2023-05-31T08:53:52.664Z"
      },
      {
        "duration": 103,
        "start_time": "2023-05-31T09:04:08.751Z"
      },
      {
        "duration": 3,
        "start_time": "2023-05-31T09:04:08.856Z"
      },
      {
        "duration": 21,
        "start_time": "2023-05-31T09:04:08.861Z"
      },
      {
        "duration": 549085,
        "start_time": "2023-05-31T09:04:08.884Z"
      },
      {
        "duration": 594,
        "start_time": "2023-05-31T09:13:17.971Z"
      },
      {
        "duration": 5,
        "start_time": "2023-05-31T09:13:18.567Z"
      },
      {
        "duration": 585,
        "start_time": "2023-05-31T09:13:18.573Z"
      },
      {
        "duration": 3,
        "start_time": "2023-05-31T09:13:19.160Z"
      },
      {
        "duration": 237,
        "start_time": "2023-05-31T09:27:51.785Z"
      },
      {
        "duration": 88,
        "start_time": "2023-05-31T09:28:41.091Z"
      },
      {
        "duration": 463,
        "start_time": "2023-05-31T09:28:53.309Z"
      },
      {
        "duration": 488,
        "start_time": "2023-05-31T09:35:35.088Z"
      },
      {
        "duration": 15,
        "start_time": "2023-05-31T09:35:39.913Z"
      },
      {
        "duration": 251,
        "start_time": "2023-05-31T09:35:43.883Z"
      },
      {
        "duration": 89,
        "start_time": "2023-05-31T09:35:57.351Z"
      },
      {
        "duration": 1246,
        "start_time": "2023-06-02T10:54:31.279Z"
      },
      {
        "duration": 54,
        "start_time": "2023-06-02T10:54:39.719Z"
      },
      {
        "duration": 103,
        "start_time": "2023-06-02T10:56:21.754Z"
      },
      {
        "duration": 27,
        "start_time": "2023-06-02T10:56:45.386Z"
      },
      {
        "duration": 15,
        "start_time": "2023-06-02T10:56:58.022Z"
      },
      {
        "duration": 8,
        "start_time": "2023-06-02T11:05:25.666Z"
      },
      {
        "duration": 7212,
        "start_time": "2023-06-06T09:21:08.393Z"
      },
      {
        "duration": 1026,
        "start_time": "2023-06-06T09:21:15.607Z"
      },
      {
        "duration": 3063,
        "start_time": "2023-06-06T09:21:16.635Z"
      },
      {
        "duration": 3,
        "start_time": "2023-06-06T09:21:19.700Z"
      },
      {
        "duration": 1497,
        "start_time": "2023-06-06T09:21:19.705Z"
      },
      {
        "duration": 1355,
        "start_time": "2023-06-06T09:21:21.203Z"
      },
      {
        "duration": 580,
        "start_time": "2023-06-06T09:21:22.560Z"
      },
      {
        "duration": 214,
        "start_time": "2023-06-06T09:21:58.237Z"
      },
      {
        "duration": 31,
        "start_time": "2023-06-06T09:23:20.720Z"
      },
      {
        "duration": 31,
        "start_time": "2023-06-06T09:23:29.919Z"
      },
      {
        "duration": 30,
        "start_time": "2023-06-06T09:23:39.093Z"
      },
      {
        "duration": 35,
        "start_time": "2023-06-06T09:24:14.677Z"
      }
    ],
    "kernelspec": {
      "display_name": "Python 3 (ipykernel)",
      "language": "python",
      "name": "python3"
    },
    "language_info": {
      "codemirror_mode": {
        "name": "ipython",
        "version": 3
      },
      "file_extension": ".py",
      "mimetype": "text/x-python",
      "name": "python",
      "nbconvert_exporter": "python",
      "pygments_lexer": "ipython3",
      "version": "3.9.5"
    },
    "toc": {
      "base_numbering": 1,
      "nav_menu": {},
      "number_sections": true,
      "sideBar": true,
      "skip_h1_title": true,
      "title_cell": "Table of Contents",
      "title_sidebar": "Contents",
      "toc_cell": false,
      "toc_position": {
        "height": "calc(100% - 180px)",
        "left": "10px",
        "top": "150px",
        "width": "205px"
      },
      "toc_section_display": true,
      "toc_window_display": true
    },
    "colab": {
      "provenance": []
    }
  },
  "nbformat": 4,
  "nbformat_minor": 0
}