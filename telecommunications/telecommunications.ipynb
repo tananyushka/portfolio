{
  "cells": [
    {
      "cell_type": "markdown",
      "metadata": {
        "id": "VUYUKLY3f-MF"
      },
      "source": [
        "# Проект телекоммуникации"
      ]
    },
    {
      "cell_type": "markdown",
      "metadata": {
        "id": "nxTsEvgBf-MG"
      },
      "source": [
        "## Описание проекта\n",
        "\n",
        "Оператор связи «Ниединогоразрыва.ком» хочет научиться прогнозировать отток клиентов. Если выяснится, что пользователь планирует уйти, ему будут предложены промокоды и специальные условия. Команда оператора собрала персональные данные о некоторых клиентах, информацию об их тарифах и договорах. Таким образом, нам необходимо на основании предоставленных исторических данных о поведении клиентов и расторжении договоров с оператором спрогнозировать, уйдёт клиент от оператора в ближайшее время или нет."
      ]
    },
    {
      "cell_type": "markdown",
      "metadata": {
        "id": "iwKSd5huf-MH"
      },
      "source": [
        "### Описание услуг\n",
        "\n",
        "Оператор предоставляет два основных типа услуг:\n",
        "\n",
        " 1. Стационарную телефонную связь. Возможно подключение телефонного аппарата к нескольким линиям одновременно.\n",
        " 2. Интернет. Подключение может быть двух типов: через телефонную линию (DSL, от англ. digital subscriber line, «цифровая абонентская линия») или оптоволоконный кабель (Fiber optic).\n",
        "\n",
        "Также доступны такие услуги:\n",
        "\n",
        " * Интернет-безопасность: антивирус (DeviceProtection) и блокировка небезопасных сайтов (OnlineSecurity);\n",
        " * Выделенная линия технической поддержки (TechSupport);\n",
        " * Облачное хранилище файлов для резервного копирования данных (OnlineBackup);\n",
        " * Стриминговое телевидение (StreamingTV) и каталог фильмов (StreamingMovies).\n",
        "\n",
        "За услуги клиенты могут платить каждый месяц или заключить договор на 1–2 года. Доступны различные способы расчёта и возможность получения электронного чека.\n"
      ]
    },
    {
      "cell_type": "markdown",
      "metadata": {
        "id": "3G_gHhgIf-MH"
      },
      "source": [
        "### Описание данных\n",
        "\n",
        "Данные состоят из файлов, полученных из разных источников:\n",
        "\n",
        " * contract_new.csv — информация о договоре;\n",
        " * personal_new.csv — персональные данные клиента;\n",
        " * internet_new.csv — информация об интернет-услугах;\n",
        " * phone_new.csv — информация об услугах телефонии.\n",
        "\n",
        "Во всех файлах столбец customerID содержит код клиента.\n",
        "Информация о договорах актуальна на 1 февраля 2020.\n",
        "\n",
        "**Данные**\n",
        "\n",
        " * BeginDate - дата начала пользования услугами\n",
        " * EndDate - дата окончания пользования услугами\n",
        " * Type - тип оплаты (ежемесячный, годовой и т.д.)\n",
        " * PaperlessBilling - электронный платежный документ\n",
        " * PaymentMethod - способ оплаты\n",
        " * MonthlyCharges - ежемесячные траты по договору\n",
        " * TotalCharges - всего потрачено денег на услуги\n",
        " * Dependents - наличие иждивенцев\n",
        " * Senior Citizens - наличие пенсионного статуса по возрасту\n",
        " * Partner - наличие супруга(-и)\n",
        " * MultiplyLines - наличие возможности ведения параллельных линий во время звонка\n",
        ""
      ]
    },
    {
      "cell_type": "markdown",
      "metadata": {
        "id": "rltUibr5f-MI"
      },
      "source": [
        "### Вывод\n",
        "\n",
        "**Основная цель проекта** - разработать модель для решения задачи классификации, позволяющая при заданной точности AUC-ROC не менее 0.85 прогнозировать уход клиента (для реализации возможности дальнейшего его удержания с помощью промокодов и специальных условий).\n",
        "\n",
        "Для достижения цели необходимо будет проделать следующие шаги.\n",
        "\n",
        "**Задачи проекта:**\n",
        "\n",
        " - подготовка данных (импорт библиотек, осмотр данных, первичная предобработка)\n",
        " - исследование данных (исследовательский анализ, подготовка признаков)\n",
        " - моделирование (построение моделей и тестирование лучшей)\n",
        "\n",
        "**Условия выполнения и технические детали:**\n",
        "\n",
        "Дополнительно считаем и интерпретируем метрику Accuracy для отчета. Для моделирования:\n",
        " * в качестве константы берем RANDOM_STATE = 140823\n",
        " * корреляцию категориальных признаков исследуем при помощи библиотеки phik с настройкой interval_cols\n",
        " * соотношение train/test = 3:1\n",
        " * оценку важности признаков лучшей модели производим на линейных моделях через веса признаков; для дерева решений, случ.леса и бустинга посредством атрибута feature_importance_; для любых других моделей - через бибиотеку SHAP\n",
        " * утечка целевого признака д.б. меньше 0.95\n",
        " * не используем get_dummies() и PandasProfiling"
      ]
    },
    {
      "cell_type": "markdown",
      "metadata": {
        "id": "c70QXJC7f-MJ"
      },
      "source": [
        "## Подготовка данных\n"
      ]
    },
    {
      "cell_type": "markdown",
      "metadata": {
        "id": "LscSUhaof-MK"
      },
      "source": [
        "### Импорт данных и библиотек"
      ]
    },
    {
      "cell_type": "code",
      "execution_count": null,
      "metadata": {
        "id": "EWo8ZheYf-ML",
        "outputId": "dde6c6e6-c637-4608-970e-ff8416802179"
      },
      "outputs": [
        {
          "name": "stdout",
          "output_type": "stream",
          "text": [
            "Requirement already satisfied: phik in /opt/conda/lib/python3.9/site-packages (0.12.3)\n",
            "Requirement already satisfied: pandas>=0.25.1 in /opt/conda/lib/python3.9/site-packages (from phik) (1.2.4)\n",
            "Requirement already satisfied: numpy>=1.18.0 in /opt/conda/lib/python3.9/site-packages (from phik) (1.21.1)\n",
            "Requirement already satisfied: matplotlib>=2.2.3 in /opt/conda/lib/python3.9/site-packages (from phik) (3.3.4)\n",
            "Requirement already satisfied: joblib>=0.14.1 in /opt/conda/lib/python3.9/site-packages (from phik) (1.1.0)\n",
            "Requirement already satisfied: scipy>=1.5.2 in /opt/conda/lib/python3.9/site-packages (from phik) (1.9.1)\n",
            "Requirement already satisfied: pillow>=6.2.0 in /opt/conda/lib/python3.9/site-packages (from matplotlib>=2.2.3->phik) (8.4.0)\n",
            "Requirement already satisfied: cycler>=0.10 in /opt/conda/lib/python3.9/site-packages (from matplotlib>=2.2.3->phik) (0.11.0)\n",
            "Requirement already satisfied: pyparsing!=2.0.4,!=2.1.2,!=2.1.6,>=2.0.3 in /opt/conda/lib/python3.9/site-packages (from matplotlib>=2.2.3->phik) (2.4.7)\n",
            "Requirement already satisfied: python-dateutil>=2.1 in /opt/conda/lib/python3.9/site-packages (from matplotlib>=2.2.3->phik) (2.8.1)\n",
            "Requirement already satisfied: kiwisolver>=1.0.1 in /opt/conda/lib/python3.9/site-packages (from matplotlib>=2.2.3->phik) (1.4.4)\n",
            "Requirement already satisfied: pytz>=2017.3 in /opt/conda/lib/python3.9/site-packages (from pandas>=0.25.1->phik) (2021.1)\n",
            "Requirement already satisfied: six>=1.5 in /opt/conda/lib/python3.9/site-packages (from python-dateutil>=2.1->matplotlib>=2.2.3->phik) (1.16.0)\n"
          ]
        }
      ],
      "source": [
        "!pip install phik\n",
        "#!pip install shap"
      ]
    },
    {
      "cell_type": "code",
      "execution_count": null,
      "metadata": {
        "id": "Y1RPxv1nf-MO"
      },
      "outputs": [],
      "source": [
        "import pandas as pd\n",
        "import matplotlib.pyplot as plt\n",
        "import numpy as np\n",
        "import phik\n",
        "import seaborn as sns\n",
        "\n",
        "from sklearn.model_selection import (\n",
        "    train_test_split,\n",
        "    cross_val_score,\n",
        "    GridSearchCV,\n",
        "    RandomizedSearchCV\n",
        ")\n",
        "from sklearn.compose import make_column_transformer\n",
        "from sklearn.pipeline import make_pipeline\n",
        "from sklearn.ensemble import RandomForestClassifier\n",
        "from catboost import CatBoostClassifier\n",
        "from lightgbm import LGBMClassifier, train as trainLGBM\n",
        "from sklearn.preprocessing import (\n",
        "    OneHotEncoder,\n",
        "    OrdinalEncoder,\n",
        "    StandardScaler\n",
        ")\n",
        "from sklearn.metrics import accuracy_score, roc_auc_score, confusion_matrix\n",
        "from joblib import dump, load\n",
        "#import shap"
      ]
    },
    {
      "cell_type": "code",
      "execution_count": null,
      "metadata": {
        "id": "FZE0ViKTf-MP"
      },
      "outputs": [],
      "source": [
        "contract = pd.read_csv(\n",
        "    '/datasets/contract_new.csv',\n",
        "    index_col='customerID',\n",
        "    parse_dates=['BeginDate', 'EndDate']\n",
        ")\n",
        "personal = pd.read_csv('/datasets/personal_new.csv', index_col='customerID')\n",
        "internet = pd.read_csv('/datasets/internet_new.csv', index_col='customerID')\n",
        "phone = pd.read_csv('/datasets/phone_new.csv', index_col='customerID')"
      ]
    },
    {
      "cell_type": "code",
      "execution_count": null,
      "metadata": {
        "id": "m8Rap3Dff-MQ",
        "outputId": "e5cb79a8-1944-4445-ef25-cb00378bbf09"
      },
      "outputs": [
        {
          "data": {
            "text/html": [
              "<div>\n",
              "<style scoped>\n",
              "    .dataframe tbody tr th:only-of-type {\n",
              "        vertical-align: middle;\n",
              "    }\n",
              "\n",
              "    .dataframe tbody tr th {\n",
              "        vertical-align: top;\n",
              "    }\n",
              "\n",
              "    .dataframe thead th {\n",
              "        text-align: right;\n",
              "    }\n",
              "</style>\n",
              "<table border=\"1\" class=\"dataframe\">\n",
              "  <thead>\n",
              "    <tr style=\"text-align: right;\">\n",
              "      <th></th>\n",
              "      <th>BeginDate</th>\n",
              "      <th>EndDate</th>\n",
              "      <th>Type</th>\n",
              "      <th>PaperlessBilling</th>\n",
              "      <th>PaymentMethod</th>\n",
              "      <th>MonthlyCharges</th>\n",
              "      <th>TotalCharges</th>\n",
              "    </tr>\n",
              "    <tr>\n",
              "      <th>customerID</th>\n",
              "      <th></th>\n",
              "      <th></th>\n",
              "      <th></th>\n",
              "      <th></th>\n",
              "      <th></th>\n",
              "      <th></th>\n",
              "      <th></th>\n",
              "    </tr>\n",
              "  </thead>\n",
              "  <tbody>\n",
              "    <tr>\n",
              "      <th>7590-VHVEG</th>\n",
              "      <td>2020-01-01</td>\n",
              "      <td>No</td>\n",
              "      <td>Month-to-month</td>\n",
              "      <td>Yes</td>\n",
              "      <td>Electronic check</td>\n",
              "      <td>29.85</td>\n",
              "      <td>31.04</td>\n",
              "    </tr>\n",
              "    <tr>\n",
              "      <th>5575-GNVDE</th>\n",
              "      <td>2017-04-01</td>\n",
              "      <td>No</td>\n",
              "      <td>One year</td>\n",
              "      <td>No</td>\n",
              "      <td>Mailed check</td>\n",
              "      <td>56.95</td>\n",
              "      <td>2071.84</td>\n",
              "    </tr>\n",
              "    <tr>\n",
              "      <th>3668-QPYBK</th>\n",
              "      <td>2019-10-01</td>\n",
              "      <td>No</td>\n",
              "      <td>Month-to-month</td>\n",
              "      <td>Yes</td>\n",
              "      <td>Mailed check</td>\n",
              "      <td>53.85</td>\n",
              "      <td>226.17</td>\n",
              "    </tr>\n",
              "    <tr>\n",
              "      <th>7795-CFOCW</th>\n",
              "      <td>2016-05-01</td>\n",
              "      <td>No</td>\n",
              "      <td>One year</td>\n",
              "      <td>No</td>\n",
              "      <td>Bank transfer (automatic)</td>\n",
              "      <td>42.30</td>\n",
              "      <td>1960.6</td>\n",
              "    </tr>\n",
              "    <tr>\n",
              "      <th>9237-HQITU</th>\n",
              "      <td>2019-09-01</td>\n",
              "      <td>No</td>\n",
              "      <td>Month-to-month</td>\n",
              "      <td>Yes</td>\n",
              "      <td>Electronic check</td>\n",
              "      <td>70.70</td>\n",
              "      <td>353.5</td>\n",
              "    </tr>\n",
              "  </tbody>\n",
              "</table>\n",
              "</div>"
            ],
            "text/plain": [
              "            BeginDate EndDate            Type PaperlessBilling  \\\n",
              "customerID                                                       \n",
              "7590-VHVEG 2020-01-01      No  Month-to-month              Yes   \n",
              "5575-GNVDE 2017-04-01      No        One year               No   \n",
              "3668-QPYBK 2019-10-01      No  Month-to-month              Yes   \n",
              "7795-CFOCW 2016-05-01      No        One year               No   \n",
              "9237-HQITU 2019-09-01      No  Month-to-month              Yes   \n",
              "\n",
              "                        PaymentMethod  MonthlyCharges TotalCharges  \n",
              "customerID                                                          \n",
              "7590-VHVEG           Electronic check           29.85        31.04  \n",
              "5575-GNVDE               Mailed check           56.95      2071.84  \n",
              "3668-QPYBK               Mailed check           53.85       226.17  \n",
              "7795-CFOCW  Bank transfer (automatic)           42.30       1960.6  \n",
              "9237-HQITU           Electronic check           70.70        353.5  "
            ]
          },
          "metadata": {},
          "output_type": "display_data"
        },
        {
          "name": "stdout",
          "output_type": "stream",
          "text": [
            "<class 'pandas.core.frame.DataFrame'>\n",
            "Index: 7043 entries, 7590-VHVEG to 3186-AJIEK\n",
            "Data columns (total 7 columns):\n",
            " #   Column            Non-Null Count  Dtype         \n",
            "---  ------            --------------  -----         \n",
            " 0   BeginDate         7043 non-null   datetime64[ns]\n",
            " 1   EndDate           7043 non-null   object        \n",
            " 2   Type              7043 non-null   object        \n",
            " 3   PaperlessBilling  7043 non-null   object        \n",
            " 4   PaymentMethod     7043 non-null   object        \n",
            " 5   MonthlyCharges    7043 non-null   float64       \n",
            " 6   TotalCharges      7043 non-null   object        \n",
            "dtypes: datetime64[ns](1), float64(1), object(5)\n",
            "memory usage: 440.2+ KB\n"
          ]
        },
        {
          "data": {
            "text/plain": [
              "BeginDate           0\n",
              "EndDate             0\n",
              "Type                0\n",
              "PaperlessBilling    0\n",
              "PaymentMethod       0\n",
              "MonthlyCharges      0\n",
              "TotalCharges        0\n",
              "dtype: int64"
            ]
          },
          "metadata": {},
          "output_type": "display_data"
        },
        {
          "data": {
            "text/plain": [
              "37"
            ]
          },
          "metadata": {},
          "output_type": "display_data"
        },
        {
          "data": {
            "text/html": [
              "<div>\n",
              "<style scoped>\n",
              "    .dataframe tbody tr th:only-of-type {\n",
              "        vertical-align: middle;\n",
              "    }\n",
              "\n",
              "    .dataframe tbody tr th {\n",
              "        vertical-align: top;\n",
              "    }\n",
              "\n",
              "    .dataframe thead th {\n",
              "        text-align: right;\n",
              "    }\n",
              "</style>\n",
              "<table border=\"1\" class=\"dataframe\">\n",
              "  <thead>\n",
              "    <tr style=\"text-align: right;\">\n",
              "      <th></th>\n",
              "      <th>gender</th>\n",
              "      <th>SeniorCitizen</th>\n",
              "      <th>Partner</th>\n",
              "      <th>Dependents</th>\n",
              "    </tr>\n",
              "    <tr>\n",
              "      <th>customerID</th>\n",
              "      <th></th>\n",
              "      <th></th>\n",
              "      <th></th>\n",
              "      <th></th>\n",
              "    </tr>\n",
              "  </thead>\n",
              "  <tbody>\n",
              "    <tr>\n",
              "      <th>7590-VHVEG</th>\n",
              "      <td>Female</td>\n",
              "      <td>0</td>\n",
              "      <td>Yes</td>\n",
              "      <td>No</td>\n",
              "    </tr>\n",
              "    <tr>\n",
              "      <th>5575-GNVDE</th>\n",
              "      <td>Male</td>\n",
              "      <td>0</td>\n",
              "      <td>No</td>\n",
              "      <td>No</td>\n",
              "    </tr>\n",
              "    <tr>\n",
              "      <th>3668-QPYBK</th>\n",
              "      <td>Male</td>\n",
              "      <td>0</td>\n",
              "      <td>No</td>\n",
              "      <td>No</td>\n",
              "    </tr>\n",
              "    <tr>\n",
              "      <th>7795-CFOCW</th>\n",
              "      <td>Male</td>\n",
              "      <td>0</td>\n",
              "      <td>No</td>\n",
              "      <td>No</td>\n",
              "    </tr>\n",
              "    <tr>\n",
              "      <th>9237-HQITU</th>\n",
              "      <td>Female</td>\n",
              "      <td>0</td>\n",
              "      <td>No</td>\n",
              "      <td>No</td>\n",
              "    </tr>\n",
              "  </tbody>\n",
              "</table>\n",
              "</div>"
            ],
            "text/plain": [
              "            gender  SeniorCitizen Partner Dependents\n",
              "customerID                                          \n",
              "7590-VHVEG  Female              0     Yes         No\n",
              "5575-GNVDE    Male              0      No         No\n",
              "3668-QPYBK    Male              0      No         No\n",
              "7795-CFOCW    Male              0      No         No\n",
              "9237-HQITU  Female              0      No         No"
            ]
          },
          "metadata": {},
          "output_type": "display_data"
        },
        {
          "name": "stdout",
          "output_type": "stream",
          "text": [
            "<class 'pandas.core.frame.DataFrame'>\n",
            "Index: 7043 entries, 7590-VHVEG to 3186-AJIEK\n",
            "Data columns (total 4 columns):\n",
            " #   Column         Non-Null Count  Dtype \n",
            "---  ------         --------------  ----- \n",
            " 0   gender         7043 non-null   object\n",
            " 1   SeniorCitizen  7043 non-null   int64 \n",
            " 2   Partner        7043 non-null   object\n",
            " 3   Dependents     7043 non-null   object\n",
            "dtypes: int64(1), object(3)\n",
            "memory usage: 275.1+ KB\n"
          ]
        },
        {
          "data": {
            "text/plain": [
              "gender           0\n",
              "SeniorCitizen    0\n",
              "Partner          0\n",
              "Dependents       0\n",
              "dtype: int64"
            ]
          },
          "metadata": {},
          "output_type": "display_data"
        },
        {
          "data": {
            "text/plain": [
              "7027"
            ]
          },
          "metadata": {},
          "output_type": "display_data"
        },
        {
          "data": {
            "text/html": [
              "<div>\n",
              "<style scoped>\n",
              "    .dataframe tbody tr th:only-of-type {\n",
              "        vertical-align: middle;\n",
              "    }\n",
              "\n",
              "    .dataframe tbody tr th {\n",
              "        vertical-align: top;\n",
              "    }\n",
              "\n",
              "    .dataframe thead th {\n",
              "        text-align: right;\n",
              "    }\n",
              "</style>\n",
              "<table border=\"1\" class=\"dataframe\">\n",
              "  <thead>\n",
              "    <tr style=\"text-align: right;\">\n",
              "      <th></th>\n",
              "      <th>InternetService</th>\n",
              "      <th>OnlineSecurity</th>\n",
              "      <th>OnlineBackup</th>\n",
              "      <th>DeviceProtection</th>\n",
              "      <th>TechSupport</th>\n",
              "      <th>StreamingTV</th>\n",
              "      <th>StreamingMovies</th>\n",
              "    </tr>\n",
              "    <tr>\n",
              "      <th>customerID</th>\n",
              "      <th></th>\n",
              "      <th></th>\n",
              "      <th></th>\n",
              "      <th></th>\n",
              "      <th></th>\n",
              "      <th></th>\n",
              "      <th></th>\n",
              "    </tr>\n",
              "  </thead>\n",
              "  <tbody>\n",
              "    <tr>\n",
              "      <th>7590-VHVEG</th>\n",
              "      <td>DSL</td>\n",
              "      <td>No</td>\n",
              "      <td>Yes</td>\n",
              "      <td>No</td>\n",
              "      <td>No</td>\n",
              "      <td>No</td>\n",
              "      <td>No</td>\n",
              "    </tr>\n",
              "    <tr>\n",
              "      <th>5575-GNVDE</th>\n",
              "      <td>DSL</td>\n",
              "      <td>Yes</td>\n",
              "      <td>No</td>\n",
              "      <td>Yes</td>\n",
              "      <td>No</td>\n",
              "      <td>No</td>\n",
              "      <td>No</td>\n",
              "    </tr>\n",
              "    <tr>\n",
              "      <th>3668-QPYBK</th>\n",
              "      <td>DSL</td>\n",
              "      <td>Yes</td>\n",
              "      <td>Yes</td>\n",
              "      <td>No</td>\n",
              "      <td>No</td>\n",
              "      <td>No</td>\n",
              "      <td>No</td>\n",
              "    </tr>\n",
              "    <tr>\n",
              "      <th>7795-CFOCW</th>\n",
              "      <td>DSL</td>\n",
              "      <td>Yes</td>\n",
              "      <td>No</td>\n",
              "      <td>Yes</td>\n",
              "      <td>Yes</td>\n",
              "      <td>No</td>\n",
              "      <td>No</td>\n",
              "    </tr>\n",
              "    <tr>\n",
              "      <th>9237-HQITU</th>\n",
              "      <td>Fiber optic</td>\n",
              "      <td>No</td>\n",
              "      <td>No</td>\n",
              "      <td>No</td>\n",
              "      <td>No</td>\n",
              "      <td>No</td>\n",
              "      <td>No</td>\n",
              "    </tr>\n",
              "  </tbody>\n",
              "</table>\n",
              "</div>"
            ],
            "text/plain": [
              "           InternetService OnlineSecurity OnlineBackup DeviceProtection  \\\n",
              "customerID                                                                \n",
              "7590-VHVEG             DSL             No          Yes               No   \n",
              "5575-GNVDE             DSL            Yes           No              Yes   \n",
              "3668-QPYBK             DSL            Yes          Yes               No   \n",
              "7795-CFOCW             DSL            Yes           No              Yes   \n",
              "9237-HQITU     Fiber optic             No           No               No   \n",
              "\n",
              "           TechSupport StreamingTV StreamingMovies  \n",
              "customerID                                          \n",
              "7590-VHVEG          No          No              No  \n",
              "5575-GNVDE          No          No              No  \n",
              "3668-QPYBK          No          No              No  \n",
              "7795-CFOCW         Yes          No              No  \n",
              "9237-HQITU          No          No              No  "
            ]
          },
          "metadata": {},
          "output_type": "display_data"
        },
        {
          "name": "stdout",
          "output_type": "stream",
          "text": [
            "<class 'pandas.core.frame.DataFrame'>\n",
            "Index: 5517 entries, 7590-VHVEG to 3186-AJIEK\n",
            "Data columns (total 7 columns):\n",
            " #   Column            Non-Null Count  Dtype \n",
            "---  ------            --------------  ----- \n",
            " 0   InternetService   5517 non-null   object\n",
            " 1   OnlineSecurity    5517 non-null   object\n",
            " 2   OnlineBackup      5517 non-null   object\n",
            " 3   DeviceProtection  5517 non-null   object\n",
            " 4   TechSupport       5517 non-null   object\n",
            " 5   StreamingTV       5517 non-null   object\n",
            " 6   StreamingMovies   5517 non-null   object\n",
            "dtypes: object(7)\n",
            "memory usage: 344.8+ KB\n"
          ]
        },
        {
          "data": {
            "text/plain": [
              "InternetService     0\n",
              "OnlineSecurity      0\n",
              "OnlineBackup        0\n",
              "DeviceProtection    0\n",
              "TechSupport         0\n",
              "StreamingTV         0\n",
              "StreamingMovies     0\n",
              "dtype: int64"
            ]
          },
          "metadata": {},
          "output_type": "display_data"
        },
        {
          "data": {
            "text/plain": [
              "5389"
            ]
          },
          "metadata": {},
          "output_type": "display_data"
        },
        {
          "data": {
            "text/html": [
              "<div>\n",
              "<style scoped>\n",
              "    .dataframe tbody tr th:only-of-type {\n",
              "        vertical-align: middle;\n",
              "    }\n",
              "\n",
              "    .dataframe tbody tr th {\n",
              "        vertical-align: top;\n",
              "    }\n",
              "\n",
              "    .dataframe thead th {\n",
              "        text-align: right;\n",
              "    }\n",
              "</style>\n",
              "<table border=\"1\" class=\"dataframe\">\n",
              "  <thead>\n",
              "    <tr style=\"text-align: right;\">\n",
              "      <th></th>\n",
              "      <th>MultipleLines</th>\n",
              "    </tr>\n",
              "    <tr>\n",
              "      <th>customerID</th>\n",
              "      <th></th>\n",
              "    </tr>\n",
              "  </thead>\n",
              "  <tbody>\n",
              "    <tr>\n",
              "      <th>5575-GNVDE</th>\n",
              "      <td>No</td>\n",
              "    </tr>\n",
              "    <tr>\n",
              "      <th>3668-QPYBK</th>\n",
              "      <td>No</td>\n",
              "    </tr>\n",
              "    <tr>\n",
              "      <th>9237-HQITU</th>\n",
              "      <td>No</td>\n",
              "    </tr>\n",
              "    <tr>\n",
              "      <th>9305-CDSKC</th>\n",
              "      <td>Yes</td>\n",
              "    </tr>\n",
              "    <tr>\n",
              "      <th>1452-KIOVK</th>\n",
              "      <td>Yes</td>\n",
              "    </tr>\n",
              "  </tbody>\n",
              "</table>\n",
              "</div>"
            ],
            "text/plain": [
              "           MultipleLines\n",
              "customerID              \n",
              "5575-GNVDE            No\n",
              "3668-QPYBK            No\n",
              "9237-HQITU            No\n",
              "9305-CDSKC           Yes\n",
              "1452-KIOVK           Yes"
            ]
          },
          "metadata": {},
          "output_type": "display_data"
        },
        {
          "name": "stdout",
          "output_type": "stream",
          "text": [
            "<class 'pandas.core.frame.DataFrame'>\n",
            "Index: 6361 entries, 5575-GNVDE to 3186-AJIEK\n",
            "Data columns (total 1 columns):\n",
            " #   Column         Non-Null Count  Dtype \n",
            "---  ------         --------------  ----- \n",
            " 0   MultipleLines  6361 non-null   object\n",
            "dtypes: object(1)\n",
            "memory usage: 99.4+ KB\n"
          ]
        },
        {
          "data": {
            "text/plain": [
              "MultipleLines    0\n",
              "dtype: int64"
            ]
          },
          "metadata": {},
          "output_type": "display_data"
        },
        {
          "data": {
            "text/plain": [
              "6359"
            ]
          },
          "metadata": {},
          "output_type": "display_data"
        }
      ],
      "source": [
        "for i in (contract, personal, internet, phone):\n",
        "    display(i.head())\n",
        "    i.info()\n",
        "    display(i.isna().sum())\n",
        "    display(i.duplicated().sum())"
      ]
    },
    {
      "cell_type": "markdown",
      "metadata": {
        "id": "xuJVBKH7f-MR"
      },
      "source": [
        "Рассмотрим детальнее таблицы: посмотрим на уникальные значения категориальных признаков"
      ]
    },
    {
      "cell_type": "code",
      "execution_count": null,
      "metadata": {
        "id": "PlR3IdTnf-MR",
        "outputId": "a816402c-912d-4fb0-a6ba-ace44057cd69"
      },
      "outputs": [
        {
          "name": "stdout",
          "output_type": "stream",
          "text": [
            "No            5942\n",
            "2020-01-01      39\n",
            "2019-12-01      38\n",
            "2018-11-01      35\n",
            "2019-09-01      32\n",
            "              ... \n",
            "2015-04-01       2\n",
            "2014-09-01       2\n",
            "2014-11-01       1\n",
            "2014-06-01       1\n",
            "2014-10-01       1\n",
            "Name: EndDate, Length: 67, dtype: int64 \n",
            "\n",
            "Month-to-month    3875\n",
            "Two year          1695\n",
            "One year          1473\n",
            "Name: Type, dtype: int64 \n",
            "\n",
            "Yes    4171\n",
            "No     2872\n",
            "Name: PaperlessBilling, dtype: int64 \n",
            "\n",
            "Electronic check             2365\n",
            "Mailed check                 1612\n",
            "Bank transfer (automatic)    1544\n",
            "Credit card (automatic)      1522\n",
            "Name: PaymentMethod, dtype: int64 \n",
            "\n",
            "           11\n",
            "20.45       6\n",
            "101.0       5\n",
            "21.53       4\n",
            "1007.5      4\n",
            "           ..\n",
            "4989.63     1\n",
            "3091.7      1\n",
            "5745.9      1\n",
            "393.12      1\n",
            "8998.27     1\n",
            "Name: TotalCharges, Length: 6658, dtype: int64 \n",
            "\n",
            "Male      3555\n",
            "Female    3488\n",
            "Name: gender, dtype: int64 \n",
            "\n",
            "0    5901\n",
            "1    1142\n",
            "Name: SeniorCitizen, dtype: int64 \n",
            "\n",
            "No     3641\n",
            "Yes    3402\n",
            "Name: Partner, dtype: int64 \n",
            "\n",
            "No     4933\n",
            "Yes    2110\n",
            "Name: Dependents, dtype: int64 \n",
            "\n",
            "Fiber optic    3096\n",
            "DSL            2421\n",
            "Name: InternetService, dtype: int64 \n",
            "\n",
            "No     3498\n",
            "Yes    2019\n",
            "Name: OnlineSecurity, dtype: int64 \n",
            "\n",
            "No     3088\n",
            "Yes    2429\n",
            "Name: OnlineBackup, dtype: int64 \n",
            "\n",
            "No     3095\n",
            "Yes    2422\n",
            "Name: DeviceProtection, dtype: int64 \n",
            "\n",
            "No     3473\n",
            "Yes    2044\n",
            "Name: TechSupport, dtype: int64 \n",
            "\n",
            "No     2810\n",
            "Yes    2707\n",
            "Name: StreamingTV, dtype: int64 \n",
            "\n",
            "No     2785\n",
            "Yes    2732\n",
            "Name: StreamingMovies, dtype: int64 \n",
            "\n",
            "No     3390\n",
            "Yes    2971\n",
            "Name: MultipleLines, dtype: int64 \n",
            "\n"
          ]
        }
      ],
      "source": [
        "for i in contract.select_dtypes(include='object').columns.to_list():\n",
        "#('EndDate','Type','PaperlessBilling','PaymentMethod','TotalCharges'):\n",
        "    print(contract[i].value_counts(),'\\n')\n",
        "\n",
        "for table in (personal, internet, phone):\n",
        "    for i in table.columns.to_list():\n",
        "        print(table[i].value_counts(),'\\n')\n",
        "        plt.show()"
      ]
    },
    {
      "cell_type": "markdown",
      "metadata": {
        "id": "jaeeeiXAf-MS"
      },
      "source": [
        "**Предварительные выводы**:\n",
        "\n",
        "Данные из всех четырех таблиц **не содержат явных дубликатов и пропусков**. Общий столбец для всех - customerID, выступающий уникальным ключом (его значения сразу преобразовали в индексы).\n",
        "\n",
        "Почти все колонки строкового типа, кроме MonthlyCharges из таблицы договоров (float64) и SeniorCitizen из персональных данных (int64); эти таблицы содержат по 7043 записи (в 8 колонках для договоров и 5 для персональных данных).\n",
        "\n",
        "Таблица интернет-услуг содержит 5517 записей в 8 колонках строкового типа, таблица с услугами телефонии - 6361 объект в 2 строковых столбцах.\n",
        "\n",
        "Большинство признаков имеет два уникальных значения.\n",
        "\n",
        "Значение 'No' в дате окончания действия услуги EndDate означает, что клиент продолжает пользоваться услугой.\n",
        "\n",
        "В столбце TotalCharges имеются пустые значения, не являющиеся пропусками.\n",
        "\n",
        "**Для дальнейшего анализа необходимо**\n",
        "\n",
        " * Тип столбца TotalCharges изменить на вещественный (заменить пустые значения).\n",
        "\n",
        " * Целевой категориальный признак создать на основании столбца EndDate. Самому столбцу также поменять тип (наряду с BeginDate), предварительно поменяв \"заглушку\" 'No' на дату актуальности информации. На основании этих двух столбцов создать новый признак - длительность пользования услугами оператора\n",
        "\n",
        " * Привести название столбца gender к единому формату с остальными\n",
        "\n",
        " * Объединить данные в одну таблицу и исследовать ее"
      ]
    },
    {
      "cell_type": "code",
      "execution_count": null,
      "metadata": {
        "id": "idVS8Yuqf-MS"
      },
      "outputs": [],
      "source": [
        "# константы\n",
        "RANDOM_STATE = 140823\n",
        "AUCROC_MIN = 0.85\n",
        "LEAK = 0.95"
      ]
    },
    {
      "cell_type": "markdown",
      "metadata": {
        "id": "O6WFlwSAf-MS"
      },
      "source": [
        "### Первичная предобработка"
      ]
    },
    {
      "cell_type": "markdown",
      "metadata": {
        "id": "7mC-0iyPf-MT"
      },
      "source": [
        "#### Объединение таблиц\n",
        "\n",
        "Для дальнейшей работы с данными мы сперва объединим таблицы в одну с помощью join() по индексам, в качестве которых выступают значения столбца customerID."
      ]
    },
    {
      "cell_type": "code",
      "execution_count": null,
      "metadata": {
        "scrolled": true,
        "id": "ND1GmkfVf-MT",
        "outputId": "58fb0793-ed10-41d0-9f27-a9f5d4328248"
      },
      "outputs": [
        {
          "name": "stdout",
          "output_type": "stream",
          "text": [
            "<class 'pandas.core.frame.DataFrame'>\n",
            "Index: 7043 entries, 7590-VHVEG to 3186-AJIEK\n",
            "Data columns (total 11 columns):\n",
            " #   Column            Non-Null Count  Dtype         \n",
            "---  ------            --------------  -----         \n",
            " 0   BeginDate         7043 non-null   datetime64[ns]\n",
            " 1   EndDate           7043 non-null   object        \n",
            " 2   Type              7043 non-null   object        \n",
            " 3   PaperlessBilling  7043 non-null   object        \n",
            " 4   PaymentMethod     7043 non-null   object        \n",
            " 5   MonthlyCharges    7043 non-null   float64       \n",
            " 6   TotalCharges      7043 non-null   object        \n",
            " 7   gender            7043 non-null   object        \n",
            " 8   SeniorCitizen     7043 non-null   int64         \n",
            " 9   Partner           7043 non-null   object        \n",
            " 10  Dependents        7043 non-null   object        \n",
            "dtypes: datetime64[ns](1), float64(1), int64(1), object(8)\n",
            "memory usage: 918.3+ KB\n"
          ]
        },
        {
          "data": {
            "text/html": [
              "<div>\n",
              "<style scoped>\n",
              "    .dataframe tbody tr th:only-of-type {\n",
              "        vertical-align: middle;\n",
              "    }\n",
              "\n",
              "    .dataframe tbody tr th {\n",
              "        vertical-align: top;\n",
              "    }\n",
              "\n",
              "    .dataframe thead th {\n",
              "        text-align: right;\n",
              "    }\n",
              "</style>\n",
              "<table border=\"1\" class=\"dataframe\">\n",
              "  <thead>\n",
              "    <tr style=\"text-align: right;\">\n",
              "      <th></th>\n",
              "      <th>BeginDate</th>\n",
              "      <th>EndDate</th>\n",
              "      <th>Type</th>\n",
              "      <th>PaperlessBilling</th>\n",
              "      <th>PaymentMethod</th>\n",
              "      <th>MonthlyCharges</th>\n",
              "      <th>TotalCharges</th>\n",
              "      <th>gender</th>\n",
              "      <th>SeniorCitizen</th>\n",
              "      <th>Partner</th>\n",
              "      <th>Dependents</th>\n",
              "    </tr>\n",
              "    <tr>\n",
              "      <th>customerID</th>\n",
              "      <th></th>\n",
              "      <th></th>\n",
              "      <th></th>\n",
              "      <th></th>\n",
              "      <th></th>\n",
              "      <th></th>\n",
              "      <th></th>\n",
              "      <th></th>\n",
              "      <th></th>\n",
              "      <th></th>\n",
              "      <th></th>\n",
              "    </tr>\n",
              "  </thead>\n",
              "  <tbody>\n",
              "    <tr>\n",
              "      <th>7590-VHVEG</th>\n",
              "      <td>2020-01-01</td>\n",
              "      <td>No</td>\n",
              "      <td>Month-to-month</td>\n",
              "      <td>Yes</td>\n",
              "      <td>Electronic check</td>\n",
              "      <td>29.85</td>\n",
              "      <td>31.04</td>\n",
              "      <td>Female</td>\n",
              "      <td>0</td>\n",
              "      <td>Yes</td>\n",
              "      <td>No</td>\n",
              "    </tr>\n",
              "    <tr>\n",
              "      <th>5575-GNVDE</th>\n",
              "      <td>2017-04-01</td>\n",
              "      <td>No</td>\n",
              "      <td>One year</td>\n",
              "      <td>No</td>\n",
              "      <td>Mailed check</td>\n",
              "      <td>56.95</td>\n",
              "      <td>2071.84</td>\n",
              "      <td>Male</td>\n",
              "      <td>0</td>\n",
              "      <td>No</td>\n",
              "      <td>No</td>\n",
              "    </tr>\n",
              "    <tr>\n",
              "      <th>3668-QPYBK</th>\n",
              "      <td>2019-10-01</td>\n",
              "      <td>No</td>\n",
              "      <td>Month-to-month</td>\n",
              "      <td>Yes</td>\n",
              "      <td>Mailed check</td>\n",
              "      <td>53.85</td>\n",
              "      <td>226.17</td>\n",
              "      <td>Male</td>\n",
              "      <td>0</td>\n",
              "      <td>No</td>\n",
              "      <td>No</td>\n",
              "    </tr>\n",
              "    <tr>\n",
              "      <th>7795-CFOCW</th>\n",
              "      <td>2016-05-01</td>\n",
              "      <td>No</td>\n",
              "      <td>One year</td>\n",
              "      <td>No</td>\n",
              "      <td>Bank transfer (automatic)</td>\n",
              "      <td>42.30</td>\n",
              "      <td>1960.6</td>\n",
              "      <td>Male</td>\n",
              "      <td>0</td>\n",
              "      <td>No</td>\n",
              "      <td>No</td>\n",
              "    </tr>\n",
              "    <tr>\n",
              "      <th>9237-HQITU</th>\n",
              "      <td>2019-09-01</td>\n",
              "      <td>No</td>\n",
              "      <td>Month-to-month</td>\n",
              "      <td>Yes</td>\n",
              "      <td>Electronic check</td>\n",
              "      <td>70.70</td>\n",
              "      <td>353.5</td>\n",
              "      <td>Female</td>\n",
              "      <td>0</td>\n",
              "      <td>No</td>\n",
              "      <td>No</td>\n",
              "    </tr>\n",
              "  </tbody>\n",
              "</table>\n",
              "</div>"
            ],
            "text/plain": [
              "            BeginDate EndDate            Type PaperlessBilling  \\\n",
              "customerID                                                       \n",
              "7590-VHVEG 2020-01-01      No  Month-to-month              Yes   \n",
              "5575-GNVDE 2017-04-01      No        One year               No   \n",
              "3668-QPYBK 2019-10-01      No  Month-to-month              Yes   \n",
              "7795-CFOCW 2016-05-01      No        One year               No   \n",
              "9237-HQITU 2019-09-01      No  Month-to-month              Yes   \n",
              "\n",
              "                        PaymentMethod  MonthlyCharges TotalCharges  gender  \\\n",
              "customerID                                                                   \n",
              "7590-VHVEG           Electronic check           29.85        31.04  Female   \n",
              "5575-GNVDE               Mailed check           56.95      2071.84    Male   \n",
              "3668-QPYBK               Mailed check           53.85       226.17    Male   \n",
              "7795-CFOCW  Bank transfer (automatic)           42.30       1960.6    Male   \n",
              "9237-HQITU           Electronic check           70.70        353.5  Female   \n",
              "\n",
              "            SeniorCitizen Partner Dependents  \n",
              "customerID                                    \n",
              "7590-VHVEG              0     Yes         No  \n",
              "5575-GNVDE              0      No         No  \n",
              "3668-QPYBK              0      No         No  \n",
              "7795-CFOCW              0      No         No  \n",
              "9237-HQITU              0      No         No  "
            ]
          },
          "execution_count": 7,
          "metadata": {},
          "output_type": "execute_result"
        }
      ],
      "source": [
        "data = contract.join(personal)\n",
        "data.info()\n",
        "data.head()"
      ]
    },
    {
      "cell_type": "markdown",
      "metadata": {
        "id": "N8Zquip2f-MT"
      },
      "source": [
        "Данные с персональной информацией и договорами содержат одинаковые индексы, поэтому количество строк новой таблицы содержит ровно столько же записей, сколько и в исходных этих двух таблицах - 7043 (количество столбцов новой таблицы 11=4+7). Далее поочередно присоединим таблицы с услугами, попутно заменяя возникающие пропуски в соответствующих столбцах на значение по умолчанию (для  интернет-услуг это будет 'no_internet', для телефонии - 'no_phone') и проверяя общее количество строк и столбцов."
      ]
    },
    {
      "cell_type": "code",
      "execution_count": null,
      "metadata": {
        "scrolled": true,
        "id": "pzDzqnf4f-MU",
        "outputId": "b3c95bf8-cb26-4001-908d-9bac9d1a6452"
      },
      "outputs": [
        {
          "name": "stdout",
          "output_type": "stream",
          "text": [
            "<class 'pandas.core.frame.DataFrame'>\n",
            "Index: 7043 entries, 7590-VHVEG to 3186-AJIEK\n",
            "Data columns (total 18 columns):\n",
            " #   Column            Non-Null Count  Dtype         \n",
            "---  ------            --------------  -----         \n",
            " 0   BeginDate         7043 non-null   datetime64[ns]\n",
            " 1   EndDate           7043 non-null   object        \n",
            " 2   Type              7043 non-null   object        \n",
            " 3   PaperlessBilling  7043 non-null   object        \n",
            " 4   PaymentMethod     7043 non-null   object        \n",
            " 5   MonthlyCharges    7043 non-null   float64       \n",
            " 6   TotalCharges      7043 non-null   object        \n",
            " 7   gender            7043 non-null   object        \n",
            " 8   SeniorCitizen     7043 non-null   int64         \n",
            " 9   Partner           7043 non-null   object        \n",
            " 10  Dependents        7043 non-null   object        \n",
            " 11  InternetService   7043 non-null   object        \n",
            " 12  OnlineSecurity    7043 non-null   object        \n",
            " 13  OnlineBackup      7043 non-null   object        \n",
            " 14  DeviceProtection  7043 non-null   object        \n",
            " 15  TechSupport       7043 non-null   object        \n",
            " 16  StreamingTV       7043 non-null   object        \n",
            " 17  StreamingMovies   7043 non-null   object        \n",
            "dtypes: datetime64[ns](1), float64(1), int64(1), object(15)\n",
            "memory usage: 1.3+ MB\n"
          ]
        },
        {
          "data": {
            "text/html": [
              "<div>\n",
              "<style scoped>\n",
              "    .dataframe tbody tr th:only-of-type {\n",
              "        vertical-align: middle;\n",
              "    }\n",
              "\n",
              "    .dataframe tbody tr th {\n",
              "        vertical-align: top;\n",
              "    }\n",
              "\n",
              "    .dataframe thead th {\n",
              "        text-align: right;\n",
              "    }\n",
              "</style>\n",
              "<table border=\"1\" class=\"dataframe\">\n",
              "  <thead>\n",
              "    <tr style=\"text-align: right;\">\n",
              "      <th></th>\n",
              "      <th>BeginDate</th>\n",
              "      <th>EndDate</th>\n",
              "      <th>Type</th>\n",
              "      <th>PaperlessBilling</th>\n",
              "      <th>PaymentMethod</th>\n",
              "      <th>MonthlyCharges</th>\n",
              "      <th>TotalCharges</th>\n",
              "      <th>gender</th>\n",
              "      <th>SeniorCitizen</th>\n",
              "      <th>Partner</th>\n",
              "      <th>Dependents</th>\n",
              "      <th>InternetService</th>\n",
              "      <th>OnlineSecurity</th>\n",
              "      <th>OnlineBackup</th>\n",
              "      <th>DeviceProtection</th>\n",
              "      <th>TechSupport</th>\n",
              "      <th>StreamingTV</th>\n",
              "      <th>StreamingMovies</th>\n",
              "    </tr>\n",
              "    <tr>\n",
              "      <th>customerID</th>\n",
              "      <th></th>\n",
              "      <th></th>\n",
              "      <th></th>\n",
              "      <th></th>\n",
              "      <th></th>\n",
              "      <th></th>\n",
              "      <th></th>\n",
              "      <th></th>\n",
              "      <th></th>\n",
              "      <th></th>\n",
              "      <th></th>\n",
              "      <th></th>\n",
              "      <th></th>\n",
              "      <th></th>\n",
              "      <th></th>\n",
              "      <th></th>\n",
              "      <th></th>\n",
              "      <th></th>\n",
              "    </tr>\n",
              "  </thead>\n",
              "  <tbody>\n",
              "    <tr>\n",
              "      <th>9609-BENEA</th>\n",
              "      <td>2017-03-01</td>\n",
              "      <td>No</td>\n",
              "      <td>One year</td>\n",
              "      <td>Yes</td>\n",
              "      <td>Electronic check</td>\n",
              "      <td>69.00</td>\n",
              "      <td>2511.6</td>\n",
              "      <td>Male</td>\n",
              "      <td>0</td>\n",
              "      <td>Yes</td>\n",
              "      <td>No</td>\n",
              "      <td>DSL</td>\n",
              "      <td>No</td>\n",
              "      <td>Yes</td>\n",
              "      <td>No</td>\n",
              "      <td>Yes</td>\n",
              "      <td>Yes</td>\n",
              "      <td>No</td>\n",
              "    </tr>\n",
              "    <tr>\n",
              "      <th>7683-CBDKJ</th>\n",
              "      <td>2018-09-01</td>\n",
              "      <td>No</td>\n",
              "      <td>Month-to-month</td>\n",
              "      <td>Yes</td>\n",
              "      <td>Electronic check</td>\n",
              "      <td>65.45</td>\n",
              "      <td>1212.79</td>\n",
              "      <td>Male</td>\n",
              "      <td>0</td>\n",
              "      <td>Yes</td>\n",
              "      <td>Yes</td>\n",
              "      <td>DSL</td>\n",
              "      <td>Yes</td>\n",
              "      <td>Yes</td>\n",
              "      <td>No</td>\n",
              "      <td>No</td>\n",
              "      <td>Yes</td>\n",
              "      <td>No</td>\n",
              "    </tr>\n",
              "    <tr>\n",
              "      <th>3703-VAVCL</th>\n",
              "      <td>2019-08-01</td>\n",
              "      <td>No</td>\n",
              "      <td>Month-to-month</td>\n",
              "      <td>No</td>\n",
              "      <td>Credit card (automatic)</td>\n",
              "      <td>90.00</td>\n",
              "      <td>550.8</td>\n",
              "      <td>Male</td>\n",
              "      <td>0</td>\n",
              "      <td>Yes</td>\n",
              "      <td>Yes</td>\n",
              "      <td>Fiber optic</td>\n",
              "      <td>No</td>\n",
              "      <td>No</td>\n",
              "      <td>Yes</td>\n",
              "      <td>Yes</td>\n",
              "      <td>No</td>\n",
              "      <td>Yes</td>\n",
              "    </tr>\n",
              "    <tr>\n",
              "      <th>1498-DQNRX</th>\n",
              "      <td>2017-09-01</td>\n",
              "      <td>No</td>\n",
              "      <td>Month-to-month</td>\n",
              "      <td>No</td>\n",
              "      <td>Mailed check</td>\n",
              "      <td>19.85</td>\n",
              "      <td>621.7</td>\n",
              "      <td>Female</td>\n",
              "      <td>0</td>\n",
              "      <td>Yes</td>\n",
              "      <td>No</td>\n",
              "      <td>no_internet</td>\n",
              "      <td>no_internet</td>\n",
              "      <td>no_internet</td>\n",
              "      <td>no_internet</td>\n",
              "      <td>no_internet</td>\n",
              "      <td>no_internet</td>\n",
              "      <td>no_internet</td>\n",
              "    </tr>\n",
              "    <tr>\n",
              "      <th>0327-WFZSY</th>\n",
              "      <td>2016-11-01</td>\n",
              "      <td>2018-06-01</td>\n",
              "      <td>One year</td>\n",
              "      <td>No</td>\n",
              "      <td>Electronic check</td>\n",
              "      <td>100.00</td>\n",
              "      <td>1900.0</td>\n",
              "      <td>Male</td>\n",
              "      <td>0</td>\n",
              "      <td>Yes</td>\n",
              "      <td>Yes</td>\n",
              "      <td>Fiber optic</td>\n",
              "      <td>No</td>\n",
              "      <td>No</td>\n",
              "      <td>Yes</td>\n",
              "      <td>No</td>\n",
              "      <td>Yes</td>\n",
              "      <td>Yes</td>\n",
              "    </tr>\n",
              "  </tbody>\n",
              "</table>\n",
              "</div>"
            ],
            "text/plain": [
              "            BeginDate     EndDate            Type PaperlessBilling  \\\n",
              "customerID                                                           \n",
              "9609-BENEA 2017-03-01          No        One year              Yes   \n",
              "7683-CBDKJ 2018-09-01          No  Month-to-month              Yes   \n",
              "3703-VAVCL 2019-08-01          No  Month-to-month               No   \n",
              "1498-DQNRX 2017-09-01          No  Month-to-month               No   \n",
              "0327-WFZSY 2016-11-01  2018-06-01        One year               No   \n",
              "\n",
              "                      PaymentMethod  MonthlyCharges TotalCharges  gender  \\\n",
              "customerID                                                                 \n",
              "9609-BENEA         Electronic check           69.00       2511.6    Male   \n",
              "7683-CBDKJ         Electronic check           65.45      1212.79    Male   \n",
              "3703-VAVCL  Credit card (automatic)           90.00        550.8    Male   \n",
              "1498-DQNRX             Mailed check           19.85        621.7  Female   \n",
              "0327-WFZSY         Electronic check          100.00       1900.0    Male   \n",
              "\n",
              "            SeniorCitizen Partner Dependents InternetService OnlineSecurity  \\\n",
              "customerID                                                                    \n",
              "9609-BENEA              0     Yes         No             DSL             No   \n",
              "7683-CBDKJ              0     Yes        Yes             DSL            Yes   \n",
              "3703-VAVCL              0     Yes        Yes     Fiber optic             No   \n",
              "1498-DQNRX              0     Yes         No     no_internet    no_internet   \n",
              "0327-WFZSY              0     Yes        Yes     Fiber optic             No   \n",
              "\n",
              "           OnlineBackup DeviceProtection  TechSupport  StreamingTV  \\\n",
              "customerID                                                           \n",
              "9609-BENEA          Yes               No          Yes          Yes   \n",
              "7683-CBDKJ          Yes               No           No          Yes   \n",
              "3703-VAVCL           No              Yes          Yes           No   \n",
              "1498-DQNRX  no_internet      no_internet  no_internet  no_internet   \n",
              "0327-WFZSY           No              Yes           No          Yes   \n",
              "\n",
              "           StreamingMovies  \n",
              "customerID                  \n",
              "9609-BENEA              No  \n",
              "7683-CBDKJ              No  \n",
              "3703-VAVCL             Yes  \n",
              "1498-DQNRX     no_internet  \n",
              "0327-WFZSY             Yes  "
            ]
          },
          "execution_count": 8,
          "metadata": {},
          "output_type": "execute_result"
        }
      ],
      "source": [
        "data = data.join(internet).fillna('no_internet')\n",
        "data.info()\n",
        "data.sample(5)"
      ]
    },
    {
      "cell_type": "code",
      "execution_count": null,
      "metadata": {
        "scrolled": true,
        "id": "IMq0jByRf-MU",
        "outputId": "b6ef782b-e450-469d-acd5-1a2ace60bb0a"
      },
      "outputs": [
        {
          "name": "stdout",
          "output_type": "stream",
          "text": [
            "<class 'pandas.core.frame.DataFrame'>\n",
            "Index: 7043 entries, 7590-VHVEG to 3186-AJIEK\n",
            "Data columns (total 19 columns):\n",
            " #   Column            Non-Null Count  Dtype         \n",
            "---  ------            --------------  -----         \n",
            " 0   BeginDate         7043 non-null   datetime64[ns]\n",
            " 1   EndDate           7043 non-null   object        \n",
            " 2   Type              7043 non-null   object        \n",
            " 3   PaperlessBilling  7043 non-null   object        \n",
            " 4   PaymentMethod     7043 non-null   object        \n",
            " 5   MonthlyCharges    7043 non-null   float64       \n",
            " 6   TotalCharges      7043 non-null   object        \n",
            " 7   gender            7043 non-null   object        \n",
            " 8   SeniorCitizen     7043 non-null   int64         \n",
            " 9   Partner           7043 non-null   object        \n",
            " 10  Dependents        7043 non-null   object        \n",
            " 11  InternetService   7043 non-null   object        \n",
            " 12  OnlineSecurity    7043 non-null   object        \n",
            " 13  OnlineBackup      7043 non-null   object        \n",
            " 14  DeviceProtection  7043 non-null   object        \n",
            " 15  TechSupport       7043 non-null   object        \n",
            " 16  StreamingTV       7043 non-null   object        \n",
            " 17  StreamingMovies   7043 non-null   object        \n",
            " 18  MultipleLines     7043 non-null   object        \n",
            "dtypes: datetime64[ns](1), float64(1), int64(1), object(16)\n",
            "memory usage: 1.3+ MB\n"
          ]
        },
        {
          "data": {
            "text/html": [
              "<div>\n",
              "<style scoped>\n",
              "    .dataframe tbody tr th:only-of-type {\n",
              "        vertical-align: middle;\n",
              "    }\n",
              "\n",
              "    .dataframe tbody tr th {\n",
              "        vertical-align: top;\n",
              "    }\n",
              "\n",
              "    .dataframe thead th {\n",
              "        text-align: right;\n",
              "    }\n",
              "</style>\n",
              "<table border=\"1\" class=\"dataframe\">\n",
              "  <thead>\n",
              "    <tr style=\"text-align: right;\">\n",
              "      <th></th>\n",
              "      <th>BeginDate</th>\n",
              "      <th>EndDate</th>\n",
              "      <th>Type</th>\n",
              "      <th>PaperlessBilling</th>\n",
              "      <th>PaymentMethod</th>\n",
              "      <th>MonthlyCharges</th>\n",
              "      <th>TotalCharges</th>\n",
              "      <th>gender</th>\n",
              "      <th>SeniorCitizen</th>\n",
              "      <th>Partner</th>\n",
              "      <th>Dependents</th>\n",
              "      <th>InternetService</th>\n",
              "      <th>OnlineSecurity</th>\n",
              "      <th>OnlineBackup</th>\n",
              "      <th>DeviceProtection</th>\n",
              "      <th>TechSupport</th>\n",
              "      <th>StreamingTV</th>\n",
              "      <th>StreamingMovies</th>\n",
              "      <th>MultipleLines</th>\n",
              "    </tr>\n",
              "    <tr>\n",
              "      <th>customerID</th>\n",
              "      <th></th>\n",
              "      <th></th>\n",
              "      <th></th>\n",
              "      <th></th>\n",
              "      <th></th>\n",
              "      <th></th>\n",
              "      <th></th>\n",
              "      <th></th>\n",
              "      <th></th>\n",
              "      <th></th>\n",
              "      <th></th>\n",
              "      <th></th>\n",
              "      <th></th>\n",
              "      <th></th>\n",
              "      <th></th>\n",
              "      <th></th>\n",
              "      <th></th>\n",
              "      <th></th>\n",
              "      <th></th>\n",
              "    </tr>\n",
              "  </thead>\n",
              "  <tbody>\n",
              "    <tr>\n",
              "      <th>4942-VZZOM</th>\n",
              "      <td>2014-10-01</td>\n",
              "      <td>No</td>\n",
              "      <td>One year</td>\n",
              "      <td>Yes</td>\n",
              "      <td>Credit card (automatic)</td>\n",
              "      <td>66.15</td>\n",
              "      <td>4233.6</td>\n",
              "      <td>Male</td>\n",
              "      <td>0</td>\n",
              "      <td>Yes</td>\n",
              "      <td>No</td>\n",
              "      <td>DSL</td>\n",
              "      <td>Yes</td>\n",
              "      <td>No</td>\n",
              "      <td>No</td>\n",
              "      <td>No</td>\n",
              "      <td>Yes</td>\n",
              "      <td>No</td>\n",
              "      <td>Yes</td>\n",
              "    </tr>\n",
              "    <tr>\n",
              "      <th>6732-FZUGP</th>\n",
              "      <td>2016-03-01</td>\n",
              "      <td>No</td>\n",
              "      <td>One year</td>\n",
              "      <td>No</td>\n",
              "      <td>Credit card (automatic)</td>\n",
              "      <td>94.90</td>\n",
              "      <td>4906.33</td>\n",
              "      <td>Female</td>\n",
              "      <td>0</td>\n",
              "      <td>No</td>\n",
              "      <td>No</td>\n",
              "      <td>Fiber optic</td>\n",
              "      <td>Yes</td>\n",
              "      <td>No</td>\n",
              "      <td>Yes</td>\n",
              "      <td>No</td>\n",
              "      <td>Yes</td>\n",
              "      <td>No</td>\n",
              "      <td>Yes</td>\n",
              "    </tr>\n",
              "    <tr>\n",
              "      <th>9554-DFKIC</th>\n",
              "      <td>2017-08-01</td>\n",
              "      <td>No</td>\n",
              "      <td>Month-to-month</td>\n",
              "      <td>Yes</td>\n",
              "      <td>Bank transfer (automatic)</td>\n",
              "      <td>54.45</td>\n",
              "      <td>1731.51</td>\n",
              "      <td>Male</td>\n",
              "      <td>0</td>\n",
              "      <td>Yes</td>\n",
              "      <td>Yes</td>\n",
              "      <td>DSL</td>\n",
              "      <td>Yes</td>\n",
              "      <td>No</td>\n",
              "      <td>No</td>\n",
              "      <td>No</td>\n",
              "      <td>No</td>\n",
              "      <td>No</td>\n",
              "      <td>Yes</td>\n",
              "    </tr>\n",
              "    <tr>\n",
              "      <th>3936-QQFLL</th>\n",
              "      <td>2019-12-01</td>\n",
              "      <td>No</td>\n",
              "      <td>Month-to-month</td>\n",
              "      <td>No</td>\n",
              "      <td>Mailed check</td>\n",
              "      <td>19.75</td>\n",
              "      <td>42.66</td>\n",
              "      <td>Male</td>\n",
              "      <td>0</td>\n",
              "      <td>No</td>\n",
              "      <td>No</td>\n",
              "      <td>no_internet</td>\n",
              "      <td>no_internet</td>\n",
              "      <td>no_internet</td>\n",
              "      <td>no_internet</td>\n",
              "      <td>no_internet</td>\n",
              "      <td>no_internet</td>\n",
              "      <td>no_internet</td>\n",
              "      <td>No</td>\n",
              "    </tr>\n",
              "    <tr>\n",
              "      <th>2926-JEJJC</th>\n",
              "      <td>2019-06-01</td>\n",
              "      <td>No</td>\n",
              "      <td>One year</td>\n",
              "      <td>Yes</td>\n",
              "      <td>Bank transfer (automatic)</td>\n",
              "      <td>20.20</td>\n",
              "      <td>161.6</td>\n",
              "      <td>Female</td>\n",
              "      <td>0</td>\n",
              "      <td>No</td>\n",
              "      <td>No</td>\n",
              "      <td>no_internet</td>\n",
              "      <td>no_internet</td>\n",
              "      <td>no_internet</td>\n",
              "      <td>no_internet</td>\n",
              "      <td>no_internet</td>\n",
              "      <td>no_internet</td>\n",
              "      <td>no_internet</td>\n",
              "      <td>No</td>\n",
              "    </tr>\n",
              "  </tbody>\n",
              "</table>\n",
              "</div>"
            ],
            "text/plain": [
              "            BeginDate EndDate            Type PaperlessBilling  \\\n",
              "customerID                                                       \n",
              "4942-VZZOM 2014-10-01      No        One year              Yes   \n",
              "6732-FZUGP 2016-03-01      No        One year               No   \n",
              "9554-DFKIC 2017-08-01      No  Month-to-month              Yes   \n",
              "3936-QQFLL 2019-12-01      No  Month-to-month               No   \n",
              "2926-JEJJC 2019-06-01      No        One year              Yes   \n",
              "\n",
              "                        PaymentMethod  MonthlyCharges TotalCharges  gender  \\\n",
              "customerID                                                                   \n",
              "4942-VZZOM    Credit card (automatic)           66.15       4233.6    Male   \n",
              "6732-FZUGP    Credit card (automatic)           94.90      4906.33  Female   \n",
              "9554-DFKIC  Bank transfer (automatic)           54.45      1731.51    Male   \n",
              "3936-QQFLL               Mailed check           19.75        42.66    Male   \n",
              "2926-JEJJC  Bank transfer (automatic)           20.20        161.6  Female   \n",
              "\n",
              "            SeniorCitizen Partner Dependents InternetService OnlineSecurity  \\\n",
              "customerID                                                                    \n",
              "4942-VZZOM              0     Yes         No             DSL            Yes   \n",
              "6732-FZUGP              0      No         No     Fiber optic            Yes   \n",
              "9554-DFKIC              0     Yes        Yes             DSL            Yes   \n",
              "3936-QQFLL              0      No         No     no_internet    no_internet   \n",
              "2926-JEJJC              0      No         No     no_internet    no_internet   \n",
              "\n",
              "           OnlineBackup DeviceProtection  TechSupport  StreamingTV  \\\n",
              "customerID                                                           \n",
              "4942-VZZOM           No               No           No          Yes   \n",
              "6732-FZUGP           No              Yes           No          Yes   \n",
              "9554-DFKIC           No               No           No           No   \n",
              "3936-QQFLL  no_internet      no_internet  no_internet  no_internet   \n",
              "2926-JEJJC  no_internet      no_internet  no_internet  no_internet   \n",
              "\n",
              "           StreamingMovies MultipleLines  \n",
              "customerID                                \n",
              "4942-VZZOM              No           Yes  \n",
              "6732-FZUGP              No           Yes  \n",
              "9554-DFKIC              No           Yes  \n",
              "3936-QQFLL     no_internet            No  \n",
              "2926-JEJJC     no_internet            No  "
            ]
          },
          "execution_count": 9,
          "metadata": {},
          "output_type": "execute_result"
        }
      ],
      "source": [
        "data = data.join(phone).fillna('no_phone')\n",
        "data.info()\n",
        "data.sample(5)"
      ]
    },
    {
      "cell_type": "markdown",
      "metadata": {
        "id": "QbiPM6UOf-MU"
      },
      "source": [
        "Таким образом, объединенная таблица содержит 7043 объекта в 19 столбцах, что соответствует исходным данным. Пропусков нет. Приступаем к дальнейшей обработке."
      ]
    },
    {
      "cell_type": "markdown",
      "metadata": {
        "id": "VqiERXlqf-MV"
      },
      "source": [
        "#### Создание целевого признака"
      ]
    },
    {
      "cell_type": "code",
      "execution_count": null,
      "metadata": {
        "id": "6oi2BANzf-MV",
        "outputId": "92da8ec2-57d5-47bc-8c05-4501114a6d66"
      },
      "outputs": [
        {
          "data": {
            "text/html": [
              "<div>\n",
              "<style scoped>\n",
              "    .dataframe tbody tr th:only-of-type {\n",
              "        vertical-align: middle;\n",
              "    }\n",
              "\n",
              "    .dataframe tbody tr th {\n",
              "        vertical-align: top;\n",
              "    }\n",
              "\n",
              "    .dataframe thead th {\n",
              "        text-align: right;\n",
              "    }\n",
              "</style>\n",
              "<table border=\"1\" class=\"dataframe\">\n",
              "  <thead>\n",
              "    <tr style=\"text-align: right;\">\n",
              "      <th></th>\n",
              "      <th>BeginDate</th>\n",
              "      <th>EndDate</th>\n",
              "      <th>Type</th>\n",
              "      <th>PaperlessBilling</th>\n",
              "      <th>PaymentMethod</th>\n",
              "      <th>MonthlyCharges</th>\n",
              "      <th>TotalCharges</th>\n",
              "      <th>gender</th>\n",
              "      <th>SeniorCitizen</th>\n",
              "      <th>Partner</th>\n",
              "      <th>Dependents</th>\n",
              "      <th>InternetService</th>\n",
              "      <th>OnlineSecurity</th>\n",
              "      <th>OnlineBackup</th>\n",
              "      <th>DeviceProtection</th>\n",
              "      <th>TechSupport</th>\n",
              "      <th>StreamingTV</th>\n",
              "      <th>StreamingMovies</th>\n",
              "      <th>MultipleLines</th>\n",
              "      <th>Exited</th>\n",
              "    </tr>\n",
              "    <tr>\n",
              "      <th>customerID</th>\n",
              "      <th></th>\n",
              "      <th></th>\n",
              "      <th></th>\n",
              "      <th></th>\n",
              "      <th></th>\n",
              "      <th></th>\n",
              "      <th></th>\n",
              "      <th></th>\n",
              "      <th></th>\n",
              "      <th></th>\n",
              "      <th></th>\n",
              "      <th></th>\n",
              "      <th></th>\n",
              "      <th></th>\n",
              "      <th></th>\n",
              "      <th></th>\n",
              "      <th></th>\n",
              "      <th></th>\n",
              "      <th></th>\n",
              "      <th></th>\n",
              "    </tr>\n",
              "  </thead>\n",
              "  <tbody>\n",
              "    <tr>\n",
              "      <th>6061-PQHMK</th>\n",
              "      <td>2018-01-01</td>\n",
              "      <td>No</td>\n",
              "      <td>One year</td>\n",
              "      <td>No</td>\n",
              "      <td>Credit card (automatic)</td>\n",
              "      <td>19.90</td>\n",
              "      <td>497.5</td>\n",
              "      <td>Female</td>\n",
              "      <td>0</td>\n",
              "      <td>No</td>\n",
              "      <td>No</td>\n",
              "      <td>no_internet</td>\n",
              "      <td>no_internet</td>\n",
              "      <td>no_internet</td>\n",
              "      <td>no_internet</td>\n",
              "      <td>no_internet</td>\n",
              "      <td>no_internet</td>\n",
              "      <td>no_internet</td>\n",
              "      <td>No</td>\n",
              "      <td>0</td>\n",
              "    </tr>\n",
              "    <tr>\n",
              "      <th>7812-FZHPE</th>\n",
              "      <td>2018-06-01</td>\n",
              "      <td>No</td>\n",
              "      <td>Month-to-month</td>\n",
              "      <td>No</td>\n",
              "      <td>Mailed check</td>\n",
              "      <td>24.10</td>\n",
              "      <td>520.56</td>\n",
              "      <td>Female</td>\n",
              "      <td>0</td>\n",
              "      <td>Yes</td>\n",
              "      <td>Yes</td>\n",
              "      <td>no_internet</td>\n",
              "      <td>no_internet</td>\n",
              "      <td>no_internet</td>\n",
              "      <td>no_internet</td>\n",
              "      <td>no_internet</td>\n",
              "      <td>no_internet</td>\n",
              "      <td>no_internet</td>\n",
              "      <td>Yes</td>\n",
              "      <td>0</td>\n",
              "    </tr>\n",
              "    <tr>\n",
              "      <th>4074-SJFFA</th>\n",
              "      <td>2019-12-01</td>\n",
              "      <td>No</td>\n",
              "      <td>Month-to-month</td>\n",
              "      <td>Yes</td>\n",
              "      <td>Mailed check</td>\n",
              "      <td>54.75</td>\n",
              "      <td>113.88</td>\n",
              "      <td>Female</td>\n",
              "      <td>0</td>\n",
              "      <td>No</td>\n",
              "      <td>No</td>\n",
              "      <td>DSL</td>\n",
              "      <td>No</td>\n",
              "      <td>No</td>\n",
              "      <td>No</td>\n",
              "      <td>No</td>\n",
              "      <td>No</td>\n",
              "      <td>Yes</td>\n",
              "      <td>No</td>\n",
              "      <td>0</td>\n",
              "    </tr>\n",
              "    <tr>\n",
              "      <th>6994-FGRHH</th>\n",
              "      <td>2014-04-01</td>\n",
              "      <td>No</td>\n",
              "      <td>One year</td>\n",
              "      <td>Yes</td>\n",
              "      <td>Electronic check</td>\n",
              "      <td>106.15</td>\n",
              "      <td>7430.5</td>\n",
              "      <td>Male</td>\n",
              "      <td>0</td>\n",
              "      <td>Yes</td>\n",
              "      <td>Yes</td>\n",
              "      <td>Fiber optic</td>\n",
              "      <td>No</td>\n",
              "      <td>Yes</td>\n",
              "      <td>Yes</td>\n",
              "      <td>Yes</td>\n",
              "      <td>Yes</td>\n",
              "      <td>Yes</td>\n",
              "      <td>No</td>\n",
              "      <td>0</td>\n",
              "    </tr>\n",
              "    <tr>\n",
              "      <th>6695-FRVEC</th>\n",
              "      <td>2014-07-01</td>\n",
              "      <td>2017-08-01</td>\n",
              "      <td>Two year</td>\n",
              "      <td>Yes</td>\n",
              "      <td>Bank transfer (automatic)</td>\n",
              "      <td>60.40</td>\n",
              "      <td>2234.8</td>\n",
              "      <td>Male</td>\n",
              "      <td>0</td>\n",
              "      <td>Yes</td>\n",
              "      <td>Yes</td>\n",
              "      <td>DSL</td>\n",
              "      <td>Yes</td>\n",
              "      <td>No</td>\n",
              "      <td>Yes</td>\n",
              "      <td>Yes</td>\n",
              "      <td>No</td>\n",
              "      <td>No</td>\n",
              "      <td>No</td>\n",
              "      <td>1</td>\n",
              "    </tr>\n",
              "    <tr>\n",
              "      <th>7567-ECMCM</th>\n",
              "      <td>2018-02-01</td>\n",
              "      <td>No</td>\n",
              "      <td>Month-to-month</td>\n",
              "      <td>Yes</td>\n",
              "      <td>Credit card (automatic)</td>\n",
              "      <td>79.85</td>\n",
              "      <td>1916.4</td>\n",
              "      <td>Male</td>\n",
              "      <td>0</td>\n",
              "      <td>No</td>\n",
              "      <td>No</td>\n",
              "      <td>Fiber optic</td>\n",
              "      <td>No</td>\n",
              "      <td>No</td>\n",
              "      <td>No</td>\n",
              "      <td>No</td>\n",
              "      <td>No</td>\n",
              "      <td>Yes</td>\n",
              "      <td>No</td>\n",
              "      <td>0</td>\n",
              "    </tr>\n",
              "    <tr>\n",
              "      <th>8857-CUPFQ</th>\n",
              "      <td>2014-11-01</td>\n",
              "      <td>No</td>\n",
              "      <td>Two year</td>\n",
              "      <td>No</td>\n",
              "      <td>Mailed check</td>\n",
              "      <td>19.25</td>\n",
              "      <td>1309.77</td>\n",
              "      <td>Male</td>\n",
              "      <td>0</td>\n",
              "      <td>Yes</td>\n",
              "      <td>No</td>\n",
              "      <td>no_internet</td>\n",
              "      <td>no_internet</td>\n",
              "      <td>no_internet</td>\n",
              "      <td>no_internet</td>\n",
              "      <td>no_internet</td>\n",
              "      <td>no_internet</td>\n",
              "      <td>no_internet</td>\n",
              "      <td>No</td>\n",
              "      <td>0</td>\n",
              "    </tr>\n",
              "    <tr>\n",
              "      <th>8750-QWZAJ</th>\n",
              "      <td>2014-04-01</td>\n",
              "      <td>No</td>\n",
              "      <td>Two year</td>\n",
              "      <td>No</td>\n",
              "      <td>Bank transfer (automatic)</td>\n",
              "      <td>19.80</td>\n",
              "      <td>1427.58</td>\n",
              "      <td>Female</td>\n",
              "      <td>0</td>\n",
              "      <td>Yes</td>\n",
              "      <td>Yes</td>\n",
              "      <td>no_internet</td>\n",
              "      <td>no_internet</td>\n",
              "      <td>no_internet</td>\n",
              "      <td>no_internet</td>\n",
              "      <td>no_internet</td>\n",
              "      <td>no_internet</td>\n",
              "      <td>no_internet</td>\n",
              "      <td>No</td>\n",
              "      <td>0</td>\n",
              "    </tr>\n",
              "    <tr>\n",
              "      <th>6166-ILMNY</th>\n",
              "      <td>2019-10-01</td>\n",
              "      <td>No</td>\n",
              "      <td>Month-to-month</td>\n",
              "      <td>No</td>\n",
              "      <td>Bank transfer (automatic)</td>\n",
              "      <td>69.75</td>\n",
              "      <td>279.0</td>\n",
              "      <td>Female</td>\n",
              "      <td>0</td>\n",
              "      <td>No</td>\n",
              "      <td>No</td>\n",
              "      <td>Fiber optic</td>\n",
              "      <td>No</td>\n",
              "      <td>No</td>\n",
              "      <td>No</td>\n",
              "      <td>No</td>\n",
              "      <td>No</td>\n",
              "      <td>No</td>\n",
              "      <td>No</td>\n",
              "      <td>0</td>\n",
              "    </tr>\n",
              "    <tr>\n",
              "      <th>1197-BVMVG</th>\n",
              "      <td>2019-10-01</td>\n",
              "      <td>No</td>\n",
              "      <td>Month-to-month</td>\n",
              "      <td>Yes</td>\n",
              "      <td>Electronic check</td>\n",
              "      <td>74.45</td>\n",
              "      <td>327.58</td>\n",
              "      <td>Female</td>\n",
              "      <td>1</td>\n",
              "      <td>No</td>\n",
              "      <td>No</td>\n",
              "      <td>Fiber optic</td>\n",
              "      <td>No</td>\n",
              "      <td>No</td>\n",
              "      <td>No</td>\n",
              "      <td>No</td>\n",
              "      <td>No</td>\n",
              "      <td>No</td>\n",
              "      <td>Yes</td>\n",
              "      <td>0</td>\n",
              "    </tr>\n",
              "  </tbody>\n",
              "</table>\n",
              "</div>"
            ],
            "text/plain": [
              "            BeginDate     EndDate            Type PaperlessBilling  \\\n",
              "customerID                                                           \n",
              "6061-PQHMK 2018-01-01          No        One year               No   \n",
              "7812-FZHPE 2018-06-01          No  Month-to-month               No   \n",
              "4074-SJFFA 2019-12-01          No  Month-to-month              Yes   \n",
              "6994-FGRHH 2014-04-01          No        One year              Yes   \n",
              "6695-FRVEC 2014-07-01  2017-08-01        Two year              Yes   \n",
              "7567-ECMCM 2018-02-01          No  Month-to-month              Yes   \n",
              "8857-CUPFQ 2014-11-01          No        Two year               No   \n",
              "8750-QWZAJ 2014-04-01          No        Two year               No   \n",
              "6166-ILMNY 2019-10-01          No  Month-to-month               No   \n",
              "1197-BVMVG 2019-10-01          No  Month-to-month              Yes   \n",
              "\n",
              "                        PaymentMethod  MonthlyCharges TotalCharges  gender  \\\n",
              "customerID                                                                   \n",
              "6061-PQHMK    Credit card (automatic)           19.90        497.5  Female   \n",
              "7812-FZHPE               Mailed check           24.10       520.56  Female   \n",
              "4074-SJFFA               Mailed check           54.75       113.88  Female   \n",
              "6994-FGRHH           Electronic check          106.15       7430.5    Male   \n",
              "6695-FRVEC  Bank transfer (automatic)           60.40       2234.8    Male   \n",
              "7567-ECMCM    Credit card (automatic)           79.85       1916.4    Male   \n",
              "8857-CUPFQ               Mailed check           19.25      1309.77    Male   \n",
              "8750-QWZAJ  Bank transfer (automatic)           19.80      1427.58  Female   \n",
              "6166-ILMNY  Bank transfer (automatic)           69.75        279.0  Female   \n",
              "1197-BVMVG           Electronic check           74.45       327.58  Female   \n",
              "\n",
              "            SeniorCitizen Partner Dependents InternetService OnlineSecurity  \\\n",
              "customerID                                                                    \n",
              "6061-PQHMK              0      No         No     no_internet    no_internet   \n",
              "7812-FZHPE              0     Yes        Yes     no_internet    no_internet   \n",
              "4074-SJFFA              0      No         No             DSL             No   \n",
              "6994-FGRHH              0     Yes        Yes     Fiber optic             No   \n",
              "6695-FRVEC              0     Yes        Yes             DSL            Yes   \n",
              "7567-ECMCM              0      No         No     Fiber optic             No   \n",
              "8857-CUPFQ              0     Yes         No     no_internet    no_internet   \n",
              "8750-QWZAJ              0     Yes        Yes     no_internet    no_internet   \n",
              "6166-ILMNY              0      No         No     Fiber optic             No   \n",
              "1197-BVMVG              1      No         No     Fiber optic             No   \n",
              "\n",
              "           OnlineBackup DeviceProtection  TechSupport  StreamingTV  \\\n",
              "customerID                                                           \n",
              "6061-PQHMK  no_internet      no_internet  no_internet  no_internet   \n",
              "7812-FZHPE  no_internet      no_internet  no_internet  no_internet   \n",
              "4074-SJFFA           No               No           No           No   \n",
              "6994-FGRHH          Yes              Yes          Yes          Yes   \n",
              "6695-FRVEC           No              Yes          Yes           No   \n",
              "7567-ECMCM           No               No           No           No   \n",
              "8857-CUPFQ  no_internet      no_internet  no_internet  no_internet   \n",
              "8750-QWZAJ  no_internet      no_internet  no_internet  no_internet   \n",
              "6166-ILMNY           No               No           No           No   \n",
              "1197-BVMVG           No               No           No           No   \n",
              "\n",
              "           StreamingMovies MultipleLines  Exited  \n",
              "customerID                                        \n",
              "6061-PQHMK     no_internet            No       0  \n",
              "7812-FZHPE     no_internet           Yes       0  \n",
              "4074-SJFFA             Yes            No       0  \n",
              "6994-FGRHH             Yes            No       0  \n",
              "6695-FRVEC              No            No       1  \n",
              "7567-ECMCM             Yes            No       0  \n",
              "8857-CUPFQ     no_internet            No       0  \n",
              "8750-QWZAJ     no_internet            No       0  \n",
              "6166-ILMNY              No            No       0  \n",
              "1197-BVMVG              No           Yes       0  "
            ]
          },
          "execution_count": 10,
          "metadata": {},
          "output_type": "execute_result"
        }
      ],
      "source": [
        "data['Exited'] = np.where(data['EndDate']=='No', 0, 1)\n",
        "data.sample(10)"
      ]
    },
    {
      "cell_type": "markdown",
      "metadata": {
        "id": "3XUnwjEQf-MV"
      },
      "source": [
        "Для клиентов, прекративших пользоваться услугами оператора, значение целевого признака равно 1, иначе - 0. Посмотрим сразу на баланс классов."
      ]
    },
    {
      "cell_type": "code",
      "execution_count": null,
      "metadata": {
        "id": "16KxFN-vf-MW",
        "outputId": "74b221cd-af64-42a2-96d9-4f3ca5cb2545"
      },
      "outputs": [
        {
          "data": {
            "text/plain": [
              "0    0.843675\n",
              "1    0.156325\n",
              "Name: Exited, dtype: float64"
            ]
          },
          "metadata": {},
          "output_type": "display_data"
        },
        {
          "data": {
            "text/plain": [
              "5.396911898274296"
            ]
          },
          "execution_count": 11,
          "metadata": {},
          "output_type": "execute_result"
        }
      ],
      "source": [
        "# распределение долей\n",
        "display(data['Exited'].value_counts(normalize=True))\n",
        "# коэффициент\n",
        "pd.Series(data['Exited'].value_counts(normalize=True))[0] / pd.Series(data['Exited'].value_counts(normalize=True))[1]"
      ]
    },
    {
      "cell_type": "markdown",
      "metadata": {
        "id": "5UGPaDWBf-MW"
      },
      "source": [
        "Численность класса продолжающих пользоваться услугами оператора клиентов более чем в 5 раз превышает численность ушедших клиентов. Имеем дело с задачей **несбалансированной классификации**. *Но прибегать к методу взвешивания классов или иных методов борьбы с дисбалансом при построении моделей мы не будем, так как целевая метрика AUC-ROC нечувствительна к дисбалансу.*"
      ]
    },
    {
      "cell_type": "markdown",
      "metadata": {
        "id": "_7GttcHRf-Md"
      },
      "source": [
        "#### Создание признака дительности договора\n",
        "\n",
        "Сначала преобразуем типы столбцов с датами"
      ]
    },
    {
      "cell_type": "code",
      "execution_count": null,
      "metadata": {
        "scrolled": true,
        "id": "EySF6rlyf-Md",
        "outputId": "2e23bb4a-9b17-4728-ed72-3e28d92d665e"
      },
      "outputs": [
        {
          "name": "stdout",
          "output_type": "stream",
          "text": [
            "<class 'pandas.core.frame.DataFrame'>\n",
            "Index: 7043 entries, 7590-VHVEG to 3186-AJIEK\n",
            "Data columns (total 20 columns):\n",
            " #   Column            Non-Null Count  Dtype         \n",
            "---  ------            --------------  -----         \n",
            " 0   BeginDate         7043 non-null   datetime64[ns]\n",
            " 1   EndDate           7043 non-null   datetime64[ns]\n",
            " 2   Type              7043 non-null   object        \n",
            " 3   PaperlessBilling  7043 non-null   object        \n",
            " 4   PaymentMethod     7043 non-null   object        \n",
            " 5   MonthlyCharges    7043 non-null   float64       \n",
            " 6   TotalCharges      7043 non-null   object        \n",
            " 7   gender            7043 non-null   object        \n",
            " 8   SeniorCitizen     7043 non-null   int64         \n",
            " 9   Partner           7043 non-null   object        \n",
            " 10  Dependents        7043 non-null   object        \n",
            " 11  InternetService   7043 non-null   object        \n",
            " 12  OnlineSecurity    7043 non-null   object        \n",
            " 13  OnlineBackup      7043 non-null   object        \n",
            " 14  DeviceProtection  7043 non-null   object        \n",
            " 15  TechSupport       7043 non-null   object        \n",
            " 16  StreamingTV       7043 non-null   object        \n",
            " 17  StreamingMovies   7043 non-null   object        \n",
            " 18  MultipleLines     7043 non-null   object        \n",
            " 19  Exited            7043 non-null   int64         \n",
            "dtypes: datetime64[ns](2), float64(1), int64(2), object(15)\n",
            "memory usage: 1.4+ MB\n"
          ]
        },
        {
          "name": "stderr",
          "output_type": "stream",
          "text": [
            "/opt/conda/lib/python3.9/site-packages/pandas/core/indexing.py:1637: SettingWithCopyWarning: \n",
            "A value is trying to be set on a copy of a slice from a DataFrame\n",
            "\n",
            "See the caveats in the documentation: https://pandas.pydata.org/pandas-docs/stable/user_guide/indexing.html#returning-a-view-versus-a-copy\n",
            "  self._setitem_single_block(indexer, value, name)\n"
          ]
        }
      ],
      "source": [
        "# изменим типы столбцов дат начала и конца обслуживания,\n",
        "# заменяя значения 'No' в EndDate на актуальную дату\n",
        "data['EndDate'].loc[data['EndDate']=='No'] = '2020-02-01'\n",
        "for i in ('BeginDate', 'EndDate'):\n",
        "    data[i] = pd.to_datetime(data[i], format=\"%Y-%m-%d\")\n",
        "# проверим типы столбцов\n",
        "data.info()"
      ]
    },
    {
      "cell_type": "markdown",
      "metadata": {
        "id": "lrUgOWk8f-Me"
      },
      "source": [
        "Новый признак - количество дней, в которых клиент обслуживается(-лся) у оператора:"
      ]
    },
    {
      "cell_type": "code",
      "execution_count": null,
      "metadata": {
        "id": "A-JC2Jb1f-Me",
        "outputId": "e8661199-98e6-41ec-ea11-2606dec465b5"
      },
      "outputs": [
        {
          "data": {
            "text/html": [
              "<div>\n",
              "<style scoped>\n",
              "    .dataframe tbody tr th:only-of-type {\n",
              "        vertical-align: middle;\n",
              "    }\n",
              "\n",
              "    .dataframe tbody tr th {\n",
              "        vertical-align: top;\n",
              "    }\n",
              "\n",
              "    .dataframe thead th {\n",
              "        text-align: right;\n",
              "    }\n",
              "</style>\n",
              "<table border=\"1\" class=\"dataframe\">\n",
              "  <thead>\n",
              "    <tr style=\"text-align: right;\">\n",
              "      <th></th>\n",
              "      <th>BeginDate</th>\n",
              "      <th>EndDate</th>\n",
              "      <th>Type</th>\n",
              "      <th>PaperlessBilling</th>\n",
              "      <th>PaymentMethod</th>\n",
              "      <th>MonthlyCharges</th>\n",
              "      <th>TotalCharges</th>\n",
              "      <th>gender</th>\n",
              "      <th>SeniorCitizen</th>\n",
              "      <th>Partner</th>\n",
              "      <th>...</th>\n",
              "      <th>InternetService</th>\n",
              "      <th>OnlineSecurity</th>\n",
              "      <th>OnlineBackup</th>\n",
              "      <th>DeviceProtection</th>\n",
              "      <th>TechSupport</th>\n",
              "      <th>StreamingTV</th>\n",
              "      <th>StreamingMovies</th>\n",
              "      <th>MultipleLines</th>\n",
              "      <th>Exited</th>\n",
              "      <th>Tenure</th>\n",
              "    </tr>\n",
              "    <tr>\n",
              "      <th>customerID</th>\n",
              "      <th></th>\n",
              "      <th></th>\n",
              "      <th></th>\n",
              "      <th></th>\n",
              "      <th></th>\n",
              "      <th></th>\n",
              "      <th></th>\n",
              "      <th></th>\n",
              "      <th></th>\n",
              "      <th></th>\n",
              "      <th></th>\n",
              "      <th></th>\n",
              "      <th></th>\n",
              "      <th></th>\n",
              "      <th></th>\n",
              "      <th></th>\n",
              "      <th></th>\n",
              "      <th></th>\n",
              "      <th></th>\n",
              "      <th></th>\n",
              "      <th></th>\n",
              "    </tr>\n",
              "  </thead>\n",
              "  <tbody>\n",
              "    <tr>\n",
              "      <th>0564-MUUQK</th>\n",
              "      <td>2018-06-01</td>\n",
              "      <td>2020-02-01</td>\n",
              "      <td>Month-to-month</td>\n",
              "      <td>Yes</td>\n",
              "      <td>Bank transfer (automatic)</td>\n",
              "      <td>95.50</td>\n",
              "      <td>2101.0</td>\n",
              "      <td>Female</td>\n",
              "      <td>0</td>\n",
              "      <td>Yes</td>\n",
              "      <td>...</td>\n",
              "      <td>Fiber optic</td>\n",
              "      <td>No</td>\n",
              "      <td>No</td>\n",
              "      <td>Yes</td>\n",
              "      <td>Yes</td>\n",
              "      <td>No</td>\n",
              "      <td>Yes</td>\n",
              "      <td>Yes</td>\n",
              "      <td>0</td>\n",
              "      <td>610</td>\n",
              "    </tr>\n",
              "    <tr>\n",
              "      <th>4803-AXVYP</th>\n",
              "      <td>2016-09-01</td>\n",
              "      <td>2018-11-01</td>\n",
              "      <td>Month-to-month</td>\n",
              "      <td>Yes</td>\n",
              "      <td>Electronic check</td>\n",
              "      <td>99.55</td>\n",
              "      <td>2614.18</td>\n",
              "      <td>Female</td>\n",
              "      <td>1</td>\n",
              "      <td>No</td>\n",
              "      <td>...</td>\n",
              "      <td>Fiber optic</td>\n",
              "      <td>No</td>\n",
              "      <td>No</td>\n",
              "      <td>No</td>\n",
              "      <td>Yes</td>\n",
              "      <td>Yes</td>\n",
              "      <td>Yes</td>\n",
              "      <td>Yes</td>\n",
              "      <td>1</td>\n",
              "      <td>791</td>\n",
              "    </tr>\n",
              "    <tr>\n",
              "      <th>4948-WBBKL</th>\n",
              "      <td>2017-02-01</td>\n",
              "      <td>2020-02-01</td>\n",
              "      <td>Month-to-month</td>\n",
              "      <td>Yes</td>\n",
              "      <td>Bank transfer (automatic)</td>\n",
              "      <td>74.90</td>\n",
              "      <td>2696.4</td>\n",
              "      <td>Female</td>\n",
              "      <td>1</td>\n",
              "      <td>No</td>\n",
              "      <td>...</td>\n",
              "      <td>Fiber optic</td>\n",
              "      <td>No</td>\n",
              "      <td>No</td>\n",
              "      <td>No</td>\n",
              "      <td>No</td>\n",
              "      <td>No</td>\n",
              "      <td>No</td>\n",
              "      <td>Yes</td>\n",
              "      <td>0</td>\n",
              "      <td>1095</td>\n",
              "    </tr>\n",
              "    <tr>\n",
              "      <th>1820-DJFPH</th>\n",
              "      <td>2014-02-01</td>\n",
              "      <td>2020-02-01</td>\n",
              "      <td>Two year</td>\n",
              "      <td>Yes</td>\n",
              "      <td>Bank transfer (automatic)</td>\n",
              "      <td>24.05</td>\n",
              "      <td>1731.6</td>\n",
              "      <td>Female</td>\n",
              "      <td>0</td>\n",
              "      <td>Yes</td>\n",
              "      <td>...</td>\n",
              "      <td>no_internet</td>\n",
              "      <td>no_internet</td>\n",
              "      <td>no_internet</td>\n",
              "      <td>no_internet</td>\n",
              "      <td>no_internet</td>\n",
              "      <td>no_internet</td>\n",
              "      <td>no_internet</td>\n",
              "      <td>Yes</td>\n",
              "      <td>0</td>\n",
              "      <td>2191</td>\n",
              "    </tr>\n",
              "    <tr>\n",
              "      <th>0578-SKVMF</th>\n",
              "      <td>2017-12-01</td>\n",
              "      <td>2020-02-01</td>\n",
              "      <td>Month-to-month</td>\n",
              "      <td>No</td>\n",
              "      <td>Electronic check</td>\n",
              "      <td>83.30</td>\n",
              "      <td>2165.8</td>\n",
              "      <td>Female</td>\n",
              "      <td>0</td>\n",
              "      <td>Yes</td>\n",
              "      <td>...</td>\n",
              "      <td>Fiber optic</td>\n",
              "      <td>No</td>\n",
              "      <td>Yes</td>\n",
              "      <td>No</td>\n",
              "      <td>No</td>\n",
              "      <td>No</td>\n",
              "      <td>Yes</td>\n",
              "      <td>No</td>\n",
              "      <td>0</td>\n",
              "      <td>792</td>\n",
              "    </tr>\n",
              "  </tbody>\n",
              "</table>\n",
              "<p>5 rows × 21 columns</p>\n",
              "</div>"
            ],
            "text/plain": [
              "            BeginDate    EndDate            Type PaperlessBilling  \\\n",
              "customerID                                                          \n",
              "0564-MUUQK 2018-06-01 2020-02-01  Month-to-month              Yes   \n",
              "4803-AXVYP 2016-09-01 2018-11-01  Month-to-month              Yes   \n",
              "4948-WBBKL 2017-02-01 2020-02-01  Month-to-month              Yes   \n",
              "1820-DJFPH 2014-02-01 2020-02-01        Two year              Yes   \n",
              "0578-SKVMF 2017-12-01 2020-02-01  Month-to-month               No   \n",
              "\n",
              "                        PaymentMethod  MonthlyCharges TotalCharges  gender  \\\n",
              "customerID                                                                   \n",
              "0564-MUUQK  Bank transfer (automatic)           95.50       2101.0  Female   \n",
              "4803-AXVYP           Electronic check           99.55      2614.18  Female   \n",
              "4948-WBBKL  Bank transfer (automatic)           74.90       2696.4  Female   \n",
              "1820-DJFPH  Bank transfer (automatic)           24.05       1731.6  Female   \n",
              "0578-SKVMF           Electronic check           83.30       2165.8  Female   \n",
              "\n",
              "            SeniorCitizen Partner  ... InternetService OnlineSecurity  \\\n",
              "customerID                         ...                                  \n",
              "0564-MUUQK              0     Yes  ...     Fiber optic             No   \n",
              "4803-AXVYP              1      No  ...     Fiber optic             No   \n",
              "4948-WBBKL              1      No  ...     Fiber optic             No   \n",
              "1820-DJFPH              0     Yes  ...     no_internet    no_internet   \n",
              "0578-SKVMF              0     Yes  ...     Fiber optic             No   \n",
              "\n",
              "           OnlineBackup DeviceProtection  TechSupport  StreamingTV  \\\n",
              "customerID                                                           \n",
              "0564-MUUQK           No              Yes          Yes           No   \n",
              "4803-AXVYP           No               No          Yes          Yes   \n",
              "4948-WBBKL           No               No           No           No   \n",
              "1820-DJFPH  no_internet      no_internet  no_internet  no_internet   \n",
              "0578-SKVMF          Yes               No           No           No   \n",
              "\n",
              "           StreamingMovies MultipleLines Exited  Tenure  \n",
              "customerID                                               \n",
              "0564-MUUQK             Yes           Yes      0     610  \n",
              "4803-AXVYP             Yes           Yes      1     791  \n",
              "4948-WBBKL              No           Yes      0    1095  \n",
              "1820-DJFPH     no_internet           Yes      0    2191  \n",
              "0578-SKVMF             Yes            No      0     792  \n",
              "\n",
              "[5 rows x 21 columns]"
            ]
          },
          "execution_count": 13,
          "metadata": {},
          "output_type": "execute_result"
        }
      ],
      "source": [
        "# создание нового признака\n",
        "data['Tenure'] = ((data['EndDate'] - data['BeginDate'])  / np.timedelta64(1,'D')).astype('int64')\n",
        "data.sample(5)"
      ]
    },
    {
      "cell_type": "markdown",
      "metadata": {
        "id": "i4XyG_Qrf-Mf"
      },
      "source": [
        "#### Другие изменения столбцов"
      ]
    },
    {
      "cell_type": "code",
      "execution_count": null,
      "metadata": {
        "id": "vsYRZxEdf-Mf",
        "outputId": "53e9f5e6-22e1-4fe2-c673-1598a695706c"
      },
      "outputs": [
        {
          "data": {
            "text/plain": [
              "11"
            ]
          },
          "execution_count": 14,
          "metadata": {},
          "output_type": "execute_result"
        }
      ],
      "source": [
        "# изменим тип столбца TotalCharges на вещественный, заменяя некорректные значения на NaN\n",
        "data['TotalCharges'] = pd.to_numeric(data['TotalCharges'], errors='coerce')\n",
        "# и проверим количество пропусков в столбце\n",
        "data['TotalCharges'].isna().sum()"
      ]
    },
    {
      "cell_type": "code",
      "execution_count": null,
      "metadata": {
        "scrolled": true,
        "id": "rfiDIqWRf-Mg",
        "outputId": "e5745ba0-1598-4010-88a1-5faad500113e"
      },
      "outputs": [
        {
          "data": {
            "text/html": [
              "<div>\n",
              "<style scoped>\n",
              "    .dataframe tbody tr th:only-of-type {\n",
              "        vertical-align: middle;\n",
              "    }\n",
              "\n",
              "    .dataframe tbody tr th {\n",
              "        vertical-align: top;\n",
              "    }\n",
              "\n",
              "    .dataframe thead th {\n",
              "        text-align: right;\n",
              "    }\n",
              "</style>\n",
              "<table border=\"1\" class=\"dataframe\">\n",
              "  <thead>\n",
              "    <tr style=\"text-align: right;\">\n",
              "      <th></th>\n",
              "      <th>BeginDate</th>\n",
              "      <th>EndDate</th>\n",
              "      <th>Type</th>\n",
              "      <th>PaperlessBilling</th>\n",
              "      <th>PaymentMethod</th>\n",
              "      <th>MonthlyCharges</th>\n",
              "      <th>TotalCharges</th>\n",
              "      <th>gender</th>\n",
              "      <th>SeniorCitizen</th>\n",
              "      <th>Partner</th>\n",
              "      <th>...</th>\n",
              "      <th>InternetService</th>\n",
              "      <th>OnlineSecurity</th>\n",
              "      <th>OnlineBackup</th>\n",
              "      <th>DeviceProtection</th>\n",
              "      <th>TechSupport</th>\n",
              "      <th>StreamingTV</th>\n",
              "      <th>StreamingMovies</th>\n",
              "      <th>MultipleLines</th>\n",
              "      <th>Exited</th>\n",
              "      <th>Tenure</th>\n",
              "    </tr>\n",
              "    <tr>\n",
              "      <th>customerID</th>\n",
              "      <th></th>\n",
              "      <th></th>\n",
              "      <th></th>\n",
              "      <th></th>\n",
              "      <th></th>\n",
              "      <th></th>\n",
              "      <th></th>\n",
              "      <th></th>\n",
              "      <th></th>\n",
              "      <th></th>\n",
              "      <th></th>\n",
              "      <th></th>\n",
              "      <th></th>\n",
              "      <th></th>\n",
              "      <th></th>\n",
              "      <th></th>\n",
              "      <th></th>\n",
              "      <th></th>\n",
              "      <th></th>\n",
              "      <th></th>\n",
              "      <th></th>\n",
              "    </tr>\n",
              "  </thead>\n",
              "  <tbody>\n",
              "    <tr>\n",
              "      <th>4472-LVYGI</th>\n",
              "      <td>2020-02-01</td>\n",
              "      <td>2020-02-01</td>\n",
              "      <td>Two year</td>\n",
              "      <td>Yes</td>\n",
              "      <td>Bank transfer (automatic)</td>\n",
              "      <td>52.55</td>\n",
              "      <td>NaN</td>\n",
              "      <td>Female</td>\n",
              "      <td>0</td>\n",
              "      <td>Yes</td>\n",
              "      <td>...</td>\n",
              "      <td>DSL</td>\n",
              "      <td>Yes</td>\n",
              "      <td>No</td>\n",
              "      <td>Yes</td>\n",
              "      <td>Yes</td>\n",
              "      <td>Yes</td>\n",
              "      <td>No</td>\n",
              "      <td>no_phone</td>\n",
              "      <td>0</td>\n",
              "      <td>0</td>\n",
              "    </tr>\n",
              "    <tr>\n",
              "      <th>3115-CZMZD</th>\n",
              "      <td>2020-02-01</td>\n",
              "      <td>2020-02-01</td>\n",
              "      <td>Two year</td>\n",
              "      <td>No</td>\n",
              "      <td>Mailed check</td>\n",
              "      <td>20.25</td>\n",
              "      <td>NaN</td>\n",
              "      <td>Male</td>\n",
              "      <td>0</td>\n",
              "      <td>No</td>\n",
              "      <td>...</td>\n",
              "      <td>no_internet</td>\n",
              "      <td>no_internet</td>\n",
              "      <td>no_internet</td>\n",
              "      <td>no_internet</td>\n",
              "      <td>no_internet</td>\n",
              "      <td>no_internet</td>\n",
              "      <td>no_internet</td>\n",
              "      <td>No</td>\n",
              "      <td>0</td>\n",
              "      <td>0</td>\n",
              "    </tr>\n",
              "    <tr>\n",
              "      <th>5709-LVOEQ</th>\n",
              "      <td>2020-02-01</td>\n",
              "      <td>2020-02-01</td>\n",
              "      <td>Two year</td>\n",
              "      <td>No</td>\n",
              "      <td>Mailed check</td>\n",
              "      <td>80.85</td>\n",
              "      <td>NaN</td>\n",
              "      <td>Female</td>\n",
              "      <td>0</td>\n",
              "      <td>Yes</td>\n",
              "      <td>...</td>\n",
              "      <td>DSL</td>\n",
              "      <td>Yes</td>\n",
              "      <td>Yes</td>\n",
              "      <td>Yes</td>\n",
              "      <td>No</td>\n",
              "      <td>Yes</td>\n",
              "      <td>Yes</td>\n",
              "      <td>No</td>\n",
              "      <td>0</td>\n",
              "      <td>0</td>\n",
              "    </tr>\n",
              "    <tr>\n",
              "      <th>4367-NUYAO</th>\n",
              "      <td>2020-02-01</td>\n",
              "      <td>2020-02-01</td>\n",
              "      <td>Two year</td>\n",
              "      <td>No</td>\n",
              "      <td>Mailed check</td>\n",
              "      <td>25.75</td>\n",
              "      <td>NaN</td>\n",
              "      <td>Male</td>\n",
              "      <td>0</td>\n",
              "      <td>Yes</td>\n",
              "      <td>...</td>\n",
              "      <td>no_internet</td>\n",
              "      <td>no_internet</td>\n",
              "      <td>no_internet</td>\n",
              "      <td>no_internet</td>\n",
              "      <td>no_internet</td>\n",
              "      <td>no_internet</td>\n",
              "      <td>no_internet</td>\n",
              "      <td>Yes</td>\n",
              "      <td>0</td>\n",
              "      <td>0</td>\n",
              "    </tr>\n",
              "    <tr>\n",
              "      <th>1371-DWPAZ</th>\n",
              "      <td>2020-02-01</td>\n",
              "      <td>2020-02-01</td>\n",
              "      <td>Two year</td>\n",
              "      <td>No</td>\n",
              "      <td>Credit card (automatic)</td>\n",
              "      <td>56.05</td>\n",
              "      <td>NaN</td>\n",
              "      <td>Female</td>\n",
              "      <td>0</td>\n",
              "      <td>Yes</td>\n",
              "      <td>...</td>\n",
              "      <td>DSL</td>\n",
              "      <td>Yes</td>\n",
              "      <td>Yes</td>\n",
              "      <td>Yes</td>\n",
              "      <td>Yes</td>\n",
              "      <td>Yes</td>\n",
              "      <td>No</td>\n",
              "      <td>no_phone</td>\n",
              "      <td>0</td>\n",
              "      <td>0</td>\n",
              "    </tr>\n",
              "    <tr>\n",
              "      <th>7644-OMVMY</th>\n",
              "      <td>2020-02-01</td>\n",
              "      <td>2020-02-01</td>\n",
              "      <td>Two year</td>\n",
              "      <td>No</td>\n",
              "      <td>Mailed check</td>\n",
              "      <td>19.85</td>\n",
              "      <td>NaN</td>\n",
              "      <td>Male</td>\n",
              "      <td>0</td>\n",
              "      <td>Yes</td>\n",
              "      <td>...</td>\n",
              "      <td>no_internet</td>\n",
              "      <td>no_internet</td>\n",
              "      <td>no_internet</td>\n",
              "      <td>no_internet</td>\n",
              "      <td>no_internet</td>\n",
              "      <td>no_internet</td>\n",
              "      <td>no_internet</td>\n",
              "      <td>No</td>\n",
              "      <td>0</td>\n",
              "      <td>0</td>\n",
              "    </tr>\n",
              "    <tr>\n",
              "      <th>3213-VVOLG</th>\n",
              "      <td>2020-02-01</td>\n",
              "      <td>2020-02-01</td>\n",
              "      <td>Two year</td>\n",
              "      <td>No</td>\n",
              "      <td>Mailed check</td>\n",
              "      <td>25.35</td>\n",
              "      <td>NaN</td>\n",
              "      <td>Male</td>\n",
              "      <td>0</td>\n",
              "      <td>Yes</td>\n",
              "      <td>...</td>\n",
              "      <td>no_internet</td>\n",
              "      <td>no_internet</td>\n",
              "      <td>no_internet</td>\n",
              "      <td>no_internet</td>\n",
              "      <td>no_internet</td>\n",
              "      <td>no_internet</td>\n",
              "      <td>no_internet</td>\n",
              "      <td>Yes</td>\n",
              "      <td>0</td>\n",
              "      <td>0</td>\n",
              "    </tr>\n",
              "    <tr>\n",
              "      <th>2520-SGTTA</th>\n",
              "      <td>2020-02-01</td>\n",
              "      <td>2020-02-01</td>\n",
              "      <td>Two year</td>\n",
              "      <td>No</td>\n",
              "      <td>Mailed check</td>\n",
              "      <td>20.00</td>\n",
              "      <td>NaN</td>\n",
              "      <td>Female</td>\n",
              "      <td>0</td>\n",
              "      <td>Yes</td>\n",
              "      <td>...</td>\n",
              "      <td>no_internet</td>\n",
              "      <td>no_internet</td>\n",
              "      <td>no_internet</td>\n",
              "      <td>no_internet</td>\n",
              "      <td>no_internet</td>\n",
              "      <td>no_internet</td>\n",
              "      <td>no_internet</td>\n",
              "      <td>No</td>\n",
              "      <td>0</td>\n",
              "      <td>0</td>\n",
              "    </tr>\n",
              "    <tr>\n",
              "      <th>2923-ARZLG</th>\n",
              "      <td>2020-02-01</td>\n",
              "      <td>2020-02-01</td>\n",
              "      <td>One year</td>\n",
              "      <td>Yes</td>\n",
              "      <td>Mailed check</td>\n",
              "      <td>19.70</td>\n",
              "      <td>NaN</td>\n",
              "      <td>Male</td>\n",
              "      <td>0</td>\n",
              "      <td>Yes</td>\n",
              "      <td>...</td>\n",
              "      <td>no_internet</td>\n",
              "      <td>no_internet</td>\n",
              "      <td>no_internet</td>\n",
              "      <td>no_internet</td>\n",
              "      <td>no_internet</td>\n",
              "      <td>no_internet</td>\n",
              "      <td>no_internet</td>\n",
              "      <td>No</td>\n",
              "      <td>0</td>\n",
              "      <td>0</td>\n",
              "    </tr>\n",
              "    <tr>\n",
              "      <th>4075-WKNIU</th>\n",
              "      <td>2020-02-01</td>\n",
              "      <td>2020-02-01</td>\n",
              "      <td>Two year</td>\n",
              "      <td>No</td>\n",
              "      <td>Mailed check</td>\n",
              "      <td>73.35</td>\n",
              "      <td>NaN</td>\n",
              "      <td>Female</td>\n",
              "      <td>0</td>\n",
              "      <td>Yes</td>\n",
              "      <td>...</td>\n",
              "      <td>DSL</td>\n",
              "      <td>No</td>\n",
              "      <td>Yes</td>\n",
              "      <td>Yes</td>\n",
              "      <td>Yes</td>\n",
              "      <td>Yes</td>\n",
              "      <td>No</td>\n",
              "      <td>Yes</td>\n",
              "      <td>0</td>\n",
              "      <td>0</td>\n",
              "    </tr>\n",
              "    <tr>\n",
              "      <th>2775-SEFEE</th>\n",
              "      <td>2020-02-01</td>\n",
              "      <td>2020-02-01</td>\n",
              "      <td>Two year</td>\n",
              "      <td>Yes</td>\n",
              "      <td>Bank transfer (automatic)</td>\n",
              "      <td>61.90</td>\n",
              "      <td>NaN</td>\n",
              "      <td>Male</td>\n",
              "      <td>0</td>\n",
              "      <td>No</td>\n",
              "      <td>...</td>\n",
              "      <td>DSL</td>\n",
              "      <td>Yes</td>\n",
              "      <td>Yes</td>\n",
              "      <td>No</td>\n",
              "      <td>Yes</td>\n",
              "      <td>No</td>\n",
              "      <td>No</td>\n",
              "      <td>Yes</td>\n",
              "      <td>0</td>\n",
              "      <td>0</td>\n",
              "    </tr>\n",
              "  </tbody>\n",
              "</table>\n",
              "<p>11 rows × 21 columns</p>\n",
              "</div>"
            ],
            "text/plain": [
              "            BeginDate    EndDate      Type PaperlessBilling  \\\n",
              "customerID                                                    \n",
              "4472-LVYGI 2020-02-01 2020-02-01  Two year              Yes   \n",
              "3115-CZMZD 2020-02-01 2020-02-01  Two year               No   \n",
              "5709-LVOEQ 2020-02-01 2020-02-01  Two year               No   \n",
              "4367-NUYAO 2020-02-01 2020-02-01  Two year               No   \n",
              "1371-DWPAZ 2020-02-01 2020-02-01  Two year               No   \n",
              "7644-OMVMY 2020-02-01 2020-02-01  Two year               No   \n",
              "3213-VVOLG 2020-02-01 2020-02-01  Two year               No   \n",
              "2520-SGTTA 2020-02-01 2020-02-01  Two year               No   \n",
              "2923-ARZLG 2020-02-01 2020-02-01  One year              Yes   \n",
              "4075-WKNIU 2020-02-01 2020-02-01  Two year               No   \n",
              "2775-SEFEE 2020-02-01 2020-02-01  Two year              Yes   \n",
              "\n",
              "                        PaymentMethod  MonthlyCharges  TotalCharges  gender  \\\n",
              "customerID                                                                    \n",
              "4472-LVYGI  Bank transfer (automatic)           52.55           NaN  Female   \n",
              "3115-CZMZD               Mailed check           20.25           NaN    Male   \n",
              "5709-LVOEQ               Mailed check           80.85           NaN  Female   \n",
              "4367-NUYAO               Mailed check           25.75           NaN    Male   \n",
              "1371-DWPAZ    Credit card (automatic)           56.05           NaN  Female   \n",
              "7644-OMVMY               Mailed check           19.85           NaN    Male   \n",
              "3213-VVOLG               Mailed check           25.35           NaN    Male   \n",
              "2520-SGTTA               Mailed check           20.00           NaN  Female   \n",
              "2923-ARZLG               Mailed check           19.70           NaN    Male   \n",
              "4075-WKNIU               Mailed check           73.35           NaN  Female   \n",
              "2775-SEFEE  Bank transfer (automatic)           61.90           NaN    Male   \n",
              "\n",
              "            SeniorCitizen Partner  ... InternetService OnlineSecurity  \\\n",
              "customerID                         ...                                  \n",
              "4472-LVYGI              0     Yes  ...             DSL            Yes   \n",
              "3115-CZMZD              0      No  ...     no_internet    no_internet   \n",
              "5709-LVOEQ              0     Yes  ...             DSL            Yes   \n",
              "4367-NUYAO              0     Yes  ...     no_internet    no_internet   \n",
              "1371-DWPAZ              0     Yes  ...             DSL            Yes   \n",
              "7644-OMVMY              0     Yes  ...     no_internet    no_internet   \n",
              "3213-VVOLG              0     Yes  ...     no_internet    no_internet   \n",
              "2520-SGTTA              0     Yes  ...     no_internet    no_internet   \n",
              "2923-ARZLG              0     Yes  ...     no_internet    no_internet   \n",
              "4075-WKNIU              0     Yes  ...             DSL             No   \n",
              "2775-SEFEE              0      No  ...             DSL            Yes   \n",
              "\n",
              "           OnlineBackup DeviceProtection  TechSupport  StreamingTV  \\\n",
              "customerID                                                           \n",
              "4472-LVYGI           No              Yes          Yes          Yes   \n",
              "3115-CZMZD  no_internet      no_internet  no_internet  no_internet   \n",
              "5709-LVOEQ          Yes              Yes           No          Yes   \n",
              "4367-NUYAO  no_internet      no_internet  no_internet  no_internet   \n",
              "1371-DWPAZ          Yes              Yes          Yes          Yes   \n",
              "7644-OMVMY  no_internet      no_internet  no_internet  no_internet   \n",
              "3213-VVOLG  no_internet      no_internet  no_internet  no_internet   \n",
              "2520-SGTTA  no_internet      no_internet  no_internet  no_internet   \n",
              "2923-ARZLG  no_internet      no_internet  no_internet  no_internet   \n",
              "4075-WKNIU          Yes              Yes          Yes          Yes   \n",
              "2775-SEFEE          Yes               No          Yes           No   \n",
              "\n",
              "           StreamingMovies MultipleLines Exited  Tenure  \n",
              "customerID                                               \n",
              "4472-LVYGI              No      no_phone      0       0  \n",
              "3115-CZMZD     no_internet            No      0       0  \n",
              "5709-LVOEQ             Yes            No      0       0  \n",
              "4367-NUYAO     no_internet           Yes      0       0  \n",
              "1371-DWPAZ              No      no_phone      0       0  \n",
              "7644-OMVMY     no_internet            No      0       0  \n",
              "3213-VVOLG     no_internet           Yes      0       0  \n",
              "2520-SGTTA     no_internet            No      0       0  \n",
              "2923-ARZLG     no_internet            No      0       0  \n",
              "4075-WKNIU              No           Yes      0       0  \n",
              "2775-SEFEE              No           Yes      0       0  \n",
              "\n",
              "[11 rows x 21 columns]"
            ]
          },
          "execution_count": 15,
          "metadata": {},
          "output_type": "execute_result"
        }
      ],
      "source": [
        "# выведем строки с получившимся пустым значением столбца TotalCharges\n",
        "data.loc[data['TotalCharges'].isna()]"
      ]
    },
    {
      "cell_type": "markdown",
      "metadata": {
        "id": "yYx_HVtef-Mg"
      },
      "source": [
        "После изменения типа столбца TotalCharges в нем образовались пропуски, которые можно объяснить следующим образом. Все такие записи относятся к контрактам, заключенным в день, соответствующий дате актуальности данных - 01.02.2020, откуда делаем вывод, что это новые контракты, по которым еще не успела накопиться фактическая итоговая задолженность. Поэтому заполним эти пропуски *значениями из столбца MonthlyCharges*."
      ]
    },
    {
      "cell_type": "code",
      "execution_count": null,
      "metadata": {
        "id": "xh2itilof-Mg",
        "outputId": "5b6242f4-bab6-4c3b-d4c6-fa491682d333"
      },
      "outputs": [
        {
          "data": {
            "text/plain": [
              "0"
            ]
          },
          "execution_count": 16,
          "metadata": {},
          "output_type": "execute_result"
        }
      ],
      "source": [
        "#empties = data[data['TotalCharges'].isna()].index.to_list()\n",
        "data['TotalCharges'] = data['TotalCharges'].fillna(data['MonthlyCharges'])\n",
        "# и выведем снова количество пропусков для проверки\n",
        "data['TotalCharges'].isna().sum()"
      ]
    },
    {
      "cell_type": "markdown",
      "metadata": {
        "id": "OUqTgqV0f-Mh"
      },
      "source": [
        "*Для корректного отнесения столбца SeniorCitizen к числу категориальных (коим он и является), изменим его тип на object и проверим типы колонок датафрейма*"
      ]
    },
    {
      "cell_type": "code",
      "execution_count": null,
      "metadata": {
        "id": "jemWBY5Nf-Mh",
        "outputId": "825374a4-c835-42ba-d064-ac7a588aa1da"
      },
      "outputs": [
        {
          "data": {
            "text/plain": [
              "BeginDate           datetime64[ns]\n",
              "EndDate             datetime64[ns]\n",
              "Type                        object\n",
              "PaperlessBilling            object\n",
              "PaymentMethod               object\n",
              "MonthlyCharges             float64\n",
              "TotalCharges               float64\n",
              "gender                      object\n",
              "SeniorCitizen               object\n",
              "Partner                     object\n",
              "Dependents                  object\n",
              "InternetService             object\n",
              "OnlineSecurity              object\n",
              "OnlineBackup                object\n",
              "DeviceProtection            object\n",
              "TechSupport                 object\n",
              "StreamingTV                 object\n",
              "StreamingMovies             object\n",
              "MultipleLines               object\n",
              "Exited                       int64\n",
              "Tenure                       int64\n",
              "dtype: object"
            ]
          },
          "execution_count": 17,
          "metadata": {},
          "output_type": "execute_result"
        }
      ],
      "source": [
        "data['SeniorCitizen'] = data['SeniorCitizen'].astype('object')\n",
        "data.dtypes"
      ]
    },
    {
      "cell_type": "markdown",
      "metadata": {
        "id": "jtkiolNnf-Mi"
      },
      "source": [
        "И еще один штрих. Сравняем названия столбцов в едином \"верблюжьем стиле\" и посмотрим на оставшиеся получившиеся названия."
      ]
    },
    {
      "cell_type": "code",
      "execution_count": null,
      "metadata": {
        "id": "Jyhkw8Nff-Mi",
        "outputId": "735307a6-39ea-4943-e860-d618a5d21873"
      },
      "outputs": [
        {
          "data": {
            "text/plain": [
              "['BeginDate',\n",
              " 'EndDate',\n",
              " 'Type',\n",
              " 'PaperlessBilling',\n",
              " 'PaymentMethod',\n",
              " 'MonthlyCharges',\n",
              " 'TotalCharges',\n",
              " 'Gender',\n",
              " 'SeniorCitizen',\n",
              " 'Partner',\n",
              " 'Dependents',\n",
              " 'InternetService',\n",
              " 'OnlineSecurity',\n",
              " 'OnlineBackup',\n",
              " 'DeviceProtection',\n",
              " 'TechSupport',\n",
              " 'StreamingTV',\n",
              " 'StreamingMovies',\n",
              " 'MultipleLines',\n",
              " 'Exited',\n",
              " 'Tenure']"
            ]
          },
          "execution_count": 18,
          "metadata": {},
          "output_type": "execute_result"
        }
      ],
      "source": [
        "data = data.rename(columns={'gender': 'Gender'})\n",
        "data.columns.to_list()"
      ]
    },
    {
      "cell_type": "markdown",
      "metadata": {
        "id": "IIY8ZoElf-Mi"
      },
      "source": [
        "**Предварительные выводы:**\n",
        "\n",
        " - Таблицы объединены корректно\n",
        " - Целевой признак создан и изучен дисбаланс классов, определена задача несбалансированной классификации\n",
        " - Дополнительный признак длительности количества дней обслуживания создан\n",
        " - Изменены типы некоторых столбцов\n",
        " - Названия столбцов приведены к единому стилю"
      ]
    },
    {
      "cell_type": "markdown",
      "metadata": {
        "id": "0rqoudIuf-Mj"
      },
      "source": [
        "### Исследовательский анализ"
      ]
    },
    {
      "cell_type": "markdown",
      "metadata": {
        "id": "148Zxwbkf-Mj"
      },
      "source": [
        "Рассмотрим теперь распределения и аномалии в данных.\n",
        "\n",
        "#### *Численные столбцы*"
      ]
    },
    {
      "cell_type": "code",
      "execution_count": null,
      "metadata": {
        "id": "TIcT4rCkf-Mj",
        "outputId": "0eac0141-3dbf-4087-ccf0-6e5db642ecba"
      },
      "outputs": [
        {
          "data": {
            "image/png": "[encoded data removed]",
            "text/plain": [
              "<Figure size 1080x720 with 6 Axes>"
            ]
          },
          "metadata": {
            "needs_background": "light"
          },
          "output_type": "display_data"
        }
      ],
      "source": [
        "data.hist(bins=150,figsize=(15,10));"
      ]
    },
    {
      "cell_type": "markdown",
      "metadata": {
        "id": "2p75eiSTf-Mk"
      },
      "source": [
        "**Описание:**\n",
        "\n",
        "Признак TotalCharges имеет распределение, напоминающее пуассоновское с максимумом в нулевом значении. Большое количество значений в районе 2020 года столбца EndDate связано с заполнением значения 'No' - это незавершенные договора. В MonthlyCharges имеются заметные выбросы в районе значения 20 с локальными максимумами каждые 5 денежных единиц. Значения столбца Tenure распределены по убывающей, имея заметное возрастание количества значений после 1700 с явными выбросами на почти максимальных значениях. Распределение BeginDate практически зеркально отражает распределение Tenure, поскольку они связаны одной формулой. Категориальные столбцы SeniorCitizen и Exited выражены числовыми значениями, поэтому попали на гистограмму."
      ]
    },
    {
      "cell_type": "markdown",
      "metadata": {
        "id": "ssTWA5Sbf-Ml"
      },
      "source": [
        "#### *Категориальные столбцы*\n",
        "\n",
        "*Категориальные столбцы рассмотрим на круговых диаграммах:*"
      ]
    },
    {
      "cell_type": "code",
      "execution_count": null,
      "metadata": {
        "id": "GhkIHyN5f-Ml",
        "outputId": "34486d21-b239-429d-89d5-5cab89f87fd5"
      },
      "outputs": [
        {
          "data": {
            "image/png": "[encoded data removed]",
            "text/plain": [
              "<Figure size 432x288 with 1 Axes>"
            ]
          },
          "metadata": {},
          "output_type": "display_data"
        },
        {
          "data": {
            "image/png": "[encoded data removed]",
            "text/plain": [
              "<Figure size 432x288 with 1 Axes>"
            ]
          },
          "metadata": {},
          "output_type": "display_data"
        },
        {
          "data": {
            "image/png": "[encoded data removed]",
            "text/plain": [
              "<Figure size 432x288 with 1 Axes>"
            ]
          },
          "metadata": {},
          "output_type": "display_data"
        },
        {
          "data": {
            "image/png": "[encoded data removed]",
            "text/plain": [
              "<Figure size 432x288 with 1 Axes>"
            ]
          },
          "metadata": {},
          "output_type": "display_data"
        },
        {
          "data": {
            "image/png": "[encoded data removed]",
            "text/plain": [
              "<Figure size 432x288 with 1 Axes>"
            ]
          },
          "metadata": {},
          "output_type": "display_data"
        },
        {
          "data": {
            "image/png": "[encoded data removed]",
            "text/plain": [
              "<Figure size 432x288 with 1 Axes>"
            ]
          },
          "metadata": {},
          "output_type": "display_data"
        },
        {
          "data": {
            "image/png": "[encoded data removed]",
            "text/plain": [
              "<Figure size 432x288 with 1 Axes>"
            ]
          },
          "metadata": {},
          "output_type": "display_data"
        },
        {
          "data": {
            "image/png": "[encoded data removed]",
            "text/plain": [
              "<Figure size 432x288 with 1 Axes>"
            ]
          },
          "metadata": {},
          "output_type": "display_data"
        },
        {
          "data": {
            "image/png": "[encoded data removed]",
            "text/plain": [
              "<Figure size 432x288 with 1 Axes>"
            ]
          },
          "metadata": {},
          "output_type": "display_data"
        },
        {
          "data": {
            "image/png": "[encoded data removed]",
            "text/plain": [
              "<Figure size 432x288 with 1 Axes>"
            ]
          },
          "metadata": {},
          "output_type": "display_data"
        },
        {
          "data": {
            "image/png": "[encoded data removed]",
            "text/plain": [
              "<Figure size 432x288 with 1 Axes>"
            ]
          },
          "metadata": {},
          "output_type": "display_data"
        },
        {
          "data": {
            "image/png": "[encoded data removed]",
            "text/plain": [
              "<Figure size 432x288 with 1 Axes>"
            ]
          },
          "metadata": {},
          "output_type": "display_data"
        },
        {
          "data": {
            "image/png": "[encoded data removed]",
            "text/plain": [
              "<Figure size 432x288 with 1 Axes>"
            ]
          },
          "metadata": {},
          "output_type": "display_data"
        },
        {
          "data": {
            "image/png": "[encoded data removed]",
            "text/plain": [
              "<Figure size 432x288 with 1 Axes>"
            ]
          },
          "metadata": {},
          "output_type": "display_data"
        },
        {
          "data": {
            "image/png": "[encoded data removed]",
            "text/plain": [
              "<Figure size 432x288 with 1 Axes>"
            ]
          },
          "metadata": {},
          "output_type": "display_data"
        }
      ],
      "source": [
        "for i in data.select_dtypes(include='object').columns.to_list():\n",
        "    data.groupby(i)[i].count().plot(kind='pie') #sns.countplot(x=i, data=data)\n",
        "    plt.show()"
      ]
    },
    {
      "cell_type": "markdown",
      "metadata": {
        "id": "C97Drrm5f-Ml"
      },
      "source": [
        "***Описание:***\n",
        "\n",
        "*Тип оплаты Type преимущественно ежемесячный (более половины всех значений); из оставшихся типов годовой чуть уступает двухлетнему. Бумажный платежный документ более распространен, нежели электронный. По способу оплаты лидирует однако электронный чек, составляя более трети от общего числа значений; остальные три вида примерно оинаково предпочтительны. По половому признаку данные распределены примерно одинаково, как и по наличию партнера (чуть больше \"одиночек\"); а по наличию иждивенцев распределение примерно 1:2 (также больше \"одиночек\"). Оптоволокно предпочительнее DSL, без услуги интернета меньше четверти пользователей - эта доля клиентов сохраняется для всех интернет-услуг, различие только в соотношении классов среди пользователей интернета: самая популярная услуга StreamingMovies и StreamingTV, а также антивирус DeviceProtection и облачное хранилище файлов для резервного копирования данных OnlineBackup; не популярны в большей степени линия тех.поддержки TechSupport и блокировка небезопасных сайтов OnlineSecurity. Клиентов, пользующихся возможностью ведения параллельных линий, чуть меньше по численности с теми, кто не пользуется; без телефона до сих пор пребывает еще малая часть пользователей.*\n",
        "*Пенсионеры в меньшинстве*"
      ]
    },
    {
      "cell_type": "markdown",
      "metadata": {
        "id": "vosU58nNf-Mm"
      },
      "source": [
        "**Далее необходимо:**\n",
        "\n",
        "Построить корреляционную матрицу и убрать ненужные столбцы.\n",
        "\n",
        "#### *Корреляционная матрица*"
      ]
    },
    {
      "cell_type": "markdown",
      "metadata": {
        "id": "ssXTua75f-Mm"
      },
      "source": [
        "*Сперва избавимся от ненужных столбцов: поскольку мы будем строить матрцу корреляции, искать зависимость признаков от дат вне задачи временных рядов некорректно и слишком растянуто по времени. Ну и при* построении моделей даты начала и конца обслуживания сами по себе вряд ли несут какую-то информационную пользу - добавленный из этих столбцов признак длительности обслуживания будет более информативен, поэтому удалим признаки с датами."
      ]
    },
    {
      "cell_type": "code",
      "execution_count": null,
      "metadata": {
        "id": "q_0h-_V_f-Mm",
        "outputId": "6f1632fc-6af1-4436-d09b-b641e54b1e60"
      },
      "outputs": [
        {
          "data": {
            "text/plain": [
              "['Type',\n",
              " 'PaperlessBilling',\n",
              " 'PaymentMethod',\n",
              " 'MonthlyCharges',\n",
              " 'TotalCharges',\n",
              " 'Gender',\n",
              " 'SeniorCitizen',\n",
              " 'Partner',\n",
              " 'Dependents',\n",
              " 'InternetService',\n",
              " 'OnlineSecurity',\n",
              " 'OnlineBackup',\n",
              " 'DeviceProtection',\n",
              " 'TechSupport',\n",
              " 'StreamingTV',\n",
              " 'StreamingMovies',\n",
              " 'MultipleLines',\n",
              " 'Exited',\n",
              " 'Tenure']"
            ]
          },
          "execution_count": 21,
          "metadata": {},
          "output_type": "execute_result"
        }
      ],
      "source": [
        "# удаление столбцов с датами\n",
        "data.drop(columns=['BeginDate', 'EndDate'], axis=1, inplace=True)\n",
        "# вывод списка столбцов датафрейма\n",
        "data.columns.to_list()"
      ]
    },
    {
      "cell_type": "markdown",
      "metadata": {
        "id": "8xOsO50ef-Mn"
      },
      "source": [
        "Оставили необходимые для обучения модели столбцы в едином формате написания. *Теперь рассмотрим корреляционную карту*"
      ]
    },
    {
      "cell_type": "code",
      "execution_count": null,
      "metadata": {
        "id": "Od2CLiC3f-Mn",
        "outputId": "3e841aa7-1c82-449c-e4d9-dc614a703636"
      },
      "outputs": [
        {
          "data": {
            "image/png": "[encoded data removed]",
            "text/plain": [
              "<Figure size 1440x1080 with 2 Axes>"
            ]
          },
          "metadata": {
            "needs_background": "light"
          },
          "output_type": "display_data"
        }
      ],
      "source": [
        "# построим тепловую карту корреляционной матрицы категориальных признаков\n",
        "plt.figure(figsize=(20,15))\n",
        "sns.heatmap(\n",
        "    data.phik_matrix(interval_cols=['MonthlyCharges', 'TotalCharges', 'Tenure']), # матрица корреляции\n",
        "    #cmap='RdBu_r', # цветовая схема\n",
        "    #annot=True, # значения внутри ячеек\n",
        "    cmap='coolwarm', center=0, annot=True,\n",
        "    vmin=-1, vmax=1);"
      ]
    },
    {
      "cell_type": "markdown",
      "metadata": {
        "id": "vHvhlEpYf-Mp"
      },
      "source": [
        "**Анализ:**\n",
        "\n",
        " - корреляция Tenure и BeginDate подразумевалась сразу;\n",
        " - зависимость TotalCharges с BeginDate может указывать на наличие у старых пользователей особых привилегий в виде дополнительных скидок на услуги оператора;\n",
        " - высокая корреляция типа оплаты Type с BeginDate также может говорить о наиболее распространенных типах оплаты в зависимости от времени подписания договора пользователем услуг оператора;\n",
        " - высокая корреляция MonthlyCharges с TotalCharges и колонками услуг тоже вполне очевидна (причем для MultipleLines эта зависимость чуть ниже, а интернет-услуги как правило оплачиваются ежемесячно - это тоже косвенно подтверждается их высокой корреляцией с Type);\n",
        " - целевой признак не имеет высоких коэффициентов Пирсона ни с одним другим признаком (больше всего с BeginDate)."
      ]
    },
    {
      "cell_type": "markdown",
      "metadata": {
        "id": "M3JUaJlif-Mp"
      },
      "source": [
        "### План работ\n",
        "\n"
      ]
    },
    {
      "cell_type": "markdown",
      "metadata": {
        "id": "o5bFRpw5f-Mp"
      },
      "source": [
        "***Выполненные этапы:***\n",
        "\n",
        "*- Подготовка данных, в том числе:*\n",
        "\n",
        "  + *импорт библиотек и данных*\n",
        "  + *первичная предобработка, включающая в себя объединение таблиц, создание целевого признака, признака длительности и др.изменения столбцов*\n",
        "  + *исследовательский анализ данных, включающий в себя изучение распределений численных и категориальных признаков, а также анализ корреляционной матрицы с предварительным удалением ненужных столбцов.*\n",
        "\n",
        "**Дальнейшие действия:**\n",
        "\n",
        "- Подготовить признаки для моделирования, в том числе:\n",
        "\n",
        "  * разделить данные на целевой и нецелевые признаки  \n",
        "  * разделить данные на тестовую и тренировочную выборки (валидационную не обособляем, т.к. будем использовать GS)\n",
        "  * для разных моделей подготовим разные выборки (потому что кодирование/масштабирование признаков будет реализовано в pipeline)\n",
        "\n",
        "- Моделирование:\n",
        "\n",
        "  * выбор моделей, сравнение\n",
        "  * тестирование лучшей\n",
        "  * *оценка важности признаков*\n",
        "  * *анализ матрицы ошибок*."
      ]
    },
    {
      "cell_type": "markdown",
      "metadata": {
        "id": "imvlgY_Xf-Ms"
      },
      "source": [
        "### Подготовка признаков для моделей"
      ]
    },
    {
      "cell_type": "markdown",
      "metadata": {
        "id": "2K2XnXyMf-Ms"
      },
      "source": [
        "Разделим данные. Целевой признак Exited - факт ухода клиента от оператора."
      ]
    },
    {
      "cell_type": "code",
      "execution_count": null,
      "metadata": {
        "scrolled": true,
        "id": "WD7pLp1df-Mt",
        "outputId": "c81a9411-d086-4c43-df12-24ccdc2d8344"
      },
      "outputs": [
        {
          "data": {
            "text/plain": [
              "(5282, 18)"
            ]
          },
          "metadata": {},
          "output_type": "display_data"
        },
        {
          "data": {
            "text/plain": [
              "(1761, 18)"
            ]
          },
          "metadata": {},
          "output_type": "display_data"
        },
        {
          "data": {
            "text/plain": [
              "(5282,)"
            ]
          },
          "metadata": {},
          "output_type": "display_data"
        },
        {
          "data": {
            "text/plain": [
              "(1761,)"
            ]
          },
          "metadata": {},
          "output_type": "display_data"
        },
        {
          "data": {
            "text/html": [
              "<div>\n",
              "<style scoped>\n",
              "    .dataframe tbody tr th:only-of-type {\n",
              "        vertical-align: middle;\n",
              "    }\n",
              "\n",
              "    .dataframe tbody tr th {\n",
              "        vertical-align: top;\n",
              "    }\n",
              "\n",
              "    .dataframe thead th {\n",
              "        text-align: right;\n",
              "    }\n",
              "</style>\n",
              "<table border=\"1\" class=\"dataframe\">\n",
              "  <thead>\n",
              "    <tr style=\"text-align: right;\">\n",
              "      <th></th>\n",
              "      <th>Type</th>\n",
              "      <th>PaperlessBilling</th>\n",
              "      <th>PaymentMethod</th>\n",
              "      <th>MonthlyCharges</th>\n",
              "      <th>TotalCharges</th>\n",
              "      <th>Gender</th>\n",
              "      <th>SeniorCitizen</th>\n",
              "      <th>Partner</th>\n",
              "      <th>Dependents</th>\n",
              "      <th>InternetService</th>\n",
              "      <th>OnlineSecurity</th>\n",
              "      <th>OnlineBackup</th>\n",
              "      <th>DeviceProtection</th>\n",
              "      <th>TechSupport</th>\n",
              "      <th>StreamingTV</th>\n",
              "      <th>StreamingMovies</th>\n",
              "      <th>MultipleLines</th>\n",
              "      <th>Tenure</th>\n",
              "    </tr>\n",
              "    <tr>\n",
              "      <th>customerID</th>\n",
              "      <th></th>\n",
              "      <th></th>\n",
              "      <th></th>\n",
              "      <th></th>\n",
              "      <th></th>\n",
              "      <th></th>\n",
              "      <th></th>\n",
              "      <th></th>\n",
              "      <th></th>\n",
              "      <th></th>\n",
              "      <th></th>\n",
              "      <th></th>\n",
              "      <th></th>\n",
              "      <th></th>\n",
              "      <th></th>\n",
              "      <th></th>\n",
              "      <th></th>\n",
              "      <th></th>\n",
              "    </tr>\n",
              "  </thead>\n",
              "  <tbody>\n",
              "    <tr>\n",
              "      <th>2074-GKOWZ</th>\n",
              "      <td>Month-to-month</td>\n",
              "      <td>Yes</td>\n",
              "      <td>Bank transfer (automatic)</td>\n",
              "      <td>89.55</td>\n",
              "      <td>461.18</td>\n",
              "      <td>Male</td>\n",
              "      <td>0</td>\n",
              "      <td>Yes</td>\n",
              "      <td>Yes</td>\n",
              "      <td>Fiber optic</td>\n",
              "      <td>No</td>\n",
              "      <td>No</td>\n",
              "      <td>No</td>\n",
              "      <td>No</td>\n",
              "      <td>Yes</td>\n",
              "      <td>Yes</td>\n",
              "      <td>No</td>\n",
              "      <td>153</td>\n",
              "    </tr>\n",
              "    <tr>\n",
              "      <th>3823-KYNQY</th>\n",
              "      <td>One year</td>\n",
              "      <td>No</td>\n",
              "      <td>Credit card (automatic)</td>\n",
              "      <td>24.95</td>\n",
              "      <td>299.40</td>\n",
              "      <td>Male</td>\n",
              "      <td>0</td>\n",
              "      <td>No</td>\n",
              "      <td>No</td>\n",
              "      <td>no_internet</td>\n",
              "      <td>no_internet</td>\n",
              "      <td>no_internet</td>\n",
              "      <td>no_internet</td>\n",
              "      <td>no_internet</td>\n",
              "      <td>no_internet</td>\n",
              "      <td>no_internet</td>\n",
              "      <td>Yes</td>\n",
              "      <td>365</td>\n",
              "    </tr>\n",
              "    <tr>\n",
              "      <th>6619-RPLQZ</th>\n",
              "      <td>Two year</td>\n",
              "      <td>No</td>\n",
              "      <td>Mailed check</td>\n",
              "      <td>20.85</td>\n",
              "      <td>938.25</td>\n",
              "      <td>Female</td>\n",
              "      <td>0</td>\n",
              "      <td>Yes</td>\n",
              "      <td>Yes</td>\n",
              "      <td>no_internet</td>\n",
              "      <td>no_internet</td>\n",
              "      <td>no_internet</td>\n",
              "      <td>no_internet</td>\n",
              "      <td>no_internet</td>\n",
              "      <td>no_internet</td>\n",
              "      <td>no_internet</td>\n",
              "      <td>No</td>\n",
              "      <td>1371</td>\n",
              "    </tr>\n",
              "    <tr>\n",
              "      <th>5003-OKNNK</th>\n",
              "      <td>One year</td>\n",
              "      <td>No</td>\n",
              "      <td>Credit card (automatic)</td>\n",
              "      <td>20.35</td>\n",
              "      <td>335.78</td>\n",
              "      <td>Female</td>\n",
              "      <td>0</td>\n",
              "      <td>Yes</td>\n",
              "      <td>Yes</td>\n",
              "      <td>no_internet</td>\n",
              "      <td>no_internet</td>\n",
              "      <td>no_internet</td>\n",
              "      <td>no_internet</td>\n",
              "      <td>no_internet</td>\n",
              "      <td>no_internet</td>\n",
              "      <td>no_internet</td>\n",
              "      <td>No</td>\n",
              "      <td>457</td>\n",
              "    </tr>\n",
              "    <tr>\n",
              "      <th>6258-NGCNG</th>\n",
              "      <td>Month-to-month</td>\n",
              "      <td>No</td>\n",
              "      <td>Mailed check</td>\n",
              "      <td>23.50</td>\n",
              "      <td>164.50</td>\n",
              "      <td>Male</td>\n",
              "      <td>0</td>\n",
              "      <td>No</td>\n",
              "      <td>No</td>\n",
              "      <td>no_internet</td>\n",
              "      <td>no_internet</td>\n",
              "      <td>no_internet</td>\n",
              "      <td>no_internet</td>\n",
              "      <td>no_internet</td>\n",
              "      <td>no_internet</td>\n",
              "      <td>no_internet</td>\n",
              "      <td>Yes</td>\n",
              "      <td>215</td>\n",
              "    </tr>\n",
              "  </tbody>\n",
              "</table>\n",
              "</div>"
            ],
            "text/plain": [
              "                      Type PaperlessBilling              PaymentMethod  \\\n",
              "customerID                                                               \n",
              "2074-GKOWZ  Month-to-month              Yes  Bank transfer (automatic)   \n",
              "3823-KYNQY        One year               No    Credit card (automatic)   \n",
              "6619-RPLQZ        Two year               No               Mailed check   \n",
              "5003-OKNNK        One year               No    Credit card (automatic)   \n",
              "6258-NGCNG  Month-to-month               No               Mailed check   \n",
              "\n",
              "            MonthlyCharges  TotalCharges  Gender SeniorCitizen Partner  \\\n",
              "customerID                                                               \n",
              "2074-GKOWZ           89.55        461.18    Male             0     Yes   \n",
              "3823-KYNQY           24.95        299.40    Male             0      No   \n",
              "6619-RPLQZ           20.85        938.25  Female             0     Yes   \n",
              "5003-OKNNK           20.35        335.78  Female             0     Yes   \n",
              "6258-NGCNG           23.50        164.50    Male             0      No   \n",
              "\n",
              "           Dependents InternetService OnlineSecurity OnlineBackup  \\\n",
              "customerID                                                          \n",
              "2074-GKOWZ        Yes     Fiber optic             No           No   \n",
              "3823-KYNQY         No     no_internet    no_internet  no_internet   \n",
              "6619-RPLQZ        Yes     no_internet    no_internet  no_internet   \n",
              "5003-OKNNK        Yes     no_internet    no_internet  no_internet   \n",
              "6258-NGCNG         No     no_internet    no_internet  no_internet   \n",
              "\n",
              "           DeviceProtection  TechSupport  StreamingTV StreamingMovies  \\\n",
              "customerID                                                              \n",
              "2074-GKOWZ               No           No          Yes             Yes   \n",
              "3823-KYNQY      no_internet  no_internet  no_internet     no_internet   \n",
              "6619-RPLQZ      no_internet  no_internet  no_internet     no_internet   \n",
              "5003-OKNNK      no_internet  no_internet  no_internet     no_internet   \n",
              "6258-NGCNG      no_internet  no_internet  no_internet     no_internet   \n",
              "\n",
              "           MultipleLines  Tenure  \n",
              "customerID                        \n",
              "2074-GKOWZ            No     153  \n",
              "3823-KYNQY           Yes     365  \n",
              "6619-RPLQZ            No    1371  \n",
              "5003-OKNNK            No     457  \n",
              "6258-NGCNG           Yes     215  "
            ]
          },
          "execution_count": 23,
          "metadata": {},
          "output_type": "execute_result"
        }
      ],
      "source": [
        "# разделение данных на целевой/нецелевые признаки\n",
        "target = data['Exited']\n",
        "features = data.drop(['Exited'], axis=1)\n",
        "# разделение выборок на тренировочную и валидационную в отношении 3:1\n",
        "f_train, f_test, t_train, t_test = train_test_split(\n",
        "    features, target, train_size=0.75, random_state=RANDOM_STATE, stratify=target)\n",
        "# проверка размерностей выборок\n",
        "for el in (f_train, f_test, t_train, t_test):\n",
        "    display(el.shape)\n",
        "# пример\n",
        "f_train.head()"
      ]
    },
    {
      "cell_type": "markdown",
      "metadata": {
        "id": "UzpKuRzaf-Mt"
      },
      "source": [
        "Данные разделили на выборки в заданном проектом соотношении 3:1.\n",
        "\n",
        "Численные признаки будем масштабировать, а категориальные - кодировать, поэтому подготовим соответствующие списки.\n",
        "*Заметим, что признак SeniorCitizen является категориальным, несмотря на целочисленный тип, поэтому он должен быть отнесен к соответствующему списку*"
      ]
    },
    {
      "cell_type": "code",
      "execution_count": null,
      "metadata": {
        "id": "qQEpHeJBf-Mt",
        "outputId": "a5a001da-7b16-482a-d798-3b0ebb89e10b"
      },
      "outputs": [
        {
          "name": "stdout",
          "output_type": "stream",
          "text": [
            "Численные столбцы: ['MonthlyCharges', 'TotalCharges', 'Tenure'] \n",
            "Категориальные столбцы: ['Type', 'PaperlessBilling', 'PaymentMethod', 'Gender', 'SeniorCitizen', 'Partner', 'Dependents', 'InternetService', 'OnlineSecurity', 'OnlineBackup', 'DeviceProtection', 'TechSupport', 'StreamingTV', 'StreamingMovies', 'MultipleLines']\n"
          ]
        }
      ],
      "source": [
        "# подготовка списков числовых и категориальных столбцов\n",
        "numeric = features.select_dtypes(exclude='object').columns.to_list()\n",
        "categorized = features.select_dtypes(include='object').columns.to_list()\n",
        "print('Численные столбцы:', numeric,'\\nКатегориальные столбцы:', categorized)"
      ]
    },
    {
      "cell_type": "markdown",
      "metadata": {
        "id": "GM9mVnHXf-Mv"
      },
      "source": [
        "Удостоверимся далее, что значения категориальных столбцов в тестовой и тренировочной выборках совпадают, и переведем в тип category категориальные столбцы для использования их в требующих того бустинговых моделях"
      ]
    },
    {
      "cell_type": "code",
      "execution_count": null,
      "metadata": {
        "id": "gk2jj4iVf-Mv",
        "outputId": "db718b72-d019-4bf9-f8c6-bf345cef721e"
      },
      "outputs": [
        {
          "name": "stdout",
          "output_type": "stream",
          "text": [
            "Равенство значений тренировочной и тестовой выборок по категориальным столбцам:\n",
            "Type True set()\n",
            "PaperlessBilling True set()\n",
            "PaymentMethod True set()\n",
            "Gender True set()\n",
            "SeniorCitizen True set()\n",
            "Partner True set()\n",
            "Dependents True set()\n",
            "InternetService True set()\n",
            "OnlineSecurity True set()\n",
            "OnlineBackup True set()\n",
            "DeviceProtection True set()\n",
            "TechSupport True set()\n",
            "StreamingTV True set()\n",
            "StreamingMovies True set()\n",
            "MultipleLines True set()\n"
          ]
        },
        {
          "name": "stderr",
          "output_type": "stream",
          "text": [
            "/opt/conda/lib/python3.9/site-packages/pandas/core/frame.py:3191: SettingWithCopyWarning: \n",
            "A value is trying to be set on a copy of a slice from a DataFrame.\n",
            "Try using .loc[row_indexer,col_indexer] = value instead\n",
            "\n",
            "See the caveats in the documentation: https://pandas.pydata.org/pandas-docs/stable/user_guide/indexing.html#returning-a-view-versus-a-copy\n",
            "  self[k1] = value[k2]\n"
          ]
        }
      ],
      "source": [
        "#посмотрим на различие в значениях категориальных столбцов тестовой и тренировочной выборок\n",
        "print('Равенство значений тренировочной и тестовой выборок по категориальным столбцам:')\n",
        "for col in categorized:\n",
        "    print(col,(set(f_test[col]) >= set(f_train[col])),\n",
        "          set(f_test[col]) ^ set(f_train[col]))\n",
        "# здесь же подготовим выборки для разных моделей\n",
        "# переопределим выборки для Случайного Леса\n",
        "f_train_rf = f_train.copy()\n",
        "f_test_rf = f_test.copy()\n",
        "# для бустинговых моделей необходимо перевести категориальные данные в тип category\n",
        "f_train[categorized] = f_train[categorized].astype('category')\n",
        "f_test[categorized] = f_test[categorized].astype('category')"
      ]
    },
    {
      "cell_type": "markdown",
      "metadata": {
        "id": "oVuS7IWdf-Mv"
      },
      "source": [
        "**Предварительные выводы:**\n",
        "\n",
        "   + Данные разделены на целевой и нецелевые признаки;    \n",
        "   + Разделены тренировочные и тестовые выборки в заданном проектом соотношении;    \n",
        "   + Подготовлены списки численных и категориальных столбцов, проверили равенство значений классов в тестовой и тренировочной выборках;    \n",
        "   + Подготовили выборки отдельно для модели случайного леса и бустинговых моделей\n",
        "    \n",
        "Далее переходим к **обучению моделей**"
      ]
    },
    {
      "cell_type": "markdown",
      "metadata": {
        "id": "Pj9rI_R9f-Mw"
      },
      "source": [
        "## Моделирование\n",
        "\n",
        "Обучим разные модели, одна из которых CatBoost, *другая - LightGBM* и не бустинговая RandomForest. Для каждой модели попробуем разные гиперпараметры.\n",
        "\n",
        "Для оценки качества моделей будем применять метрику AUC-ROC.\n",
        "Значение метрики AUC-ROC должно быть не меньше 0.85 по условию проекта, эта константа уже объявлена в его начале. Дополнительно отслеживаем значение метрики Accuracy *(для лучшей модели)*.\n",
        "\n",
        "Модель градиентного бустинга может долго обучаться, поэтому изменим у неё только два параметра."
      ]
    },
    {
      "cell_type": "markdown",
      "metadata": {
        "id": "MWBHMUznf-Mw"
      },
      "source": [
        "### Случайный Лес\n",
        "\n",
        "Гиперпараметры для Случайного Леса будем подбирать через GridSearchCV с Pipeline для масштабирования численных и кодирования категориальных признаков"
      ]
    },
    {
      "cell_type": "code",
      "execution_count": null,
      "metadata": {
        "id": "sCoGtTTuf-Mx"
      },
      "outputs": [],
      "source": [
        "## подбор гиперпараметров\n",
        "# преобразование признаков:\n",
        "col_transformer_rf = make_column_transformer(\n",
        "    # категориальные через OHE\n",
        "    (OneHotEncoder(handle_unknown='ignore'), categorized),#, make_column_selector(dtype_include=object)),#\n",
        "    # масштабирование через StandardScaler\n",
        "    (StandardScaler(), numeric)#, make_column_selector(dtype_include=np.number))#\n",
        "    #remainder='passthrough'#\n",
        ")"
      ]
    },
    {
      "cell_type": "code",
      "execution_count": null,
      "metadata": {
        "id": "EdI61J0-f-M2"
      },
      "outputs": [],
      "source": [
        "# задаем модель, формируем пайплайн и определяем гиперпараметры для перебора\n",
        "model_rf = RandomForestClassifier(random_state=RANDOM_STATE)\n",
        "pipline_rf = make_pipeline(col_transformer_rf, model_rf)\n",
        "param_grid_rf = {\n",
        "    'randomforestclassifier__n_estimators': [140],#range(60, 160, 20),#\n",
        "    'randomforestclassifier__max_depth': [8]#range(2, 15)#\n",
        "}\n",
        "# подбор гиперпараметров через RandomizeSearchCV для ускорения процесса\n",
        "gs_rf = GridSearchCV(\n",
        "    pipline_rf,\n",
        "    param_grid_rf,\n",
        "    scoring='roc_auc',\n",
        "    n_jobs=-1\n",
        ")"
      ]
    },
    {
      "cell_type": "code",
      "execution_count": null,
      "metadata": {
        "id": "guQ6_wmif-M3",
        "outputId": "d432b7a5-cbf0-4cc6-bfca-5e604eaf2a21"
      },
      "outputs": [
        {
          "name": "stdout",
          "output_type": "stream",
          "text": [
            "CPU times: user 3.63 s, sys: 23.8 ms, total: 3.66 s\n",
            "Wall time: 3.66 s\n"
          ]
        }
      ],
      "source": [
        "%%time\n",
        "# обучение лучшей модели\n",
        "gs_rf.fit(f_train_rf, t_train)\n",
        "tuned_rf = gs_rf.best_estimator_\n",
        "rf_best_auc_roc = gs_rf.best_score_\n",
        "rf_best_params = gs_rf.best_params_"
      ]
    },
    {
      "cell_type": "markdown",
      "metadata": {
        "id": "pdcW9o3bf-M3"
      },
      "source": [
        "    CPU times: user 2min 34s, sys: 753 ms, total: 2min 35s\n",
        "    Wall time: 2min 35s"
      ]
    },
    {
      "cell_type": "code",
      "execution_count": null,
      "metadata": {
        "id": "mA86tQbrf-M3",
        "outputId": "f03ce570-54d7-4ba0-995f-019ccaae7513"
      },
      "outputs": [
        {
          "name": "stdout",
          "output_type": "stream",
          "text": [
            "Best parameters of RandomForestClassifier {'randomforestclassifier__max_depth': 8, 'randomforestclassifier__n_estimators': 140}\n",
            "Best AUC-ROC score 0.824\n"
          ]
        }
      ],
      "source": [
        "# выводы лучшей модели\n",
        "print('Best parameters of RandomForestClassifier', rf_best_params)\n",
        "print('Best AUC-ROC score', round(rf_best_auc_roc,3))"
      ]
    },
    {
      "cell_type": "markdown",
      "metadata": {
        "id": "iqxfl1llf-M4"
      },
      "source": [
        "    Best parameters of RandomForestClassifier {'randomforestclassifier__max_depth': 8, 'randomforestclassifier__n_estimators': 140}\n",
        "    Best AUC-ROC score 0.827"
      ]
    },
    {
      "cell_type": "markdown",
      "metadata": {
        "id": "JTiAKU6rf-M5"
      },
      "source": [
        "### CatBoostClassifier"
      ]
    },
    {
      "cell_type": "code",
      "execution_count": null,
      "metadata": {
        "id": "EpL1V6sDf-M5"
      },
      "outputs": [],
      "source": [
        "# подбор гиперпараметров\n",
        "model_cb = CatBoostClassifier(cat_features=categorized, random_seed=RANDOM_STATE, verbose=100)\n",
        "param_grid_cb = {'n_estimators': [220],'depth': [8]} #{'n_estimators': [120,180,220],'depth': [4,8,12]}\n",
        "gs_cb = GridSearchCV(\n",
        "    estimator=model_cb,\n",
        "    param_grid=param_grid_cb,\n",
        "    scoring='roc_auc', verbose=3)"
      ]
    },
    {
      "cell_type": "code",
      "execution_count": null,
      "metadata": {
        "id": "JcloTUPtf-M5",
        "outputId": "e1c3674a-4479-4263-e854-d37f1e069162"
      },
      "outputs": [
        {
          "name": "stdout",
          "output_type": "stream",
          "text": [
            "Fitting 5 folds for each of 1 candidates, totalling 5 fits\n",
            "Learning rate set to 0.076412\n",
            "0:\tlearn: 0.6293908\ttotal: 87ms\tremaining: 19s\n",
            "100:\tlearn: 0.2646702\ttotal: 2.52s\tremaining: 2.97s\n",
            "200:\tlearn: 0.2038633\ttotal: 5.65s\tremaining: 534ms\n",
            "219:\tlearn: 0.1924141\ttotal: 6.29s\tremaining: 0us\n",
            "[CV 1/5] END ......................depth=8, n_estimators=220; total time=   7.3s\n",
            "Learning rate set to 0.076412\n",
            "0:\tlearn: 0.6212223\ttotal: 33ms\tremaining: 7.24s\n",
            "100:\tlearn: 0.2539223\ttotal: 2.43s\tremaining: 2.86s\n",
            "200:\tlearn: 0.1856648\ttotal: 5.58s\tremaining: 527ms\n",
            "219:\tlearn: 0.1761678\ttotal: 6.19s\tremaining: 0us\n",
            "[CV 2/5] END ......................depth=8, n_estimators=220; total time=   7.1s\n",
            "Learning rate set to 0.07642\n",
            "0:\tlearn: 0.6285262\ttotal: 32.3ms\tremaining: 7.07s\n",
            "100:\tlearn: 0.2730080\ttotal: 2.25s\tremaining: 2.65s\n",
            "200:\tlearn: 0.1983048\ttotal: 5.42s\tremaining: 512ms\n",
            "219:\tlearn: 0.1875226\ttotal: 6.08s\tremaining: 0us\n",
            "[CV 3/5] END ......................depth=8, n_estimators=220; total time=   7.1s\n",
            "Learning rate set to 0.07642\n",
            "0:\tlearn: 0.6287828\ttotal: 38ms\tremaining: 8.32s\n",
            "100:\tlearn: 0.2444823\ttotal: 2.48s\tremaining: 2.92s\n",
            "200:\tlearn: 0.1903598\ttotal: 5.53s\tremaining: 523ms\n",
            "219:\tlearn: 0.1807333\ttotal: 6.28s\tremaining: 0us\n",
            "[CV 4/5] END ......................depth=8, n_estimators=220; total time=   7.3s\n",
            "Learning rate set to 0.07642\n",
            "0:\tlearn: 0.6246006\ttotal: 26.8ms\tremaining: 5.87s\n",
            "100:\tlearn: 0.2505992\ttotal: 2.15s\tremaining: 2.54s\n",
            "200:\tlearn: 0.1844991\ttotal: 5.33s\tremaining: 504ms\n",
            "219:\tlearn: 0.1725775\ttotal: 5.99s\tremaining: 0us\n",
            "[CV 5/5] END ......................depth=8, n_estimators=220; total time=   7.1s\n",
            "Learning rate set to 0.084056\n",
            "0:\tlearn: 0.6276816\ttotal: 17.6ms\tremaining: 3.86s\n",
            "100:\tlearn: 0.2533186\ttotal: 2.96s\tremaining: 3.49s\n",
            "200:\tlearn: 0.1822400\ttotal: 6.67s\tremaining: 630ms\n",
            "219:\tlearn: 0.1731826\ttotal: 7.38s\tremaining: 0us\n",
            "CPU times: user 32.8 s, sys: 5.91 s, total: 38.7 s\n",
            "Wall time: 44.2 s\n"
          ]
        }
      ],
      "source": [
        "%%time\n",
        "# обучение лучшей модели\n",
        "gs_cb.fit(f_train, t_train)\n",
        "tuned_cb = gs_cb.best_estimator_\n",
        "cb_best_params = gs_cb.best_params_\n",
        "cb_best_auc_roc = gs_cb.best_score_"
      ]
    },
    {
      "cell_type": "markdown",
      "metadata": {
        "id": "kWD17ZHDf-M6"
      },
      "source": [
        "    CPU times: user 6min 30s, sys: 10.1 s, total: 6min 40s\n",
        "    Wall time: 7min 24s"
      ]
    },
    {
      "cell_type": "code",
      "execution_count": null,
      "metadata": {
        "id": "NylClDrxf-M6",
        "outputId": "e4d5248b-1875-448e-d85f-105ced025ddb"
      },
      "outputs": [
        {
          "name": "stdout",
          "output_type": "stream",
          "text": [
            "Best parameters of CatBoostClassifier {'depth': 8, 'n_estimators': 220}\n",
            "Best AUC-ROC score 0.859\n"
          ]
        }
      ],
      "source": [
        "# предсказания и выводы лучшей модели\n",
        "print('Best parameters of CatBoostClassifier', cb_best_params)\n",
        "print('Best AUC-ROC score', round(cb_best_auc_roc,3))"
      ]
    },
    {
      "cell_type": "markdown",
      "metadata": {
        "id": "poZbJLdgf-M6"
      },
      "source": [
        "    Best parameters of CatBoostClassifier {'depth': 8, 'n_estimators': 220}\n",
        "    Best AUC-ROC score 0.855"
      ]
    },
    {
      "cell_type": "markdown",
      "metadata": {
        "id": "UlwYqy_Hf-M7"
      },
      "source": [
        "### LightGBM"
      ]
    },
    {
      "cell_type": "code",
      "execution_count": null,
      "metadata": {
        "id": "g8HaOlFaf-M7"
      },
      "outputs": [],
      "source": [
        "# подбор гиперпараметров\n",
        "gs_lg = GridSearchCV(\n",
        "    estimator=LGBMClassifier(random_state=RANDOM_STATE),\n",
        "    param_grid={'max_depth': [10], 'n_estimators': [180]}, #{'max_depth': [4,6,10], 'n_estimators': [80,130,180]},\n",
        "    scoring='roc_auc', verbose=3)"
      ]
    },
    {
      "cell_type": "code",
      "execution_count": null,
      "metadata": {
        "id": "PTv2KM1If-M8",
        "outputId": "b92a603c-17d5-4df3-f072-c373d2eef053"
      },
      "outputs": [
        {
          "name": "stdout",
          "output_type": "stream",
          "text": [
            "Fitting 5 folds for each of 1 candidates, totalling 5 fits\n",
            "[CV 1/5] END .................max_depth=10, n_estimators=180; total time=  46.7s\n",
            "[CV 2/5] END .................max_depth=10, n_estimators=180; total time= 1.0min\n",
            "[CV 3/5] END .................max_depth=10, n_estimators=180; total time= 1.4min\n",
            "[CV 4/5] END .................max_depth=10, n_estimators=180; total time=  23.9s\n",
            "[CV 5/5] END .................max_depth=10, n_estimators=180; total time=  25.0s\n",
            "CPU times: user 5min 48s, sys: 2.34 s, total: 5min 51s\n",
            "Wall time: 5min 58s\n"
          ]
        }
      ],
      "source": [
        "%%time\n",
        "# обучение модели с оптимальными гиперпараметрами\n",
        "gs_lg.fit(f_train, t_train)\n",
        "tuned_lg = gs_lg.best_estimator_\n",
        "lg_best_params = gs_lg.best_params_\n",
        "lg_best_auc_roc = gs_lg.best_score_"
      ]
    },
    {
      "cell_type": "markdown",
      "metadata": {
        "id": "Hdo_X4l8f-M8"
      },
      "source": [
        "    Fitting 5 folds for each of 9 candidates, totalling 45 fits\n",
        "[CV 1/5] END ...................max_depth=4, n_estimators=80; total time= 1.5min\n",
        "[CV 2/5] END ...................max_depth=4, n_estimators=80; total time= 1.5min\n",
        "[CV 3/5] END ...................max_depth=4, n_estimators=80; total time= 1.5min\n",
        "[CV 4/5] END ...................max_depth=4, n_estimators=80; total time= 1.7min\n",
        "[CV 5/5] END ...................max_depth=4, n_estimators=80; total time= 1.6min\n",
        "[CV 1/5] END ..................max_depth=4, n_estimators=130; total time= 2.6min\n",
        "[CV 2/5] END ..................max_depth=4, n_estimators=130; total time= 2.6min\n",
        "[CV 3/5] END ..................max_depth=4, n_estimators=130; total time= 2.8min\n",
        "[CV 4/5] END ..................max_depth=4, n_estimators=130; total time= 3.0min\n",
        "[CV 5/5] END ..................max_depth=4, n_estimators=130; total time= 2.9min\n",
        "[CV 1/5] END ..................max_depth=4, n_estimators=180; total time= 3.8min\n",
        "[CV 2/5] END ..................max_depth=4, n_estimators=180; total time= 3.2min\n",
        "[CV 3/5] END ..................max_depth=4, n_estimators=180; total time= 3.6min\n",
        "[CV 4/5] END ..................max_depth=4, n_estimators=180; total time= 3.7min\n",
        "[CV 5/5] END ..................max_depth=4, n_estimators=180; total time= 3.2min\n",
        "[CV 1/5] END ...................max_depth=6, n_estimators=80; total time= 3.1min\n",
        "[CV 2/5] END ...................max_depth=6, n_estimators=80; total time= 3.1min\n",
        "[CV 3/5] END ...................max_depth=6, n_estimators=80; total time= 3.4min\n",
        "[CV 4/5] END ...................max_depth=6, n_estimators=80; total time= 3.2min\n",
        "[CV 5/5] END ...................max_depth=6, n_estimators=80; total time= 3.6min\n",
        "[CV 1/5] END ..................max_depth=6, n_estimators=130; total time= 5.4min\n",
        "[CV 2/5] END ..................max_depth=6, n_estimators=130; total time= 5.5min\n",
        "[CV 3/5] END ..................max_depth=6, n_estimators=130; total time= 4.8min\n",
        "[CV 4/5] END ..................max_depth=6, n_estimators=130; total time= 5.9min\n",
        "[CV 5/5] END ..................max_depth=6, n_estimators=130; total time= 5.7min\n",
        "[CV 1/5] END ..................max_depth=6, n_estimators=180; total time= 7.7min\n",
        "[CV 2/5] END ..................max_depth=6, n_estimators=180; total time= 7.6min\n",
        "[CV 3/5] END ..................max_depth=6, n_estimators=180; total time= 8.5min\n",
        "[CV 4/5] END ..................max_depth=6, n_estimators=180; total time= 8.1min\n",
        "[CV 5/5] END ..................max_depth=6, n_estimators=180; total time= 8.8min\n",
        "[CV 1/5] END ..................max_depth=10, n_estimators=80; total time= 4.7min\n",
        "[CV 2/5] END ..................max_depth=10, n_estimators=80; total time= 4.3min\n",
        "[CV 3/5] END ..................max_depth=10, n_estimators=80; total time= 3.8min\n",
        "[CV 4/5] END ..................max_depth=10, n_estimators=80; total time= 4.5min\n",
        "[CV 5/5] END ..................max_depth=10, n_estimators=80; total time= 5.1min\n",
        "[CV 1/5] END .................max_depth=10, n_estimators=130; total time= 7.5min\n",
        "[CV 2/5] END .................max_depth=10, n_estimators=130; total time= 7.3min\n",
        "[CV 3/5] END .................max_depth=10, n_estimators=130; total time= 7.0min\n",
        "[CV 4/5] END .................max_depth=10, n_estimators=130; total time= 7.2min\n",
        "[CV 5/5] END .................max_depth=10, n_estimators=130; total time= 7.2min\n",
        "[CV 1/5] END .................max_depth=10, n_estimators=180; total time= 9.7min\n",
        "[CV 2/5] END .................max_depth=10, n_estimators=180; total time= 9.1min\n",
        "[CV 3/5] END .................max_depth=10, n_estimators=180; total time=10.0min\n",
        "[CV 4/5] END .................max_depth=10, n_estimators=180; total time=10.2min\n",
        "[CV 5/5] END .................max_depth=10, n_estimators=180; total time=11.0min\n",
        "\n",
        "    CPU times: user 3h 58min 8s, sys: 2min 23s, total: 4h 31s\n",
        "    Wall time: 4h 1min 54s"
      ]
    },
    {
      "cell_type": "code",
      "execution_count": null,
      "metadata": {
        "id": "NkPG8ft0f-M8"
      },
      "outputs": [],
      "source": [
        "# сохраним лучшую LGBM-модель\n",
        "#dump(tuned_lg, 'lgbm_model_of_final_project_1.pkl')\n",
        "# загрузка лучшей модели из дампа\n",
        "#tuned_lg = load('lgbm_model_of_final_project_1.pkl')\n",
        "# значения лучшей модели\n",
        "lg_best_params = {'max_depth': 10, 'n_estimators': 180}\n",
        "lg_best_auc_roc = 0.88"
      ]
    },
    {
      "cell_type": "code",
      "execution_count": null,
      "metadata": {
        "id": "SVI-Cb96f-M9",
        "outputId": "db938623-3fba-4f10-cd5b-912842b17fa8"
      },
      "outputs": [
        {
          "name": "stdout",
          "output_type": "stream",
          "text": [
            "Best parameters of LightGBM {'max_depth': 10, 'n_estimators': 180}\n",
            "Best AUC-ROC score 0.88\n"
          ]
        }
      ],
      "source": [
        "# предсказания и выводы лучшей модели\n",
        "print('Best parameters of LightGBM', lg_best_params)\n",
        "print('Best AUC-ROC score', round(lg_best_auc_roc,3))"
      ]
    },
    {
      "cell_type": "markdown",
      "metadata": {
        "id": "ftoc4lqaf-M9"
      },
      "source": [
        "    Best parameters of LightGBM {'max_depth': 10, 'n_estimators': 180}\n",
        "    Best AUC-ROC score 0.88"
      ]
    },
    {
      "cell_type": "markdown",
      "metadata": {
        "id": "BjJVlyO_f-M9"
      },
      "source": [
        "### Вывод"
      ]
    },
    {
      "cell_type": "code",
      "execution_count": null,
      "metadata": {
        "id": "IvrVd6zqf-M-",
        "outputId": "7d47d5f0-5a72-438f-986f-4e05704c82dc"
      },
      "outputs": [
        {
          "data": {
            "text/html": [
              "<div>\n",
              "<style scoped>\n",
              "    .dataframe tbody tr th:only-of-type {\n",
              "        vertical-align: middle;\n",
              "    }\n",
              "\n",
              "    .dataframe tbody tr th {\n",
              "        vertical-align: top;\n",
              "    }\n",
              "\n",
              "    .dataframe thead th {\n",
              "        text-align: right;\n",
              "    }\n",
              "</style>\n",
              "<table border=\"1\" class=\"dataframe\">\n",
              "  <thead>\n",
              "    <tr style=\"text-align: right;\">\n",
              "      <th></th>\n",
              "      <th>best_aucroc_score</th>\n",
              "    </tr>\n",
              "  </thead>\n",
              "  <tbody>\n",
              "    <tr>\n",
              "      <th>RandomForestClassifier</th>\n",
              "      <td>0.824</td>\n",
              "    </tr>\n",
              "    <tr>\n",
              "      <th>CatBoostClassifier</th>\n",
              "      <td>0.859</td>\n",
              "    </tr>\n",
              "    <tr>\n",
              "      <th>LGBMClassifier</th>\n",
              "      <td>0.880</td>\n",
              "    </tr>\n",
              "  </tbody>\n",
              "</table>\n",
              "</div>"
            ],
            "text/plain": [
              "                        best_aucroc_score\n",
              "RandomForestClassifier              0.824\n",
              "CatBoostClassifier                  0.859\n",
              "LGBMClassifier                      0.880"
            ]
          },
          "execution_count": 37,
          "metadata": {},
          "output_type": "execute_result"
        }
      ],
      "source": [
        "results = pd.DataFrame(columns=['best_aucroc_score'],\n",
        "             index=['RandomForestClassifier','CatBoostClassifier','LGBMClassifier'],\n",
        "             data=[[round(rf_best_auc_roc,3)],\n",
        "                   [round(cb_best_auc_roc,3)],\n",
        "                   [round(lg_best_auc_roc,3)]])\n",
        "results"
      ]
    },
    {
      "cell_type": "markdown",
      "metadata": {
        "id": "8PnLE0ACf-M-"
      },
      "source": [
        "По значению метрики AUC-ROC на тренировочных данных лучший результат показала модель LGBMClassifier. Проверим ее на тестовых данных."
      ]
    },
    {
      "cell_type": "code",
      "execution_count": null,
      "metadata": {
        "id": "Nik_nxqWf-M-"
      },
      "outputs": [],
      "source": [
        "best_model = tuned_lg"
      ]
    },
    {
      "cell_type": "markdown",
      "metadata": {
        "id": "KmICZj98f-M_"
      },
      "source": [
        "### Тестирование лучшей модели"
      ]
    },
    {
      "cell_type": "code",
      "execution_count": null,
      "metadata": {
        "id": "VB5JKt35f-M_",
        "outputId": "4089dc39-6236-4d34-b40f-0748186bdf77"
      },
      "outputs": [
        {
          "name": "stdout",
          "output_type": "stream",
          "text": [
            "Значение AUC-ROC на тестовых данных: 0.896\n",
            "Проверка на преодоление минимального порога: True\n",
            "Проверка на отсутствие утечки: True\n",
            "Значение accuracy на тестовых данных 0.893\n"
          ]
        }
      ],
      "source": [
        "aucroc_best = roc_auc_score(t_test, best_model.predict_proba(f_test)[:,1])\n",
        "accuracy_best = accuracy_score(t_test, best_model.predict(f_test))\n",
        "print('Значение AUC-ROC на тестовых данных:',round(aucroc_best,3))\n",
        "print('Проверка на преодоление минимального порога:', aucroc_best >= AUCROC_MIN)\n",
        "print('Проверка на отсутствие утечки:', aucroc_best < LEAK)\n",
        "print('Значение accuracy на тестовых данных', round(accuracy_best,3))"
      ]
    },
    {
      "cell_type": "markdown",
      "metadata": {
        "id": "0I91YP54f-M_"
      },
      "source": [
        "Лучшая модель прошла тест на минимальное значение метрики. Утечки данных не обнаружено. *Метрика Accuracy - точность предсказаний - показывает высокую долю верно предсказанных ответов на тестовых данных, более 89%.* Модель корректно решает задачу классификации."
      ]
    },
    {
      "cell_type": "markdown",
      "metadata": {
        "id": "babT0K9Uf-NA"
      },
      "source": [
        "#### Оценка важности признаков"
      ]
    },
    {
      "cell_type": "code",
      "execution_count": null,
      "metadata": {
        "id": "vSbJ1Y6Lf-NA",
        "outputId": "589eb026-cda7-4897-a2d2-235c8abf2419"
      },
      "outputs": [
        {
          "data": {
            "image/png": "[encoded data removed]",
            "text/plain": [
              "<Figure size 576x720 with 1 Axes>"
            ]
          },
          "metadata": {
            "needs_background": "light"
          },
          "output_type": "display_data"
        }
      ],
      "source": [
        "pd.Series(\n",
        "    best_model.feature_importances_, index=features.columns\n",
        ").nlargest(30).plot(kind='barh', figsize=(8,10))\n",
        "plt.title('График важности признаков')\n",
        "plt.ylabel('Признак')\n",
        "plt.xlabel('Важность');"
      ]
    },
    {
      "cell_type": "markdown",
      "metadata": {
        "id": "G4js9bgRf-NB"
      },
      "source": [
        "Самыми неинформативными признаками для лучшей модели LightGBMClassifier на основании наших данных являются InternetService (пользуется ли клиент услугой интернета), SeniorCitizen (наличие пенсионного статуса по возрасту) и PaymentMethod (способ оплаты); наиболее важными в порядке возрастания важности являются TotalCharges (общая сумма потраченных денег на услуги), MonthlyCharges (ежемесячные траты по договору), Tenure (длительность пользования услугами оператора клиентом).\n",
        "\n",
        "Если обратиться снова к корреляционной матрице, то заметим, что Tenure сильно коррелирует с TotalCharges (коэффициент Пирсона 0.85). Это, в свою очередь, не противоречит здравому смыслу, поскольку чем дольше клиент пользуется услугами оператора, тем бОльшая сумма накапливается в итоговую оплату. Возможно, стоит убрать из рассмотрения колонку TotalCharges, исключая избыточные зависимости в погоне за повышением метрики модели (и самые незначимые признаки, озвученные выше, ввиду их неинформативности для модели)."
      ]
    },
    {
      "cell_type": "markdown",
      "metadata": {
        "id": "JTwd603xf-NB"
      },
      "source": [
        "#### Матрица ошибок"
      ]
    },
    {
      "cell_type": "code",
      "execution_count": null,
      "metadata": {
        "id": "X0irFe0vf-NB",
        "outputId": "cfaf14a3-fb3d-42c4-c5b6-306e1b0e992b"
      },
      "outputs": [
        {
          "data": {
            "text/plain": [
              "array([[1455,   31],\n",
              "       [ 157,  118]])"
            ]
          },
          "execution_count": 41,
          "metadata": {},
          "output_type": "execute_result"
        }
      ],
      "source": [
        "confusion_matrix(t_test, best_model.predict(f_test))"
      ]
    },
    {
      "cell_type": "markdown",
      "metadata": {
        "id": "n6Y9wBTLf-NB"
      },
      "source": [
        "Матрица ошибок показывает количество сочетаний прогнозируемых и фактических значений. Из нашей матрицы ошибок видно, что количество верно предсказанных значений отрицательного класса (истинно-негативные - True Negative, TN) - 1455; ошибочно-позитивных FP (False Positive, ошибки 1-го рода) - 31; ошибочно-негативные FN (ошибки 2-го рода) - 157; истинно-позитивные TP - 118. Метрика Accuracy выражается как отношение:\n",
        "\n",
        "$Accuracy = (TP+TN)/(TP+TN+FP+FN)$,\n",
        "\n",
        "т.е. это как раз доля всех правильных ответов от общего количества предсказаний.\n",
        "\n",
        "*В нашей задаче для клиентов, прекративших пользоваться услугами оператора, значение целевого признака равно 1, иначе - 0, т.е. истинно-положительный ответ — это количество ушедших от оператора клиентов, которые в действительности отказались от пользования услуг.*\n",
        "\n",
        "Судя по всему, модель хорошо предсказывает истинно-негативные ответы, *т.е. остающихся клиентов,* совершая немного ошибок первого рода *(31 предсказание, что клиент уйдет, но клиент продолжил пользоваться услугами оператора)*. Более чем в 5 раз больше ошибок 2-го рода *(157 раз неверно предсказано, что клиент останется)* и *количество предсказаний* истинно-позитивных ответов *(верно предсказанный уход клиента)* меньше количества ошибок 2-го рода.\n",
        "\n",
        "*И* поскольку в рамках основной задачи проекта нам необходимо выделить с бОльшей точностью тех, кто собирается уходить от оператора, то такое распределение комбинаций значений *не вполне соответствует ожидаемым верно прогнозируемым уходам клиентов - их всего 118 против 157 потенциальных потерь - клиент уходит, но модель предсказывает обратное. Точность предсказания в рамках интересующего бизнес малого класса (т.н. полнота) около 43%.*"
      ]
    },
    {
      "cell_type": "markdown",
      "metadata": {
        "id": "BidFB_Fbf-ND"
      },
      "source": [
        "## Отчет"
      ]
    },
    {
      "cell_type": "markdown",
      "metadata": {
        "id": "UEBDGVJAf-ND"
      },
      "source": [
        "В рамках текущего проекта перед нами стояла **цель** - разработать модель для решения задачи классификации, позволяющую при заданной точности метрики AUC-ROC не более 0.85 прогнозировать уход клиента (для реализации возможности дальнейшего его удержания с помощью промокодов и специальных условий). Для достижения цели необходимо было пройти несколько **ключевых этапов**, все этапы плана были **выполнены**, о них далее.\n",
        "\n",
        "1. Первым этапом были импортированы необходимые библиотеки, загружены и осмотрены данные, проведена их предобработка.\n",
        "\n",
        "2. Вторым этапом был проведен исследовательский анализ данных, подготовлены признаки для дальнейших манипуляций.\n",
        "\n",
        "3. Третьим этапом произведено моделирование: построены три модели, к каждой из которых подобраны оптимальные гиперпараметры для решения основной задачи, выбрана и протестирована лучшая из них.\n",
        "\n",
        "В процессе выполнения проекта во время осмотра данных на первом этапе было выявлено несколько **проблем с данными**: во-первых, данные изначально представлены в нескольких таблицах; во-вторых, некоторые типы колонок не соответствовали значениям внутри них, а некоторые значения являлись по сути пропусками, но не определялись стандартными средствами; не был определен явно целевой признак, а также не хватало информативных признаков. **В связи с этим** были исправлены типы несоответствующих им колонок, отредактированы \"выбивающиеся\" значения, созданы дополнительные признаки, в том числе *признак длительности договора* (в дальнейшем для лучшей модели он оказался самым значимым) и целевой *признак ухода клиента* (на основании даты окончания пользования услугами оператора); также данные были соединены в единую таблицу, названия столбцов приведены к единому стилю для удоства обращения с ними. Был проведен анализ баланса классов, определена *задача несбалансированной классификации*.\n",
        "\n",
        "**В ходе исследовательского анализа** были изучены распределения численных и категориальных данных, произведен анализ корреляций переменных разного типа. Высоких значений зависимости с целевым признаком выявлено не было. Предварительно были *удалены столбцы с датами*, поскольку в рамках нашей задачи их использование при моделировании некорректно. **При подготовке данных для моделирования** были выделены выборки, разделяющие целевой и нецелевые признаки, а также тренировочный и тестовый наборы в заданном проектом соотношении. Также подготовлены списки численных и категориальных столбцов для дальнейшей обработки соответствующих значений (масштабирование численных и кодирование категориальных). Поскольку для выбора лучшей модели использовались три модели - Случайный Лес (RandomForestClassifier) и две бустинговые (CatBoostClassifier и LGBMClassifier), - для них необходимо было подготовить разные типы категориальных столбцов (бустинговые модели требуют определенный формат данных category для категориальных значений). Итоговый список признаков выглядит следующим образом:\n",
        "    \n",
        "    Численные столбцы: ['MonthlyCharges', 'TotalCharges', 'Tenure']\n",
        "\n",
        "    Категориальные столбцы: ['Type', 'PaperlessBilling', 'PaymentMethod', 'Gender', 'SeniorCitizen', 'Partner', 'Dependents', 'InternetService', 'OnlineSecurity', 'OnlineBackup', 'DeviceProtection', 'TechSupport', 'StreamingTV', 'StreamingMovies', 'MultipleLines']\n",
        "\n",
        "Поскольку для выбора лучшей модели использовались три модели - Случайный Лес (RandomForestClassifier) и две бустинговые (CatBoostClassifier и LGBMClassifier), - для них необходимо было подготовить разные типы категориальных столбцов: бустинговые модели требуют определенный формат данных category для категориальных значений, а для модели Случайного Леса преобразование признаков произвели с помощью трансформера, в который были включены масштабирование численных с помощью StandardScaler и кодирование категориальных с помощью OneHotEncoder; вся реализация обучения модели Случайного Леса с применением этого трансформера производилась с помощью Pipeline, подбор гиперпараметров всех моделей реализован при помощи GridSearchCV.\n",
        "\n",
        "**По окончанию обучения** были определены оптимальные гиперпараметры для каждой модели и выявлена лучшая по рассматриваемой метрике AUC-ROC. Ею оказалась модель LightGBM. Данные по всем обученным моделям приведены в таблице.\n",
        "\n",
        "                     model    best_aucroc_score\n",
        "                     \n",
        "    RandomForestClassifier\t0.824\n",
        "        CatBoostClassifier\t0.859\n",
        "            LGBMClassifier\t0.880\n",
        "            \n",
        "*Лучшая модель* LGBMClassifier имеет параметры {'max_depth': 10, 'n_estimators': 180}, где max_depth - максимальная глубина обучения (10), n_estimators - количество решателей (180). Ее метрика на кроссвалидации равна 0.88. На тестовых данных значение AUC-ROC составило 0.896, что позволило модели преодолеть минимальный порог 0.85, заданный проектом, но не обнаружило утечки данных (best_aucroc < 0.95). Метрика Accuracy, равная 0.893 (точность предсказаний), показывает высокую долю верно предсказанных ответов на тестовых данных более 89%. Модель **корректно решает задачу классификации**.\n",
        "\n",
        "**Последним этапом** дополнительно оценили *важность признаков* и проанализировали *матрицу ошибок*.\n",
        "\n",
        "**График важности признаков**:"
      ]
    },
    {
      "cell_type": "markdown",
      "metadata": {
        "id": "HQqxyBref-ND"
      },
      "source": [
        "![%D0%A1%D0%BD%D0%B8%D0%BC%D0%BE%D0%BA%20%D1%8D%D0%BA%D1%80%D0%B0%D0%BD%D0%B0%202023-08-27%20%D0%B2%2018.06.42.png](attachment:%D0%A1%D0%BD%D0%B8%D0%BC%D0%BE%D0%BA%20%D1%8D%D0%BA%D1%80%D0%B0%D0%BD%D0%B0%202023-08-27%20%D0%B2%2018.06.42.png)"
      ]
    },
    {
      "cell_type": "markdown",
      "metadata": {
        "id": "ZE3Vu0R3f-NE"
      },
      "source": [
        "Самыми неинформативными признаками для лучшей модели LGBMClassifier на основании наших данных являются InternetService (пользуется ли клиент услугой интернета), SeniorCitizen (наличие пенсионного статуса по возрасту) и PaymentMethod (способ оплаты); наиболее важными в порядке возрастания важности являются TotalCharges (общая сумма потраченных денег на услуги), MonthlyCharges (ежемесячные траты по договору), Tenure (длительность пользования услугами оператора клиентом).\n",
        "\n",
        "**Матрица ошибок** с наименованиями комбинаций значений (истинность ответа/истинный класс значения):\n",
        "\n",
        "    TN = 1455, FP = 31,\n",
        "    FN = 157, TP = 118,\n",
        "    \n",
        "где TN - количество истинно-отрицательных предсказаний модели (модель верно предсказала, что клиент не уходит, он в действительности остается клиентом оператора), FN - ложно-отрицательных (модель неверно предсказала, что клиент остается - на самом деле клиент разорвал договор), FP - ложно-положительных (модель предсказывает уход клиента, но он не уходит в дейстительности), TP - истинно-положительных ответов модели (модель верно предсказывает уход).\n",
        "\n",
        "В рамках основной задачи проекта нам необходимо выделить с бОльшей точностью тех, кто собирается уходить от оператора, поэтому такое распределение комбинаций значений **не вполне соответствует** ожидаемым верно прогнозируемым уходам клиентов: их всего 118 против 157 потенциальных потерь - клиент уходит, но модель предсказывает обратное. Точность предсказания в рамках интересующего бизнес класса около 43%.\n",
        "\n",
        "**Перспективы развития** проекта:\n",
        "\n",
        "Несмотря на то, что *цель проекта достигнута (модель корректно решает задачу прогнозирования ухода клиента от оператора в рамках заданных метрикой проекта ограничений)*, для повышения точности модели (особенно в рамках интересующего класса) можно попробовать реализовать ряд некоторых действий.\n",
        "\n",
        " - Возможно, стоит **убрать** из рассмотрения колонку TotalCharges, исключая избыточные зависимости в погоне за повышением метрики модели (и самые незначимые признаки, озвученные выше, ввиду их неинформативности для модели).\n",
        " - Вместо TotalCharges имеет смысл **добавить** признак AverageCharges, состоящих из фактических средних значений оплаты за день (отношение общей суммы потраченных денег TotalCharges к длительности Tenure).\n",
        " - Можно **составить** признак из всевозможных сочетаний столбцов интернет-услуг и убрать сами столбцы с интернет-услугами, или составить таким образом метрику погружённости клиента в компанию: чем больше услуг, тем выше метрика, тем выше лояльность.\n",
        " - Можно \"прокачать\" не ставшие лучшими модели, попробовав **подобрать** бОльшее число гиперпараметров (или попробовать другие).\n",
        " - Метрика **Recall** отражает возможность обнаруживать малый класс (который в рамках нашей задачи как раз является наиболее интересным - нам необходимо распознать уходящего клиента), на нее стоит обратить больше внимания.\n",
        "\n",
        "\n",
        "**Вывод:**\n",
        "\n",
        "**Цель** проекта разработать модель для решения задачи классификации, позволяющую при заданной точности метрики AUC-ROC не более 0.85 прогнозировать уход клиента, была успешно **достигнута** с помощью модели LGBMClassifier с гиперпараметрами {'max_depth': 10, 'n_estimators': 180}; метрика AUC-ROC на тестовых данных соответствует ограничениям проекта. Дополнительно были предложены рекомендации по повышению точности модели."
      ]
    }
  ],
  "metadata": {
    "ExecuteTimeLog": [
      {
        "duration": 858,
        "start_time": "2023-08-16T13:41:50.548Z"
      },
      {
        "duration": 126,
        "start_time": "2023-08-16T13:58:53.708Z"
      },
      {
        "duration": 46,
        "start_time": "2023-08-16T13:59:32.940Z"
      },
      {
        "duration": 46,
        "start_time": "2023-08-16T13:59:58.352Z"
      },
      {
        "duration": 56,
        "start_time": "2023-08-16T14:42:03.304Z"
      },
      {
        "duration": 3,
        "start_time": "2023-08-16T14:42:12.879Z"
      },
      {
        "duration": 39,
        "start_time": "2023-08-16T14:42:26.159Z"
      },
      {
        "duration": 393,
        "start_time": "2023-08-16T14:44:25.019Z"
      },
      {
        "duration": 123,
        "start_time": "2023-08-16T14:46:51.036Z"
      },
      {
        "duration": 131,
        "start_time": "2023-08-16T14:46:59.631Z"
      },
      {
        "duration": 108,
        "start_time": "2023-08-16T14:47:07.839Z"
      },
      {
        "duration": 125,
        "start_time": "2023-08-16T14:47:22.032Z"
      },
      {
        "duration": 201,
        "start_time": "2023-08-16T14:54:18.127Z"
      },
      {
        "duration": 180,
        "start_time": "2023-08-16T14:54:58.767Z"
      },
      {
        "duration": 304,
        "start_time": "2023-08-16T15:44:34.054Z"
      },
      {
        "duration": 22,
        "start_time": "2023-08-16T15:53:33.174Z"
      },
      {
        "duration": 33,
        "start_time": "2023-08-16T15:53:43.643Z"
      },
      {
        "duration": 31,
        "start_time": "2023-08-16T15:55:30.073Z"
      },
      {
        "duration": 33,
        "start_time": "2023-08-16T15:55:59.703Z"
      },
      {
        "duration": 40,
        "start_time": "2023-08-16T15:56:29.053Z"
      },
      {
        "duration": 42,
        "start_time": "2023-08-16T15:56:37.014Z"
      },
      {
        "duration": 45,
        "start_time": "2023-08-16T15:56:44.152Z"
      },
      {
        "duration": 30,
        "start_time": "2023-08-16T15:56:47.793Z"
      },
      {
        "duration": 45,
        "start_time": "2023-08-16T15:56:52.073Z"
      },
      {
        "duration": 33,
        "start_time": "2023-08-16T16:03:57.102Z"
      },
      {
        "duration": 46,
        "start_time": "2023-08-16T16:04:01.372Z"
      },
      {
        "duration": 58,
        "start_time": "2023-08-16T16:04:42.422Z"
      },
      {
        "duration": 71,
        "start_time": "2023-08-16T16:05:10.690Z"
      },
      {
        "duration": 74,
        "start_time": "2023-08-16T16:05:20.822Z"
      },
      {
        "duration": 73,
        "start_time": "2023-08-16T16:06:08.152Z"
      },
      {
        "duration": 93,
        "start_time": "2023-08-16T16:06:29.866Z"
      },
      {
        "duration": 90,
        "start_time": "2023-08-16T16:06:56.656Z"
      },
      {
        "duration": 84,
        "start_time": "2023-08-16T16:07:14.302Z"
      },
      {
        "duration": 50,
        "start_time": "2023-08-16T16:07:25.520Z"
      },
      {
        "duration": 46,
        "start_time": "2023-08-16T16:07:32.027Z"
      },
      {
        "duration": 32,
        "start_time": "2023-08-16T16:07:56.560Z"
      },
      {
        "duration": 58,
        "start_time": "2023-08-16T16:08:00.464Z"
      },
      {
        "duration": 29,
        "start_time": "2023-08-16T16:21:44.910Z"
      },
      {
        "duration": 37,
        "start_time": "2023-08-16T16:21:55.131Z"
      },
      {
        "duration": 31,
        "start_time": "2023-08-16T16:29:48.930Z"
      },
      {
        "duration": 40,
        "start_time": "2023-08-16T16:29:55.991Z"
      },
      {
        "duration": 203,
        "start_time": "2023-08-16T16:35:42.087Z"
      },
      {
        "duration": 218,
        "start_time": "2023-08-16T16:36:47.066Z"
      },
      {
        "duration": 31,
        "start_time": "2023-08-16T16:37:11.097Z"
      },
      {
        "duration": 35,
        "start_time": "2023-08-16T16:37:46.429Z"
      },
      {
        "duration": 46,
        "start_time": "2023-08-16T16:38:19.587Z"
      },
      {
        "duration": 28,
        "start_time": "2023-08-16T16:39:07.708Z"
      },
      {
        "duration": 207,
        "start_time": "2023-08-16T16:39:24.877Z"
      },
      {
        "duration": 31,
        "start_time": "2023-08-16T16:39:38.757Z"
      },
      {
        "duration": 45,
        "start_time": "2023-08-16T16:39:44.889Z"
      },
      {
        "duration": 177,
        "start_time": "2023-08-16T16:40:17.367Z"
      },
      {
        "duration": 28,
        "start_time": "2023-08-16T16:40:41.557Z"
      },
      {
        "duration": 37,
        "start_time": "2023-08-16T16:41:26.500Z"
      },
      {
        "duration": 41,
        "start_time": "2023-08-16T16:41:59.479Z"
      },
      {
        "duration": 30,
        "start_time": "2023-08-16T16:43:56.399Z"
      },
      {
        "duration": 177,
        "start_time": "2023-08-16T16:45:29.739Z"
      },
      {
        "duration": 25,
        "start_time": "2023-08-16T16:45:33.576Z"
      },
      {
        "duration": 40,
        "start_time": "2023-08-16T16:45:43.478Z"
      },
      {
        "duration": 54,
        "start_time": "2023-08-16T16:45:50.209Z"
      },
      {
        "duration": 33,
        "start_time": "2023-08-16T16:49:17.391Z"
      },
      {
        "duration": 13,
        "start_time": "2023-08-16T16:51:44.890Z"
      },
      {
        "duration": 18,
        "start_time": "2023-08-16T16:51:53.424Z"
      },
      {
        "duration": 225,
        "start_time": "2023-08-16T17:10:44.258Z"
      },
      {
        "duration": 806,
        "start_time": "2023-08-16T17:16:39.227Z"
      },
      {
        "duration": 284,
        "start_time": "2023-08-16T17:25:04.292Z"
      },
      {
        "duration": 786,
        "start_time": "2023-08-16T17:25:21.771Z"
      },
      {
        "duration": 232,
        "start_time": "2023-08-16T17:25:54.528Z"
      },
      {
        "duration": 519,
        "start_time": "2023-08-16T17:26:00.910Z"
      },
      {
        "duration": 14,
        "start_time": "2023-08-16T18:37:24.713Z"
      },
      {
        "duration": 13,
        "start_time": "2023-08-16T18:41:21.098Z"
      },
      {
        "duration": 16,
        "start_time": "2023-08-16T18:42:10.811Z"
      },
      {
        "duration": 9,
        "start_time": "2023-08-16T18:44:27.231Z"
      },
      {
        "duration": 29,
        "start_time": "2023-08-16T18:46:12.922Z"
      },
      {
        "duration": 12,
        "start_time": "2023-08-16T18:49:09.230Z"
      },
      {
        "duration": 13,
        "start_time": "2023-08-16T18:58:07.231Z"
      },
      {
        "duration": 17,
        "start_time": "2023-08-16T18:58:52.719Z"
      },
      {
        "duration": 112,
        "start_time": "2023-08-16T18:59:47.622Z"
      },
      {
        "duration": 154,
        "start_time": "2023-08-16T19:08:48.102Z"
      },
      {
        "duration": 317,
        "start_time": "2023-08-16T19:08:59.662Z"
      },
      {
        "duration": 8,
        "start_time": "2023-08-16T19:09:48.951Z"
      },
      {
        "duration": 28,
        "start_time": "2023-08-16T19:11:37.964Z"
      },
      {
        "duration": 6,
        "start_time": "2023-08-16T19:27:55.607Z"
      },
      {
        "duration": 46,
        "start_time": "2023-08-17T07:00:03.829Z"
      },
      {
        "duration": 782,
        "start_time": "2023-08-17T07:00:09.699Z"
      },
      {
        "duration": 481,
        "start_time": "2023-08-17T07:00:10.484Z"
      },
      {
        "duration": 25,
        "start_time": "2023-08-17T07:00:10.967Z"
      },
      {
        "duration": 27,
        "start_time": "2023-08-17T07:00:10.995Z"
      },
      {
        "duration": 70,
        "start_time": "2023-08-17T07:00:11.023Z"
      },
      {
        "duration": 61,
        "start_time": "2023-08-17T07:00:11.095Z"
      },
      {
        "duration": 6,
        "start_time": "2023-08-17T07:00:11.159Z"
      },
      {
        "duration": 50,
        "start_time": "2023-08-17T07:22:40.460Z"
      },
      {
        "duration": 19,
        "start_time": "2023-08-17T07:29:46.780Z"
      },
      {
        "duration": 5,
        "start_time": "2023-08-17T07:29:53.716Z"
      },
      {
        "duration": 11,
        "start_time": "2023-08-17T07:30:41.224Z"
      },
      {
        "duration": 8,
        "start_time": "2023-08-17T08:41:35.153Z"
      },
      {
        "duration": 12,
        "start_time": "2023-08-17T08:41:41.855Z"
      },
      {
        "duration": 6,
        "start_time": "2023-08-17T08:42:05.823Z"
      },
      {
        "duration": 9,
        "start_time": "2023-08-17T08:45:07.581Z"
      },
      {
        "duration": 33,
        "start_time": "2023-08-17T08:45:15.088Z"
      },
      {
        "duration": 22,
        "start_time": "2023-08-17T08:45:54.202Z"
      },
      {
        "duration": 9,
        "start_time": "2023-08-17T09:49:31.976Z"
      },
      {
        "duration": 25,
        "start_time": "2023-08-17T10:03:17.153Z"
      },
      {
        "duration": 31,
        "start_time": "2023-08-17T10:03:33.140Z"
      },
      {
        "duration": 32,
        "start_time": "2023-08-17T10:03:41.443Z"
      },
      {
        "duration": 35,
        "start_time": "2023-08-17T10:04:11.620Z"
      },
      {
        "duration": 33,
        "start_time": "2023-08-17T11:57:55.566Z"
      },
      {
        "duration": 22,
        "start_time": "2023-08-17T12:08:12.902Z"
      },
      {
        "duration": 11,
        "start_time": "2023-08-17T12:26:33.498Z"
      },
      {
        "duration": 13,
        "start_time": "2023-08-17T13:43:16.284Z"
      },
      {
        "duration": 22,
        "start_time": "2023-08-17T13:43:21.021Z"
      },
      {
        "duration": 46,
        "start_time": "2023-08-17T13:44:04.716Z"
      },
      {
        "duration": 49,
        "start_time": "2023-08-17T13:44:26.975Z"
      },
      {
        "duration": 34,
        "start_time": "2023-08-17T13:50:49.348Z"
      },
      {
        "duration": 23,
        "start_time": "2023-08-17T13:51:21.688Z"
      },
      {
        "duration": 22,
        "start_time": "2023-08-17T13:53:04.789Z"
      },
      {
        "duration": 23,
        "start_time": "2023-08-17T13:53:36.284Z"
      },
      {
        "duration": 23,
        "start_time": "2023-08-17T13:56:57.490Z"
      },
      {
        "duration": 24,
        "start_time": "2023-08-17T13:57:21.032Z"
      },
      {
        "duration": 3,
        "start_time": "2023-08-17T14:11:23.551Z"
      },
      {
        "duration": 3,
        "start_time": "2023-08-17T14:13:15.441Z"
      },
      {
        "duration": 829,
        "start_time": "2023-08-17T21:37:42.132Z"
      },
      {
        "duration": 82,
        "start_time": "2023-08-17T21:38:37.432Z"
      },
      {
        "duration": 3244,
        "start_time": "2023-08-17T21:40:03.976Z"
      },
      {
        "duration": 493,
        "start_time": "2023-08-17T21:40:11.387Z"
      },
      {
        "duration": 401,
        "start_time": "2023-08-17T21:40:14.716Z"
      },
      {
        "duration": 29,
        "start_time": "2023-08-17T21:40:20.977Z"
      },
      {
        "duration": 12,
        "start_time": "2023-08-17T21:40:21.007Z"
      },
      {
        "duration": 30,
        "start_time": "2023-08-17T21:40:21.020Z"
      },
      {
        "duration": 37,
        "start_time": "2023-08-17T21:40:21.053Z"
      },
      {
        "duration": 57,
        "start_time": "2023-08-17T21:40:21.092Z"
      },
      {
        "duration": 19,
        "start_time": "2023-08-17T21:40:21.151Z"
      },
      {
        "duration": 10,
        "start_time": "2023-08-17T21:40:21.171Z"
      },
      {
        "duration": 22,
        "start_time": "2023-08-17T21:40:21.182Z"
      },
      {
        "duration": 51,
        "start_time": "2023-08-17T21:40:21.205Z"
      },
      {
        "duration": 8,
        "start_time": "2023-08-17T21:40:21.258Z"
      },
      {
        "duration": 22,
        "start_time": "2023-08-17T21:40:21.267Z"
      },
      {
        "duration": 5,
        "start_time": "2023-08-17T21:40:21.291Z"
      },
      {
        "duration": 7,
        "start_time": "2023-08-17T21:40:21.297Z"
      },
      {
        "duration": 34,
        "start_time": "2023-08-17T21:48:05.563Z"
      },
      {
        "duration": 27,
        "start_time": "2023-08-17T21:50:21.750Z"
      },
      {
        "duration": 6,
        "start_time": "2023-08-17T21:50:59.538Z"
      },
      {
        "duration": 6,
        "start_time": "2023-08-17T21:51:07.918Z"
      },
      {
        "duration": 5,
        "start_time": "2023-08-17T21:51:13.574Z"
      },
      {
        "duration": 5,
        "start_time": "2023-08-17T21:51:40.427Z"
      },
      {
        "duration": 5,
        "start_time": "2023-08-17T21:52:59.088Z"
      },
      {
        "duration": 359,
        "start_time": "2023-08-17T23:18:40.453Z"
      },
      {
        "duration": 1291,
        "start_time": "2023-08-17T23:18:58.166Z"
      },
      {
        "duration": 205,
        "start_time": "2023-08-17T23:34:55.128Z"
      },
      {
        "duration": 22,
        "start_time": "2023-08-17T23:35:00.380Z"
      },
      {
        "duration": 22,
        "start_time": "2023-08-17T23:35:18.742Z"
      },
      {
        "duration": 16,
        "start_time": "2023-08-17T23:37:07.145Z"
      },
      {
        "duration": 15,
        "start_time": "2023-08-17T23:37:22.208Z"
      },
      {
        "duration": 18,
        "start_time": "2023-08-17T23:37:35.672Z"
      },
      {
        "duration": 28,
        "start_time": "2023-08-17T23:38:40.725Z"
      },
      {
        "duration": 16,
        "start_time": "2023-08-17T23:40:16.775Z"
      },
      {
        "duration": 1973,
        "start_time": "2023-08-17T23:40:48.379Z"
      },
      {
        "duration": 2,
        "start_time": "2023-08-17T23:40:50.354Z"
      },
      {
        "duration": 192,
        "start_time": "2023-08-17T23:40:50.358Z"
      },
      {
        "duration": 27,
        "start_time": "2023-08-17T23:40:50.552Z"
      },
      {
        "duration": 2,
        "start_time": "2023-08-17T23:40:50.581Z"
      },
      {
        "duration": 27,
        "start_time": "2023-08-17T23:40:50.584Z"
      },
      {
        "duration": 55,
        "start_time": "2023-08-17T23:40:50.613Z"
      },
      {
        "duration": 39,
        "start_time": "2023-08-17T23:40:50.669Z"
      },
      {
        "duration": 18,
        "start_time": "2023-08-17T23:40:50.710Z"
      },
      {
        "duration": 10,
        "start_time": "2023-08-17T23:40:50.749Z"
      },
      {
        "duration": 23,
        "start_time": "2023-08-17T23:40:50.760Z"
      },
      {
        "duration": 21,
        "start_time": "2023-08-17T23:40:50.784Z"
      },
      {
        "duration": 7,
        "start_time": "2023-08-17T23:40:50.807Z"
      },
      {
        "duration": 49,
        "start_time": "2023-08-17T23:40:50.817Z"
      },
      {
        "duration": 11,
        "start_time": "2023-08-17T23:40:50.868Z"
      },
      {
        "duration": 9,
        "start_time": "2023-08-17T23:40:50.881Z"
      },
      {
        "duration": 1891,
        "start_time": "2023-08-17T23:40:50.891Z"
      },
      {
        "duration": 22,
        "start_time": "2023-08-17T23:40:52.784Z"
      },
      {
        "duration": 27,
        "start_time": "2023-08-17T23:42:54.695Z"
      },
      {
        "duration": 28,
        "start_time": "2023-08-17T23:43:04.519Z"
      },
      {
        "duration": 1801,
        "start_time": "2023-08-17T23:55:57.364Z"
      },
      {
        "duration": 1673,
        "start_time": "2023-08-17T23:57:33.732Z"
      },
      {
        "duration": 6,
        "start_time": "2023-08-18T00:18:22.083Z"
      },
      {
        "duration": 51,
        "start_time": "2023-08-18T00:37:33.454Z"
      },
      {
        "duration": 2877,
        "start_time": "2023-08-18T00:37:43.539Z"
      },
      {
        "duration": 2804,
        "start_time": "2023-08-18T00:38:00.412Z"
      },
      {
        "duration": 2850,
        "start_time": "2023-08-18T00:38:30.299Z"
      },
      {
        "duration": 3069,
        "start_time": "2023-08-18T00:39:44.323Z"
      },
      {
        "duration": 2021,
        "start_time": "2023-08-18T00:40:15.249Z"
      },
      {
        "duration": 2,
        "start_time": "2023-08-18T00:40:17.273Z"
      },
      {
        "duration": 175,
        "start_time": "2023-08-18T00:40:17.277Z"
      },
      {
        "duration": 27,
        "start_time": "2023-08-18T00:40:17.453Z"
      },
      {
        "duration": 2,
        "start_time": "2023-08-18T00:40:17.482Z"
      },
      {
        "duration": 24,
        "start_time": "2023-08-18T00:40:17.486Z"
      },
      {
        "duration": 61,
        "start_time": "2023-08-18T00:40:17.512Z"
      },
      {
        "duration": 36,
        "start_time": "2023-08-18T00:40:17.574Z"
      },
      {
        "duration": 18,
        "start_time": "2023-08-18T00:40:17.611Z"
      },
      {
        "duration": 27,
        "start_time": "2023-08-18T00:40:17.630Z"
      },
      {
        "duration": 20,
        "start_time": "2023-08-18T00:40:17.658Z"
      },
      {
        "duration": 19,
        "start_time": "2023-08-18T00:40:17.680Z"
      },
      {
        "duration": 6,
        "start_time": "2023-08-18T00:40:17.701Z"
      },
      {
        "duration": 52,
        "start_time": "2023-08-18T00:40:17.710Z"
      },
      {
        "duration": 5,
        "start_time": "2023-08-18T00:40:17.764Z"
      },
      {
        "duration": 6,
        "start_time": "2023-08-18T00:40:17.770Z"
      },
      {
        "duration": 2129,
        "start_time": "2023-08-18T00:40:17.777Z"
      },
      {
        "duration": 4289,
        "start_time": "2023-08-18T00:40:19.908Z"
      },
      {
        "duration": 6,
        "start_time": "2023-08-18T00:40:24.199Z"
      },
      {
        "duration": 2945,
        "start_time": "2023-08-20T16:35:47.413Z"
      },
      {
        "duration": 1610,
        "start_time": "2023-08-20T16:36:52.058Z"
      },
      {
        "duration": 325,
        "start_time": "2023-08-20T16:42:01.215Z"
      },
      {
        "duration": 87,
        "start_time": "2023-08-20T16:42:10.647Z"
      },
      {
        "duration": 74,
        "start_time": "2023-08-20T16:50:53.407Z"
      },
      {
        "duration": 30,
        "start_time": "2023-08-20T16:51:03.673Z"
      },
      {
        "duration": 2,
        "start_time": "2023-08-20T16:52:31.765Z"
      },
      {
        "duration": 27,
        "start_time": "2023-08-20T16:52:38.771Z"
      },
      {
        "duration": 38,
        "start_time": "2023-08-20T16:52:43.640Z"
      },
      {
        "duration": 42,
        "start_time": "2023-08-20T16:52:47.507Z"
      },
      {
        "duration": 20,
        "start_time": "2023-08-20T16:52:53.604Z"
      },
      {
        "duration": 10,
        "start_time": "2023-08-20T16:56:29.756Z"
      },
      {
        "duration": 25,
        "start_time": "2023-08-20T16:56:51.326Z"
      },
      {
        "duration": 20,
        "start_time": "2023-08-20T16:57:02.921Z"
      },
      {
        "duration": 8,
        "start_time": "2023-08-20T16:57:09.312Z"
      },
      {
        "duration": 22,
        "start_time": "2023-08-20T16:57:17.601Z"
      },
      {
        "duration": 5,
        "start_time": "2023-08-20T17:03:14.761Z"
      },
      {
        "duration": 6,
        "start_time": "2023-08-20T17:04:49.079Z"
      },
      {
        "duration": 2035,
        "start_time": "2023-08-20T17:13:43.669Z"
      },
      {
        "duration": 5,
        "start_time": "2023-08-20T17:13:45.707Z"
      },
      {
        "duration": 118,
        "start_time": "2023-08-20T17:13:45.714Z"
      },
      {
        "duration": 108,
        "start_time": "2023-08-20T17:13:45.833Z"
      },
      {
        "duration": 30,
        "start_time": "2023-08-20T17:13:45.944Z"
      },
      {
        "duration": 3,
        "start_time": "2023-08-20T17:13:45.976Z"
      },
      {
        "duration": 29,
        "start_time": "2023-08-20T17:13:45.980Z"
      },
      {
        "duration": 44,
        "start_time": "2023-08-20T17:13:46.033Z"
      },
      {
        "duration": 196,
        "start_time": "2023-08-20T17:13:46.079Z"
      },
      {
        "duration": 0,
        "start_time": "2023-08-20T17:13:46.277Z"
      },
      {
        "duration": 0,
        "start_time": "2023-08-20T17:13:46.278Z"
      },
      {
        "duration": 0,
        "start_time": "2023-08-20T17:13:46.279Z"
      },
      {
        "duration": 0,
        "start_time": "2023-08-20T17:13:46.280Z"
      },
      {
        "duration": 0,
        "start_time": "2023-08-20T17:13:46.281Z"
      },
      {
        "duration": 0,
        "start_time": "2023-08-20T17:13:46.282Z"
      },
      {
        "duration": 7,
        "start_time": "2023-08-20T17:13:51.379Z"
      },
      {
        "duration": 13,
        "start_time": "2023-08-20T17:13:51.396Z"
      },
      {
        "duration": 992,
        "start_time": "2023-08-20T17:13:51.411Z"
      },
      {
        "duration": 71,
        "start_time": "2023-08-20T17:13:52.405Z"
      },
      {
        "duration": 0,
        "start_time": "2023-08-20T17:13:52.477Z"
      },
      {
        "duration": 2015,
        "start_time": "2023-08-20T17:14:17.976Z"
      },
      {
        "duration": 4,
        "start_time": "2023-08-20T17:14:19.993Z"
      },
      {
        "duration": 125,
        "start_time": "2023-08-20T17:14:19.999Z"
      },
      {
        "duration": 115,
        "start_time": "2023-08-20T17:14:20.126Z"
      },
      {
        "duration": 31,
        "start_time": "2023-08-20T17:14:20.243Z"
      },
      {
        "duration": 23,
        "start_time": "2023-08-20T17:14:20.276Z"
      },
      {
        "duration": 47,
        "start_time": "2023-08-20T17:14:20.300Z"
      },
      {
        "duration": 47,
        "start_time": "2023-08-20T17:14:20.349Z"
      },
      {
        "duration": 48,
        "start_time": "2023-08-20T17:14:20.397Z"
      },
      {
        "duration": 22,
        "start_time": "2023-08-20T17:14:20.447Z"
      },
      {
        "duration": 38,
        "start_time": "2023-08-20T17:14:20.471Z"
      },
      {
        "duration": 53,
        "start_time": "2023-08-20T17:14:20.510Z"
      },
      {
        "duration": 23,
        "start_time": "2023-08-20T17:14:20.564Z"
      },
      {
        "duration": 22,
        "start_time": "2023-08-20T17:14:20.589Z"
      },
      {
        "duration": 22,
        "start_time": "2023-08-20T17:14:26.666Z"
      },
      {
        "duration": 6,
        "start_time": "2023-08-20T17:14:45.897Z"
      },
      {
        "duration": 76,
        "start_time": "2023-08-20T17:15:53.250Z"
      },
      {
        "duration": 27,
        "start_time": "2023-08-20T17:15:57.614Z"
      },
      {
        "duration": 2008,
        "start_time": "2023-08-20T17:17:36.905Z"
      },
      {
        "duration": 5,
        "start_time": "2023-08-20T17:17:38.915Z"
      },
      {
        "duration": 127,
        "start_time": "2023-08-20T17:17:38.921Z"
      },
      {
        "duration": 94,
        "start_time": "2023-08-20T17:17:39.050Z"
      },
      {
        "duration": 30,
        "start_time": "2023-08-20T17:17:39.146Z"
      },
      {
        "duration": 3,
        "start_time": "2023-08-20T17:17:39.178Z"
      },
      {
        "duration": 51,
        "start_time": "2023-08-20T17:17:39.183Z"
      },
      {
        "duration": 40,
        "start_time": "2023-08-20T17:17:39.236Z"
      },
      {
        "duration": 62,
        "start_time": "2023-08-20T17:17:39.277Z"
      },
      {
        "duration": 21,
        "start_time": "2023-08-20T17:17:39.341Z"
      },
      {
        "duration": 25,
        "start_time": "2023-08-20T17:17:39.363Z"
      },
      {
        "duration": 32,
        "start_time": "2023-08-20T17:17:39.390Z"
      },
      {
        "duration": 22,
        "start_time": "2023-08-20T17:17:39.424Z"
      },
      {
        "duration": 8,
        "start_time": "2023-08-20T17:17:39.447Z"
      },
      {
        "duration": 41,
        "start_time": "2023-08-20T17:17:39.457Z"
      },
      {
        "duration": 33,
        "start_time": "2023-08-20T17:17:47.034Z"
      },
      {
        "duration": 13,
        "start_time": "2023-08-20T17:18:12.030Z"
      },
      {
        "duration": 24,
        "start_time": "2023-08-20T17:18:19.381Z"
      },
      {
        "duration": 16,
        "start_time": "2023-08-20T17:19:10.637Z"
      },
      {
        "duration": 5,
        "start_time": "2023-08-20T17:19:16.912Z"
      },
      {
        "duration": 10,
        "start_time": "2023-08-20T17:22:18.010Z"
      },
      {
        "duration": 11,
        "start_time": "2023-08-20T17:22:24.718Z"
      },
      {
        "duration": 10,
        "start_time": "2023-08-20T17:22:54.309Z"
      },
      {
        "duration": 100,
        "start_time": "2023-08-20T17:38:44.242Z"
      },
      {
        "duration": 13,
        "start_time": "2023-08-20T17:39:05.609Z"
      },
      {
        "duration": 12,
        "start_time": "2023-08-20T17:39:25.398Z"
      },
      {
        "duration": 25,
        "start_time": "2023-08-20T17:39:47.145Z"
      },
      {
        "duration": 6,
        "start_time": "2023-08-20T17:40:24.806Z"
      },
      {
        "duration": 5,
        "start_time": "2023-08-20T17:43:47.405Z"
      },
      {
        "duration": 2036,
        "start_time": "2023-08-20T17:43:53.654Z"
      },
      {
        "duration": 313,
        "start_time": "2023-08-20T17:53:52.010Z"
      },
      {
        "duration": 278,
        "start_time": "2023-08-20T17:54:05.565Z"
      },
      {
        "duration": 1449,
        "start_time": "2023-08-20T17:54:39.554Z"
      },
      {
        "duration": 109,
        "start_time": "2023-08-20T18:02:31.354Z"
      },
      {
        "duration": 1420,
        "start_time": "2023-08-20T18:02:47.141Z"
      },
      {
        "duration": 141,
        "start_time": "2023-08-20T18:03:24.307Z"
      },
      {
        "duration": 115,
        "start_time": "2023-08-20T18:04:20.106Z"
      },
      {
        "duration": 96,
        "start_time": "2023-08-20T18:04:47.122Z"
      },
      {
        "duration": 109,
        "start_time": "2023-08-20T18:04:52.647Z"
      },
      {
        "duration": 729,
        "start_time": "2023-08-20T18:05:19.716Z"
      },
      {
        "duration": 100,
        "start_time": "2023-08-20T18:05:47.952Z"
      },
      {
        "duration": 96,
        "start_time": "2023-08-20T18:05:58.182Z"
      },
      {
        "duration": 753,
        "start_time": "2023-08-20T18:06:11.317Z"
      },
      {
        "duration": 12,
        "start_time": "2023-08-20T18:06:35.882Z"
      },
      {
        "duration": 14,
        "start_time": "2023-08-20T18:06:41.362Z"
      },
      {
        "duration": 14,
        "start_time": "2023-08-20T18:06:50.454Z"
      },
      {
        "duration": 343,
        "start_time": "2023-08-20T18:07:50.170Z"
      },
      {
        "duration": 910,
        "start_time": "2023-08-20T18:08:59.879Z"
      },
      {
        "duration": 929,
        "start_time": "2023-08-20T18:10:09.163Z"
      },
      {
        "duration": 7,
        "start_time": "2023-08-20T18:43:00.471Z"
      },
      {
        "duration": 3132,
        "start_time": "2023-08-20T18:44:35.665Z"
      },
      {
        "duration": 79,
        "start_time": "2023-08-20T18:45:04.375Z"
      },
      {
        "duration": 2970,
        "start_time": "2023-08-20T18:45:09.505Z"
      },
      {
        "duration": 3377,
        "start_time": "2023-08-21T10:42:34.960Z"
      },
      {
        "duration": 1743,
        "start_time": "2023-08-21T10:42:38.339Z"
      },
      {
        "duration": 338,
        "start_time": "2023-08-21T10:42:40.083Z"
      },
      {
        "duration": 85,
        "start_time": "2023-08-21T10:42:40.423Z"
      },
      {
        "duration": 34,
        "start_time": "2023-08-21T10:42:40.510Z"
      },
      {
        "duration": 3,
        "start_time": "2023-08-21T10:42:40.545Z"
      },
      {
        "duration": 57,
        "start_time": "2023-08-21T10:42:40.550Z"
      },
      {
        "duration": 50,
        "start_time": "2023-08-21T10:42:40.609Z"
      },
      {
        "duration": 66,
        "start_time": "2023-08-21T10:42:40.661Z"
      },
      {
        "duration": 24,
        "start_time": "2023-08-21T10:42:40.729Z"
      },
      {
        "duration": 93,
        "start_time": "2023-08-21T10:42:40.754Z"
      },
      {
        "duration": 58,
        "start_time": "2023-08-21T10:42:40.848Z"
      },
      {
        "duration": 21,
        "start_time": "2023-08-21T10:42:40.908Z"
      },
      {
        "duration": 9,
        "start_time": "2023-08-21T10:42:40.931Z"
      },
      {
        "duration": 32,
        "start_time": "2023-08-21T10:42:40.941Z"
      },
      {
        "duration": 16,
        "start_time": "2023-08-21T10:42:40.974Z"
      },
      {
        "duration": 6,
        "start_time": "2023-08-21T10:42:40.992Z"
      },
      {
        "duration": 2178,
        "start_time": "2023-08-21T10:42:41.000Z"
      },
      {
        "duration": 1044,
        "start_time": "2023-08-21T10:42:43.179Z"
      },
      {
        "duration": 6,
        "start_time": "2023-08-21T10:42:44.224Z"
      },
      {
        "duration": 3418,
        "start_time": "2023-08-21T10:42:44.232Z"
      },
      {
        "duration": 35,
        "start_time": "2023-08-21T10:42:47.652Z"
      },
      {
        "duration": 8,
        "start_time": "2023-08-21T10:44:29.943Z"
      },
      {
        "duration": 55,
        "start_time": "2023-08-21T10:44:55.191Z"
      },
      {
        "duration": 120,
        "start_time": "2023-08-21T10:56:42.559Z"
      },
      {
        "duration": 13,
        "start_time": "2023-08-21T10:57:28.389Z"
      },
      {
        "duration": 5,
        "start_time": "2023-08-21T10:57:51.117Z"
      },
      {
        "duration": 120561,
        "start_time": "2023-08-21T10:58:09.528Z"
      },
      {
        "duration": 62,
        "start_time": "2023-08-21T11:00:10.091Z"
      },
      {
        "duration": 4,
        "start_time": "2023-08-21T11:00:26.416Z"
      },
      {
        "duration": 316918,
        "start_time": "2023-08-21T11:00:26.431Z"
      },
      {
        "duration": 9,
        "start_time": "2023-08-21T11:05:43.351Z"
      },
      {
        "duration": 10,
        "start_time": "2023-08-21T11:54:23.069Z"
      },
      {
        "duration": 11,
        "start_time": "2023-08-21T11:55:17.794Z"
      },
      {
        "duration": 10,
        "start_time": "2023-08-21T11:56:44.552Z"
      },
      {
        "duration": 4511,
        "start_time": "2023-08-22T08:04:05.143Z"
      },
      {
        "duration": 2481,
        "start_time": "2023-08-22T08:04:09.658Z"
      },
      {
        "duration": 434,
        "start_time": "2023-08-22T08:04:12.142Z"
      },
      {
        "duration": 273,
        "start_time": "2023-08-22T08:04:12.580Z"
      },
      {
        "duration": 60,
        "start_time": "2023-08-22T08:04:12.855Z"
      },
      {
        "duration": 2,
        "start_time": "2023-08-22T08:04:12.917Z"
      },
      {
        "duration": 61,
        "start_time": "2023-08-22T08:04:12.921Z"
      },
      {
        "duration": 72,
        "start_time": "2023-08-22T08:04:12.985Z"
      },
      {
        "duration": 155,
        "start_time": "2023-08-22T08:04:13.059Z"
      },
      {
        "duration": 30,
        "start_time": "2023-08-22T08:04:13.222Z"
      },
      {
        "duration": 56,
        "start_time": "2023-08-22T08:04:13.254Z"
      },
      {
        "duration": 37,
        "start_time": "2023-08-22T08:04:13.314Z"
      },
      {
        "duration": 40,
        "start_time": "2023-08-22T08:04:13.352Z"
      },
      {
        "duration": 14,
        "start_time": "2023-08-22T08:04:13.394Z"
      },
      {
        "duration": 53,
        "start_time": "2023-08-22T08:04:13.410Z"
      },
      {
        "duration": 18,
        "start_time": "2023-08-22T08:04:13.465Z"
      },
      {
        "duration": 45,
        "start_time": "2023-08-22T08:04:13.485Z"
      },
      {
        "duration": 2830,
        "start_time": "2023-08-22T08:04:13.532Z"
      },
      {
        "duration": 1543,
        "start_time": "2023-08-22T08:04:16.364Z"
      },
      {
        "duration": 7,
        "start_time": "2023-08-22T08:04:17.910Z"
      },
      {
        "duration": 4242,
        "start_time": "2023-08-22T08:04:17.919Z"
      },
      {
        "duration": 53,
        "start_time": "2023-08-22T08:04:22.163Z"
      },
      {
        "duration": 11,
        "start_time": "2023-08-22T08:04:22.218Z"
      },
      {
        "duration": 123,
        "start_time": "2023-08-22T08:04:22.231Z"
      },
      {
        "duration": 5,
        "start_time": "2023-08-22T08:04:22.357Z"
      },
      {
        "duration": 155602,
        "start_time": "2023-08-22T08:04:22.365Z"
      },
      {
        "duration": 100,
        "start_time": "2023-08-22T08:06:57.970Z"
      },
      {
        "duration": 5,
        "start_time": "2023-08-22T08:06:58.085Z"
      },
      {
        "duration": 444555,
        "start_time": "2023-08-22T08:06:58.094Z"
      },
      {
        "duration": 16,
        "start_time": "2023-08-22T08:14:22.653Z"
      },
      {
        "duration": 42,
        "start_time": "2023-08-22T08:14:22.671Z"
      },
      {
        "duration": 203,
        "start_time": "2023-08-22T08:19:56.246Z"
      },
      {
        "duration": 4,
        "start_time": "2023-08-22T08:21:45.157Z"
      },
      {
        "duration": 25,
        "start_time": "2023-08-22T08:24:22.327Z"
      },
      {
        "duration": 5,
        "start_time": "2023-08-22T08:31:19.423Z"
      },
      {
        "duration": 131,
        "start_time": "2023-08-22T08:31:19.431Z"
      },
      {
        "duration": 23,
        "start_time": "2023-08-22T08:31:19.565Z"
      },
      {
        "duration": 0,
        "start_time": "2023-08-22T08:31:19.591Z"
      },
      {
        "duration": 0,
        "start_time": "2023-08-22T08:31:19.592Z"
      },
      {
        "duration": 6,
        "start_time": "2023-08-22T08:31:33.631Z"
      },
      {
        "duration": 14514850,
        "start_time": "2023-08-22T08:31:33.640Z"
      },
      {
        "duration": 108,
        "start_time": "2023-08-22T12:33:28.493Z"
      },
      {
        "duration": 0,
        "start_time": "2023-08-22T12:33:28.604Z"
      },
      {
        "duration": 0,
        "start_time": "2023-08-22T12:33:28.606Z"
      },
      {
        "duration": 14,
        "start_time": "2023-08-22T12:39:14.827Z"
      },
      {
        "duration": 356,
        "start_time": "2023-08-22T12:41:14.560Z"
      },
      {
        "duration": 84,
        "start_time": "2023-08-22T12:41:58.605Z"
      },
      {
        "duration": 130,
        "start_time": "2023-08-22T12:44:06.717Z"
      },
      {
        "duration": 16,
        "start_time": "2023-08-22T12:44:49.230Z"
      },
      {
        "duration": 4,
        "start_time": "2023-08-22T12:45:31.246Z"
      },
      {
        "duration": 12,
        "start_time": "2023-08-22T12:46:33.297Z"
      },
      {
        "duration": 63,
        "start_time": "2023-08-22T12:46:47.426Z"
      },
      {
        "duration": 6,
        "start_time": "2023-08-22T12:49:19.350Z"
      },
      {
        "duration": 112,
        "start_time": "2023-08-22T12:58:00.785Z"
      },
      {
        "duration": 17,
        "start_time": "2023-08-22T13:09:53.613Z"
      },
      {
        "duration": 43,
        "start_time": "2023-08-22T13:10:00.133Z"
      },
      {
        "duration": 109,
        "start_time": "2023-08-22T13:27:34.173Z"
      },
      {
        "duration": 66,
        "start_time": "2023-08-22T13:30:47.517Z"
      },
      {
        "duration": 67,
        "start_time": "2023-08-22T13:31:28.223Z"
      },
      {
        "duration": 94,
        "start_time": "2023-08-22T13:31:34.601Z"
      },
      {
        "duration": 95,
        "start_time": "2023-08-22T13:47:34.674Z"
      },
      {
        "duration": 90,
        "start_time": "2023-08-22T13:47:58.706Z"
      },
      {
        "duration": 104,
        "start_time": "2023-08-22T13:48:40.612Z"
      },
      {
        "duration": 226,
        "start_time": "2023-08-22T13:49:49.073Z"
      },
      {
        "duration": 264,
        "start_time": "2023-08-22T13:49:58.432Z"
      },
      {
        "duration": 152,
        "start_time": "2023-08-22T13:51:11.329Z"
      },
      {
        "duration": 57,
        "start_time": "2023-08-22T13:56:55.920Z"
      },
      {
        "duration": 2280,
        "start_time": "2023-08-24T15:36:47.540Z"
      },
      {
        "duration": 1548,
        "start_time": "2023-08-24T15:36:49.822Z"
      },
      {
        "duration": 108,
        "start_time": "2023-08-24T15:36:51.372Z"
      },
      {
        "duration": 101,
        "start_time": "2023-08-24T15:36:51.481Z"
      },
      {
        "duration": 62,
        "start_time": "2023-08-24T15:36:51.584Z"
      },
      {
        "duration": 3,
        "start_time": "2023-08-24T15:36:51.647Z"
      },
      {
        "duration": 38,
        "start_time": "2023-08-24T15:36:51.652Z"
      },
      {
        "duration": 59,
        "start_time": "2023-08-24T15:36:51.692Z"
      },
      {
        "duration": 43,
        "start_time": "2023-08-24T15:36:51.753Z"
      },
      {
        "duration": 49,
        "start_time": "2023-08-24T15:36:51.799Z"
      },
      {
        "duration": 12,
        "start_time": "2023-08-24T15:36:51.851Z"
      },
      {
        "duration": 54,
        "start_time": "2023-08-24T15:36:51.865Z"
      },
      {
        "duration": 25,
        "start_time": "2023-08-24T15:36:51.936Z"
      },
      {
        "duration": 8,
        "start_time": "2023-08-24T15:36:51.965Z"
      },
      {
        "duration": 26,
        "start_time": "2023-08-24T15:36:51.975Z"
      },
      {
        "duration": 33,
        "start_time": "2023-08-24T15:36:52.003Z"
      },
      {
        "duration": 6,
        "start_time": "2023-08-24T15:36:52.038Z"
      },
      {
        "duration": 21,
        "start_time": "2023-08-24T15:36:52.045Z"
      },
      {
        "duration": 3135,
        "start_time": "2023-08-24T15:36:52.068Z"
      },
      {
        "duration": 1082,
        "start_time": "2023-08-24T15:36:55.205Z"
      },
      {
        "duration": 5,
        "start_time": "2023-08-24T15:36:56.289Z"
      },
      {
        "duration": 3494,
        "start_time": "2023-08-24T15:36:56.296Z"
      },
      {
        "duration": 28,
        "start_time": "2023-08-24T15:36:59.792Z"
      },
      {
        "duration": 15,
        "start_time": "2023-08-24T15:36:59.821Z"
      },
      {
        "duration": 80,
        "start_time": "2023-08-24T15:36:59.838Z"
      },
      {
        "duration": 8,
        "start_time": "2023-08-24T15:36:59.919Z"
      },
      {
        "duration": 137,
        "start_time": "2023-08-24T15:36:59.928Z"
      },
      {
        "duration": 0,
        "start_time": "2023-08-24T15:37:00.067Z"
      },
      {
        "duration": 0,
        "start_time": "2023-08-24T15:37:00.067Z"
      },
      {
        "duration": 0,
        "start_time": "2023-08-24T15:37:00.069Z"
      },
      {
        "duration": 0,
        "start_time": "2023-08-24T15:37:00.070Z"
      },
      {
        "duration": 0,
        "start_time": "2023-08-24T15:37:00.071Z"
      },
      {
        "duration": 0,
        "start_time": "2023-08-24T15:37:00.072Z"
      },
      {
        "duration": 0,
        "start_time": "2023-08-24T15:37:00.075Z"
      },
      {
        "duration": 0,
        "start_time": "2023-08-24T15:37:00.077Z"
      },
      {
        "duration": 0,
        "start_time": "2023-08-24T15:37:00.078Z"
      },
      {
        "duration": 0,
        "start_time": "2023-08-24T15:37:00.080Z"
      },
      {
        "duration": 0,
        "start_time": "2023-08-24T15:37:00.081Z"
      },
      {
        "duration": 0,
        "start_time": "2023-08-24T15:37:00.082Z"
      },
      {
        "duration": 0,
        "start_time": "2023-08-24T15:37:00.084Z"
      },
      {
        "duration": 0,
        "start_time": "2023-08-24T15:37:00.084Z"
      },
      {
        "duration": 14,
        "start_time": "2023-08-24T15:39:29.343Z"
      },
      {
        "duration": 0,
        "start_time": "2023-08-24T15:39:29.359Z"
      },
      {
        "duration": 0,
        "start_time": "2023-08-24T15:39:29.361Z"
      },
      {
        "duration": 0,
        "start_time": "2023-08-24T15:39:29.362Z"
      },
      {
        "duration": 0,
        "start_time": "2023-08-24T15:39:29.363Z"
      },
      {
        "duration": 0,
        "start_time": "2023-08-24T15:39:29.365Z"
      },
      {
        "duration": 0,
        "start_time": "2023-08-24T15:39:29.366Z"
      },
      {
        "duration": 0,
        "start_time": "2023-08-24T15:39:29.367Z"
      },
      {
        "duration": 104,
        "start_time": "2023-08-24T15:39:29.370Z"
      },
      {
        "duration": 4,
        "start_time": "2023-08-24T15:39:29.477Z"
      },
      {
        "duration": 58,
        "start_time": "2023-08-24T15:39:29.483Z"
      },
      {
        "duration": 0,
        "start_time": "2023-08-24T15:39:29.544Z"
      },
      {
        "duration": 0,
        "start_time": "2023-08-24T15:39:29.546Z"
      },
      {
        "duration": 0,
        "start_time": "2023-08-24T15:39:29.547Z"
      },
      {
        "duration": 0,
        "start_time": "2023-08-24T15:39:29.548Z"
      },
      {
        "duration": 16,
        "start_time": "2023-08-24T15:40:24.247Z"
      },
      {
        "duration": 3658,
        "start_time": "2023-08-24T15:42:37.714Z"
      },
      {
        "duration": 6,
        "start_time": "2023-08-24T15:42:41.375Z"
      },
      {
        "duration": 210,
        "start_time": "2023-08-24T15:42:41.384Z"
      },
      {
        "duration": 217,
        "start_time": "2023-08-24T15:42:41.630Z"
      },
      {
        "duration": 42,
        "start_time": "2023-08-24T15:42:41.849Z"
      },
      {
        "duration": 3,
        "start_time": "2023-08-24T15:42:41.893Z"
      },
      {
        "duration": 59,
        "start_time": "2023-08-24T15:42:41.897Z"
      },
      {
        "duration": 43,
        "start_time": "2023-08-24T15:42:41.963Z"
      },
      {
        "duration": 78,
        "start_time": "2023-08-24T15:42:42.008Z"
      },
      {
        "duration": 38,
        "start_time": "2023-08-24T15:42:42.089Z"
      },
      {
        "duration": 19,
        "start_time": "2023-08-24T15:42:42.133Z"
      },
      {
        "duration": 34,
        "start_time": "2023-08-24T15:42:42.154Z"
      },
      {
        "duration": 22,
        "start_time": "2023-08-24T15:42:42.190Z"
      },
      {
        "duration": 13,
        "start_time": "2023-08-24T15:42:42.223Z"
      },
      {
        "duration": 38,
        "start_time": "2023-08-24T15:42:42.246Z"
      },
      {
        "duration": 7,
        "start_time": "2023-08-24T15:42:42.286Z"
      },
      {
        "duration": 8,
        "start_time": "2023-08-24T15:42:42.305Z"
      },
      {
        "duration": 46,
        "start_time": "2023-08-24T15:42:42.330Z"
      },
      {
        "duration": 2101,
        "start_time": "2023-08-24T15:42:42.378Z"
      },
      {
        "duration": 1393,
        "start_time": "2023-08-24T15:42:44.481Z"
      },
      {
        "duration": 7,
        "start_time": "2023-08-24T15:42:45.876Z"
      },
      {
        "duration": 4122,
        "start_time": "2023-08-24T15:42:45.885Z"
      },
      {
        "duration": 65,
        "start_time": "2023-08-24T15:42:50.009Z"
      },
      {
        "duration": 73,
        "start_time": "2023-08-24T15:42:50.076Z"
      },
      {
        "duration": 146,
        "start_time": "2023-08-24T15:42:50.151Z"
      },
      {
        "duration": 14,
        "start_time": "2023-08-24T15:42:50.299Z"
      },
      {
        "duration": 60,
        "start_time": "2023-08-24T15:42:50.315Z"
      },
      {
        "duration": 134298,
        "start_time": "2023-08-24T15:42:50.380Z"
      },
      {
        "duration": 5,
        "start_time": "2023-08-24T15:45:04.680Z"
      },
      {
        "duration": 41,
        "start_time": "2023-08-24T15:45:04.687Z"
      },
      {
        "duration": 0,
        "start_time": "2023-08-24T15:45:04.733Z"
      },
      {
        "duration": 0,
        "start_time": "2023-08-24T15:45:04.740Z"
      },
      {
        "duration": 0,
        "start_time": "2023-08-24T15:45:04.741Z"
      },
      {
        "duration": 0,
        "start_time": "2023-08-24T15:45:04.742Z"
      },
      {
        "duration": 0,
        "start_time": "2023-08-24T15:45:04.753Z"
      },
      {
        "duration": 0,
        "start_time": "2023-08-24T15:45:04.754Z"
      },
      {
        "duration": 0,
        "start_time": "2023-08-24T15:45:04.755Z"
      },
      {
        "duration": 0,
        "start_time": "2023-08-24T15:45:04.758Z"
      },
      {
        "duration": 0,
        "start_time": "2023-08-24T15:45:04.760Z"
      },
      {
        "duration": 0,
        "start_time": "2023-08-24T15:45:04.763Z"
      },
      {
        "duration": 0,
        "start_time": "2023-08-24T15:45:04.764Z"
      },
      {
        "duration": 2541,
        "start_time": "2023-08-24T15:47:31.865Z"
      },
      {
        "duration": 2971,
        "start_time": "2023-08-24T15:47:34.409Z"
      },
      {
        "duration": 127,
        "start_time": "2023-08-24T15:47:37.382Z"
      },
      {
        "duration": 163,
        "start_time": "2023-08-24T15:47:37.511Z"
      },
      {
        "duration": 81,
        "start_time": "2023-08-24T15:47:37.676Z"
      },
      {
        "duration": 4,
        "start_time": "2023-08-24T15:47:37.759Z"
      },
      {
        "duration": 100,
        "start_time": "2023-08-24T15:47:37.778Z"
      },
      {
        "duration": 156,
        "start_time": "2023-08-24T15:47:37.880Z"
      },
      {
        "duration": 131,
        "start_time": "2023-08-24T15:47:38.038Z"
      },
      {
        "duration": 84,
        "start_time": "2023-08-24T15:47:38.172Z"
      },
      {
        "duration": 69,
        "start_time": "2023-08-24T15:47:38.259Z"
      },
      {
        "duration": 100,
        "start_time": "2023-08-24T15:47:38.332Z"
      },
      {
        "duration": 92,
        "start_time": "2023-08-24T15:47:38.434Z"
      },
      {
        "duration": 15,
        "start_time": "2023-08-24T15:47:38.537Z"
      },
      {
        "duration": 73,
        "start_time": "2023-08-24T15:47:38.554Z"
      },
      {
        "duration": 9,
        "start_time": "2023-08-24T15:47:38.629Z"
      },
      {
        "duration": 13,
        "start_time": "2023-08-24T15:47:38.640Z"
      },
      {
        "duration": 14,
        "start_time": "2023-08-24T15:47:38.654Z"
      },
      {
        "duration": 3322,
        "start_time": "2023-08-24T15:47:38.670Z"
      },
      {
        "duration": 1192,
        "start_time": "2023-08-24T15:47:41.994Z"
      },
      {
        "duration": 6,
        "start_time": "2023-08-24T15:47:43.188Z"
      },
      {
        "duration": 4708,
        "start_time": "2023-08-24T15:47:43.197Z"
      },
      {
        "duration": 71,
        "start_time": "2023-08-24T15:47:47.908Z"
      },
      {
        "duration": 10,
        "start_time": "2023-08-24T15:47:47.982Z"
      },
      {
        "duration": 141,
        "start_time": "2023-08-24T15:47:47.993Z"
      },
      {
        "duration": 11,
        "start_time": "2023-08-24T15:47:48.138Z"
      },
      {
        "duration": 23,
        "start_time": "2023-08-24T15:47:48.156Z"
      },
      {
        "duration": 136276,
        "start_time": "2023-08-24T15:47:48.184Z"
      },
      {
        "duration": 14,
        "start_time": "2023-08-24T15:50:04.462Z"
      },
      {
        "duration": 4,
        "start_time": "2023-08-24T15:50:04.479Z"
      },
      {
        "duration": 49547,
        "start_time": "2023-08-24T15:50:04.485Z"
      },
      {
        "duration": 8,
        "start_time": "2023-08-24T15:50:54.039Z"
      },
      {
        "duration": 154,
        "start_time": "2023-08-24T15:50:54.051Z"
      },
      {
        "duration": 0,
        "start_time": "2023-08-24T15:50:54.207Z"
      },
      {
        "duration": 0,
        "start_time": "2023-08-24T15:50:54.208Z"
      },
      {
        "duration": 0,
        "start_time": "2023-08-24T15:50:54.209Z"
      },
      {
        "duration": 0,
        "start_time": "2023-08-24T15:50:54.210Z"
      },
      {
        "duration": 0,
        "start_time": "2023-08-24T15:50:54.212Z"
      },
      {
        "duration": 0,
        "start_time": "2023-08-24T15:50:54.213Z"
      },
      {
        "duration": 0,
        "start_time": "2023-08-24T15:50:54.214Z"
      },
      {
        "duration": 0,
        "start_time": "2023-08-24T15:50:54.225Z"
      },
      {
        "duration": 2594,
        "start_time": "2023-08-24T16:00:44.755Z"
      },
      {
        "duration": 1759,
        "start_time": "2023-08-24T16:00:47.354Z"
      },
      {
        "duration": 150,
        "start_time": "2023-08-24T16:00:49.114Z"
      },
      {
        "duration": 131,
        "start_time": "2023-08-24T16:00:49.267Z"
      },
      {
        "duration": 56,
        "start_time": "2023-08-24T16:00:49.400Z"
      },
      {
        "duration": 3,
        "start_time": "2023-08-24T16:00:49.458Z"
      },
      {
        "duration": 33,
        "start_time": "2023-08-24T16:00:49.463Z"
      },
      {
        "duration": 76,
        "start_time": "2023-08-24T16:00:49.498Z"
      },
      {
        "duration": 67,
        "start_time": "2023-08-24T16:00:49.576Z"
      },
      {
        "duration": 38,
        "start_time": "2023-08-24T16:00:49.647Z"
      },
      {
        "duration": 13,
        "start_time": "2023-08-24T16:00:49.687Z"
      },
      {
        "duration": 60,
        "start_time": "2023-08-24T16:00:49.702Z"
      },
      {
        "duration": 25,
        "start_time": "2023-08-24T16:00:49.767Z"
      },
      {
        "duration": 9,
        "start_time": "2023-08-24T16:00:49.795Z"
      },
      {
        "duration": 42,
        "start_time": "2023-08-24T16:00:49.826Z"
      },
      {
        "duration": 7,
        "start_time": "2023-08-24T16:00:49.870Z"
      },
      {
        "duration": 19,
        "start_time": "2023-08-24T16:00:49.879Z"
      },
      {
        "duration": 26,
        "start_time": "2023-08-24T16:00:49.900Z"
      },
      {
        "duration": 2283,
        "start_time": "2023-08-24T16:00:49.932Z"
      },
      {
        "duration": 1184,
        "start_time": "2023-08-24T16:00:52.216Z"
      },
      {
        "duration": 6,
        "start_time": "2023-08-24T16:00:53.402Z"
      },
      {
        "duration": 4111,
        "start_time": "2023-08-24T16:00:53.424Z"
      },
      {
        "duration": 34,
        "start_time": "2023-08-24T16:00:57.548Z"
      },
      {
        "duration": 8,
        "start_time": "2023-08-24T16:00:57.583Z"
      },
      {
        "duration": 88,
        "start_time": "2023-08-24T16:00:57.593Z"
      },
      {
        "duration": 3,
        "start_time": "2023-08-24T16:00:57.683Z"
      },
      {
        "duration": 8,
        "start_time": "2023-08-24T16:00:57.688Z"
      },
      {
        "duration": 3544,
        "start_time": "2023-08-24T16:00:57.699Z"
      },
      {
        "duration": 8,
        "start_time": "2023-08-24T16:01:01.248Z"
      },
      {
        "duration": 18,
        "start_time": "2023-08-24T16:01:01.258Z"
      },
      {
        "duration": 42676,
        "start_time": "2023-08-24T16:01:01.277Z"
      },
      {
        "duration": 4,
        "start_time": "2023-08-24T16:01:43.954Z"
      },
      {
        "duration": 4,
        "start_time": "2023-08-24T16:01:43.960Z"
      },
      {
        "duration": 5,
        "start_time": "2023-08-24T16:01:43.966Z"
      },
      {
        "duration": 67,
        "start_time": "2023-08-24T16:01:43.973Z"
      },
      {
        "duration": 10,
        "start_time": "2023-08-24T16:01:44.042Z"
      },
      {
        "duration": 8,
        "start_time": "2023-08-24T16:01:44.058Z"
      },
      {
        "duration": 2,
        "start_time": "2023-08-24T16:01:44.068Z"
      },
      {
        "duration": 154,
        "start_time": "2023-08-24T16:01:44.072Z"
      },
      {
        "duration": 0,
        "start_time": "2023-08-24T16:01:44.239Z"
      },
      {
        "duration": 0,
        "start_time": "2023-08-24T16:01:44.240Z"
      },
      {
        "duration": 7,
        "start_time": "2023-08-24T16:17:01.920Z"
      },
      {
        "duration": 2464,
        "start_time": "2023-08-24T16:17:22.013Z"
      },
      {
        "duration": 1697,
        "start_time": "2023-08-24T16:17:24.481Z"
      },
      {
        "duration": 129,
        "start_time": "2023-08-24T16:17:26.180Z"
      },
      {
        "duration": 152,
        "start_time": "2023-08-24T16:17:26.312Z"
      },
      {
        "duration": 35,
        "start_time": "2023-08-24T16:17:26.466Z"
      },
      {
        "duration": 26,
        "start_time": "2023-08-24T16:17:26.503Z"
      },
      {
        "duration": 48,
        "start_time": "2023-08-24T16:17:26.532Z"
      },
      {
        "duration": 66,
        "start_time": "2023-08-24T16:17:26.582Z"
      },
      {
        "duration": 53,
        "start_time": "2023-08-24T16:17:26.650Z"
      },
      {
        "duration": 49,
        "start_time": "2023-08-24T16:17:26.706Z"
      },
      {
        "duration": 20,
        "start_time": "2023-08-24T16:17:26.756Z"
      },
      {
        "duration": 31,
        "start_time": "2023-08-24T16:17:26.777Z"
      },
      {
        "duration": 41,
        "start_time": "2023-08-24T16:17:26.809Z"
      },
      {
        "duration": 13,
        "start_time": "2023-08-24T16:17:26.852Z"
      },
      {
        "duration": 45,
        "start_time": "2023-08-24T16:17:26.867Z"
      },
      {
        "duration": 18,
        "start_time": "2023-08-24T16:17:26.913Z"
      },
      {
        "duration": 9,
        "start_time": "2023-08-24T16:17:26.933Z"
      },
      {
        "duration": 27,
        "start_time": "2023-08-24T16:17:26.944Z"
      },
      {
        "duration": 4006,
        "start_time": "2023-08-24T16:17:26.973Z"
      },
      {
        "duration": 1312,
        "start_time": "2023-08-24T16:17:30.981Z"
      },
      {
        "duration": 8,
        "start_time": "2023-08-24T16:17:32.294Z"
      },
      {
        "duration": 4582,
        "start_time": "2023-08-24T16:17:32.304Z"
      },
      {
        "duration": 56,
        "start_time": "2023-08-24T16:17:36.888Z"
      },
      {
        "duration": 11,
        "start_time": "2023-08-24T16:17:36.952Z"
      },
      {
        "duration": 103,
        "start_time": "2023-08-24T16:17:36.965Z"
      },
      {
        "duration": 8,
        "start_time": "2023-08-24T16:17:37.071Z"
      },
      {
        "duration": 13,
        "start_time": "2023-08-24T16:17:37.081Z"
      },
      {
        "duration": 2604,
        "start_time": "2023-08-24T16:17:37.098Z"
      },
      {
        "duration": 11,
        "start_time": "2023-08-24T16:17:39.704Z"
      },
      {
        "duration": 0,
        "start_time": "2023-08-24T16:17:39.717Z"
      },
      {
        "duration": 0,
        "start_time": "2023-08-24T16:17:39.718Z"
      },
      {
        "duration": 0,
        "start_time": "2023-08-24T16:17:39.719Z"
      },
      {
        "duration": 0,
        "start_time": "2023-08-24T16:17:39.720Z"
      },
      {
        "duration": 0,
        "start_time": "2023-08-24T16:17:39.722Z"
      },
      {
        "duration": 0,
        "start_time": "2023-08-24T16:17:39.723Z"
      },
      {
        "duration": 0,
        "start_time": "2023-08-24T16:17:39.733Z"
      },
      {
        "duration": 0,
        "start_time": "2023-08-24T16:17:39.734Z"
      },
      {
        "duration": 0,
        "start_time": "2023-08-24T16:17:39.735Z"
      },
      {
        "duration": 0,
        "start_time": "2023-08-24T16:17:39.736Z"
      },
      {
        "duration": 0,
        "start_time": "2023-08-24T16:17:39.741Z"
      },
      {
        "duration": 0,
        "start_time": "2023-08-24T16:17:39.743Z"
      },
      {
        "duration": 2568,
        "start_time": "2023-08-24T16:19:16.553Z"
      },
      {
        "duration": 1778,
        "start_time": "2023-08-24T16:19:19.124Z"
      },
      {
        "duration": 158,
        "start_time": "2023-08-24T16:19:20.903Z"
      },
      {
        "duration": 110,
        "start_time": "2023-08-24T16:19:21.068Z"
      },
      {
        "duration": 53,
        "start_time": "2023-08-24T16:19:21.180Z"
      },
      {
        "duration": 3,
        "start_time": "2023-08-24T16:19:21.235Z"
      },
      {
        "duration": 38,
        "start_time": "2023-08-24T16:19:21.240Z"
      },
      {
        "duration": 74,
        "start_time": "2023-08-24T16:19:21.280Z"
      },
      {
        "duration": 53,
        "start_time": "2023-08-24T16:19:21.355Z"
      },
      {
        "duration": 55,
        "start_time": "2023-08-24T16:19:21.412Z"
      },
      {
        "duration": 16,
        "start_time": "2023-08-24T16:19:21.469Z"
      },
      {
        "duration": 27,
        "start_time": "2023-08-24T16:19:21.488Z"
      },
      {
        "duration": 37,
        "start_time": "2023-08-24T16:19:21.523Z"
      },
      {
        "duration": 8,
        "start_time": "2023-08-24T16:19:21.568Z"
      },
      {
        "duration": 39,
        "start_time": "2023-08-24T16:19:21.577Z"
      },
      {
        "duration": 8,
        "start_time": "2023-08-24T16:19:21.617Z"
      },
      {
        "duration": 8,
        "start_time": "2023-08-24T16:19:21.627Z"
      },
      {
        "duration": 14,
        "start_time": "2023-08-24T16:19:21.636Z"
      },
      {
        "duration": 2268,
        "start_time": "2023-08-24T16:19:21.652Z"
      },
      {
        "duration": 1223,
        "start_time": "2023-08-24T16:19:23.924Z"
      },
      {
        "duration": 10,
        "start_time": "2023-08-24T16:19:25.150Z"
      },
      {
        "duration": 4555,
        "start_time": "2023-08-24T16:19:25.163Z"
      },
      {
        "duration": 61,
        "start_time": "2023-08-24T16:19:29.719Z"
      },
      {
        "duration": 8,
        "start_time": "2023-08-24T16:19:29.781Z"
      },
      {
        "duration": 104,
        "start_time": "2023-08-24T16:19:29.791Z"
      },
      {
        "duration": 4,
        "start_time": "2023-08-24T16:19:29.896Z"
      },
      {
        "duration": 19,
        "start_time": "2023-08-24T16:19:29.901Z"
      },
      {
        "duration": 3786,
        "start_time": "2023-08-24T16:19:29.924Z"
      },
      {
        "duration": 12,
        "start_time": "2023-08-24T16:19:33.712Z"
      },
      {
        "duration": 9,
        "start_time": "2023-08-24T16:19:33.732Z"
      },
      {
        "duration": 46441,
        "start_time": "2023-08-24T16:19:33.743Z"
      },
      {
        "duration": 3,
        "start_time": "2023-08-24T16:20:20.186Z"
      },
      {
        "duration": 21,
        "start_time": "2023-08-24T16:20:20.191Z"
      },
      {
        "duration": 18,
        "start_time": "2023-08-24T16:20:20.213Z"
      },
      {
        "duration": 148,
        "start_time": "2023-08-24T16:20:20.233Z"
      },
      {
        "duration": 5,
        "start_time": "2023-08-24T16:20:20.383Z"
      },
      {
        "duration": 24,
        "start_time": "2023-08-24T16:20:20.390Z"
      },
      {
        "duration": 32,
        "start_time": "2023-08-24T16:20:20.415Z"
      },
      {
        "duration": 29,
        "start_time": "2023-08-24T16:20:20.449Z"
      },
      {
        "duration": 313,
        "start_time": "2023-08-24T16:20:20.480Z"
      },
      {
        "duration": 183,
        "start_time": "2023-08-24T16:20:20.794Z"
      },
      {
        "duration": 41,
        "start_time": "2023-08-24T16:21:21.044Z"
      },
      {
        "duration": 44,
        "start_time": "2023-08-24T16:21:28.016Z"
      },
      {
        "duration": 60,
        "start_time": "2023-08-24T16:27:39.061Z"
      },
      {
        "duration": 4,
        "start_time": "2023-08-24T16:27:41.173Z"
      },
      {
        "duration": 10,
        "start_time": "2023-08-24T16:27:45.694Z"
      },
      {
        "duration": 4,
        "start_time": "2023-08-24T16:27:48.236Z"
      },
      {
        "duration": 148,
        "start_time": "2023-08-24T16:27:49.808Z"
      },
      {
        "duration": 230,
        "start_time": "2023-08-24T16:28:05.566Z"
      },
      {
        "duration": 37,
        "start_time": "2023-08-24T16:28:10.222Z"
      },
      {
        "duration": 9,
        "start_time": "2023-08-24T16:28:19.663Z"
      },
      {
        "duration": 43,
        "start_time": "2023-08-24T16:28:25.610Z"
      },
      {
        "duration": 3684,
        "start_time": "2023-08-27T14:50:20.069Z"
      },
      {
        "duration": 3398,
        "start_time": "2023-08-27T14:50:23.756Z"
      },
      {
        "duration": 370,
        "start_time": "2023-08-27T14:50:27.157Z"
      },
      {
        "duration": 141,
        "start_time": "2023-08-27T14:50:27.531Z"
      },
      {
        "duration": 69,
        "start_time": "2023-08-27T14:50:27.676Z"
      },
      {
        "duration": 3,
        "start_time": "2023-08-27T14:50:27.747Z"
      },
      {
        "duration": 66,
        "start_time": "2023-08-27T14:50:27.752Z"
      },
      {
        "duration": 49,
        "start_time": "2023-08-27T14:50:27.821Z"
      },
      {
        "duration": 77,
        "start_time": "2023-08-27T14:50:27.872Z"
      },
      {
        "duration": 24,
        "start_time": "2023-08-27T14:50:27.953Z"
      },
      {
        "duration": 22,
        "start_time": "2023-08-27T14:50:28.004Z"
      },
      {
        "duration": 37,
        "start_time": "2023-08-27T14:50:28.029Z"
      },
      {
        "duration": 57,
        "start_time": "2023-08-27T14:50:28.069Z"
      },
      {
        "duration": 10,
        "start_time": "2023-08-27T14:50:28.128Z"
      },
      {
        "duration": 30,
        "start_time": "2023-08-27T14:50:28.140Z"
      },
      {
        "duration": 34,
        "start_time": "2023-08-27T14:50:28.174Z"
      },
      {
        "duration": 14,
        "start_time": "2023-08-27T14:50:28.210Z"
      },
      {
        "duration": 6,
        "start_time": "2023-08-27T14:50:28.226Z"
      },
      {
        "duration": 2409,
        "start_time": "2023-08-27T14:50:28.234Z"
      },
      {
        "duration": 1281,
        "start_time": "2023-08-27T14:50:30.646Z"
      },
      {
        "duration": 7,
        "start_time": "2023-08-27T14:50:31.929Z"
      },
      {
        "duration": 4299,
        "start_time": "2023-08-27T14:50:31.939Z"
      },
      {
        "duration": 84,
        "start_time": "2023-08-27T14:50:36.240Z"
      },
      {
        "duration": 9,
        "start_time": "2023-08-27T14:50:36.325Z"
      },
      {
        "duration": 122,
        "start_time": "2023-08-27T14:50:36.336Z"
      },
      {
        "duration": 3,
        "start_time": "2023-08-27T14:50:36.460Z"
      },
      {
        "duration": 13,
        "start_time": "2023-08-27T14:50:36.465Z"
      },
      {
        "duration": 3871,
        "start_time": "2023-08-27T14:50:36.483Z"
      },
      {
        "duration": 4,
        "start_time": "2023-08-27T14:50:40.356Z"
      },
      {
        "duration": 5,
        "start_time": "2023-08-27T14:50:40.361Z"
      },
      {
        "duration": 47815,
        "start_time": "2023-08-27T14:50:40.368Z"
      },
      {
        "duration": 5,
        "start_time": "2023-08-27T14:51:28.186Z"
      },
      {
        "duration": 4,
        "start_time": "2023-08-27T14:51:28.193Z"
      },
      {
        "duration": 12,
        "start_time": "2023-08-27T14:51:28.199Z"
      },
      {
        "duration": 190,
        "start_time": "2023-08-27T14:51:28.220Z"
      },
      {
        "duration": 0,
        "start_time": "2023-08-27T14:51:28.413Z"
      },
      {
        "duration": 0,
        "start_time": "2023-08-27T14:51:28.413Z"
      },
      {
        "duration": 0,
        "start_time": "2023-08-27T14:51:28.414Z"
      },
      {
        "duration": 0,
        "start_time": "2023-08-27T14:51:28.415Z"
      },
      {
        "duration": 0,
        "start_time": "2023-08-27T14:51:28.416Z"
      },
      {
        "duration": 0,
        "start_time": "2023-08-27T14:51:28.417Z"
      },
      {
        "duration": 2684,
        "start_time": "2023-08-27T14:53:37.799Z"
      },
      {
        "duration": 3431,
        "start_time": "2023-08-27T14:53:40.486Z"
      },
      {
        "duration": 119,
        "start_time": "2023-08-27T14:53:43.919Z"
      },
      {
        "duration": 174,
        "start_time": "2023-08-27T14:53:44.041Z"
      },
      {
        "duration": 49,
        "start_time": "2023-08-27T14:53:44.218Z"
      },
      {
        "duration": 3,
        "start_time": "2023-08-27T14:53:44.268Z"
      },
      {
        "duration": 61,
        "start_time": "2023-08-27T14:53:44.273Z"
      },
      {
        "duration": 72,
        "start_time": "2023-08-27T14:53:44.335Z"
      },
      {
        "duration": 53,
        "start_time": "2023-08-27T14:53:44.409Z"
      },
      {
        "duration": 52,
        "start_time": "2023-08-27T14:53:44.466Z"
      },
      {
        "duration": 17,
        "start_time": "2023-08-27T14:53:44.522Z"
      },
      {
        "duration": 46,
        "start_time": "2023-08-27T14:53:44.541Z"
      },
      {
        "duration": 43,
        "start_time": "2023-08-27T14:53:44.603Z"
      },
      {
        "duration": 24,
        "start_time": "2023-08-27T14:53:44.647Z"
      },
      {
        "duration": 49,
        "start_time": "2023-08-27T14:53:44.675Z"
      },
      {
        "duration": 7,
        "start_time": "2023-08-27T14:53:44.726Z"
      },
      {
        "duration": 11,
        "start_time": "2023-08-27T14:53:44.737Z"
      },
      {
        "duration": 25,
        "start_time": "2023-08-27T14:53:44.751Z"
      },
      {
        "duration": 2288,
        "start_time": "2023-08-27T14:53:44.778Z"
      },
      {
        "duration": 1256,
        "start_time": "2023-08-27T14:53:47.068Z"
      },
      {
        "duration": 9,
        "start_time": "2023-08-27T14:53:48.326Z"
      },
      {
        "duration": 4175,
        "start_time": "2023-08-27T14:53:48.337Z"
      },
      {
        "duration": 43,
        "start_time": "2023-08-27T14:53:52.514Z"
      },
      {
        "duration": 11,
        "start_time": "2023-08-27T14:53:52.560Z"
      },
      {
        "duration": 73,
        "start_time": "2023-08-27T14:53:52.604Z"
      },
      {
        "duration": 4,
        "start_time": "2023-08-27T14:53:52.679Z"
      },
      {
        "duration": 46,
        "start_time": "2023-08-27T14:53:52.703Z"
      },
      {
        "duration": 3680,
        "start_time": "2023-08-27T14:53:52.754Z"
      },
      {
        "duration": 4,
        "start_time": "2023-08-27T14:53:56.436Z"
      },
      {
        "duration": 26,
        "start_time": "2023-08-27T14:53:56.442Z"
      },
      {
        "duration": 44237,
        "start_time": "2023-08-27T14:53:56.470Z"
      },
      {
        "duration": 4,
        "start_time": "2023-08-27T14:54:40.716Z"
      },
      {
        "duration": 7,
        "start_time": "2023-08-27T14:54:40.722Z"
      },
      {
        "duration": 358893,
        "start_time": "2023-08-27T14:54:40.730Z"
      },
      {
        "duration": 4,
        "start_time": "2023-08-27T15:00:39.625Z"
      },
      {
        "duration": 20,
        "start_time": "2023-08-27T15:00:39.634Z"
      },
      {
        "duration": 55,
        "start_time": "2023-08-27T15:00:39.655Z"
      },
      {
        "duration": 19,
        "start_time": "2023-08-27T15:00:39.712Z"
      },
      {
        "duration": 179,
        "start_time": "2023-08-27T15:00:39.732Z"
      },
      {
        "duration": 308,
        "start_time": "2023-08-27T15:00:39.916Z"
      },
      {
        "duration": 96,
        "start_time": "2023-08-27T15:00:40.226Z"
      }
    ],
    "kernelspec": {
      "display_name": "Python 3 (ipykernel)",
      "language": "python",
      "name": "python3"
    },
    "language_info": {
      "codemirror_mode": {
        "name": "ipython",
        "version": 3
      },
      "file_extension": ".py",
      "mimetype": "text/x-python",
      "name": "python",
      "nbconvert_exporter": "python",
      "pygments_lexer": "ipython3",
      "version": "3.9.5"
    },
    "toc": {
      "base_numbering": 1,
      "nav_menu": {},
      "number_sections": true,
      "sideBar": true,
      "skip_h1_title": true,
      "title_cell": "Table of Contents",
      "title_sidebar": "Contents",
      "toc_cell": false,
      "toc_position": {
        "height": "calc(100% - 180px)",
        "left": "10px",
        "top": "150px",
        "width": "165px"
      },
      "toc_section_display": true,
      "toc_window_display": true
    },
    "colab": {
      "provenance": []
    }
  },
  "nbformat": 4,
  "nbformat_minor": 0
}